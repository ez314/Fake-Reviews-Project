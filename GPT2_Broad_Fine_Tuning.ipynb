{
  "cells": [
    {
      "cell_type": "markdown",
      "metadata": {
        "id": "view-in-github",
        "colab_type": "text"
      },
      "source": [
        "<a href=\"https://colab.research.google.com/github/ez314/Fake-Reviews-Project/blob/main/GPT2_Broad_Fine_Tuning.ipynb\" target=\"_parent\"><img src=\"https://colab.research.google.com/assets/colab-badge.svg\" alt=\"Open In Colab\"/></a>"
      ]
    },
    {
      "cell_type": "markdown",
      "metadata": {
        "id": "snIIl8xBWmKt"
      },
      "source": [
        "Fine tuning gpt 2 on many categories of Amazon reviews all at once. \n",
        "\n",
        "### TODO\n",
        "- Cache large, soon to be deleted files in VM storage rather than google drive.  "
      ]
    },
    {
      "cell_type": "markdown",
      "metadata": {
        "id": "I7Vq7v1ulvWw"
      },
      "source": [
        "## Python and Env Configuration"
      ]
    },
    {
      "cell_type": "code",
      "execution_count": 2,
      "metadata": {
        "cellView": "form",
        "id": "gprveN4TlI77"
      },
      "outputs": [],
      "source": [
        "#@title Base Configuration Variables { run: \"auto\" }\n",
        "\n",
        "#@markdown Workspace root folder\n",
        "WORKSPACE = '/content/drive/MyDrive/College/Classes/CS 4v98/CS 4v98 Shared Data/Workspace' #@param {type: \"string\"}\n",
        "\n",
        "#@markdown Maximum number of reviews to use load from each category\n",
        "NUM_REVIEWS =  50000#@param {type: \"number\"}\n",
        "\n",
        "#@markdown Number of categories to use\n",
        "NUM_CATEGORIES =  5#@param {type: \"number\"}\n",
        "\n",
        "#@markdown Number of prompts to generate for each category\n",
        "NUM_PROMPTS =  1000#@param {type: \"number\"}\n",
        "\n",
        "#@markdown Size of sample for training\n",
        "TRAINING_SIZE =  80000#@param {type: \"number\"}\n",
        "\n",
        "#@markdown Language Model\n",
        "MODEL = 'gpt2' #@param ['gpt2']\n",
        "\n",
        "#@markdown Version to be used for save files\n",
        "CODE_VER =  7#@param {type: \"number\"}\n",
        "\n",
        "#@markdown ---\n",
        "\n",
        "CODE_VER = f'v{CODE_VER}'"
      ]
    },
    {
      "cell_type": "markdown",
      "metadata": {
        "id": "qewoxn45Kmza"
      },
      "source": [
        "#### Not Used"
      ]
    },
    {
      "cell_type": "code",
      "execution_count": null,
      "metadata": {
        "id": "qS_vsqanf-Zy"
      },
      "outputs": [],
      "source": [
        "CATEGORY_CONFIG = {}\n",
        "#@title Category Configuration { run: \"auto\" }\n",
        "\n",
        "#@markdown **AMAZON FASHION**: 883,636 reviews, 186,637 products\n",
        "CATEGORY_CONFIG['AMAZON_FASHION'] = 2500 #@param {type:\"number\"}\n",
        "\n",
        "#@markdown **All Beauty**: 371,345 reviews, 32,992 products\n",
        "CATEGORY_CONFIG['ALL_BEAUTY'] = 2500 #@param {type:\"number\"}\n",
        "\n",
        "#@markdown **Appliances**: 602,777 reviews, 30,459 products\n",
        "CATEGORY_CONFIG['APPLIANCES'] = 2500 #@param {type:\"number\"}\n",
        "\n",
        "#@markdown **Arts Crafts and Sewing**: 2,875,917 reviews, 303,426 products\n",
        "CATEGORY_CONFIG['ARTS_CRAFTS_AND_SEWING'] = 2500 #@param {type:\"number\"}\n",
        "\n",
        "#@markdown **Automotive**: 7,990,166 reviews, 932,019 products\n",
        "CATEGORY_CONFIG['AUTOMOTIVE'] = 2500 #@param {type:\"number\"}\n",
        "\n",
        "#@markdown **Books**: 51,311,621 reviews, 2,935,525 products\n",
        "CATEGORY_CONFIG['BOOKS'] = 2500 #@param {type:\"number\"}\n",
        "\n",
        "#@markdown **CDs and Vinyl**: 4,543,369 reviews, 544,442 products\n",
        "CATEGORY_CONFIG['CDS_AND_VINYL'] = 2500 #@param {type:\"number\"}\n",
        "\n",
        "#@markdown **Cell Phones and Accessories**: 10,063,255 reviews, 590,269 products\n",
        "CATEGORY_CONFIG['CELL_PHONES_AND_ACCESSORIES'] = 2500 #@param {type:\"number\"}\n",
        "\n",
        "#@markdown **Clothing Shoes and Jewelry**: 32,292,099 reviews, 2,685,059 products\n",
        "CATEGORY_CONFIG['CLOTHING_SHOES_AND_JEWELRY'] = 2500 #@param {type:\"number\"}\n",
        "\n",
        "#@markdown **Digital Music**: 1,584,082 reviews, 465,392 products\n",
        "CATEGORY_CONFIG['DIGITAL_MUSIC'] = 2500 #@param {type:\"number\"}\n",
        "\n",
        "#@markdown **Electronics**: 20,994,353 reviews, 786,868 products\n",
        "CATEGORY_CONFIG['ELECTRONICS'] = 2500 #@param {type:\"number\"}\n",
        "\n",
        "#@markdown **Gift Cards**: 147,194 reviews, 1,548 products\n",
        "CATEGORY_CONFIG['GIFT_CARDS'] = 2500 #@param {type:\"number\"}\n",
        "\n",
        "#@markdown **Grocery and Gourmet Food**: 5,074,160 reviews, 287,209 products\n",
        "CATEGORY_CONFIG['GROCERY_AND_GOURMET_FOOD'] = 2500 #@param {type:\"number\"}\n",
        "\n",
        "#@markdown **Home and Kitchen**: 21,928,568 reviews, 1,301,225 products\n",
        "CATEGORY_CONFIG['HOME_AND_KITCHEN'] = 2500 #@param {type:\"number\"}\n",
        "\n",
        "#@markdown **Industrial and Scientific**: 1,758,333 reviews, 167,524 products\n",
        "CATEGORY_CONFIG['INDUSTRIAL_AND_SCIENTIFIC'] = 2500 #@param {type:\"number\"}\n",
        "\n",
        "#@markdown **Kindle Store**: 5,722,988 reviews, 493,859 products\n",
        "CATEGORY_CONFIG['KINDLE_STORE'] = 2500 #@param {type:\"number\"}\n",
        "\n",
        "#@markdown **Luxury Beauty**: 574,628 reviews, 12,308 products\n",
        "CATEGORY_CONFIG['LUXURY_BEAUTY'] = 2500 #@param {type:\"number\"}\n",
        "\n",
        "#@markdown **Magazine Subscriptions**: 89,689 reviews, 3,493 products\n",
        "CATEGORY_CONFIG['MAGAZINE_SUBSCRIPTIONS'] = 2500 #@param {type:\"number\"}\n",
        "\n",
        "#@markdown **Movies and TV**: 8,765,568 reviews, 203,970 products\n",
        "CATEGORY_CONFIG['MOVIES_AND_TV'] = 2500 #@param {type:\"number\"}\n",
        "\n",
        "#@markdown **Musical Instruments**: 1,512,530 reviews, 120,400 products\n",
        "CATEGORY_CONFIG['MUSICAL_INSTRUMENTS'] = 2500 #@param {type:\"number\"}\n",
        "\n",
        "#@markdown **Office Products**: 5,581,313 reviews, 315,644 products\n",
        "CATEGORY_CONFIG['OFFICE_PRODUCTS'] = 2500 #@param {type:\"number\"}\n",
        "\n",
        "#@markdown **Patio Lawn and Garden**: 5,236,058 reviews, 279,697 products\n",
        "CATEGORY_CONFIG['PATIO_LAWN_AND_GARDEN'] = 2500 #@param {type:\"number\"}\n",
        "\n",
        "#@markdown **Pet Supplies**: 6,542,483 reviews, 206,141 products\n",
        "CATEGORY_CONFIG['PET_SUPPLIES'] = 2500 #@param {type:\"number\"}\n",
        "\n",
        "#@markdown **Prime Pantry**: 471,614 reviews, 10,815 products\n",
        "CATEGORY_CONFIG['PRIME_PANTRY'] = 2500 #@param {type:\"number\"}\n",
        "\n",
        "#@markdown **Software**: 459,436 reviews, 26,815 products\n",
        "CATEGORY_CONFIG['SOFTWARE'] = 2500 #@param {type:\"number\"}\n",
        "\n",
        "#@markdown **Sports and Outdoors**: 12,980,837 reviews, 962,876 products\n",
        "CATEGORY_CONFIG['SPORTS_AND_OUTDOORS'] = 2500 #@param {type:\"number\"}\n",
        "\n",
        "#@markdown **Tools and Home Improvement**: 9,015,203 reviews, 571,982 products\n",
        "CATEGORY_CONFIG['TOOLS_AND_HOME_IMPROVEMENT'] = 2500 #@param {type:\"number\"}\n",
        "\n",
        "#@markdown **Toys and Games**: 8,201,231 reviews, 634,414 products\n",
        "CATEGORY_CONFIG['TOYS_AND_GAMES'] = 2500 #@param {type:\"number\"}\n",
        "\n",
        "#@markdown **Video Games**: 2,565,349 reviews, 84,893 products\n",
        "CATEGORY_CONFIG['VIDEO_GAMES'] = 2500 #@param {type:\"number\"}\n"
      ]
    },
    {
      "cell_type": "code",
      "execution_count": null,
      "metadata": {
        "colab": {
          "base_uri": "https://localhost:8080/",
          "height": 131
        },
        "id": "gQikMoMPV0II",
        "outputId": "64c74c14-850a-47ed-d5c6-e7aaf966b071"
      },
      "outputs": [
        {
          "ename": "SyntaxError",
          "evalue": "ignored",
          "output_type": "error",
          "traceback": [
            "\u001b[0;36m  File \u001b[0;32m\"<ipython-input-10-fcfc83a8ca13>\"\u001b[0;36m, line \u001b[0;32m3\u001b[0m\n\u001b[0;31m    w_categories := widgets.SelectMultiple(\u001b[0m\n\u001b[0m                  ^\u001b[0m\n\u001b[0;31mSyntaxError\u001b[0m\u001b[0;31m:\u001b[0m invalid syntax\n"
          ]
        }
      ],
      "source": [
        "import ipywidgets as widgets\n",
        "\n",
        "w_categories = widgets.SelectMultiple(\n",
        "    options=['Apples', 'Oranges', 'Pears'],\n",
        "    value=['Oranges'],\n",
        "    description='Fruits',\n",
        "    disabled=False\n",
        ")\n",
        "\n",
        "w_category_max_depth = widgets.IntText(\n",
        "    description='Max # of categories to convert into control codes',\n",
        "    value=5\n",
        ")\n",
        "\n",
        "w_categories"
      ]
    },
    {
      "cell_type": "code",
      "execution_count": null,
      "metadata": {
        "colab": {
          "base_uri": "https://localhost:8080/"
        },
        "id": "CLoUbLrjXSKW",
        "outputId": "d47635ca-e23f-4176-8bac-ccbc57ec76d7"
      },
      "outputs": [
        {
          "name": "stdout",
          "output_type": "stream",
          "text": [
            "test\n"
          ]
        }
      ],
      "source": [
        ""
      ]
    },
    {
      "cell_type": "markdown",
      "metadata": {
        "id": "4mFK5nFMExRZ"
      },
      "source": [
        "#### Mount Google Drive"
      ]
    },
    {
      "cell_type": "code",
      "execution_count": 3,
      "metadata": {
        "id": "Y_z_9jGtdu7j",
        "colab": {
          "base_uri": "https://localhost:8080/"
        },
        "outputId": "d03cbdb3-ccb8-4840-86c2-49357b48e94f"
      },
      "outputs": [
        {
          "output_type": "stream",
          "name": "stdout",
          "text": [
            "Mounted at /content/drive\n"
          ]
        }
      ],
      "source": [
        "from google.colab import drive\n",
        "drive.mount('/content/drive')"
      ]
    },
    {
      "cell_type": "markdown",
      "metadata": {
        "id": "Ow2m2CPIE36y"
      },
      "source": [
        "#### Pip install"
      ]
    },
    {
      "cell_type": "code",
      "execution_count": 5,
      "metadata": {
        "id": "kbM26EfVgwhk"
      },
      "outputs": [],
      "source": [
        "!pip install -q transformers sentencepiece\n",
        "!pip install -q fastai --upgrade"
      ]
    },
    {
      "cell_type": "markdown",
      "metadata": {
        "id": "MTLMgTtjE5rp"
      },
      "source": [
        "#### Python imports"
      ]
    },
    {
      "cell_type": "code",
      "execution_count": 6,
      "metadata": {
        "id": "F51TJkNJerUS"
      },
      "outputs": [],
      "source": [
        "import os, gzip, json, gc, re, random\n",
        "from collections import Counter, defaultdict\n",
        "import pandas as pd\n",
        "from sklearn.model_selection import train_test_split\n",
        "from transformers import AutoTokenizer, AutoConfig, AutoModelForPreTraining\n",
        "from fastai.text.all import *\n",
        "import pickle"
      ]
    },
    {
      "cell_type": "markdown",
      "metadata": {
        "id": "G9YITzYdE_4w"
      },
      "source": [
        "### Set environment and constants"
      ]
    },
    {
      "cell_type": "code",
      "execution_count": 7,
      "metadata": {
        "colab": {
          "base_uri": "https://localhost:8080/"
        },
        "id": "Jm3nQGj5dp5j",
        "outputId": "33978158-78b4-4541-f704-7f95aa63c2c5"
      },
      "outputs": [
        {
          "output_type": "stream",
          "name": "stdout",
          "text": [
            "env: WORKSPACE=/content/drive/MyDrive/College/Classes/CS 4v98/CS 4v98 Shared Data/Workspace\n",
            "/content/drive/MyDrive/College/Classes/CS 4v98/CS 4v98 Shared Data/Workspace\n"
          ]
        }
      ],
      "source": [
        "# Set environment variables\n",
        "%set_env WORKSPACE $WORKSPACE\n",
        "\n",
        "# Set python constants/configs\n",
        "SPECIAL_TOKENS  = { \"bos_token\": \"<|BOS|>\",\n",
        "                    \"eos_token\": \"<|EOS|>\",\n",
        "                    \"unk_token\": \"<|UNK|>\",\n",
        "                    \"pad_token\": \"<|PAD|>\",\n",
        "                    \"sep_token\": \"<|SEP|>\"}\n",
        "\n",
        "# Set dir to WORKSPACE\n",
        "%cd $WORKSPACE\n",
        "\n",
        "# Initialize numpy RNG\n",
        "rng = np.random.default_rng()"
      ]
    },
    {
      "cell_type": "markdown",
      "metadata": {
        "id": "5JHK3qOICgFd"
      },
      "source": [
        "## Load Data"
      ]
    },
    {
      "cell_type": "markdown",
      "metadata": {
        "id": "5CiY_QhmXvPq"
      },
      "source": [
        "### [Skip after first time] Fetch data from source, process, and save"
      ]
    },
    {
      "cell_type": "markdown",
      "metadata": {
        "id": "dc72odR4iCnA"
      },
      "source": [
        "#### Download jq"
      ]
    },
    {
      "cell_type": "code",
      "execution_count": null,
      "metadata": {
        "id": "YieZBdE3iBwE"
      },
      "outputs": [],
      "source": [
        "%%bash\n",
        "wget -O /usr/bin/jq -q https://github.com/stedolan/jq/releases/download/jq-1.5/jq-linux64\n",
        "chmod +x /usr/bin/jq\n"
      ]
    },
    {
      "cell_type": "markdown",
      "metadata": {
        "id": "0hLpMeuEdaIg"
      },
      "source": [
        "#### Download metadata & reviews, strip unused fields"
      ]
    },
    {
      "cell_type": "code",
      "execution_count": null,
      "metadata": {
        "colab": {
          "base_uri": "https://localhost:8080/"
        },
        "id": "tEqfGUcFrqgb",
        "outputId": "2c734514-9f7f-4293-aeaf-db4797637232"
      },
      "outputs": [
        {
          "name": "stdout",
          "output_type": "stream",
          "text": [
            "Downloading Automotive...\n",
            "Extracting...\n",
            "Discarding useless fields...\n",
            "Storage Report:\n",
            "17904020\tmeta_Automotive.json\n",
            "176407\tmeta_Automotive_slim.json\n",
            "Removing unprocessed version\n"
          ]
        }
      ],
      "source": [
        "%%bash\n",
        "\n",
        "for CATEGORY_NAME in AMAZON_FASHION All_Beauty Appliances Arts_Crafts_and_Sewing Automotive Books CDs_and_Vinyl Cell_Phones_and_Accessories Clothing_Shoes_and_Jewelry Digital_Music Electronics Gift_Cards Grocery_and_Gourmet_Food Home_and_Kitchen Industrial_and_Scientific Kindle_Store Luxury_Beauty Magazine_Subscriptions Movies_and_TV Musical_Instruments Office_Products Patio_Lawn_and_Garden Pet_Supplies Prime_Pantry Software Sports_and_Outdoors Tools_and_Home_Improvement Toys_and_Games Video_Games\n",
        "do\n",
        "  echo \"Downloading ${CATEGORY_NAME}...\"\n",
        "  wget -q -P /tmp \"http://deepyeti.ucsd.edu/jianmo/amazon/metaFiles2/meta_${CATEGORY_NAME}.json.gz\"\n",
        "  \n",
        "  echo \"Extracting...\"\n",
        "  gzip -d --force \"/tmp/meta_${CATEGORY_NAME}.json.gz\"\n",
        "\n",
        "  echo \"Discarding useless fields...\"\n",
        "  jq -rc '{asin, title, category}' \"/tmp/meta_${CATEGORY_NAME}.json\" > \"meta_${CATEGORY_NAME}_slim.json\"\n",
        "\n",
        "  echo \"Storage Report:\"\n",
        "  du \"/tmp/meta_${CATEGORY_NAME}.json\" \"meta_${CATEGORY_NAME}_slim.json\"\n",
        "\n",
        "  echo \"Removing unprocessed version\"\n",
        "  rm \"/tmp/meta_${CATEGORY_NAME}.json\"\n",
        "done"
      ]
    },
    {
      "cell_type": "code",
      "execution_count": null,
      "metadata": {
        "colab": {
          "base_uri": "https://localhost:8080/"
        },
        "id": "IhJCU4hvdnSK",
        "outputId": "6a4aff64-7633-4e63-cd15-9f3b38f20a40"
      },
      "outputs": [
        {
          "output_type": "stream",
          "name": "stdout",
          "text": [
            "Downloading Sports_and_Outdoors...\n",
            "Extracting...\n",
            "Discarding useless fields...\n",
            "Storage Report:\n",
            "6018796\tSports_and_Outdoors.json\n",
            "3745286\treviews_Sports_and_Outdoors_slim.json\n",
            "Removing unprocessed version\n"
          ]
        }
      ],
      "source": [
        "%%bash\n",
        "\n",
        "for CATEGORY_NAME in AMAZON_FASHION All_Beauty Appliances Arts_Crafts_and_Sewing Automotive Books CDs_and_Vinyl Cell_Phones_and_Accessories Clothing_Shoes_and_Jewelry Digital_Music Electronics Gift_Cards Grocery_and_Gourmet_Food Home_and_Kitchen Industrial_and_Scientific Kindle_Store Luxury_Beauty Magazine_Subscriptions Movies_and_TV Musical_Instruments Office_Products Patio_Lawn_and_Garden Pet_Supplies Prime_Pantry Software Sports_and_Outdoors Tools_and_Home_Improvement Toys_and_Games Video_Games\n",
        "do\n",
        "  echo \"Downloading ${CATEGORY_NAME}...\"\n",
        "  wget -q -P /tmp \"http://deepyeti.ucsd.edu/jianmo/amazon/categoryFiles/${CATEGORY_NAME}.json.gz\"\n",
        "  \n",
        "  echo \"Extracting...\"\n",
        "  gzip -d --force \"/tmp/${CATEGORY_NAME}.json.gz\"\n",
        "\n",
        "  echo \"Discarding useless fields...\"\n",
        "  jq -rc '{asin, summary, reviewText, overall}' \"/tmp/${CATEGORY_NAME}.json\" > \"reviews_${CATEGORY_NAME}_slim.json\"\n",
        "\n",
        "  echo \"Storage Report:\"\n",
        "  du \"/tmp/${CATEGORY_NAME}.json\" \"reviews_${CATEGORY_NAME}_slim.json\"\n",
        "\n",
        "  echo \"Removing unprocessed version\"\n",
        "  rm \"/tmp/${CATEGORY_NAME}.json\"\n",
        "done"
      ]
    },
    {
      "cell_type": "markdown",
      "source": [
        "### [Skip after first time] Define Data Loading/Processing Functions"
      ],
      "metadata": {
        "id": "Y8aqsVg7G-O4"
      }
    },
    {
      "cell_type": "markdown",
      "metadata": {
        "id": "emiGz28bCep4"
      },
      "source": [
        "#### Function to load metadata into memory"
      ]
    },
    {
      "cell_type": "code",
      "execution_count": null,
      "metadata": {
        "id": "bfj-TOCseQwO"
      },
      "outputs": [],
      "source": [
        "def load_metadata(top_level_category):\n",
        "  metadata = {}\n",
        "  with open(f'meta_{top_level_category}_slim.json') as f:\n",
        "    for l in f:\n",
        "      j = json.loads(l.strip())\n",
        "\n",
        "      # Set default category if it does not exist\n",
        "      if 'category' not in j or not j['category']:\n",
        "        category = [top_level_category]\n",
        "      # Remove any surrounding spaces from the category names\n",
        "      else:\n",
        "        category = [x.strip() for x in j['category']]\n",
        "\n",
        "      # Only load fields you will use! Otherwise, memory usage is extremely high.\n",
        "      metadata[j['asin']] = {\n",
        "          'title': j['title'],\n",
        "          'category': category\n",
        "      }\n",
        "\n",
        "  # Convert categories to string\n",
        "  for m in metadata.values():\n",
        "    fixed_size_categories = (\n",
        "        m['category'][:NUM_CATEGORIES] + \n",
        "        [SPECIAL_TOKENS['unk_token']] * max(0, NUM_CATEGORIES - len(m['category']))\n",
        "    )\n",
        "    m['category'] = SPECIAL_TOKENS['sep_token'].join(fixed_size_categories)\n",
        "\n",
        "  # total length of list, this number equals total number of products\n",
        "  print(f'Loaded {len(metadata)} items')\n",
        "\n",
        "  return metadata"
      ]
    },
    {
      "cell_type": "markdown",
      "metadata": {
        "id": "6mD6aH9_Cjll"
      },
      "source": [
        "#### Function to load reviews into memory"
      ]
    },
    {
      "cell_type": "code",
      "execution_count": null,
      "metadata": {
        "id": "vPjh4vG-bxbu"
      },
      "outputs": [],
      "source": [
        "# Build training data and store to reviews (defaultdict of rating -> list(review))\n",
        "def load_reviews(top_level_category):\n",
        "  metadata = load_metadata(top_level_category)\n",
        "  reviews = defaultdict(list)\n",
        "  with open(f'reviews_{top_level_category}_slim.json') as f:\n",
        "    i = 0\n",
        "    for l in f:\n",
        "      j = json.loads(l.strip())\n",
        "\n",
        "      # Filter unusable reviews\n",
        "      if 'reviewText' not in j or not j['reviewText'] or j['asin'] not in metadata:\n",
        "        continue\n",
        "\n",
        "      # Increment counter, break if loaded enough reviews\n",
        "      # \"Enough\" defined as NUM_REVIEWS*20, tolerates each category making up >= 5% of reviews\n",
        "      i += 1\n",
        "      if i > NUM_REVIEWS * 10:\n",
        "        break\n",
        "      \n",
        "      prod_meta = metadata[j['asin']]\n",
        "      rating = str(int(j[\"overall\"]))\n",
        "\n",
        "      # Why not build the string right now? Uses too much memory :(\n",
        "      # Track relevant info for each review\n",
        "      reviews[rating].append((j['asin'], rating, j['reviewText']))\n",
        "\n",
        "  return metadata, reviews"
      ]
    },
    {
      "cell_type": "markdown",
      "metadata": {
        "id": "95lNe57udS7B"
      },
      "source": [
        "#### Function to get sample of reviews"
      ]
    },
    {
      "cell_type": "code",
      "execution_count": null,
      "metadata": {
        "id": "aqEXwfh5VyA8"
      },
      "outputs": [],
      "source": [
        "# Calculate how many reviews we want to look at\n",
        "# NUM_REVIEWS_PER_RATING = NUM_REVIEWS // len(reviews.keys())\n",
        "\n",
        "def get_reviewText(top_level_category, metadata, reviews):\n",
        "  num_reviews_per_rating = NUM_REVIEWS // len(reviews)\n",
        "  \n",
        "  # Keep track of which product ASINs we haven't looked at. These are guaranteed to not appear in training data\n",
        "  unseen_asins = set(metadata.keys())\n",
        "\n",
        "  # Build dataframe of actual training set\n",
        "  sample_reviews = []\n",
        "  ratings = list(reviews.keys())\n",
        "  for rating in ratings:\n",
        "    sample_size = num_reviews_per_rating\n",
        "    if len(reviews[rating]) < num_reviews_per_rating:\n",
        "      print(f'WARNING: Requested {num_reviews_per_rating} reviews but {top_level_category}/{rating} only had {len(reviews[rating])} reviews')\n",
        "      sample_size = len(reviews[rating])\n",
        "\n",
        "    print(f'Sampling {sample_size}/{len(reviews[rating])} reviews with rating of {rating}.')\n",
        "\n",
        "    # Pick NUM_REVIEWS_PER_RATING ratings at random to include\n",
        "    for asin, rating, reviewText in random.sample(reviews[rating], sample_size):\n",
        "      prod_meta = metadata[asin]\n",
        "      sample_reviews.append((        \n",
        "          SPECIAL_TOKENS['bos_token'] + prod_meta['title'] + \\\n",
        "          SPECIAL_TOKENS['sep_token'] + prod_meta['category'] + \\\n",
        "          SPECIAL_TOKENS['sep_token'] + rating + \\\n",
        "          SPECIAL_TOKENS['sep_token'] + reviewText + \\\n",
        "          SPECIAL_TOKENS['eos_token']\n",
        "      ))\n",
        "      # Track products which are not in the training data\n",
        "      if asin in unseen_asins:\n",
        "        unseen_asins.remove(asin)\n",
        "\n",
        "  sample_reviews = pd.DataFrame(sample_reviews, columns=[\"reviewText\"])\n",
        "  sample_reviews.to_csv(f'{top_level_category}_processed_{CODE_VER}.csv', index=False)\n",
        "\n",
        "  return sample_reviews, unseen_asins"
      ]
    },
    {
      "cell_type": "markdown",
      "metadata": {
        "id": "h_B_jZnnCtnI"
      },
      "source": [
        "#### Function to build prompts from unseen ASINs set"
      ]
    },
    {
      "cell_type": "code",
      "execution_count": null,
      "metadata": {
        "id": "Go72UsA9yYc5"
      },
      "outputs": [],
      "source": [
        "def asins_to_prompts(top_level_category, asins, metadata):\n",
        "  # First, convert asins set to a sorted list for reproducability and sampling\n",
        "  asins_list = sorted(list(asins))\n",
        "  prompts = []\n",
        "\n",
        "  sample_size = NUM_PROMPTS\n",
        "  if len(asins_list) < NUM_PROMPTS:\n",
        "    print(f'WARNING: Requested {NUM_PROMPTS} prompts but {top_level_category} only had {len(asins_list)} unused products')\n",
        "    sample_size = len(asins_list)\n",
        "\n",
        "  print(f'Sampling {sample_size}/{len(asins)} prompts.')\n",
        "  for asin in random.sample(asins_list, sample_size):\n",
        "    prod_meta = metadata[asin]\n",
        "    prompts.append(\n",
        "        SPECIAL_TOKENS['bos_token'] + prod_meta['title'] + \n",
        "        SPECIAL_TOKENS['sep_token'] + prod_meta['category'] + \n",
        "        SPECIAL_TOKENS['sep_token']\n",
        "    )\n",
        "\n",
        "  prompts = pd.DataFrame(prompts, columns=[\"prompt\"])\n",
        "  prompts.to_csv(f\"{top_level_category}_processed_{CODE_VER}_prompts.csv\", index=False)\n",
        "\n",
        "  return prompts"
      ]
    },
    {
      "cell_type": "markdown",
      "source": [
        "#### Function to process/return everything for a single category"
      ],
      "metadata": {
        "id": "nrhn_lNm8lKz"
      }
    },
    {
      "cell_type": "code",
      "source": [
        "def process_category(top_level_category):\n",
        "  print(f'Processing {top_level_category}')\n",
        "  metadata, reviews = load_reviews(top_level_category)\n",
        "  sample_reviews, unseen_asins = get_reviewText(top_level_category, metadata, reviews)\n",
        "  prompts = asins_to_prompts(top_level_category, unseen_asins, metadata)\n",
        "  \n",
        "  return sample_reviews, prompts"
      ],
      "metadata": {
        "id": "ALBqau_H8kKS"
      },
      "execution_count": null,
      "outputs": []
    },
    {
      "cell_type": "markdown",
      "metadata": {
        "id": "RjKw-Pu9PVTt"
      },
      "source": [
        "### [Skip after first time] Load data for all categories"
      ]
    },
    {
      "cell_type": "code",
      "execution_count": null,
      "metadata": {
        "id": "VbehgWkDPUQ2",
        "colab": {
          "base_uri": "https://localhost:8080/"
        },
        "outputId": "fd4c81e7-6657-4167-976f-c2b05fb3a210"
      },
      "outputs": [
        {
          "output_type": "stream",
          "name": "stdout",
          "text": [
            "Processing All_Beauty\n",
            "Loaded 32488 items\n",
            "Sampling 10000/224893 reviews with rating of 5.\n",
            "Sampling 10000/52090 reviews with rating of 4.\n",
            "Sampling 10000/29448 reviews with rating of 3.\n",
            "Sampling 10000/39156 reviews with rating of 1.\n",
            "Sampling 10000/20241 reviews with rating of 2.\n",
            "Sampling 1000/20573 prompts.\n",
            "Processing Appliances\n",
            "Loaded 30239 items\n",
            "Sampling 10000/347462 reviews with rating of 5.\n",
            "Sampling 10000/63805 reviews with rating of 4.\n",
            "Sampling 10000/25247 reviews with rating of 3.\n",
            "Sampling 10000/46698 reviews with rating of 1.\n",
            "Sampling 10000/16788 reviews with rating of 2.\n",
            "Sampling 1000/24194 prompts.\n",
            "Processing Arts_Crafts_and_Sewing\n",
            "Loaded 302380 items\n",
            "Sampling 10000/343885 reviews with rating of 5.\n",
            "Sampling 10000/67585 reviews with rating of 4.\n",
            "Sampling 10000/20123 reviews with rating of 2.\n",
            "Sampling 10000/34302 reviews with rating of 3.\n",
            "Sampling 10000/34105 reviews with rating of 1.\n",
            "Sampling 1000/298343 prompts.\n",
            "Processing Automotive\n",
            "Loaded 924693 items\n",
            "Sampling 10000/344582 reviews with rating of 5.\n",
            "Sampling 10000/29585 reviews with rating of 3.\n",
            "Sampling 10000/36237 reviews with rating of 1.\n",
            "Sampling 10000/71774 reviews with rating of 4.\n",
            "Sampling 10000/17822 reviews with rating of 2.\n",
            "Sampling 1000/919040 prompts.\n",
            "Processing Books\n",
            "Loaded 2930024 items\n",
            "Sampling 10000/322962 reviews with rating of 5.\n",
            "Sampling 10000/93192 reviews with rating of 4.\n",
            "Sampling 10000/40601 reviews with rating of 3.\n",
            "Sampling 10000/21018 reviews with rating of 2.\n",
            "Sampling 10000/22227 reviews with rating of 1.\n",
            "Sampling 1000/2928429 prompts.\n",
            "Processing CDs_and_Vinyl\n",
            "Loaded 412325 items\n",
            "Sampling 10000/373445 reviews with rating of 5.\n",
            "Sampling 10000/74176 reviews with rating of 4.\n",
            "Sampling 10000/27180 reviews with rating of 3.\n",
            "Sampling 10000/13495 reviews with rating of 1.\n",
            "Sampling 10000/11704 reviews with rating of 2.\n",
            "Sampling 1000/404371 prompts.\n",
            "Processing Cell_Phones_and_Accessories\n",
            "Loaded 589356 items\n",
            "Sampling 10000/241388 reviews with rating of 5.\n",
            "Sampling 10000/79607 reviews with rating of 1.\n",
            "Sampling 10000/90658 reviews with rating of 4.\n",
            "Sampling 10000/50155 reviews with rating of 3.\n",
            "Sampling 10000/38192 reviews with rating of 2.\n",
            "Sampling 1000/583814 prompts.\n",
            "Processing Clothing_Shoes_and_Jewelry\n",
            "Loaded 2681355 items\n",
            "Sampling 10000/313768 reviews with rating of 5.\n",
            "Sampling 10000/90713 reviews with rating of 4.\n",
            "Sampling 10000/41569 reviews with rating of 3.\n",
            "Sampling 10000/25329 reviews with rating of 2.\n",
            "Sampling 10000/28621 reviews with rating of 1.\n",
            "Sampling 1000/2679349 prompts.\n",
            "Processing Digital_Music\n",
            "Loaded 66013 items\n",
            "Sampling 10000/124041 reviews with rating of 5.\n",
            "WARNING: Requested 10000 reviews but Digital_Music/1 only had 6691 reviews\n",
            "Sampling 6691/6691 reviews with rating of 1.\n",
            "Sampling 10000/21296 reviews with rating of 4.\n",
            "WARNING: Requested 10000 reviews but Digital_Music/3 only had 8519 reviews\n",
            "Sampling 8519/8519 reviews with rating of 3.\n",
            "WARNING: Requested 10000 reviews but Digital_Music/2 only had 3828 reviews\n",
            "Sampling 3828/3828 reviews with rating of 2.\n",
            "Sampling 1000/43277 prompts.\n",
            "Processing Electronics\n",
            "Loaded 756077 items\n",
            "Sampling 10000/305189 reviews with rating of 5.\n",
            "Sampling 10000/87065 reviews with rating of 4.\n",
            "Sampling 10000/35717 reviews with rating of 3.\n",
            "Sampling 10000/47601 reviews with rating of 1.\n",
            "Sampling 10000/24428 reviews with rating of 2.\n",
            "Sampling 1000/751693 prompts.\n",
            "Processing Gift_Cards\n",
            "Loaded 1547 items\n",
            "WARNING: Requested 10000 reviews but Gift_Cards/1 only had 7164 reviews\n",
            "Sampling 7164/7164 reviews with rating of 1.\n",
            "Sampling 10000/126537 reviews with rating of 5.\n",
            "WARNING: Requested 10000 reviews but Gift_Cards/3 only had 2996 reviews\n",
            "Sampling 2996/2996 reviews with rating of 3.\n",
            "WARNING: Requested 10000 reviews but Gift_Cards/4 only had 8690 reviews\n",
            "Sampling 8690/8690 reviews with rating of 4.\n",
            "WARNING: Requested 10000 reviews but Gift_Cards/2 only had 1644 reviews\n",
            "Sampling 1644/1644 reviews with rating of 2.\n",
            "WARNING: Requested 1000 prompts but Gift_Cards only had 347 unused products\n",
            "Sampling 347/347 prompts.\n",
            "Processing Grocery_and_Gourmet_Food\n",
            "Loaded 283354 items\n",
            "Sampling 10000/364123 reviews with rating of 5.\n",
            "Sampling 10000/54228 reviews with rating of 4.\n",
            "Sampling 10000/33533 reviews with rating of 1.\n",
            "Sampling 10000/28867 reviews with rating of 3.\n",
            "Sampling 10000/19249 reviews with rating of 2.\n",
            "Sampling 1000/279246 prompts.\n",
            "Processing Home_and_Kitchen\n",
            "Loaded 1285392 items\n",
            "Sampling 10000/326589 reviews with rating of 5.\n",
            "Sampling 10000/72352 reviews with rating of 4.\n",
            "Sampling 10000/32650 reviews with rating of 3.\n",
            "Sampling 10000/44774 reviews with rating of 1.\n",
            "Sampling 10000/23635 reviews with rating of 2.\n",
            "Sampling 1000/1283130 prompts.\n",
            "Processing Industrial_and_Scientific\n",
            "Loaded 165687 items\n",
            "Sampling 10000/339674 reviews with rating of 5.\n",
            "Sampling 10000/72968 reviews with rating of 4.\n",
            "Sampling 10000/36001 reviews with rating of 1.\n",
            "Sampling 10000/31775 reviews with rating of 3.\n",
            "Sampling 10000/19582 reviews with rating of 2.\n",
            "Sampling 1000/160686 prompts.\n",
            "Processing Kindle_Store\n",
            "Loaded 491670 items\n",
            "Sampling 10000/54829 reviews with rating of 3.\n",
            "Sampling 10000/274544 reviews with rating of 5.\n",
            "Sampling 10000/116092 reviews with rating of 4.\n",
            "Sampling 10000/24872 reviews with rating of 2.\n",
            "Sampling 10000/29663 reviews with rating of 1.\n",
            "Sampling 1000/483911 prompts.\n",
            "Processing Luxury_Beauty\n",
            "Loaded 12111 items\n",
            "Sampling 10000/25011 reviews with rating of 2.\n",
            "Sampling 10000/334946 reviews with rating of 5.\n",
            "Sampling 10000/62088 reviews with rating of 4.\n",
            "Sampling 10000/42000 reviews with rating of 1.\n",
            "Sampling 10000/35955 reviews with rating of 3.\n",
            "Sampling 1000/7210 prompts.\n",
            "Processing Magazine_Subscriptions\n",
            "Loaded 2320 items\n",
            "Sampling 10000/51313 reviews with rating of 5.\n",
            "WARNING: Requested 10000 reviews but Magazine_Subscriptions/3 only had 6622 reviews\n",
            "Sampling 6622/6622 reviews with rating of 3.\n",
            "Sampling 10000/11993 reviews with rating of 4.\n",
            "WARNING: Requested 10000 reviews but Magazine_Subscriptions/2 only had 4897 reviews\n",
            "Sampling 4897/4897 reviews with rating of 2.\n",
            "Sampling 10000/10361 reviews with rating of 1.\n",
            "WARNING: Requested 1000 prompts but Magazine_Subscriptions only had 354 unused products\n",
            "Sampling 354/354 prompts.\n",
            "Processing Movies_and_TV\n",
            "Loaded 181839 items\n",
            "Sampling 10000/341967 reviews with rating of 5.\n",
            "Sampling 10000/80579 reviews with rating of 4.\n",
            "Sampling 10000/26923 reviews with rating of 1.\n",
            "Sampling 10000/33816 reviews with rating of 3.\n",
            "Sampling 10000/16715 reviews with rating of 2.\n",
            "Sampling 1000/179296 prompts.\n",
            "Processing Musical_Instruments\n",
            "Loaded 112135 items\n",
            "Sampling 10000/331548 reviews with rating of 5.\n",
            "Sampling 10000/82540 reviews with rating of 4.\n",
            "Sampling 10000/33515 reviews with rating of 3.\n",
            "Sampling 10000/19811 reviews with rating of 2.\n",
            "Sampling 10000/32586 reviews with rating of 1.\n",
            "Sampling 1000/106485 prompts.\n",
            "Processing Office_Products\n",
            "Loaded 306617 items\n",
            "Sampling 10000/31167 reviews with rating of 3.\n",
            "Sampling 10000/346106 reviews with rating of 5.\n",
            "Sampling 10000/67810 reviews with rating of 4.\n",
            "Sampling 10000/35446 reviews with rating of 1.\n",
            "Sampling 10000/19471 reviews with rating of 2.\n",
            "Sampling 1000/303036 prompts.\n",
            "Processing Patio_Lawn_and_Garden\n",
            "Loaded 276332 items\n",
            "Sampling 10000/312338 reviews with rating of 5.\n",
            "Sampling 10000/75247 reviews with rating of 4.\n",
            "Sampling 10000/36153 reviews with rating of 3.\n",
            "Sampling 10000/25622 reviews with rating of 2.\n",
            "Sampling 10000/50640 reviews with rating of 1.\n",
            "Sampling 1000/272841 prompts.\n",
            "Processing Pet_Supplies\n",
            "Loaded 198265 items\n",
            "Sampling 10000/39086 reviews with rating of 3.\n",
            "Sampling 10000/65203 reviews with rating of 4.\n",
            "Sampling 10000/47330 reviews with rating of 1.\n",
            "Sampling 10000/321227 reviews with rating of 5.\n",
            "Sampling 10000/27154 reviews with rating of 2.\n",
            "Sampling 1000/196145 prompts.\n",
            "Processing Prime_Pantry\n",
            "Loaded 10812 items\n",
            "Sampling 10000/328086 reviews with rating of 5.\n",
            "Sampling 10000/59206 reviews with rating of 4.\n",
            "Sampling 10000/32944 reviews with rating of 3.\n",
            "Sampling 10000/30595 reviews with rating of 1.\n",
            "Sampling 10000/20342 reviews with rating of 2.\n",
            "Sampling 1000/3341 prompts.\n",
            "Processing Software\n",
            "Loaded 21639 items\n",
            "Sampling 10000/73528 reviews with rating of 4.\n",
            "Sampling 10000/102434 reviews with rating of 1.\n",
            "Sampling 10000/39357 reviews with rating of 3.\n",
            "Sampling 10000/212251 reviews with rating of 5.\n",
            "Sampling 10000/31414 reviews with rating of 2.\n",
            "Sampling 1000/12772 prompts.\n",
            "Processing Sports_and_Outdoors\n",
            "Loaded 957217 items\n",
            "Sampling 10000/321726 reviews with rating of 5.\n",
            "Sampling 10000/85420 reviews with rating of 4.\n",
            "Sampling 10000/34455 reviews with rating of 1.\n",
            "Sampling 10000/21987 reviews with rating of 2.\n",
            "Sampling 10000/36412 reviews with rating of 3.\n",
            "Sampling 1000/953342 prompts.\n",
            "Processing Tools_and_Home_Improvement\n",
            "Loaded 559340 items\n",
            "Sampling 10000/31688 reviews with rating of 3.\n",
            "Sampling 10000/336600 reviews with rating of 5.\n",
            "Sampling 10000/77351 reviews with rating of 4.\n",
            "Sampling 10000/34775 reviews with rating of 1.\n",
            "Sampling 10000/19586 reviews with rating of 2.\n",
            "Sampling 1000/554982 prompts.\n",
            "Processing Toys_and_Games\n",
            "Loaded 624284 items\n",
            "Sampling 10000/22375 reviews with rating of 2.\n",
            "Sampling 10000/35163 reviews with rating of 1.\n",
            "Sampling 10000/36456 reviews with rating of 3.\n",
            "Sampling 10000/330578 reviews with rating of 5.\n",
            "Sampling 10000/75428 reviews with rating of 4.\n",
            "Sampling 1000/619159 prompts.\n",
            "Processing Video_Games\n",
            "Loaded 71911 items\n",
            "Sampling 10000/51385 reviews with rating of 1.\n",
            "Sampling 10000/44439 reviews with rating of 3.\n",
            "Sampling 10000/96502 reviews with rating of 4.\n",
            "Sampling 10000/280782 reviews with rating of 5.\n",
            "Sampling 10000/26892 reviews with rating of 2.\n",
            "Sampling 1000/64866 prompts.\n"
          ]
        }
      ],
      "source": [
        "categories = ('All_Beauty', 'Appliances', 'Arts_Crafts_and_Sewing', 'Automotive', 'Books', 'CDs_and_Vinyl', 'Cell_Phones_and_Accessories', 'Clothing_Shoes_and_Jewelry', 'Digital_Music', 'Electronics', 'Gift_Cards', 'Grocery_and_Gourmet_Food', 'Home_and_Kitchen', 'Industrial_and_Scientific', 'Kindle_Store', 'Luxury_Beauty', 'Magazine_Subscriptions', 'Movies_and_TV', 'Musical_Instruments', 'Office_Products', 'Patio_Lawn_and_Garden', 'Pet_Supplies', 'Prime_Pantry', 'Software', 'Sports_and_Outdoors', 'Tools_and_Home_Improvement', 'Toys_and_Games', 'Video_Games')\n",
        "\n",
        "all_reviews = []\n",
        "prompts = {}\n",
        "for category in categories:\n",
        "  cat_reviews, cat_prompts = process_category(category)\n",
        "  all_reviews.append(cat_reviews)\n",
        "  prompts[category] = cat_prompts\n",
        "\n",
        "all_reviews = pd.concat(all_reviews).sample(frac=1).reset_index(drop=True)"
      ]
    },
    {
      "cell_type": "markdown",
      "metadata": {
        "id": "rJarazPPCzLa"
      },
      "source": [
        "#### Garbage Collect"
      ]
    },
    {
      "cell_type": "code",
      "execution_count": null,
      "metadata": {
        "colab": {
          "base_uri": "https://localhost:8080/"
        },
        "id": "apJLDIUWYR0s",
        "outputId": "19d0e034-b933-4a8c-ff02-38666935dd82"
      },
      "outputs": [
        {
          "output_type": "execute_result",
          "data": {
            "text/plain": [
              "452"
            ]
          },
          "metadata": {},
          "execution_count": 12
        }
      ],
      "source": [
        "# Save memory, clear useless large objects no longer used after this section\n",
        "gc.collect()"
      ]
    },
    {
      "cell_type": "markdown",
      "source": [
        "#### Pickle and store current values"
      ],
      "metadata": {
        "id": "gQ9y9Sot8wwT"
      }
    },
    {
      "cell_type": "code",
      "source": [
        "pickle.dump((all_reviews, prompts), open(f'all_reviews_and_prompts_{CODE_VER}', 'wb'))"
      ],
      "metadata": {
        "id": "1AAOBD8x8z8J"
      },
      "execution_count": null,
      "outputs": []
    },
    {
      "cell_type": "markdown",
      "metadata": {
        "id": "tS9VmwD3X5dP"
      },
      "source": [
        "### [Only run after first time] Load processed data from disk"
      ]
    },
    {
      "cell_type": "code",
      "execution_count": 8,
      "metadata": {
        "id": "XWFnXFlW3fEB"
      },
      "outputs": [],
      "source": [
        "all_reviews, prompts = pickle.load(open(f'all_reviews_and_prompts_{CODE_VER}', 'rb'))"
      ]
    },
    {
      "cell_type": "markdown",
      "metadata": {
        "id": "nJOlTBurYIfV"
      },
      "source": [
        "### Break data into train and valid"
      ]
    },
    {
      "cell_type": "code",
      "execution_count": 9,
      "metadata": {
        "id": "I7KqrQHufRS0"
      },
      "outputs": [],
      "source": [
        "# Extract a relatively small sample out of the larger samples, to train on\n",
        "sample_df = all_reviews.sample(n=TRAINING_SIZE, random_state=2021).dropna().reset_index()"
      ]
    },
    {
      "cell_type": "code",
      "execution_count": 10,
      "metadata": {
        "colab": {
          "base_uri": "https://localhost:8080/"
        },
        "id": "0L-sagnDeFL3",
        "outputId": "da420048-beca-49a1-fc64-0bb665ad4b30"
      },
      "outputs": [
        {
          "output_type": "execute_result",
          "data": {
            "text/plain": [
              "30"
            ]
          },
          "metadata": {},
          "execution_count": 10
        }
      ],
      "source": [
        "del all_reviews\n",
        "gc.collect()"
      ]
    },
    {
      "cell_type": "code",
      "execution_count": 11,
      "metadata": {
        "id": "cxexI-RggHN1"
      },
      "outputs": [],
      "source": [
        "df_train, df_valid = train_test_split(sample_df, random_state=2021, test_size=0.1)\n",
        "all_texts = np.concatenate([df_train[\"reviewText\"].values, df_valid[\"reviewText\"].values])"
      ]
    },
    {
      "cell_type": "markdown",
      "metadata": {
        "id": "01Qgap8Cjimy"
      },
      "source": [
        "## Download Pre-Trained Model (gpt2)\n",
        "And configure tokenizer to recognize special tokens\n"
      ]
    },
    {
      "cell_type": "code",
      "execution_count": 12,
      "metadata": {
        "id": "Dfj0dmki58Xn"
      },
      "outputs": [],
      "source": [
        "def get_tokenizer(special_tokens=None):\n",
        "    tokenizer = AutoTokenizer.from_pretrained(MODEL) #GPT2Tokenizer\n",
        "\n",
        "    if special_tokens:\n",
        "        tokenizer.add_special_tokens(special_tokens)\n",
        "        print(\"Special tokens added\")\n",
        "    return tokenizer\n",
        "\n",
        "def get_model(tokenizer, special_tokens=None, load_model_path=None):\n",
        "\n",
        "    #GPT2LMHeadModel\n",
        "    if special_tokens:\n",
        "        config = AutoConfig.from_pretrained(MODEL, \n",
        "                                            bos_token_id=tokenizer.bos_token_id,\n",
        "                                            eos_token_id=tokenizer.eos_token_id,\n",
        "                                            sep_token_id=tokenizer.sep_token_id,\n",
        "                                            pad_token_id=tokenizer.pad_token_id,\n",
        "                                            output_hidden_states=False)\n",
        "    else: \n",
        "        config = AutoConfig.from_pretrained(MODEL,                                     \n",
        "                                            pad_token_id=tokenizer.eos_token_id,\n",
        "                                            output_hidden_states=False)    \n",
        "\n",
        "    model = AutoModelForPreTraining.from_pretrained(MODEL, config=config)\n",
        "\n",
        "    if special_tokens:\n",
        "        #Special tokens added, model needs to be resized accordingly\n",
        "        model.resize_token_embeddings(len(tokenizer))\n",
        "\n",
        "    if load_model_path:\n",
        "        model.load_state_dict(torch.load(load_model_path))\n",
        "\n",
        "    model.cuda()\n",
        "    return model"
      ]
    },
    {
      "cell_type": "code",
      "execution_count": 13,
      "metadata": {
        "colab": {
          "base_uri": "https://localhost:8080/",
          "referenced_widgets": [
            "106fbc70b7a14b4b92566f13a008b01a",
            "e9b9e8ca6a5d45a29217452bd2ea2508",
            "9c66887a01e045239633b62652b00759",
            "bf7f7dbfd9df441aadafbb01d321a100",
            "b68e4e669388437f85d89050e1ad896c",
            "85a871fedff745468b748b6e3fc16d90",
            "705228771ff145b29dc2245bd3f59353",
            "2d0c7788da8e494190a170b4fbea1e16",
            "67a0863cbb214789862e27349742ce24",
            "77546005672f4430a633204c482199bc",
            "fb9dabba7ff64681bcc079639028c9e9",
            "9800f21614854ffa8b9000a4059ebae6",
            "ad84c611fa5f474494ae86e81ccf4b02",
            "a672e7611cdf4c00891aa1c083192e2c",
            "3449297f6bfb423f82db2452f76de66c",
            "a5cfa9c48e62479298b04ba83917764c",
            "ebdbbdcfc75141aeb1ad0cb16d662236",
            "32142511c1af47db9951bb8d8d538555",
            "85f5bb855bb54cd98b241b977fe98d2f",
            "7b8e2b81dea74dfca89613050bd9424e",
            "a874453b29cd4c30bfe5755d3ab170dc",
            "ec0a66b1ef94485aa41aed654c1fd063",
            "256c3a943bdb440593dee3efcbccb6ea",
            "c27dc00447b8496394974de4c5d481f8",
            "78944692bebb41dd8f3363dbfb69e2a2",
            "912e2205f015417294ceb2398c055597",
            "30c88659423f4d8e8573c85b00e4895c",
            "f399dbc6fe234af59c4b21e26181befa",
            "08ed91a46fd643d0a38764269d4b6382",
            "7280aae01d5d4b8a89449ea7db16eaca",
            "57e7dbe54c8b40208d601fa0f535e0cd",
            "16fbfc0e4ee646a8878e38d621210b41",
            "641ba07d9b2e46d5b2edb13ec19a8ddc",
            "0e7a625fac0941a5848dcd9f670b9cde",
            "968b3aebc5154297ad69911d426b96f2",
            "b5c6b2b8bf164486b6747f8ce9284546",
            "cb9fbd2b67a74f2595922fac393c28b6",
            "a6c768a7400743c4a8efce8f141cbc56",
            "912a092dab0b4fbeb15b0a7c7388aca1",
            "4f1c48a2c8974353bc96c44f0efe6158",
            "27420d286d614e7b90521e4b4ea72abf",
            "a9a9176332804b35a403eeb48ef9c98b",
            "bf264c6e110d44889a524faddd14e3a8",
            "3bb1e57530c54acf9dadbe7d5c636211",
            "0b222229f22d436a967ab58e8ca718fd",
            "285f6d454f004f8e9dff4d51be5e778b",
            "a6324faa6836433a888636c1685b8f60",
            "99e14b78b810426a85086a93f5b51afd",
            "7dc152eda30e4b319ae3c09286f7fa45",
            "1aef095877e94d83b33bd2f107e3f5e9",
            "efd3deb9cc1f4965a14cc774197808e4",
            "ce8ab286051c4cc68702044d50f7b004",
            "cee3785458904d5c955554eea091242e",
            "6318feafd2d240b8be862e19c9962e86",
            "e42159850d9d4a05892a4b99ee3d74d1"
          ],
          "height": 0
        },
        "id": "0YheM_CO6npO",
        "outputId": "74b674f8-ce5d-48a0-f240-4e81f0908aff"
      },
      "outputs": [
        {
          "output_type": "display_data",
          "data": {
            "text/plain": [
              "Downloading:   0%|          | 0.00/665 [00:00<?, ?B/s]"
            ],
            "application/vnd.jupyter.widget-view+json": {
              "version_major": 2,
              "version_minor": 0,
              "model_id": "106fbc70b7a14b4b92566f13a008b01a"
            }
          },
          "metadata": {}
        },
        {
          "output_type": "display_data",
          "data": {
            "text/plain": [
              "Downloading:   0%|          | 0.00/0.99M [00:00<?, ?B/s]"
            ],
            "application/vnd.jupyter.widget-view+json": {
              "version_major": 2,
              "version_minor": 0,
              "model_id": "bf7f7dbfd9df441aadafbb01d321a100"
            }
          },
          "metadata": {}
        },
        {
          "output_type": "display_data",
          "data": {
            "text/plain": [
              "Downloading:   0%|          | 0.00/446k [00:00<?, ?B/s]"
            ],
            "application/vnd.jupyter.widget-view+json": {
              "version_major": 2,
              "version_minor": 0,
              "model_id": "256c3a943bdb440593dee3efcbccb6ea"
            }
          },
          "metadata": {}
        },
        {
          "output_type": "display_data",
          "data": {
            "text/plain": [
              "Downloading:   0%|          | 0.00/1.29M [00:00<?, ?B/s]"
            ],
            "application/vnd.jupyter.widget-view+json": {
              "version_major": 2,
              "version_minor": 0,
              "model_id": "0e7a625fac0941a5848dcd9f670b9cde"
            }
          },
          "metadata": {}
        },
        {
          "output_type": "stream",
          "name": "stdout",
          "text": [
            "Special tokens added\n"
          ]
        },
        {
          "output_type": "display_data",
          "data": {
            "text/plain": [
              "Downloading:   0%|          | 0.00/523M [00:00<?, ?B/s]"
            ],
            "application/vnd.jupyter.widget-view+json": {
              "version_major": 2,
              "version_minor": 0,
              "model_id": "0b222229f22d436a967ab58e8ca718fd"
            }
          },
          "metadata": {}
        }
      ],
      "source": [
        "tokenizer = get_tokenizer(SPECIAL_TOKENS)\n",
        "model = get_model(tokenizer, special_tokens=SPECIAL_TOKENS)"
      ]
    },
    {
      "cell_type": "code",
      "execution_count": 14,
      "metadata": {
        "id": "vGP0FX22gJzr"
      },
      "outputs": [],
      "source": [
        "class TransformersTokenizer(Transform):\n",
        "    def __init__(self, tokenizer): self.tokenizer = tokenizer\n",
        "    def encodes(self, x): \n",
        "        toks = self.tokenizer.tokenize(x)[:1024]\n",
        "        return tensor(self.tokenizer.convert_tokens_to_ids(toks))\n",
        "    def decodes(self, x): return TitledStr(self.tokenizer.decode(x.cpu().numpy()))"
      ]
    },
    {
      "cell_type": "code",
      "execution_count": 15,
      "metadata": {
        "id": "0KHIuUCLgRN6"
      },
      "outputs": [],
      "source": [
        "splits = [list(df_train.index), list(df_valid.index)]\n",
        "tls = TfmdLists(all_texts, TransformersTokenizer(tokenizer), splits=splits, dl_type=LMDataLoader)"
      ]
    },
    {
      "cell_type": "code",
      "execution_count": 16,
      "metadata": {
        "colab": {
          "base_uri": "https://localhost:8080/"
        },
        "id": "4HvrM7NMxauC",
        "outputId": "54d84c20-e056-430f-ea7e-120d3b2ed8ef"
      },
      "outputs": [
        {
          "output_type": "execute_result",
          "data": {
            "text/plain": [
              "tensor([50257,    27, 12626,  1398,  2625,    64,    12,  7857,    12, 24132,\n",
              "          257,    12,  8043,    12, 38238,     1, 50261, 36028,  3834, 12048,\n",
              "          507, 50261, 17469, 10738,  1222,   696,    26,  8099, 17346, 50261,\n",
              "         6767,  5024, 50261, 50259, 50261, 50259, 50261,    18, 50261,    54,\n",
              "          680,   340,   550,  1110,   640, 13487,   635,    11,  2592,   329,\n",
              "          262, 21511,    13,   220,  8192,   284,   751,  5193,   517,  2456,\n",
              "           11,   523,   994,   484,   389,    13, 50258])"
            ]
          },
          "metadata": {},
          "execution_count": 16
        }
      ],
      "source": [
        "tls.train[0]"
      ]
    },
    {
      "cell_type": "code",
      "execution_count": 17,
      "metadata": {
        "colab": {
          "base_uri": "https://localhost:8080/"
        },
        "id": "6qWoUI2e1WTy",
        "outputId": "132770a3-004e-4889-df9c-3a10a384b63a"
      },
      "outputs": [
        {
          "output_type": "execute_result",
          "data": {
            "text/plain": [
              "tensor([50257, 15905,  3964,   838,  5995,   930, 10472, 50261, 25423, 50261,\n",
              "        27640, 10442, 50261, 18843,   803, 11998, 50261, 50259, 50261, 50259,\n",
              "        50261,    19, 50261, 20459,  9168,   838,   611,   345,   765,   262,\n",
              "          749,  2274,   530,   788,   994,   340,   318,    13,   314,  1612,\n",
              "         9168,   838,   318,   922,   475,   407,   355,   922,   355,  9168,\n",
              "          767,    11,   314,   561,   423,  1392,  9168,   767,    11,   475,\n",
              "          314,   655,  3170,   616,   649, 40653,   523,   314,  3066,   284,\n",
              "          651,  9168,   838,   780,  9168,   767,   481,   307,  1972, 23572,\n",
              "        14556,   621,  9168,   838,    13, 50258])"
            ]
          },
          "metadata": {},
          "execution_count": 17
        }
      ],
      "source": [
        "tls.valid[0]"
      ]
    },
    {
      "cell_type": "code",
      "execution_count": 18,
      "metadata": {
        "colab": {
          "base_uri": "https://localhost:8080/"
        },
        "id": "ImGXuOhQ1YLh",
        "outputId": "6fdf1f6a-8d65-46a5-b119-e1cd0b86cd45"
      },
      "outputs": [
        {
          "output_type": "execute_result",
          "data": {
            "text/plain": [
              "(torch.Size([67]), torch.Size([86]))"
            ]
          },
          "metadata": {},
          "execution_count": 18
        }
      ],
      "source": [
        "tls.tfms(tls.train.items[0]).shape, tls.tfms(tls.valid.items[0]).shape"
      ]
    },
    {
      "cell_type": "code",
      "execution_count": 19,
      "metadata": {
        "colab": {
          "base_uri": "https://localhost:8080/"
        },
        "id": "Z-9-FUA91bZw",
        "outputId": "dcc1d502-4115-45be-f6f4-5a82f2f57f36"
      },
      "outputs": [
        {
          "output_type": "stream",
          "name": "stdout",
          "text": [
            "<|BOS|><span class=\"a-size-medium a-color-secondary\"<|SEP|>Magazine Subscriptions<|SEP|>Entertainment &amp; Pop Culture<|SEP|>Television<|SEP|><|UNK|><|SEP|><|UNK|><|SEP|>3<|SEP|>Wish it had day time listing also, especially for the weekends.  Have to add nine more words, so here they are.<|EOS|>\n"
          ]
        }
      ],
      "source": [
        "show_at(tls.train, 0)"
      ]
    },
    {
      "cell_type": "code",
      "execution_count": 20,
      "metadata": {
        "colab": {
          "base_uri": "https://localhost:8080/"
        },
        "id": "qxGbNLgd1diq",
        "outputId": "b431b174-ff10-440d-b347-c404f3a679ae"
      },
      "outputs": [
        {
          "output_type": "stream",
          "name": "stdout",
          "text": [
            "<|BOS|>Microsoft Windows 10 Home | Download<|SEP|>Software<|SEP|>Digital Software<|SEP|>Operating Systems<|SEP|><|UNK|><|SEP|><|UNK|><|SEP|>4<|SEP|>Its windows 10 if you want the most recent one then here it is. I mean windows 10 is good but not as good as windows 7, I would have got windows 7, but I just built my new pc so I decided to get windows 10 because windows 7 will be getting outdated sooner than windows 10.<|EOS|>\n"
          ]
        }
      ],
      "source": [
        "show_at(tls.valid, 0)"
      ]
    },
    {
      "cell_type": "code",
      "execution_count": 21,
      "metadata": {
        "colab": {
          "base_uri": "https://localhost:8080/"
        },
        "id": "ChHRR4cPgWif",
        "outputId": "2007d3c9-39e5-4c80-c74f-4bd76c0ec91b"
      },
      "outputs": [
        {
          "output_type": "stream",
          "name": "stderr",
          "text": [
            "Token indices sequence length is longer than the specified maximum sequence length for this model (1160 > 1024). Running this sequence through the model will result in indexing errors\n"
          ]
        }
      ],
      "source": [
        "bs,sl = 4,256\n",
        "dls = tls.dataloaders(bs=bs, seq_len=sl)"
      ]
    },
    {
      "cell_type": "code",
      "execution_count": 22,
      "metadata": {
        "colab": {
          "base_uri": "https://localhost:8080/",
          "height": 0
        },
        "id": "7_1D5kHa1CkG",
        "outputId": "add9cfe1-9dd9-4625-c064-257ef85eaf6d"
      },
      "outputs": [
        {
          "output_type": "display_data",
          "data": {
            "text/plain": [
              "<IPython.core.display.HTML object>"
            ],
            "text/html": [
              "<table border=\"1\" class=\"dataframe\">\n",
              "  <thead>\n",
              "    <tr style=\"text-align: right;\">\n",
              "      <th></th>\n",
              "      <th>text</th>\n",
              "      <th>text_</th>\n",
              "    </tr>\n",
              "  </thead>\n",
              "  <tbody>\n",
              "    <tr>\n",
              "      <th>0</th>\n",
              "      <td>&lt;|BOS|&gt; The Twitter Effect&lt;|SEP|&gt;Kindle Store&lt;|SEP|&gt;Kindle eBooks&lt;|SEP|&gt;Computers &amp; Technology&lt;|SEP|&gt;&lt;|UNK|&gt;&lt;|SEP|&gt;&lt;|UNK|&gt;&lt;|SEP|&gt;4&lt;|SEP|&gt;Well, it was quite nice from the beginning but towards the end, it sounded like a book filled of classified ads (lol). Still nice though.&lt;|EOS|&gt;&lt;|BOS|&gt;Mr. Majestyk VHS&lt;|SEP|&gt;Movies &amp; TV&lt;|SEP|&gt;Studio Specials&lt;|SEP|&gt;20th Century Fox Home Entertainment&lt;|SEP|&gt;Action&lt;|SEP|&gt;General&lt;|SEP|&gt;4&lt;|SEP|&gt;Serious action film, but reminiscent of Malagro Bean Field wars.  I loved it--my wife, not so much.&lt;|EOS|&gt;&lt;|BOS|&gt;Larabar Renola Berry Grain-Free Granola Pouches, 5.1 Ounce&lt;|SEP|&gt;Prime_Pantry&lt;|SEP|&gt;&lt;|UNK|&gt;&lt;|SEP|&gt;&lt;|UNK|&gt;&lt;|SEP|&gt;&lt;|UNK|&gt;&lt;|SEP|&gt;&lt;|UNK|&gt;&lt;|SEP|&gt;5&lt;|SEP|&gt;These taste really good, and are very filling for a snack.  I highly recommend.&lt;|EOS|&gt;&lt;|BOS|&gt;Moleskine Classic Hard Cover Notebook, Ruled, Pocket Size (3.5\" x 5.5\") Scarlet Red - Hard Cover Notebook for Writing, Sketching, Journals&lt;|SEP|&gt;Office Products&lt;|SEP|&gt;Office &amp;amp; School Supplies&lt;|SEP|&gt;Paper&lt;|SEP|&gt;Notebooks &amp;amp; Writing Pads&lt;|SEP|&gt;Composition Notebooks&lt;|SEP|&gt;4&lt;|SEP|&gt;I love the quality feel of the notebook itself, but the paper seems</td>\n",
              "      <td>The Twitter Effect&lt;|SEP|&gt;Kindle Store&lt;|SEP|&gt;Kindle eBooks&lt;|SEP|&gt;Computers &amp; Technology&lt;|SEP|&gt;&lt;|UNK|&gt;&lt;|SEP|&gt;&lt;|UNK|&gt;&lt;|SEP|&gt;4&lt;|SEP|&gt;Well, it was quite nice from the beginning but towards the end, it sounded like a book filled of classified ads (lol). Still nice though.&lt;|EOS|&gt;&lt;|BOS|&gt;Mr. Majestyk VHS&lt;|SEP|&gt;Movies &amp; TV&lt;|SEP|&gt;Studio Specials&lt;|SEP|&gt;20th Century Fox Home Entertainment&lt;|SEP|&gt;Action&lt;|SEP|&gt;General&lt;|SEP|&gt;4&lt;|SEP|&gt;Serious action film, but reminiscent of Malagro Bean Field wars.  I loved it--my wife, not so much.&lt;|EOS|&gt;&lt;|BOS|&gt;Larabar Renola Berry Grain-Free Granola Pouches, 5.1 Ounce&lt;|SEP|&gt;Prime_Pantry&lt;|SEP|&gt;&lt;|UNK|&gt;&lt;|SEP|&gt;&lt;|UNK|&gt;&lt;|SEP|&gt;&lt;|UNK|&gt;&lt;|SEP|&gt;&lt;|UNK|&gt;&lt;|SEP|&gt;5&lt;|SEP|&gt;These taste really good, and are very filling for a snack.  I highly recommend.&lt;|EOS|&gt;&lt;|BOS|&gt;Moleskine Classic Hard Cover Notebook, Ruled, Pocket Size (3.5\" x 5.5\") Scarlet Red - Hard Cover Notebook for Writing, Sketching, Journals&lt;|SEP|&gt;Office Products&lt;|SEP|&gt;Office &amp;amp; School Supplies&lt;|SEP|&gt;Paper&lt;|SEP|&gt;Notebooks &amp;amp; Writing Pads&lt;|SEP|&gt;Composition Notebooks&lt;|SEP|&gt;4&lt;|SEP|&gt;I love the quality feel of the notebook itself, but the paper seems to</td>\n",
              "    </tr>\n",
              "    <tr>\n",
              "      <th>1</th>\n",
              "      <td>rebels to follow him as they go into exile.  And there's the poignant revelation when Peter and Susan learn that they can never come back.  But the rest of the novel is pretty much a loss.&lt;|EOS|&gt;&lt;|BOS|&gt;Tripp Lite 7 Outlet Surge Protector Power Strip, 6ft Cord, $20K INSURANCE (STRIKER)&lt;|SEP|&gt;Electronics&lt;|SEP|&gt;Accessories &amp; Supplies&lt;|SEP|&gt;Power Strips &amp; Surge Protectors&lt;|SEP|&gt;Power Strips&lt;|SEP|&gt;&lt;|UNK|&gt;&lt;|SEP|&gt;5&lt;|SEP|&gt;The plug strip is built well.  The extra cable length is a real bonus.  I just hate when the cord is just a few inches short.  Well built, good utility to run gear off of.  Not just for home use.&lt;|EOS|&gt;&lt;|BOS|&gt;Highland Shift (Highland Destiny Book 1) - Kindle edition&lt;|SEP|&gt;Kindle Store&lt;|SEP|&gt;Kindle eBooks&lt;|SEP|&gt;Romance&lt;|SEP|&gt;&lt;|UNK|&gt;&lt;|SEP|&gt;&lt;|UNK|&gt;&lt;|SEP|&gt;3&lt;|SEP|&gt;This book had a great premise!  My only complaint is that there seemed to be more sex than anything else and it took away from the story line&lt;|EOS|&gt;&lt;|BOS|&gt;Flowtron BK-80D 80-Watt Electronic Insect Killer, 1-1/2 Acre Coverage&lt;|SEP|&gt;Patio, Lawn &amp; Garden&lt;|SEP|&gt;Pest</td>\n",
              "      <td>to follow him as they go into exile.  And there's the poignant revelation when Peter and Susan learn that they can never come back.  But the rest of the novel is pretty much a loss.&lt;|EOS|&gt;&lt;|BOS|&gt;Tripp Lite 7 Outlet Surge Protector Power Strip, 6ft Cord, $20K INSURANCE (STRIKER)&lt;|SEP|&gt;Electronics&lt;|SEP|&gt;Accessories &amp; Supplies&lt;|SEP|&gt;Power Strips &amp; Surge Protectors&lt;|SEP|&gt;Power Strips&lt;|SEP|&gt;&lt;|UNK|&gt;&lt;|SEP|&gt;5&lt;|SEP|&gt;The plug strip is built well.  The extra cable length is a real bonus.  I just hate when the cord is just a few inches short.  Well built, good utility to run gear off of.  Not just for home use.&lt;|EOS|&gt;&lt;|BOS|&gt;Highland Shift (Highland Destiny Book 1) - Kindle edition&lt;|SEP|&gt;Kindle Store&lt;|SEP|&gt;Kindle eBooks&lt;|SEP|&gt;Romance&lt;|SEP|&gt;&lt;|UNK|&gt;&lt;|SEP|&gt;&lt;|UNK|&gt;&lt;|SEP|&gt;3&lt;|SEP|&gt;This book had a great premise!  My only complaint is that there seemed to be more sex than anything else and it took away from the story line&lt;|EOS|&gt;&lt;|BOS|&gt;Flowtron BK-80D 80-Watt Electronic Insect Killer, 1-1/2 Acre Coverage&lt;|SEP|&gt;Patio, Lawn &amp; Garden&lt;|SEP|&gt;Pest Control&lt;|SEP|&gt;Bug</td>\n",
              "    </tr>\n",
              "  </tbody>\n",
              "</table>"
            ]
          },
          "metadata": {}
        }
      ],
      "source": [
        "dls.show_batch(max_n=2)"
      ]
    },
    {
      "cell_type": "markdown",
      "metadata": {
        "id": "qGuDmhzKlMYo"
      },
      "source": [
        "## Fine-tuning"
      ]
    },
    {
      "cell_type": "markdown",
      "metadata": {
        "id": "8-MTEydZQ_i4"
      },
      "source": [
        "### Create Learner from model"
      ]
    },
    {
      "cell_type": "code",
      "execution_count": 24,
      "metadata": {
        "id": "JmN9Wg1ClKHB"
      },
      "outputs": [],
      "source": [
        "class DropOutput(Callback):\n",
        "    def after_pred(self): self.learn.pred = self.pred[0]"
      ]
    },
    {
      "cell_type": "code",
      "execution_count": 25,
      "metadata": {
        "id": "ksCHQrVOmYZ_"
      },
      "outputs": [],
      "source": [
        "learn = Learner(dls, model, loss_func=CrossEntropyLossFlat(), cbs=[DropOutput], metrics=Perplexity()).to_fp16()"
      ]
    },
    {
      "cell_type": "markdown",
      "metadata": {
        "id": "tj87bvbWWef9"
      },
      "source": [
        "### [Skip after first time] Run fine-tuning and save"
      ]
    },
    {
      "cell_type": "code",
      "execution_count": null,
      "metadata": {
        "colab": {
          "base_uri": "https://localhost:8080/",
          "height": 34
        },
        "id": "GW3RKYGsmcCx",
        "outputId": "5532c512-1093-450b-df94-f7064931dea7"
      },
      "outputs": [
        {
          "output_type": "display_data",
          "data": {
            "text/plain": [
              "<IPython.core.display.HTML object>"
            ],
            "text/html": [
              "\n",
              "<style>\n",
              "    /* Turns off some styling */\n",
              "    progress {\n",
              "        /* gets rid of default border in Firefox and Opera. */\n",
              "        border: none;\n",
              "        /* Needs to be in here for Safari polyfill so background images work as expected. */\n",
              "        background-size: auto;\n",
              "    }\n",
              "    .progress-bar-interrupted, .progress-bar-interrupted::-webkit-progress-bar {\n",
              "        background: #F44336;\n",
              "    }\n",
              "</style>\n"
            ]
          },
          "metadata": {}
        },
        {
          "output_type": "display_data",
          "data": {
            "text/plain": [
              "<IPython.core.display.HTML object>"
            ],
            "text/html": [
              ""
            ]
          },
          "metadata": {}
        },
        {
          "output_type": "execute_result",
          "data": {
            "text/plain": [
              "(#2) [93.75222778320312,inf]"
            ]
          },
          "metadata": {},
          "execution_count": 23
        }
      ],
      "source": [
        "learn.validate()"
      ]
    },
    {
      "cell_type": "code",
      "execution_count": null,
      "metadata": {
        "colab": {
          "base_uri": "https://localhost:8080/",
          "height": 300
        },
        "id": "r1A65m6tmeX_",
        "outputId": "f8a5c215-bdf4-426f-bc64-ed67cbac4d5e"
      },
      "outputs": [
        {
          "output_type": "display_data",
          "data": {
            "text/plain": [
              "<IPython.core.display.HTML object>"
            ],
            "text/html": [
              "\n",
              "<style>\n",
              "    /* Turns off some styling */\n",
              "    progress {\n",
              "        /* gets rid of default border in Firefox and Opera. */\n",
              "        border: none;\n",
              "        /* Needs to be in here for Safari polyfill so background images work as expected. */\n",
              "        background-size: auto;\n",
              "    }\n",
              "    .progress-bar-interrupted, .progress-bar-interrupted::-webkit-progress-bar {\n",
              "        background: #F44336;\n",
              "    }\n",
              "</style>\n"
            ]
          },
          "metadata": {}
        },
        {
          "output_type": "display_data",
          "data": {
            "text/plain": [
              "<IPython.core.display.HTML object>"
            ],
            "text/html": [
              ""
            ]
          },
          "metadata": {}
        },
        {
          "output_type": "execute_result",
          "data": {
            "text/plain": [
              "SuggestedLRs(valley=0.0003981071640737355)"
            ]
          },
          "metadata": {},
          "execution_count": 32
        },
        {
          "output_type": "display_data",
          "data": {
            "text/plain": [
              "<Figure size 432x288 with 1 Axes>"
            ],
            "image/png": "[encoded data removed]"
          },
          "metadata": {
            "needs_background": "light"
          }
        }
      ],
      "source": [
        "learn.lr_find()"
      ]
    },
    {
      "cell_type": "code",
      "execution_count": null,
      "metadata": {
        "colab": {
          "base_uri": "https://localhost:8080/",
          "height": 81
        },
        "id": "61DEqMr5mfxh",
        "outputId": "5bdf5637-ee3b-4e3d-a05d-08164084860f"
      },
      "outputs": [
        {
          "output_type": "display_data",
          "data": {
            "text/plain": [
              "<IPython.core.display.HTML object>"
            ],
            "text/html": [
              "\n",
              "<style>\n",
              "    /* Turns off some styling */\n",
              "    progress {\n",
              "        /* gets rid of default border in Firefox and Opera. */\n",
              "        border: none;\n",
              "        /* Needs to be in here for Safari polyfill so background images work as expected. */\n",
              "        background-size: auto;\n",
              "    }\n",
              "    .progress-bar-interrupted, .progress-bar-interrupted::-webkit-progress-bar {\n",
              "        background: #F44336;\n",
              "    }\n",
              "</style>\n"
            ]
          },
          "metadata": {}
        },
        {
          "output_type": "display_data",
          "data": {
            "text/plain": [
              "<IPython.core.display.HTML object>"
            ],
            "text/html": [
              "<table border=\"1\" class=\"dataframe\">\n",
              "  <thead>\n",
              "    <tr style=\"text-align: left;\">\n",
              "      <th>epoch</th>\n",
              "      <th>train_loss</th>\n",
              "      <th>valid_loss</th>\n",
              "      <th>perplexity</th>\n",
              "      <th>time</th>\n",
              "    </tr>\n",
              "  </thead>\n",
              "  <tbody>\n",
              "    <tr>\n",
              "      <td>0</td>\n",
              "      <td>2.983576</td>\n",
              "      <td>2.895633</td>\n",
              "      <td>18.094952</td>\n",
              "      <td>1:57:05</td>\n",
              "    </tr>\n",
              "  </tbody>\n",
              "</table>"
            ]
          },
          "metadata": {}
        }
      ],
      "source": [
        "learn.fit_one_cycle(1, 1e-4)"
      ]
    },
    {
      "cell_type": "code",
      "execution_count": null,
      "metadata": {
        "colab": {
          "base_uri": "https://localhost:8080/"
        },
        "id": "Swt8hBvbmgxs",
        "outputId": "ab62e1b0-b01d-49be-88f6-6b3b44205b08"
      },
      "outputs": [
        {
          "output_type": "execute_result",
          "data": {
            "text/plain": [
              "Path('models/gpt2-control-generation-BROAD-v7.pth')"
            ]
          },
          "metadata": {},
          "execution_count": 25
        }
      ],
      "source": [
        "learn.save(f\"gpt2-control-generation-BROAD-{CODE_VER}\")"
      ]
    },
    {
      "cell_type": "markdown",
      "metadata": {
        "id": "1NjqRhcYWkiV"
      },
      "source": [
        "### [Only run after first time] Load fine-tuned model from disk"
      ]
    },
    {
      "cell_type": "code",
      "execution_count": 26,
      "metadata": {
        "colab": {
          "base_uri": "https://localhost:8080/"
        },
        "id": "HJZdsQV6WqpR",
        "outputId": "283e5291-50b8-4ee2-a730-a12a576d1ade"
      },
      "outputs": [
        {
          "output_type": "execute_result",
          "data": {
            "text/plain": [
              "<fastai.learner.Learner at 0x7fd0f4f15b90>"
            ]
          },
          "metadata": {},
          "execution_count": 26
        }
      ],
      "source": [
        "learn.load(f\"gpt2-control-generation-BROAD-{CODE_VER}\")"
      ]
    },
    {
      "cell_type": "markdown",
      "metadata": {
        "id": "B6Z_kEIBWnmf"
      },
      "source": [
        "## Run Model"
      ]
    },
    {
      "cell_type": "markdown",
      "metadata": {
        "id": "aPHuBz7MLb_5"
      },
      "source": [
        "### Manual Checking"
      ]
    },
    {
      "cell_type": "code",
      "source": [
        "prompts.keys()"
      ],
      "metadata": {
        "colab": {
          "base_uri": "https://localhost:8080/"
        },
        "id": "0ZulqkSl6bHZ",
        "outputId": "9e499f86-82d0-4b6d-9267-0c972a6c865a"
      },
      "execution_count": null,
      "outputs": [
        {
          "output_type": "execute_result",
          "data": {
            "text/plain": [
              "dict_keys(['All_Beauty', 'Appliances', 'Arts_Crafts_and_Sewing', 'Automotive', 'Books', 'CDs_and_Vinyl', 'Cell_Phones_and_Accessories', 'Clothing_Shoes_and_Jewelry', 'Digital_Music', 'Electronics', 'Gift_Cards', 'Grocery_and_Gourmet_Food', 'Home_and_Kitchen', 'Industrial_and_Scientific', 'Kindle_Store', 'Luxury_Beauty', 'Magazine_Subscriptions', 'Movies_and_TV', 'Musical_Instruments', 'Office_Products', 'Patio_Lawn_and_Garden', 'Pet_Supplies', 'Prime_Pantry', 'Software', 'Sports_and_Outdoors', 'Tools_and_Home_Improvement', 'Toys_and_Games', 'Video_Games'])"
            ]
          },
          "metadata": {},
          "execution_count": 27
        }
      ]
    },
    {
      "cell_type": "code",
      "execution_count": null,
      "metadata": {
        "colab": {
          "base_uri": "https://localhost:8080/",
          "height": 511
        },
        "id": "yl8d8GRYQRwU",
        "outputId": "03e9c6b5-68f4-4e3d-808c-eec31a25c523"
      },
      "outputs": [
        {
          "data": {
            "text/html": [
              "\n",
              "  <div id=\"df-a5f83ccc-a17f-4762-a7d3-c8757b047757\">\n",
              "    <div class=\"colab-df-container\">\n",
              "      <div>\n",
              "<style scoped>\n",
              "    .dataframe tbody tr th:only-of-type {\n",
              "        vertical-align: middle;\n",
              "    }\n",
              "\n",
              "    .dataframe tbody tr th {\n",
              "        vertical-align: top;\n",
              "    }\n",
              "\n",
              "    .dataframe thead th {\n",
              "        text-align: right;\n",
              "    }\n",
              "</style>\n",
              "<table border=\"1\" class=\"dataframe\">\n",
              "  <thead>\n",
              "    <tr style=\"text-align: right;\">\n",
              "      <th></th>\n",
              "      <th>prompt</th>\n",
              "    </tr>\n",
              "  </thead>\n",
              "  <tbody>\n",
              "    <tr>\n",
              "      <th>0</th>\n",
              "      <td>&lt;|BOS|&gt;Espresso Wenge Reversible L-Desk 72&amp;quot;W with Brushed Nickel Modesty Panel Legs - At Work Collection&lt;|SEP|&gt;Office Furniture &amp; Lighting,Desks &amp; Workstations,Desks,Office Desks&lt;|SEP|&gt;5&lt;|SEP|&gt;</td>\n",
              "    </tr>\n",
              "    <tr>\n",
              "      <th>1</th>\n",
              "      <td>&lt;|BOS|&gt;STEELMASTER Contemporary Vertical Organizer with 4 Slots, 8.38 x 12 x 7.25 Inches, Granite (2644500A3)&lt;|SEP|&gt;Office Furniture &amp; Lighting,Cabinets, Racks &amp; Shelves,Racks &amp; Displays&lt;|SEP|&gt;5&lt;|SEP|&gt;</td>\n",
              "    </tr>\n",
              "    <tr>\n",
              "      <th>2</th>\n",
              "      <td>&lt;|BOS|&gt;100 5x7 Reclosable Poly Clear Plastic Zip Lock Zipper Bag 4 Mil Jewelry Baggies&lt;|SEP|&gt;Office &amp; School Supplies,Envelopes, Mailers &amp; Shipping Supplies,Mail Bags &amp; Transit Sacks,Mail Bags&lt;|SEP|&gt;5&lt;|SEP|&gt;</td>\n",
              "    </tr>\n",
              "    <tr>\n",
              "      <th>3</th>\n",
              "      <td>&lt;|BOS|&gt;GLOBE-WEIS Colored Classification Folder (PU5615LBL)&lt;|SEP|&gt;Office &amp; School Supplies&lt;|SEP|&gt;5&lt;|SEP|&gt;</td>\n",
              "    </tr>\n",
              "    <tr>\n",
              "      <th>4</th>\n",
              "      <td>&lt;|BOS|&gt;3&amp;quot; X 4&amp;quot; - 2 Mil Clear White Block Reclosable Poly Zip Lock Bags Pack of 100&lt;|SEP|&gt;Office &amp; School Supplies,Envelopes, Mailers &amp; Shipping Supplies,Mail Bags &amp; Transit Sacks,Mail Bags&lt;|SEP|&gt;5&lt;|SEP|&gt;</td>\n",
              "    </tr>\n",
              "    <tr>\n",
              "      <th>5</th>\n",
              "      <td>&lt;|BOS|&gt;Assorted Hand made Voodoo String Doll Key Chain (12 pieces)&lt;|SEP|&gt;Office &amp; School Supplies,Forms, Recordkeeping &amp; Money Handling,Key Tags &amp; Chains&lt;|SEP|&gt;5&lt;|SEP|&gt;</td>\n",
              "    </tr>\n",
              "    <tr>\n",
              "      <th>6</th>\n",
              "      <td>&lt;|BOS|&gt;Vonage Phone Solution Adapter + Cordless Phone System, New for 2011 Vonage Digital Phone System Adapter and Dect 6.0 Motorola Cordless System L603 (not the previous L403) in One Box&lt;|SEP|&gt;Office Electronics,Telephones &amp; Accessories,Landline Phones,Cordless Telephones&lt;|SEP|&gt;5&lt;|SEP|&gt;</td>\n",
              "    </tr>\n",
              "    <tr>\n",
              "      <th>7</th>\n",
              "      <td>&lt;|BOS|&gt;NEW 100 Feet Flexible Magnet Magnetic Strip 1&amp;quot; wide Adhesive Back 30 Mil&lt;|SEP|&gt;Office &amp; School Supplies,Tape, Adhesives &amp; Fasteners,Interlocking Tape &amp; Mounting Products,Magnetic Tape&lt;|SEP|&gt;5&lt;|SEP|&gt;</td>\n",
              "    </tr>\n",
              "    <tr>\n",
              "      <th>8</th>\n",
              "      <td>&lt;|BOS|&gt;Palmetto 2-Drawer Oak File Cabinet Warm Honey&lt;|SEP|&gt;Office &amp; School Supplies,Forms, Recordkeeping &amp; Money Handling,Key Cabinets, Racks &amp; Holders,Cabinets&lt;|SEP|&gt;5&lt;|SEP|&gt;</td>\n",
              "    </tr>\n",
              "    <tr>\n",
              "      <th>9</th>\n",
              "      <td>&lt;|BOS|&gt;Pelikan Pelikano Blue Fountain Pen Medium&lt;|SEP|&gt;Office &amp; School Supplies,Writing &amp; Correction Supplies,Pens &amp; Refills,Fountain Pens&lt;|SEP|&gt;5&lt;|SEP|&gt;</td>\n",
              "    </tr>\n",
              "  </tbody>\n",
              "</table>\n",
              "</div>\n",
              "      <button class=\"colab-df-convert\" onclick=\"convertToInteractive('df-a5f83ccc-a17f-4762-a7d3-c8757b047757')\"\n",
              "              title=\"Convert this dataframe to an interactive table.\"\n",
              "              style=\"display:none;\">\n",
              "        \n",
              "  <svg xmlns=\"http://www.w3.org/2000/svg\" height=\"24px\"viewBox=\"0 0 24 24\"\n",
              "       width=\"24px\">\n",
              "    <path d=\"M0 0h24v24H0V0z\" fill=\"none\"/>\n",
              "    <path d=\"M18.56 5.44l.94 2.06.94-2.06 2.06-.94-2.06-.94-.94-2.06-.94 2.06-2.06.94zm-11 1L8.5 8.5l.94-2.06 2.06-.94-2.06-.94L8.5 2.5l-.94 2.06-2.06.94zm10 10l.94 2.06.94-2.06 2.06-.94-2.06-.94-.94-2.06-.94 2.06-2.06.94z\"/><path d=\"M17.41 7.96l-1.37-1.37c-.4-.4-.92-.59-1.43-.59-.52 0-1.04.2-1.43.59L10.3 9.45l-7.72 7.72c-.78.78-.78 2.05 0 2.83L4 21.41c.39.39.9.59 1.41.59.51 0 1.02-.2 1.41-.59l7.78-7.78 2.81-2.81c.8-.78.8-2.07 0-2.86zM5.41 20L4 18.59l7.72-7.72 1.47 1.35L5.41 20z\"/>\n",
              "  </svg>\n",
              "      </button>\n",
              "      \n",
              "  <style>\n",
              "    .colab-df-container {\n",
              "      display:flex;\n",
              "      flex-wrap:wrap;\n",
              "      gap: 12px;\n",
              "    }\n",
              "\n",
              "    .colab-df-convert {\n",
              "      background-color: #E8F0FE;\n",
              "      border: none;\n",
              "      border-radius: 50%;\n",
              "      cursor: pointer;\n",
              "      display: none;\n",
              "      fill: #1967D2;\n",
              "      height: 32px;\n",
              "      padding: 0 0 0 0;\n",
              "      width: 32px;\n",
              "    }\n",
              "\n",
              "    .colab-df-convert:hover {\n",
              "      background-color: #E2EBFA;\n",
              "      box-shadow: 0px 1px 2px rgba(60, 64, 67, 0.3), 0px 1px 3px 1px rgba(60, 64, 67, 0.15);\n",
              "      fill: #174EA6;\n",
              "    }\n",
              "\n",
              "    [theme=dark] .colab-df-convert {\n",
              "      background-color: #3B4455;\n",
              "      fill: #D2E3FC;\n",
              "    }\n",
              "\n",
              "    [theme=dark] .colab-df-convert:hover {\n",
              "      background-color: #434B5C;\n",
              "      box-shadow: 0px 1px 3px 1px rgba(0, 0, 0, 0.15);\n",
              "      filter: drop-shadow(0px 1px 2px rgba(0, 0, 0, 0.3));\n",
              "      fill: #FFFFFF;\n",
              "    }\n",
              "  </style>\n",
              "\n",
              "      <script>\n",
              "        const buttonEl =\n",
              "          document.querySelector('#df-a5f83ccc-a17f-4762-a7d3-c8757b047757 button.colab-df-convert');\n",
              "        buttonEl.style.display =\n",
              "          google.colab.kernel.accessAllowed ? 'block' : 'none';\n",
              "\n",
              "        async function convertToInteractive(key) {\n",
              "          const element = document.querySelector('#df-a5f83ccc-a17f-4762-a7d3-c8757b047757');\n",
              "          const dataTable =\n",
              "            await google.colab.kernel.invokeFunction('convertToInteractive',\n",
              "                                                     [key], {});\n",
              "          if (!dataTable) return;\n",
              "\n",
              "          const docLinkHtml = 'Like what you see? Visit the ' +\n",
              "            '<a target=\"_blank\" href=https://colab.research.google.com/notebooks/data_table.ipynb>data table notebook</a>'\n",
              "            + ' to learn more about interactive tables.';\n",
              "          element.innerHTML = '';\n",
              "          dataTable['output_type'] = 'display_data';\n",
              "          await google.colab.output.renderOutput(dataTable, element);\n",
              "          const docLink = document.createElement('div');\n",
              "          docLink.innerHTML = docLinkHtml;\n",
              "          element.appendChild(docLink);\n",
              "        }\n",
              "      </script>\n",
              "    </div>\n",
              "  </div>\n",
              "  "
            ],
            "text/plain": [
              "                                                                                                                                                                                                                                                                                              prompt\n",
              "0                                                                                             <|BOS|>Espresso Wenge Reversible L-Desk 72&quot;W with Brushed Nickel Modesty Panel Legs - At Work Collection<|SEP|>Office Furniture & Lighting,Desks & Workstations,Desks,Office Desks<|SEP|>5<|SEP|>\n",
              "1                                                                                          <|BOS|>STEELMASTER Contemporary Vertical Organizer with 4 Slots, 8.38 x 12 x 7.25 Inches, Granite (2644500A3)<|SEP|>Office Furniture & Lighting,Cabinets, Racks & Shelves,Racks & Displays<|SEP|>5<|SEP|>\n",
              "2                                                                                    <|BOS|>100 5x7 Reclosable Poly Clear Plastic Zip Lock Zipper Bag 4 Mil Jewelry Baggies<|SEP|>Office & School Supplies,Envelopes, Mailers & Shipping Supplies,Mail Bags & Transit Sacks,Mail Bags<|SEP|>5<|SEP|>\n",
              "3                                                                                                                                                                                          <|BOS|>GLOBE-WEIS Colored Classification Folder (PU5615LBL)<|SEP|>Office & School Supplies<|SEP|>5<|SEP|>\n",
              "4                                                                              <|BOS|>3&quot; X 4&quot; - 2 Mil Clear White Block Reclosable Poly Zip Lock Bags Pack of 100<|SEP|>Office & School Supplies,Envelopes, Mailers & Shipping Supplies,Mail Bags & Transit Sacks,Mail Bags<|SEP|>5<|SEP|>\n",
              "5                                                                                                                           <|BOS|>Assorted Hand made Voodoo String Doll Key Chain (12 pieces)<|SEP|>Office & School Supplies,Forms, Recordkeeping & Money Handling,Key Tags & Chains<|SEP|>5<|SEP|>\n",
              "6  <|BOS|>Vonage Phone Solution Adapter + Cordless Phone System, New for 2011 Vonage Digital Phone System Adapter and Dect 6.0 Motorola Cordless System L603 (not the previous L403) in One Box<|SEP|>Office Electronics,Telephones & Accessories,Landline Phones,Cordless Telephones<|SEP|>5<|SEP|>\n",
              "7                                                                                 <|BOS|>NEW 100 Feet Flexible Magnet Magnetic Strip 1&quot; wide Adhesive Back 30 Mil<|SEP|>Office & School Supplies,Tape, Adhesives & Fasteners,Interlocking Tape & Mounting Products,Magnetic Tape<|SEP|>5<|SEP|>\n",
              "8                                                                                                                    <|BOS|>Palmetto 2-Drawer Oak File Cabinet Warm Honey<|SEP|>Office & School Supplies,Forms, Recordkeeping & Money Handling,Key Cabinets, Racks & Holders,Cabinets<|SEP|>5<|SEP|>\n",
              "9                                                                                                                                          <|BOS|>Pelikan Pelikano Blue Fountain Pen Medium<|SEP|>Office & School Supplies,Writing & Correction Supplies,Pens & Refills,Fountain Pens<|SEP|>5<|SEP|>"
            ]
          },
          "execution_count": 27,
          "metadata": {},
          "output_type": "execute_result"
        }
      ],
      "source": [
        "prompts['Automotive'].head(10) # Display some products that we haven't trained on"
      ]
    },
    {
      "cell_type": "code",
      "execution_count": null,
      "metadata": {
        "colab": {
          "base_uri": "https://localhost:8080/"
        },
        "id": "86yuoJPxQfMX",
        "outputId": "f7aa2cd5-8fde-4d3c-89df-b3e65532bd77"
      },
      "outputs": [
        {
          "name": "stdout",
          "output_type": "stream",
          "text": [
            "1: The legs are a bit too wide for my liking.  I got the drawer on the first floor and they are definitely not a good fit.  I am going to go back to the office supply store.  I will definitely buy again.\n",
            "2: It is a HUGE piece of furniture.  It is a huge piece of junk.  It was just not worth the $30 it was charged for.  It is not worth the money.\n",
            "3: The leg is too short, the hinge too tight, the hinge too loose, and the legs don't stay together.  My desk looks like it was scratched.  I'll never buy another one.\n",
            "4: I had to use a hard to find regular staple tray to put in my desk, but it worked fine.  I didn't expect it to work.  I had to purchase a new one because I don't want to pay the extra $60 for a regular staple tray.  I also had to use a new staple tray because it was too heavy for my desk.  It was a total waste of money.\n",
            "5: I have had this for over a year now and it has completely destroyed my desk.  The carpet is carpet, not even a single rug.  I am very happy with it.  It is nice to have a desk with a carpeted floor that does not slide down.  I will buy another one.\n",
            "6: It is so small!  It is not in the fridge so it doesn't hold anything.  My other one is a little bigger and needs to be moved.\n",
            "7: Great product. Would have liked to have had a more durable case. The cover is pretty, but it doesn't fit my desk well.  The paper is very thick, which is disappointing.\n",
            "8: I have a kitchen and it works great. I tried to use the sides of the desk to get the metal out, but it does not fit on the bottom. So, I called the seller and they said they will replace the desk. I'm looking for a replacement.\n",
            "9: I am so disappointed.  I have been using this for years and have never seen the issues.  The sliding compartment is so small that I have to push it into the desk drawer.  I have had a hard time removing the key, which is pretty frustrating.  If you do it right, it will just slide into the drawer.  I don't know why anyone would want to buy this.\n",
            "10: I purchased this to hold my keyboard. It's not holding up to use. The metal part on the keyboard slides off easily. The metal part on the keyboard is much too thin for my liking. It's not a good quality product.\n",
            "11: I have used these for several years and they are the same thing. They are not very durable.\n",
            "12: The bottom of this item is not plastic, it is a piece of wood. It looks like it is made of a metal detector. I have a friend who has a metal detector and has a small plastic piece that is not plastic, so it is not plastic. If I had to pick one up I would pick it up, but that is not the case. I will not buy this item again.\n",
            "13: The paper feeder is very bad and it is not working. The feeder is a bit cheap, but I am not complaining.\n",
            "\n",
            "I'm giving it 5 stars because it's great and I just wish it was more of a \"nice\" product.\n",
            "\n",
            "You can buy this product on Amazon.com for $1 less than this guy.\n",
            "14: Great product, but I needed to replace the bottom of the desk, not sure how to do that.  I'm not sure how it will hold up with my old desk.  But I don't know how I could buy a better product.\n",
            "15: Bad quality. Does not have a \"closed\" tab.\n",
            "16: I purchased this item after seeing other reviews on Amazon and other sites that said it was not sturdy enough to handle heavy items.  I am very disappointed.  I have to return it for a refund and I will be returning it.\n",
            "17: It does not work at all.  I'm not sure what I am getting it for.  It looks good but I'm not sure how I can get it to work.  I've had mine for about 2 weeks and I've tried to use it on multiple occasions.  It has never worked and it is not working at all.\n",
            "18: Not as described.  Looks like it's going to be a lot thicker than it should be.  This is a cheap, big and cheap, heavy duty product.  I didn't realize it would be so heavy.  Don't buy it.\n",
            "19: This is a great desk for my work. It is a little small, but it is comfortable to use. The lumbar support is very good and makes it easy to sit and rest your neck. The only problem I have is that it does not hold up as well as the lumbar support.  This will probably be a major problem for some time.\n",
            "20: Too big for my desk.\n",
            "21: I had to replace my desk and it was a pain to get it back.  The lead was a little loose, but the metal parts were still holding it together.  I had to replace it.\n",
            "22: Not the same as the ones I had before.\n",
            "23: I had been looking for a new desk for a long time and this was the best.  The only complaint I have was that the wrist rest was a little short.  This thing does not have the wrist rest that I was looking for.  You would have to bend the wrist to have it.  The design of the desk is a bit different than what I would have been using.  I would have preferred a more professional look.\n",
            "24: I was very disappointed with this product, I was expecting a clean product and I was disappointed. I had to return it because I had to use the other side of the desk. The unit came with a 5-position tab to keep the tabs aligned. The tab is not very sturdy and I have to get it adjusted to fit the desk. The tabs are not even 1/2\" long. The only thing I would change would be to make the tabs more tapered.\n",
            "25: This is not a great product. It is a bit too small for my desk. It is not very sturdy, and if you put the table on top of it, it falls off of the desk.\n"
          ]
        }
      ],
      "source": [
        "prompt = \"<|BOS|>Espresso Wenge Reversible L-Desk 72&quot;W with Brushed Nickel Modesty Panel Legs - At Work Collection<|SEP|>Office Furniture & Lighting,Desks & Workstations,Desks,Office Desks<|SEP|>1<|SEP|>\"\n",
        "prompt_len = len(re.sub(r'<\\|[A-Z]{3}\\|>', '', prompt))\n",
        "\n",
        "prompt_ids = tokenizer.encode(prompt)\n",
        "inp = tensor(prompt_ids)[None].cuda()\n",
        "\n",
        "preds = learn.model.generate(inp, max_length=1024, do_sample=True, top_k=0, top_p=0.92, num_return_sequences=25, temperature=0.7)\n",
        "for i, pred in enumerate(preds):\n",
        "  print(\"{}: {}\".format(i+1, tokenizer.decode(pred, skip_special_tokens=True)[prompt_len:]))"
      ]
    },
    {
      "cell_type": "markdown",
      "metadata": {
        "id": "a2ulFwUiLg6-"
      },
      "source": [
        "### Generate CG/OG survey data"
      ]
    },
    {
      "cell_type": "code",
      "execution_count": 27,
      "metadata": {
        "id": "pVXH-0ROQmUL"
      },
      "outputs": [],
      "source": [
        "# TODO: move these to top config\n",
        "NUM_OR = 15\n",
        "NUM_CG = 15\n",
        "\n",
        "NUM_RET_SEQS = 1\n",
        "\n",
        "mixed_reviews = [] # [product name, categories, star rating, CG/OG, review text]\n",
        "\n",
        "# The end of the regex is so complicated because reviews that actually reach 1024 tokens long will not end with EOS\n",
        "regex = re.compile(\n",
        "    r'<\\|BOS\\|>(.*?)<\\|SEP\\|>' + \n",
        "    r'(.*)<\\|SEP\\|>' * (NUM_CATEGORIES-1) +\n",
        "    r'(.*)<\\|SEP\\|>(\\d)<\\|SEP\\|>(?:(.*)(?:<\\|EOS\\|>)|(.*))', \n",
        "    re.MULTILINE | re.DOTALL\n",
        ")\n",
        "\n",
        "def add_review(review, label):\n",
        "  if not regex.match(review):\n",
        "    print(regex)\n",
        "    print(review)\n",
        "\n",
        "  groups = regex.match(review).groups()\n",
        "  title, rating, reviewText = groups[0], groups[-3], groups[-1] if groups[-1] else groups[-2]\n",
        "  categories = groups[1:-3]\n",
        "  mixed_reviews.append([title, *categories, rating, label, reviewText])\n",
        "\n",
        "# Add the OG data (which we trained on)\n",
        "for review in np.random.choice(all_texts, NUM_OR*len(prompts), replace=False):\n",
        "  # Parse review and add it to the mixed reviews\n",
        "  add_review(review, 'OR')\n",
        "\n",
        "# Add the CG data\n",
        "for cat_prompts in prompts.values():\n",
        "  for prompt in np.random.choice(cat_prompts['prompt'].values, NUM_CG, replace=False):\n",
        "    # Add rating section to the prompt\n",
        "    rating = str(random.randint(1, 5)) # pick star rating with equal probability\n",
        "    prompt += rating + SPECIAL_TOKENS['sep_token']\n",
        "    \n",
        "    # Generate NUM_RET_SEQS possible reviews\n",
        "    prompt_ids = tokenizer.encode(prompt)\n",
        "    inp = tensor(prompt_ids)[None].cuda()\n",
        "    preds = learn.model.generate(inp, max_length=1024, do_sample=True, top_k=0, top_p=0.92, num_return_sequences=NUM_RET_SEQS, temperature=0.7)\n",
        "\n",
        "    # Pick one and add it to the mixed dataset\n",
        "    idx = random.randrange(NUM_RET_SEQS)\n",
        "    review = tokenizer.decode(preds[idx])\n",
        "\n",
        "    # Parse review and add it to the mixed reviews\n",
        "    add_review(review, 'CG')\n",
        "\n",
        "category_headers = [f'category_{i+1}' for i in range(NUM_CATEGORIES)]\n",
        "mixed_reviews = pd.DataFrame(mixed_reviews, columns=[\"product\", *category_headers, \"rating\", \"label\", \"review\"])\n",
        "mixed_reviews.to_csv(f'BROAD_mixed_reviews_{CODE_VER}.csv', index=None)\n"
      ]
    },
    {
      "cell_type": "code",
      "execution_count": 28,
      "metadata": {
        "id": "UFeniyfj4Kic",
        "colab": {
          "base_uri": "https://localhost:8080/",
          "height": 1000
        },
        "outputId": "ea07c1a0-023e-4139-ef7c-8357b77e5eff"
      },
      "outputs": [
        {
          "output_type": "execute_result",
          "data": {
            "text/plain": [
              "                                                                                                                       product  \\\n",
              "0                                           Salsbury Industries 4615BGE Traditional Mailbox Decorative Horizontal Style, Beige   \n",
              "1                                                           GE MWF SmartWater Compatible Water Filter Cartridge - Refrigerator   \n",
              "2                                                             La Roche-Posay Redermic R Anti-Aging Retinol Serum, 1.01 Fl. Oz.   \n",
              "3                                       Chicago Metallic Professional 12-Cup Non-Stick Mini-Popover Pan, 16-Inch-by-10.75-Inch   \n",
              "4                                                                             RoadPro RP-1179 12V Heavy Duty Metal 2-Speed Fan   \n",
              "5                                                                                <span class=\"a-size-medium a-color-secondary\"   \n",
              "6                                                                                    Bisquick Heart Smart Baking Mix, 40 Ounce   \n",
              "7   Yomega Brain - The YoYo with a Brain Includes Auto Return Technology - Beginner Level String Trick Yo Yo (Colors May Vary)   \n",
              "8                                                                Rain-X 800002243 Yellow Windshield Treatment, 7. Fluid_Ounces   \n",
              "9                                                                         BFP Early-Detection Pregnancy Tests: Pack of 5 Tests   \n",
              "10               Bradley Smoker BTDS108P 990223 Bradley Digital 6 Rack Smoker, 11.50&quot; L x 33&quot; H x 15&quot; W, Silver   \n",
              "11                                                                                                       Greek Tycoon, The VHS   \n",
              "12                                                Scholastic Brain Play 1st - 3rd Grade Compilation; 1st Edition [Old Version]   \n",
              "13                                                           Lady Crystal Double Heart Open Bangles Bracelet for Holiday Party   \n",
              "14                                                                                         Xbox 360 Core Console [Old Version]   \n",
              "15                                                                                                                      Purity   \n",
              "16                                                                               <span class=\"a-size-medium a-color-secondary\"   \n",
              "17                                                                           UNITED STATES HDW/U S HA BM0353 ALM ADJ Flue Stop   \n",
              "18                                                                   Master Lock 8143D Combination Bike Lock, 4 ft Long, Black   \n",
              "19                                                                                   Westinghouse 6659400 Three-Light Bath Bar   \n",
              "\n",
              "                  category_1                     category_2  \\\n",
              "0   Tools & Home Improvement                       Hardware   \n",
              "1                 Appliances            Parts & Accessories   \n",
              "2              Luxury_Beauty                        <|UNK|>   \n",
              "3             Home & Kitchen               Kitchen & Dining   \n",
              "4                 Automotive         RV Parts & Accessories   \n",
              "5     Magazine Subscriptions           Cooking, Food & Wine   \n",
              "6               Prime_Pantry                        <|UNK|>   \n",
              "7               Toys & Games          Sports & Outdoor Play   \n",
              "8                 Automotive                       Car Care   \n",
              "9    Industrial & Scientific  Professional Medical Supplies   \n",
              "10      Patio, Lawn & Garden       Grills & Outdoor Cooking   \n",
              "11               Movies & TV                Studio Specials   \n",
              "12                  Software                     Children's   \n",
              "13                All_Beauty                        <|UNK|>   \n",
              "14               Video Games                       Xbox 360   \n",
              "15             Digital_Music                        <|UNK|>   \n",
              "16    Magazine Subscriptions           Cooking, Food & Wine   \n",
              "17                Appliances            Parts & Accessories   \n",
              "18         Sports & Outdoors             Outdoor Recreation   \n",
              "19  Tools & Home Improvement        Lighting & Ceiling Fans   \n",
              "\n",
              "                                category_3                    category_4  \\\n",
              "0                  Mailboxes & Accessories          Post-Mount Mailboxes   \n",
              "1         Refrigerator Parts & Accessories                 Water Filters   \n",
              "2                                  <|UNK|>                       <|UNK|>   \n",
              "3                                 Bakeware                       <|UNK|>   \n",
              "4   Appliances, Heating, A/C & Ventilation                   Ventilation   \n",
              "5                     Recipes & Techniques                       <|UNK|>   \n",
              "6                                  <|UNK|>                       <|UNK|>   \n",
              "7                                   Yo-yos                       <|UNK|>   \n",
              "8                                  <|UNK|>                       <|UNK|>   \n",
              "9                  Diagnostics & Screening        Laboratory Diagnostics   \n",
              "10                Outdoor Fryers & Smokers                       Smokers   \n",
              "11    Universal Studios Home Entertainment  All Universal Studios Titles   \n",
              "12                                 <|UNK|>                       <|UNK|>   \n",
              "13                                 <|UNK|>                       <|UNK|>   \n",
              "14                                Consoles         </span></span></span>   \n",
              "15                                 <|UNK|>                       <|UNK|>   \n",
              "16                        Wine & Cocktails                       <|UNK|>   \n",
              "17          Dishwasher Parts & Accessories                       <|UNK|>   \n",
              "18                                 Cycling                   Accessories   \n",
              "19                             Wall Lights                 Vanity Lights   \n",
              "\n",
              "                                                                                                             category_5  \\\n",
              "0                                                                                                               <|UNK|>   \n",
              "1                                                                                                               <|UNK|>   \n",
              "2                                                                                                               <|UNK|>   \n",
              "3                                                                                                               <|UNK|>   \n",
              "4                                                                                                               <|UNK|>   \n",
              "5                                                                                                               <|UNK|>   \n",
              "6                                                                                                               <|UNK|>   \n",
              "7                                                                                                               <|UNK|>   \n",
              "8                                                                                                               <|UNK|>   \n",
              "9                                                                                         Clinical Diagnostic Test Kits   \n",
              "10                                                                                                              <|UNK|>   \n",
              "11                                                                                                              <|UNK|>   \n",
              "12                                                                                                              <|UNK|>   \n",
              "13                                                                                                              <|UNK|>   \n",
              "14  All games are in high-definition -- supports 16:9 televisions, 720p, 1080i and 1080p resolutions with anti-aliasing   \n",
              "15                                                                                                              <|UNK|>   \n",
              "16                                                                                                              <|UNK|>   \n",
              "17                                                                                                              <|UNK|>   \n",
              "18                                                                                                           Bike Locks   \n",
              "19                                                                                                              <|UNK|>   \n",
              "\n",
              "   rating label  \\\n",
              "0       5    OR   \n",
              "1       2    OR   \n",
              "2       1    OR   \n",
              "3       4    OR   \n",
              "4       3    OR   \n",
              "5       4    OR   \n",
              "6       4    OR   \n",
              "7       5    OR   \n",
              "8       1    OR   \n",
              "9       4    OR   \n",
              "10      5    OR   \n",
              "11      1    OR   \n",
              "12      4    OR   \n",
              "13      5    OR   \n",
              "14      3    OR   \n",
              "15      1    OR   \n",
              "16      4    OR   \n",
              "17      3    OR   \n",
              "18      3    OR   \n",
              "19      1    OR   \n",
              "\n",
              "                                                                                                                                                                                                                                                                                                                                                                                                                                                                                                                                                                                                                     review  \n",
              "0                                                                                                                                                                                                                                                                                                                                                                                                                                                                                                                                                                                                                 Excellent  \n",
              "1                                                                                                                                                                                                                                                                                                                                                                                                                                                                                                                                                                     It has not preformed nearly as good as the OE filter.  \n",
              "2                                                                                                                                                                                                                                                                                                                                                                                                                                                                                                                                                                    This unfortunately caused major acne  breakouts for me  \n",
              "3                                                                                                                                                                                                                                                                                                                                                                                                                                                                                                                                                                                                                 great buy  \n",
              "4                                                                                                                                                                                   It moves air, it seems to work.  It is a bit noisy. Not noisy in a white noise fan sorta way, but more like a weird harmonic vibration noise like the sound of fighter ships in star wars.  I would have returned it, but decided it was in fact worth the low price paid, and I will find a place for it onboard.  It would probably be fine on the dash or a pillar in a noisy truck, but too noisy to run at night in a quiet cabin.  \n",
              "5                                                                                                                                                                                                                                                                                                                                                                                                                                                                                              WHEN AND WHERE I GET THIS MAGAZINE MY WIFE WILL TELL ME HOW TAUGHTFUL I WAS SO DON'T FAIL SENDING THIS.IT WAS EASY TO ORDER.  \n",
              "6                                                                                                                                                                                                                                                                                                                                                                                                                                                                                                                                                                                                              Great stuff.  \n",
              "7                                                                                                                                                                                                                                                                                                                                                                                                                                                                                                                                                                                                  Great for playing around  \n",
              "8                                                                                                                                                                                                                                                                                                                                                                                                                                                                                                                                                                                                 Failed to work on my boat  \n",
              "9                                                                                                                                                                       This is the most cost effective way to buy pregnancy tests if you are going to be doing them often.  A person who struggles with infertility may find this option very helpful.  This company also makes the ovulation predictor strips.  I did not need to use them before a missed period so I'm not sure if they really work before the end of a cycle. They would also be good for women who need to verify their pregnancy results many times.  \n",
              "10                                                                                                                                                                                                                                                                                                                                                                                                                                                                                                                                                                                        Looks great haven't tried it yet.  \n",
              "11                                                                                                                                                                                                                                                                                                                                                                                                                                                                                                                                          I had never seen the movie before and I was really disappointed but thank you..  \n",
              "12                                                                                                                                                                                                                                                                                                                                                                                                                                                                                                                                                                                                    Must for kids age 4-7  \n",
              "13                                                                                                                                                                                                                                                                                                                                                                                                                                                                                                                                                                                   Light weight, color is nice as well...  \n",
              "14  Gift for my son. Didn't buy the hard drive, etc because he can buy that stuff himself. I DID buy the warranty. My other 2 sons own these and both have had overheating issues.\\n\\nAlso, use a separate, small, plug in fan to help keep the unit cool. Do not buy ANY \"Cooler\" that plugs into the unit.\\n\\nThink about it; You have an electrical item that is overheating. HOW is something you plug INTO THE UNIT THAT IS ALREADY OVERHEATING going to help?  It won't. It will use more power and cause further overheating. This would account for the number of reviews I've read saying that the plug in cool...  \n",
              "15                                                                                                                                                                                                                                                                                                                                                                                                                                                                                                                                               Very disappointed. I thought there would be more than one song on this CD.  \n",
              "16                  Definitely a comprehensive magazine for anyone who enjoys whisky, whether you consider yourself an aficionado or not.  Reviews are always included, and while most of the reviews focus on bottles I consider pricey (or hard to find in the Bible Belt), they do make an effort to include information on cheaper brands and/or batches offered by the big distilleries.  Also works well for our household, as they report on the entire whisky spectrum, including scotch (my favorite) and bourbon (my husband's choice), and everything in between.  4 stars because you only get 4 issues a year!  \n",
              "17                                                                                                                                                                                                                                                                                                                                                                                                                                                                                                                                                     Diameter misrepresented\\nCouldn't get answer\\nStill isn't corrected.  \n",
              "18                                                                                                                                                                                                                                                                                                                                                                                                                                                    It will be cut easily by a pair of scissors! If your bike is expensive definitely don't go for this lock !! Moreover you can adjust the code . It comes with it . Lol  \n",
              "19                                                                                                                                                                                                                                                                                                                                                                                                                       VERY CHEAP!! I ordered two of these for my makeup vanity, and one came completely bent up in one corner. Also, the lights aren't lined up, they are off center and look so bad. Will be returning.  "
            ],
            "text/html": [
              "\n",
              "  <div id=\"df-51aad956-ee0d-4dad-b720-3beb2fa2e625\">\n",
              "    <div class=\"colab-df-container\">\n",
              "      <div>\n",
              "<style scoped>\n",
              "    .dataframe tbody tr th:only-of-type {\n",
              "        vertical-align: middle;\n",
              "    }\n",
              "\n",
              "    .dataframe tbody tr th {\n",
              "        vertical-align: top;\n",
              "    }\n",
              "\n",
              "    .dataframe thead th {\n",
              "        text-align: right;\n",
              "    }\n",
              "</style>\n",
              "<table border=\"1\" class=\"dataframe\">\n",
              "  <thead>\n",
              "    <tr style=\"text-align: right;\">\n",
              "      <th></th>\n",
              "      <th>product</th>\n",
              "      <th>category_1</th>\n",
              "      <th>category_2</th>\n",
              "      <th>category_3</th>\n",
              "      <th>category_4</th>\n",
              "      <th>category_5</th>\n",
              "      <th>rating</th>\n",
              "      <th>label</th>\n",
              "      <th>review</th>\n",
              "    </tr>\n",
              "  </thead>\n",
              "  <tbody>\n",
              "    <tr>\n",
              "      <th>0</th>\n",
              "      <td>Salsbury Industries 4615BGE Traditional Mailbox Decorative Horizontal Style, Beige</td>\n",
              "      <td>Tools &amp; Home Improvement</td>\n",
              "      <td>Hardware</td>\n",
              "      <td>Mailboxes &amp; Accessories</td>\n",
              "      <td>Post-Mount Mailboxes</td>\n",
              "      <td>&lt;|UNK|&gt;</td>\n",
              "      <td>5</td>\n",
              "      <td>OR</td>\n",
              "      <td>Excellent</td>\n",
              "    </tr>\n",
              "    <tr>\n",
              "      <th>1</th>\n",
              "      <td>GE MWF SmartWater Compatible Water Filter Cartridge - Refrigerator</td>\n",
              "      <td>Appliances</td>\n",
              "      <td>Parts &amp; Accessories</td>\n",
              "      <td>Refrigerator Parts &amp; Accessories</td>\n",
              "      <td>Water Filters</td>\n",
              "      <td>&lt;|UNK|&gt;</td>\n",
              "      <td>2</td>\n",
              "      <td>OR</td>\n",
              "      <td>It has not preformed nearly as good as the OE filter.</td>\n",
              "    </tr>\n",
              "    <tr>\n",
              "      <th>2</th>\n",
              "      <td>La Roche-Posay Redermic R Anti-Aging Retinol Serum, 1.01 Fl. Oz.</td>\n",
              "      <td>Luxury_Beauty</td>\n",
              "      <td>&lt;|UNK|&gt;</td>\n",
              "      <td>&lt;|UNK|&gt;</td>\n",
              "      <td>&lt;|UNK|&gt;</td>\n",
              "      <td>&lt;|UNK|&gt;</td>\n",
              "      <td>1</td>\n",
              "      <td>OR</td>\n",
              "      <td>This unfortunately caused major acne  breakouts for me</td>\n",
              "    </tr>\n",
              "    <tr>\n",
              "      <th>3</th>\n",
              "      <td>Chicago Metallic Professional 12-Cup Non-Stick Mini-Popover Pan, 16-Inch-by-10.75-Inch</td>\n",
              "      <td>Home &amp; Kitchen</td>\n",
              "      <td>Kitchen &amp; Dining</td>\n",
              "      <td>Bakeware</td>\n",
              "      <td>&lt;|UNK|&gt;</td>\n",
              "      <td>&lt;|UNK|&gt;</td>\n",
              "      <td>4</td>\n",
              "      <td>OR</td>\n",
              "      <td>great buy</td>\n",
              "    </tr>\n",
              "    <tr>\n",
              "      <th>4</th>\n",
              "      <td>RoadPro RP-1179 12V Heavy Duty Metal 2-Speed Fan</td>\n",
              "      <td>Automotive</td>\n",
              "      <td>RV Parts &amp; Accessories</td>\n",
              "      <td>Appliances, Heating, A/C &amp; Ventilation</td>\n",
              "      <td>Ventilation</td>\n",
              "      <td>&lt;|UNK|&gt;</td>\n",
              "      <td>3</td>\n",
              "      <td>OR</td>\n",
              "      <td>It moves air, it seems to work.  It is a bit noisy. Not noisy in a white noise fan sorta way, but more like a weird harmonic vibration noise like the sound of fighter ships in star wars.  I would have returned it, but decided it was in fact worth the low price paid, and I will find a place for it onboard.  It would probably be fine on the dash or a pillar in a noisy truck, but too noisy to run at night in a quiet cabin.</td>\n",
              "    </tr>\n",
              "    <tr>\n",
              "      <th>5</th>\n",
              "      <td>&lt;span class=\"a-size-medium a-color-secondary\"</td>\n",
              "      <td>Magazine Subscriptions</td>\n",
              "      <td>Cooking, Food &amp; Wine</td>\n",
              "      <td>Recipes &amp; Techniques</td>\n",
              "      <td>&lt;|UNK|&gt;</td>\n",
              "      <td>&lt;|UNK|&gt;</td>\n",
              "      <td>4</td>\n",
              "      <td>OR</td>\n",
              "      <td>WHEN AND WHERE I GET THIS MAGAZINE MY WIFE WILL TELL ME HOW TAUGHTFUL I WAS SO DON'T FAIL SENDING THIS.IT WAS EASY TO ORDER.</td>\n",
              "    </tr>\n",
              "    <tr>\n",
              "      <th>6</th>\n",
              "      <td>Bisquick Heart Smart Baking Mix, 40 Ounce</td>\n",
              "      <td>Prime_Pantry</td>\n",
              "      <td>&lt;|UNK|&gt;</td>\n",
              "      <td>&lt;|UNK|&gt;</td>\n",
              "      <td>&lt;|UNK|&gt;</td>\n",
              "      <td>&lt;|UNK|&gt;</td>\n",
              "      <td>4</td>\n",
              "      <td>OR</td>\n",
              "      <td>Great stuff.</td>\n",
              "    </tr>\n",
              "    <tr>\n",
              "      <th>7</th>\n",
              "      <td>Yomega Brain - The YoYo with a Brain Includes Auto Return Technology - Beginner Level String Trick Yo Yo (Colors May Vary)</td>\n",
              "      <td>Toys &amp; Games</td>\n",
              "      <td>Sports &amp; Outdoor Play</td>\n",
              "      <td>Yo-yos</td>\n",
              "      <td>&lt;|UNK|&gt;</td>\n",
              "      <td>&lt;|UNK|&gt;</td>\n",
              "      <td>5</td>\n",
              "      <td>OR</td>\n",
              "      <td>Great for playing around</td>\n",
              "    </tr>\n",
              "    <tr>\n",
              "      <th>8</th>\n",
              "      <td>Rain-X 800002243 Yellow Windshield Treatment, 7. Fluid_Ounces</td>\n",
              "      <td>Automotive</td>\n",
              "      <td>Car Care</td>\n",
              "      <td>&lt;|UNK|&gt;</td>\n",
              "      <td>&lt;|UNK|&gt;</td>\n",
              "      <td>&lt;|UNK|&gt;</td>\n",
              "      <td>1</td>\n",
              "      <td>OR</td>\n",
              "      <td>Failed to work on my boat</td>\n",
              "    </tr>\n",
              "    <tr>\n",
              "      <th>9</th>\n",
              "      <td>BFP Early-Detection Pregnancy Tests: Pack of 5 Tests</td>\n",
              "      <td>Industrial &amp; Scientific</td>\n",
              "      <td>Professional Medical Supplies</td>\n",
              "      <td>Diagnostics &amp; Screening</td>\n",
              "      <td>Laboratory Diagnostics</td>\n",
              "      <td>Clinical Diagnostic Test Kits</td>\n",
              "      <td>4</td>\n",
              "      <td>OR</td>\n",
              "      <td>This is the most cost effective way to buy pregnancy tests if you are going to be doing them often.  A person who struggles with infertility may find this option very helpful.  This company also makes the ovulation predictor strips.  I did not need to use them before a missed period so I'm not sure if they really work before the end of a cycle. They would also be good for women who need to verify their pregnancy results many times.</td>\n",
              "    </tr>\n",
              "    <tr>\n",
              "      <th>10</th>\n",
              "      <td>Bradley Smoker BTDS108P 990223 Bradley Digital 6 Rack Smoker, 11.50&amp;quot; L x 33&amp;quot; H x 15&amp;quot; W, Silver</td>\n",
              "      <td>Patio, Lawn &amp; Garden</td>\n",
              "      <td>Grills &amp; Outdoor Cooking</td>\n",
              "      <td>Outdoor Fryers &amp; Smokers</td>\n",
              "      <td>Smokers</td>\n",
              "      <td>&lt;|UNK|&gt;</td>\n",
              "      <td>5</td>\n",
              "      <td>OR</td>\n",
              "      <td>Looks great haven't tried it yet.</td>\n",
              "    </tr>\n",
              "    <tr>\n",
              "      <th>11</th>\n",
              "      <td>Greek Tycoon, The VHS</td>\n",
              "      <td>Movies &amp; TV</td>\n",
              "      <td>Studio Specials</td>\n",
              "      <td>Universal Studios Home Entertainment</td>\n",
              "      <td>All Universal Studios Titles</td>\n",
              "      <td>&lt;|UNK|&gt;</td>\n",
              "      <td>1</td>\n",
              "      <td>OR</td>\n",
              "      <td>I had never seen the movie before and I was really disappointed but thank you..</td>\n",
              "    </tr>\n",
              "    <tr>\n",
              "      <th>12</th>\n",
              "      <td>Scholastic Brain Play 1st - 3rd Grade Compilation; 1st Edition [Old Version]</td>\n",
              "      <td>Software</td>\n",
              "      <td>Children's</td>\n",
              "      <td>&lt;|UNK|&gt;</td>\n",
              "      <td>&lt;|UNK|&gt;</td>\n",
              "      <td>&lt;|UNK|&gt;</td>\n",
              "      <td>4</td>\n",
              "      <td>OR</td>\n",
              "      <td>Must for kids age 4-7</td>\n",
              "    </tr>\n",
              "    <tr>\n",
              "      <th>13</th>\n",
              "      <td>Lady Crystal Double Heart Open Bangles Bracelet for Holiday Party</td>\n",
              "      <td>All_Beauty</td>\n",
              "      <td>&lt;|UNK|&gt;</td>\n",
              "      <td>&lt;|UNK|&gt;</td>\n",
              "      <td>&lt;|UNK|&gt;</td>\n",
              "      <td>&lt;|UNK|&gt;</td>\n",
              "      <td>5</td>\n",
              "      <td>OR</td>\n",
              "      <td>Light weight, color is nice as well...</td>\n",
              "    </tr>\n",
              "    <tr>\n",
              "      <th>14</th>\n",
              "      <td>Xbox 360 Core Console [Old Version]</td>\n",
              "      <td>Video Games</td>\n",
              "      <td>Xbox 360</td>\n",
              "      <td>Consoles</td>\n",
              "      <td>&lt;/span&gt;&lt;/span&gt;&lt;/span&gt;</td>\n",
              "      <td>All games are in high-definition -- supports 16:9 televisions, 720p, 1080i and 1080p resolutions with anti-aliasing</td>\n",
              "      <td>3</td>\n",
              "      <td>OR</td>\n",
              "      <td>Gift for my son. Didn't buy the hard drive, etc because he can buy that stuff himself. I DID buy the warranty. My other 2 sons own these and both have had overheating issues.\\n\\nAlso, use a separate, small, plug in fan to help keep the unit cool. Do not buy ANY \"Cooler\" that plugs into the unit.\\n\\nThink about it; You have an electrical item that is overheating. HOW is something you plug INTO THE UNIT THAT IS ALREADY OVERHEATING going to help?  It won't. It will use more power and cause further overheating. This would account for the number of reviews I've read saying that the plug in cool...</td>\n",
              "    </tr>\n",
              "    <tr>\n",
              "      <th>15</th>\n",
              "      <td>Purity</td>\n",
              "      <td>Digital_Music</td>\n",
              "      <td>&lt;|UNK|&gt;</td>\n",
              "      <td>&lt;|UNK|&gt;</td>\n",
              "      <td>&lt;|UNK|&gt;</td>\n",
              "      <td>&lt;|UNK|&gt;</td>\n",
              "      <td>1</td>\n",
              "      <td>OR</td>\n",
              "      <td>Very disappointed. I thought there would be more than one song on this CD.</td>\n",
              "    </tr>\n",
              "    <tr>\n",
              "      <th>16</th>\n",
              "      <td>&lt;span class=\"a-size-medium a-color-secondary\"</td>\n",
              "      <td>Magazine Subscriptions</td>\n",
              "      <td>Cooking, Food &amp; Wine</td>\n",
              "      <td>Wine &amp; Cocktails</td>\n",
              "      <td>&lt;|UNK|&gt;</td>\n",
              "      <td>&lt;|UNK|&gt;</td>\n",
              "      <td>4</td>\n",
              "      <td>OR</td>\n",
              "      <td>Definitely a comprehensive magazine for anyone who enjoys whisky, whether you consider yourself an aficionado or not.  Reviews are always included, and while most of the reviews focus on bottles I consider pricey (or hard to find in the Bible Belt), they do make an effort to include information on cheaper brands and/or batches offered by the big distilleries.  Also works well for our household, as they report on the entire whisky spectrum, including scotch (my favorite) and bourbon (my husband's choice), and everything in between.  4 stars because you only get 4 issues a year!</td>\n",
              "    </tr>\n",
              "    <tr>\n",
              "      <th>17</th>\n",
              "      <td>UNITED STATES HDW/U S HA BM0353 ALM ADJ Flue Stop</td>\n",
              "      <td>Appliances</td>\n",
              "      <td>Parts &amp; Accessories</td>\n",
              "      <td>Dishwasher Parts &amp; Accessories</td>\n",
              "      <td>&lt;|UNK|&gt;</td>\n",
              "      <td>&lt;|UNK|&gt;</td>\n",
              "      <td>3</td>\n",
              "      <td>OR</td>\n",
              "      <td>Diameter misrepresented\\nCouldn't get answer\\nStill isn't corrected.</td>\n",
              "    </tr>\n",
              "    <tr>\n",
              "      <th>18</th>\n",
              "      <td>Master Lock 8143D Combination Bike Lock, 4 ft Long, Black</td>\n",
              "      <td>Sports &amp; Outdoors</td>\n",
              "      <td>Outdoor Recreation</td>\n",
              "      <td>Cycling</td>\n",
              "      <td>Accessories</td>\n",
              "      <td>Bike Locks</td>\n",
              "      <td>3</td>\n",
              "      <td>OR</td>\n",
              "      <td>It will be cut easily by a pair of scissors! If your bike is expensive definitely don't go for this lock !! Moreover you can adjust the code . It comes with it . Lol</td>\n",
              "    </tr>\n",
              "    <tr>\n",
              "      <th>19</th>\n",
              "      <td>Westinghouse 6659400 Three-Light Bath Bar</td>\n",
              "      <td>Tools &amp; Home Improvement</td>\n",
              "      <td>Lighting &amp; Ceiling Fans</td>\n",
              "      <td>Wall Lights</td>\n",
              "      <td>Vanity Lights</td>\n",
              "      <td>&lt;|UNK|&gt;</td>\n",
              "      <td>1</td>\n",
              "      <td>OR</td>\n",
              "      <td>VERY CHEAP!! I ordered two of these for my makeup vanity, and one came completely bent up in one corner. Also, the lights aren't lined up, they are off center and look so bad. Will be returning.</td>\n",
              "    </tr>\n",
              "  </tbody>\n",
              "</table>\n",
              "</div>\n",
              "      <button class=\"colab-df-convert\" onclick=\"convertToInteractive('df-51aad956-ee0d-4dad-b720-3beb2fa2e625')\"\n",
              "              title=\"Convert this dataframe to an interactive table.\"\n",
              "              style=\"display:none;\">\n",
              "        \n",
              "  <svg xmlns=\"http://www.w3.org/2000/svg\" height=\"24px\"viewBox=\"0 0 24 24\"\n",
              "       width=\"24px\">\n",
              "    <path d=\"M0 0h24v24H0V0z\" fill=\"none\"/>\n",
              "    <path d=\"M18.56 5.44l.94 2.06.94-2.06 2.06-.94-2.06-.94-.94-2.06-.94 2.06-2.06.94zm-11 1L8.5 8.5l.94-2.06 2.06-.94-2.06-.94L8.5 2.5l-.94 2.06-2.06.94zm10 10l.94 2.06.94-2.06 2.06-.94-2.06-.94-.94-2.06-.94 2.06-2.06.94z\"/><path d=\"M17.41 7.96l-1.37-1.37c-.4-.4-.92-.59-1.43-.59-.52 0-1.04.2-1.43.59L10.3 9.45l-7.72 7.72c-.78.78-.78 2.05 0 2.83L4 21.41c.39.39.9.59 1.41.59.51 0 1.02-.2 1.41-.59l7.78-7.78 2.81-2.81c.8-.78.8-2.07 0-2.86zM5.41 20L4 18.59l7.72-7.72 1.47 1.35L5.41 20z\"/>\n",
              "  </svg>\n",
              "      </button>\n",
              "      \n",
              "  <style>\n",
              "    .colab-df-container {\n",
              "      display:flex;\n",
              "      flex-wrap:wrap;\n",
              "      gap: 12px;\n",
              "    }\n",
              "\n",
              "    .colab-df-convert {\n",
              "      background-color: #E8F0FE;\n",
              "      border: none;\n",
              "      border-radius: 50%;\n",
              "      cursor: pointer;\n",
              "      display: none;\n",
              "      fill: #1967D2;\n",
              "      height: 32px;\n",
              "      padding: 0 0 0 0;\n",
              "      width: 32px;\n",
              "    }\n",
              "\n",
              "    .colab-df-convert:hover {\n",
              "      background-color: #E2EBFA;\n",
              "      box-shadow: 0px 1px 2px rgba(60, 64, 67, 0.3), 0px 1px 3px 1px rgba(60, 64, 67, 0.15);\n",
              "      fill: #174EA6;\n",
              "    }\n",
              "\n",
              "    [theme=dark] .colab-df-convert {\n",
              "      background-color: #3B4455;\n",
              "      fill: #D2E3FC;\n",
              "    }\n",
              "\n",
              "    [theme=dark] .colab-df-convert:hover {\n",
              "      background-color: #434B5C;\n",
              "      box-shadow: 0px 1px 3px 1px rgba(0, 0, 0, 0.15);\n",
              "      filter: drop-shadow(0px 1px 2px rgba(0, 0, 0, 0.3));\n",
              "      fill: #FFFFFF;\n",
              "    }\n",
              "  </style>\n",
              "\n",
              "      <script>\n",
              "        const buttonEl =\n",
              "          document.querySelector('#df-51aad956-ee0d-4dad-b720-3beb2fa2e625 button.colab-df-convert');\n",
              "        buttonEl.style.display =\n",
              "          google.colab.kernel.accessAllowed ? 'block' : 'none';\n",
              "\n",
              "        async function convertToInteractive(key) {\n",
              "          const element = document.querySelector('#df-51aad956-ee0d-4dad-b720-3beb2fa2e625');\n",
              "          const dataTable =\n",
              "            await google.colab.kernel.invokeFunction('convertToInteractive',\n",
              "                                                     [key], {});\n",
              "          if (!dataTable) return;\n",
              "\n",
              "          const docLinkHtml = 'Like what you see? Visit the ' +\n",
              "            '<a target=\"_blank\" href=https://colab.research.google.com/notebooks/data_table.ipynb>data table notebook</a>'\n",
              "            + ' to learn more about interactive tables.';\n",
              "          element.innerHTML = '';\n",
              "          dataTable['output_type'] = 'display_data';\n",
              "          await google.colab.output.renderOutput(dataTable, element);\n",
              "          const docLink = document.createElement('div');\n",
              "          docLink.innerHTML = docLinkHtml;\n",
              "          element.appendChild(docLink);\n",
              "        }\n",
              "      </script>\n",
              "    </div>\n",
              "  </div>\n",
              "  "
            ]
          },
          "metadata": {},
          "execution_count": 28
        }
      ],
      "source": [
        "mixed_reviews.head(20)"
      ]
    },
    {
      "cell_type": "markdown",
      "metadata": {
        "id": "n-3OdJO6U5Ih"
      },
      "source": [
        "# Misc"
      ]
    },
    {
      "cell_type": "markdown",
      "metadata": {
        "id": "x7mMoPpourLY"
      },
      "source": [
        "## Find out what GPU is being used"
      ]
    },
    {
      "cell_type": "markdown",
      "metadata": {
        "id": "cu47axCxuuO2"
      },
      "source": [
        "GPU | Time to fine tune\n",
        "-|-\n",
        "T4 | 20  \n",
        "K80 | 85"
      ]
    },
    {
      "cell_type": "code",
      "execution_count": 1,
      "metadata": {
        "colab": {
          "base_uri": "https://localhost:8080/"
        },
        "id": "tnbOnwHxU4Ci",
        "outputId": "bae4fb39-419d-4de6-db2f-7a206d9f59c2"
      },
      "outputs": [
        {
          "output_type": "stream",
          "name": "stdout",
          "text": [
            "Sun Mar 27 06:42:36 2022       \n",
            "+-----------------------------------------------------------------------------+\n",
            "| NVIDIA-SMI 460.32.03    Driver Version: 460.32.03    CUDA Version: 11.2     |\n",
            "|-------------------------------+----------------------+----------------------+\n",
            "| GPU  Name        Persistence-M| Bus-Id        Disp.A | Volatile Uncorr. ECC |\n",
            "| Fan  Temp  Perf  Pwr:Usage/Cap|         Memory-Usage | GPU-Util  Compute M. |\n",
            "|                               |                      |               MIG M. |\n",
            "|===============================+======================+======================|\n",
            "|   0  Tesla P100-PCIE...  Off  | 00000000:00:04.0 Off |                    0 |\n",
            "| N/A   39C    P0    26W / 250W |      0MiB / 16280MiB |      0%      Default |\n",
            "|                               |                      |                  N/A |\n",
            "+-------------------------------+----------------------+----------------------+\n",
            "                                                                               \n",
            "+-----------------------------------------------------------------------------+\n",
            "| Processes:                                                                  |\n",
            "|  GPU   GI   CI        PID   Type   Process name                  GPU Memory |\n",
            "|        ID   ID                                                   Usage      |\n",
            "|=============================================================================|\n",
            "|  No running processes found                                                 |\n",
            "+-----------------------------------------------------------------------------+\n"
          ]
        }
      ],
      "source": [
        "!nvidia-smi"
      ]
    }
  ],
  "metadata": {
    "accelerator": "GPU",
    "colab": {
      "collapsed_sections": [
        "4mFK5nFMExRZ",
        "Ow2m2CPIE36y",
        "MTLMgTtjE5rp",
        "G9YITzYdE_4w",
        "1zLmXNMhCpjh",
        "h_B_jZnnCtnI",
        "rJarazPPCzLa",
        "01Qgap8Cjimy",
        "qGuDmhzKlMYo",
        "B6Z_kEIBWnmf"
      ],
      "name": " GPT2_Broad_Fine_Tuning.ipynb",
      "provenance": [],
      "history_visible": true,
      "authorship_tag": "ABX9TyMS3QKtcFFbUXoH8vrRSvyH",
      "include_colab_link": true
    },
    "kernelspec": {
      "display_name": "Python 3",
      "name": "python3"
    },
    "language_info": {
      "name": "python"
    },
    "widgets": {
      "application/vnd.jupyter.widget-state+json": {
        "106fbc70b7a14b4b92566f13a008b01a": {
          "model_module": "@jupyter-widgets/controls",
          "model_name": "HBoxModel",
          "model_module_version": "1.5.0",
          "state": {
            "_dom_classes": [],
            "_model_module": "@jupyter-widgets/controls",
            "_model_module_version": "1.5.0",
            "_model_name": "HBoxModel",
            "_view_count": null,
            "_view_module": "@jupyter-widgets/controls",
            "_view_module_version": "1.5.0",
            "_view_name": "HBoxView",
            "box_style": "",
            "children": [
              "IPY_MODEL_e9b9e8ca6a5d45a29217452bd2ea2508",
              "IPY_MODEL_9c66887a01e045239633b62652b00759",
              "IPY_MODEL_b68e4e669388437f85d89050e1ad896c"
            ],
            "layout": "IPY_MODEL_85a871fedff745468b748b6e3fc16d90"
          }
        },
        "e9b9e8ca6a5d45a29217452bd2ea2508": {
          "model_module": "@jupyter-widgets/controls",
          "model_name": "HTMLModel",
          "model_module_version": "1.5.0",
          "state": {
            "_dom_classes": [],
            "_model_module": "@jupyter-widgets/controls",
            "_model_module_version": "1.5.0",
            "_model_name": "HTMLModel",
            "_view_count": null,
            "_view_module": "@jupyter-widgets/controls",
            "_view_module_version": "1.5.0",
            "_view_name": "HTMLView",
            "description": "",
            "description_tooltip": null,
            "layout": "IPY_MODEL_705228771ff145b29dc2245bd3f59353",
            "placeholder": "​",
            "style": "IPY_MODEL_2d0c7788da8e494190a170b4fbea1e16",
            "value": "Downloading: 100%"
          }
        },
        "9c66887a01e045239633b62652b00759": {
          "model_module": "@jupyter-widgets/controls",
          "model_name": "FloatProgressModel",
          "model_module_version": "1.5.0",
          "state": {
            "_dom_classes": [],
            "_model_module": "@jupyter-widgets/controls",
            "_model_module_version": "1.5.0",
            "_model_name": "FloatProgressModel",
            "_view_count": null,
            "_view_module": "@jupyter-widgets/controls",
            "_view_module_version": "1.5.0",
            "_view_name": "ProgressView",
            "bar_style": "success",
            "description": "",
            "description_tooltip": null,
            "layout": "IPY_MODEL_67a0863cbb214789862e27349742ce24",
            "max": 665,
            "min": 0,
            "orientation": "horizontal",
            "style": "IPY_MODEL_77546005672f4430a633204c482199bc",
            "value": 665
          }
        },
        "bf7f7dbfd9df441aadafbb01d321a100": {
          "model_module": "@jupyter-widgets/controls",
          "model_name": "HBoxModel",
          "model_module_version": "1.5.0",
          "state": {
            "_dom_classes": [],
            "_model_module": "@jupyter-widgets/controls",
            "_model_module_version": "1.5.0",
            "_model_name": "HBoxModel",
            "_view_count": null,
            "_view_module": "@jupyter-widgets/controls",
            "_view_module_version": "1.5.0",
            "_view_name": "HBoxView",
            "box_style": "",
            "children": [
              "IPY_MODEL_ad84c611fa5f474494ae86e81ccf4b02",
              "IPY_MODEL_a672e7611cdf4c00891aa1c083192e2c",
              "IPY_MODEL_3449297f6bfb423f82db2452f76de66c"
            ],
            "layout": "IPY_MODEL_a5cfa9c48e62479298b04ba83917764c"
          }
        },
        "b68e4e669388437f85d89050e1ad896c": {
          "model_module": "@jupyter-widgets/controls",
          "model_name": "HTMLModel",
          "model_module_version": "1.5.0",
          "state": {
            "_dom_classes": [],
            "_model_module": "@jupyter-widgets/controls",
            "_model_module_version": "1.5.0",
            "_model_name": "HTMLModel",
            "_view_count": null,
            "_view_module": "@jupyter-widgets/controls",
            "_view_module_version": "1.5.0",
            "_view_name": "HTMLView",
            "description": "",
            "description_tooltip": null,
            "layout": "IPY_MODEL_fb9dabba7ff64681bcc079639028c9e9",
            "placeholder": "​",
            "style": "IPY_MODEL_9800f21614854ffa8b9000a4059ebae6",
            "value": " 665/665 [00:00&lt;00:00, 28.7kB/s]"
          }
        },
        "85a871fedff745468b748b6e3fc16d90": {
          "model_module": "@jupyter-widgets/base",
          "model_name": "LayoutModel",
          "model_module_version": "1.2.0",
          "state": {
            "_model_module": "@jupyter-widgets/base",
            "_model_module_version": "1.2.0",
            "_model_name": "LayoutModel",
            "_view_count": null,
            "_view_module": "@jupyter-widgets/base",
            "_view_module_version": "1.2.0",
            "_view_name": "LayoutView",
            "align_content": null,
            "align_items": null,
            "align_self": null,
            "border": null,
            "bottom": null,
            "display": null,
            "flex": null,
            "flex_flow": null,
            "grid_area": null,
            "grid_auto_columns": null,
            "grid_auto_flow": null,
            "grid_auto_rows": null,
            "grid_column": null,
            "grid_gap": null,
            "grid_row": null,
            "grid_template_areas": null,
            "grid_template_columns": null,
            "grid_template_rows": null,
            "height": null,
            "justify_content": null,
            "justify_items": null,
            "left": null,
            "margin": null,
            "max_height": null,
            "max_width": null,
            "min_height": null,
            "min_width": null,
            "object_fit": null,
            "object_position": null,
            "order": null,
            "overflow": null,
            "overflow_x": null,
            "overflow_y": null,
            "padding": null,
            "right": null,
            "top": null,
            "visibility": null,
            "width": null
          }
        },
        "705228771ff145b29dc2245bd3f59353": {
          "model_module": "@jupyter-widgets/base",
          "model_name": "LayoutModel",
          "model_module_version": "1.2.0",
          "state": {
            "_model_module": "@jupyter-widgets/base",
            "_model_module_version": "1.2.0",
            "_model_name": "LayoutModel",
            "_view_count": null,
            "_view_module": "@jupyter-widgets/base",
            "_view_module_version": "1.2.0",
            "_view_name": "LayoutView",
            "align_content": null,
            "align_items": null,
            "align_self": null,
            "border": null,
            "bottom": null,
            "display": null,
            "flex": null,
            "flex_flow": null,
            "grid_area": null,
            "grid_auto_columns": null,
            "grid_auto_flow": null,
            "grid_auto_rows": null,
            "grid_column": null,
            "grid_gap": null,
            "grid_row": null,
            "grid_template_areas": null,
            "grid_template_columns": null,
            "grid_template_rows": null,
            "height": null,
            "justify_content": null,
            "justify_items": null,
            "left": null,
            "margin": null,
            "max_height": null,
            "max_width": null,
            "min_height": null,
            "min_width": null,
            "object_fit": null,
            "object_position": null,
            "order": null,
            "overflow": null,
            "overflow_x": null,
            "overflow_y": null,
            "padding": null,
            "right": null,
            "top": null,
            "visibility": null,
            "width": null
          }
        },
        "2d0c7788da8e494190a170b4fbea1e16": {
          "model_module": "@jupyter-widgets/controls",
          "model_name": "DescriptionStyleModel",
          "model_module_version": "1.5.0",
          "state": {
            "_model_module": "@jupyter-widgets/controls",
            "_model_module_version": "1.5.0",
            "_model_name": "DescriptionStyleModel",
            "_view_count": null,
            "_view_module": "@jupyter-widgets/base",
            "_view_module_version": "1.2.0",
            "_view_name": "StyleView",
            "description_width": ""
          }
        },
        "67a0863cbb214789862e27349742ce24": {
          "model_module": "@jupyter-widgets/base",
          "model_name": "LayoutModel",
          "model_module_version": "1.2.0",
          "state": {
            "_model_module": "@jupyter-widgets/base",
            "_model_module_version": "1.2.0",
            "_model_name": "LayoutModel",
            "_view_count": null,
            "_view_module": "@jupyter-widgets/base",
            "_view_module_version": "1.2.0",
            "_view_name": "LayoutView",
            "align_content": null,
            "align_items": null,
            "align_self": null,
            "border": null,
            "bottom": null,
            "display": null,
            "flex": null,
            "flex_flow": null,
            "grid_area": null,
            "grid_auto_columns": null,
            "grid_auto_flow": null,
            "grid_auto_rows": null,
            "grid_column": null,
            "grid_gap": null,
            "grid_row": null,
            "grid_template_areas": null,
            "grid_template_columns": null,
            "grid_template_rows": null,
            "height": null,
            "justify_content": null,
            "justify_items": null,
            "left": null,
            "margin": null,
            "max_height": null,
            "max_width": null,
            "min_height": null,
            "min_width": null,
            "object_fit": null,
            "object_position": null,
            "order": null,
            "overflow": null,
            "overflow_x": null,
            "overflow_y": null,
            "padding": null,
            "right": null,
            "top": null,
            "visibility": null,
            "width": null
          }
        },
        "77546005672f4430a633204c482199bc": {
          "model_module": "@jupyter-widgets/controls",
          "model_name": "ProgressStyleModel",
          "model_module_version": "1.5.0",
          "state": {
            "_model_module": "@jupyter-widgets/controls",
            "_model_module_version": "1.5.0",
            "_model_name": "ProgressStyleModel",
            "_view_count": null,
            "_view_module": "@jupyter-widgets/base",
            "_view_module_version": "1.2.0",
            "_view_name": "StyleView",
            "bar_color": null,
            "description_width": ""
          }
        },
        "fb9dabba7ff64681bcc079639028c9e9": {
          "model_module": "@jupyter-widgets/base",
          "model_name": "LayoutModel",
          "model_module_version": "1.2.0",
          "state": {
            "_model_module": "@jupyter-widgets/base",
            "_model_module_version": "1.2.0",
            "_model_name": "LayoutModel",
            "_view_count": null,
            "_view_module": "@jupyter-widgets/base",
            "_view_module_version": "1.2.0",
            "_view_name": "LayoutView",
            "align_content": null,
            "align_items": null,
            "align_self": null,
            "border": null,
            "bottom": null,
            "display": null,
            "flex": null,
            "flex_flow": null,
            "grid_area": null,
            "grid_auto_columns": null,
            "grid_auto_flow": null,
            "grid_auto_rows": null,
            "grid_column": null,
            "grid_gap": null,
            "grid_row": null,
            "grid_template_areas": null,
            "grid_template_columns": null,
            "grid_template_rows": null,
            "height": null,
            "justify_content": null,
            "justify_items": null,
            "left": null,
            "margin": null,
            "max_height": null,
            "max_width": null,
            "min_height": null,
            "min_width": null,
            "object_fit": null,
            "object_position": null,
            "order": null,
            "overflow": null,
            "overflow_x": null,
            "overflow_y": null,
            "padding": null,
            "right": null,
            "top": null,
            "visibility": null,
            "width": null
          }
        },
        "9800f21614854ffa8b9000a4059ebae6": {
          "model_module": "@jupyter-widgets/controls",
          "model_name": "DescriptionStyleModel",
          "model_module_version": "1.5.0",
          "state": {
            "_model_module": "@jupyter-widgets/controls",
            "_model_module_version": "1.5.0",
            "_model_name": "DescriptionStyleModel",
            "_view_count": null,
            "_view_module": "@jupyter-widgets/base",
            "_view_module_version": "1.2.0",
            "_view_name": "StyleView",
            "description_width": ""
          }
        },
        "ad84c611fa5f474494ae86e81ccf4b02": {
          "model_module": "@jupyter-widgets/controls",
          "model_name": "HTMLModel",
          "model_module_version": "1.5.0",
          "state": {
            "_dom_classes": [],
            "_model_module": "@jupyter-widgets/controls",
            "_model_module_version": "1.5.0",
            "_model_name": "HTMLModel",
            "_view_count": null,
            "_view_module": "@jupyter-widgets/controls",
            "_view_module_version": "1.5.0",
            "_view_name": "HTMLView",
            "description": "",
            "description_tooltip": null,
            "layout": "IPY_MODEL_ebdbbdcfc75141aeb1ad0cb16d662236",
            "placeholder": "​",
            "style": "IPY_MODEL_32142511c1af47db9951bb8d8d538555",
            "value": "Downloading: 100%"
          }
        },
        "a672e7611cdf4c00891aa1c083192e2c": {
          "model_module": "@jupyter-widgets/controls",
          "model_name": "FloatProgressModel",
          "model_module_version": "1.5.0",
          "state": {
            "_dom_classes": [],
            "_model_module": "@jupyter-widgets/controls",
            "_model_module_version": "1.5.0",
            "_model_name": "FloatProgressModel",
            "_view_count": null,
            "_view_module": "@jupyter-widgets/controls",
            "_view_module_version": "1.5.0",
            "_view_name": "ProgressView",
            "bar_style": "success",
            "description": "",
            "description_tooltip": null,
            "layout": "IPY_MODEL_85f5bb855bb54cd98b241b977fe98d2f",
            "max": 1042301,
            "min": 0,
            "orientation": "horizontal",
            "style": "IPY_MODEL_7b8e2b81dea74dfca89613050bd9424e",
            "value": 1042301
          }
        },
        "3449297f6bfb423f82db2452f76de66c": {
          "model_module": "@jupyter-widgets/controls",
          "model_name": "HTMLModel",
          "model_module_version": "1.5.0",
          "state": {
            "_dom_classes": [],
            "_model_module": "@jupyter-widgets/controls",
            "_model_module_version": "1.5.0",
            "_model_name": "HTMLModel",
            "_view_count": null,
            "_view_module": "@jupyter-widgets/controls",
            "_view_module_version": "1.5.0",
            "_view_name": "HTMLView",
            "description": "",
            "description_tooltip": null,
            "layout": "IPY_MODEL_a874453b29cd4c30bfe5755d3ab170dc",
            "placeholder": "​",
            "style": "IPY_MODEL_ec0a66b1ef94485aa41aed654c1fd063",
            "value": " 0.99M/0.99M [00:00&lt;00:00, 2.89MB/s]"
          }
        },
        "a5cfa9c48e62479298b04ba83917764c": {
          "model_module": "@jupyter-widgets/base",
          "model_name": "LayoutModel",
          "model_module_version": "1.2.0",
          "state": {
            "_model_module": "@jupyter-widgets/base",
            "_model_module_version": "1.2.0",
            "_model_name": "LayoutModel",
            "_view_count": null,
            "_view_module": "@jupyter-widgets/base",
            "_view_module_version": "1.2.0",
            "_view_name": "LayoutView",
            "align_content": null,
            "align_items": null,
            "align_self": null,
            "border": null,
            "bottom": null,
            "display": null,
            "flex": null,
            "flex_flow": null,
            "grid_area": null,
            "grid_auto_columns": null,
            "grid_auto_flow": null,
            "grid_auto_rows": null,
            "grid_column": null,
            "grid_gap": null,
            "grid_row": null,
            "grid_template_areas": null,
            "grid_template_columns": null,
            "grid_template_rows": null,
            "height": null,
            "justify_content": null,
            "justify_items": null,
            "left": null,
            "margin": null,
            "max_height": null,
            "max_width": null,
            "min_height": null,
            "min_width": null,
            "object_fit": null,
            "object_position": null,
            "order": null,
            "overflow": null,
            "overflow_x": null,
            "overflow_y": null,
            "padding": null,
            "right": null,
            "top": null,
            "visibility": null,
            "width": null
          }
        },
        "ebdbbdcfc75141aeb1ad0cb16d662236": {
          "model_module": "@jupyter-widgets/base",
          "model_name": "LayoutModel",
          "model_module_version": "1.2.0",
          "state": {
            "_model_module": "@jupyter-widgets/base",
            "_model_module_version": "1.2.0",
            "_model_name": "LayoutModel",
            "_view_count": null,
            "_view_module": "@jupyter-widgets/base",
            "_view_module_version": "1.2.0",
            "_view_name": "LayoutView",
            "align_content": null,
            "align_items": null,
            "align_self": null,
            "border": null,
            "bottom": null,
            "display": null,
            "flex": null,
            "flex_flow": null,
            "grid_area": null,
            "grid_auto_columns": null,
            "grid_auto_flow": null,
            "grid_auto_rows": null,
            "grid_column": null,
            "grid_gap": null,
            "grid_row": null,
            "grid_template_areas": null,
            "grid_template_columns": null,
            "grid_template_rows": null,
            "height": null,
            "justify_content": null,
            "justify_items": null,
            "left": null,
            "margin": null,
            "max_height": null,
            "max_width": null,
            "min_height": null,
            "min_width": null,
            "object_fit": null,
            "object_position": null,
            "order": null,
            "overflow": null,
            "overflow_x": null,
            "overflow_y": null,
            "padding": null,
            "right": null,
            "top": null,
            "visibility": null,
            "width": null
          }
        },
        "32142511c1af47db9951bb8d8d538555": {
          "model_module": "@jupyter-widgets/controls",
          "model_name": "DescriptionStyleModel",
          "model_module_version": "1.5.0",
          "state": {
            "_model_module": "@jupyter-widgets/controls",
            "_model_module_version": "1.5.0",
            "_model_name": "DescriptionStyleModel",
            "_view_count": null,
            "_view_module": "@jupyter-widgets/base",
            "_view_module_version": "1.2.0",
            "_view_name": "StyleView",
            "description_width": ""
          }
        },
        "85f5bb855bb54cd98b241b977fe98d2f": {
          "model_module": "@jupyter-widgets/base",
          "model_name": "LayoutModel",
          "model_module_version": "1.2.0",
          "state": {
            "_model_module": "@jupyter-widgets/base",
            "_model_module_version": "1.2.0",
            "_model_name": "LayoutModel",
            "_view_count": null,
            "_view_module": "@jupyter-widgets/base",
            "_view_module_version": "1.2.0",
            "_view_name": "LayoutView",
            "align_content": null,
            "align_items": null,
            "align_self": null,
            "border": null,
            "bottom": null,
            "display": null,
            "flex": null,
            "flex_flow": null,
            "grid_area": null,
            "grid_auto_columns": null,
            "grid_auto_flow": null,
            "grid_auto_rows": null,
            "grid_column": null,
            "grid_gap": null,
            "grid_row": null,
            "grid_template_areas": null,
            "grid_template_columns": null,
            "grid_template_rows": null,
            "height": null,
            "justify_content": null,
            "justify_items": null,
            "left": null,
            "margin": null,
            "max_height": null,
            "max_width": null,
            "min_height": null,
            "min_width": null,
            "object_fit": null,
            "object_position": null,
            "order": null,
            "overflow": null,
            "overflow_x": null,
            "overflow_y": null,
            "padding": null,
            "right": null,
            "top": null,
            "visibility": null,
            "width": null
          }
        },
        "7b8e2b81dea74dfca89613050bd9424e": {
          "model_module": "@jupyter-widgets/controls",
          "model_name": "ProgressStyleModel",
          "model_module_version": "1.5.0",
          "state": {
            "_model_module": "@jupyter-widgets/controls",
            "_model_module_version": "1.5.0",
            "_model_name": "ProgressStyleModel",
            "_view_count": null,
            "_view_module": "@jupyter-widgets/base",
            "_view_module_version": "1.2.0",
            "_view_name": "StyleView",
            "bar_color": null,
            "description_width": ""
          }
        },
        "a874453b29cd4c30bfe5755d3ab170dc": {
          "model_module": "@jupyter-widgets/base",
          "model_name": "LayoutModel",
          "model_module_version": "1.2.0",
          "state": {
            "_model_module": "@jupyter-widgets/base",
            "_model_module_version": "1.2.0",
            "_model_name": "LayoutModel",
            "_view_count": null,
            "_view_module": "@jupyter-widgets/base",
            "_view_module_version": "1.2.0",
            "_view_name": "LayoutView",
            "align_content": null,
            "align_items": null,
            "align_self": null,
            "border": null,
            "bottom": null,
            "display": null,
            "flex": null,
            "flex_flow": null,
            "grid_area": null,
            "grid_auto_columns": null,
            "grid_auto_flow": null,
            "grid_auto_rows": null,
            "grid_column": null,
            "grid_gap": null,
            "grid_row": null,
            "grid_template_areas": null,
            "grid_template_columns": null,
            "grid_template_rows": null,
            "height": null,
            "justify_content": null,
            "justify_items": null,
            "left": null,
            "margin": null,
            "max_height": null,
            "max_width": null,
            "min_height": null,
            "min_width": null,
            "object_fit": null,
            "object_position": null,
            "order": null,
            "overflow": null,
            "overflow_x": null,
            "overflow_y": null,
            "padding": null,
            "right": null,
            "top": null,
            "visibility": null,
            "width": null
          }
        },
        "ec0a66b1ef94485aa41aed654c1fd063": {
          "model_module": "@jupyter-widgets/controls",
          "model_name": "DescriptionStyleModel",
          "model_module_version": "1.5.0",
          "state": {
            "_model_module": "@jupyter-widgets/controls",
            "_model_module_version": "1.5.0",
            "_model_name": "DescriptionStyleModel",
            "_view_count": null,
            "_view_module": "@jupyter-widgets/base",
            "_view_module_version": "1.2.0",
            "_view_name": "StyleView",
            "description_width": ""
          }
        },
        "256c3a943bdb440593dee3efcbccb6ea": {
          "model_module": "@jupyter-widgets/controls",
          "model_name": "HBoxModel",
          "model_module_version": "1.5.0",
          "state": {
            "_dom_classes": [],
            "_model_module": "@jupyter-widgets/controls",
            "_model_module_version": "1.5.0",
            "_model_name": "HBoxModel",
            "_view_count": null,
            "_view_module": "@jupyter-widgets/controls",
            "_view_module_version": "1.5.0",
            "_view_name": "HBoxView",
            "box_style": "",
            "children": [
              "IPY_MODEL_c27dc00447b8496394974de4c5d481f8",
              "IPY_MODEL_78944692bebb41dd8f3363dbfb69e2a2",
              "IPY_MODEL_912e2205f015417294ceb2398c055597"
            ],
            "layout": "IPY_MODEL_30c88659423f4d8e8573c85b00e4895c"
          }
        },
        "c27dc00447b8496394974de4c5d481f8": {
          "model_module": "@jupyter-widgets/controls",
          "model_name": "HTMLModel",
          "model_module_version": "1.5.0",
          "state": {
            "_dom_classes": [],
            "_model_module": "@jupyter-widgets/controls",
            "_model_module_version": "1.5.0",
            "_model_name": "HTMLModel",
            "_view_count": null,
            "_view_module": "@jupyter-widgets/controls",
            "_view_module_version": "1.5.0",
            "_view_name": "HTMLView",
            "description": "",
            "description_tooltip": null,
            "layout": "IPY_MODEL_f399dbc6fe234af59c4b21e26181befa",
            "placeholder": "​",
            "style": "IPY_MODEL_08ed91a46fd643d0a38764269d4b6382",
            "value": "Downloading: 100%"
          }
        },
        "78944692bebb41dd8f3363dbfb69e2a2": {
          "model_module": "@jupyter-widgets/controls",
          "model_name": "FloatProgressModel",
          "model_module_version": "1.5.0",
          "state": {
            "_dom_classes": [],
            "_model_module": "@jupyter-widgets/controls",
            "_model_module_version": "1.5.0",
            "_model_name": "FloatProgressModel",
            "_view_count": null,
            "_view_module": "@jupyter-widgets/controls",
            "_view_module_version": "1.5.0",
            "_view_name": "ProgressView",
            "bar_style": "success",
            "description": "",
            "description_tooltip": null,
            "layout": "IPY_MODEL_7280aae01d5d4b8a89449ea7db16eaca",
            "max": 456318,
            "min": 0,
            "orientation": "horizontal",
            "style": "IPY_MODEL_57e7dbe54c8b40208d601fa0f535e0cd",
            "value": 456318
          }
        },
        "912e2205f015417294ceb2398c055597": {
          "model_module": "@jupyter-widgets/controls",
          "model_name": "HTMLModel",
          "model_module_version": "1.5.0",
          "state": {
            "_dom_classes": [],
            "_model_module": "@jupyter-widgets/controls",
            "_model_module_version": "1.5.0",
            "_model_name": "HTMLModel",
            "_view_count": null,
            "_view_module": "@jupyter-widgets/controls",
            "_view_module_version": "1.5.0",
            "_view_name": "HTMLView",
            "description": "",
            "description_tooltip": null,
            "layout": "IPY_MODEL_16fbfc0e4ee646a8878e38d621210b41",
            "placeholder": "​",
            "style": "IPY_MODEL_641ba07d9b2e46d5b2edb13ec19a8ddc",
            "value": " 446k/446k [00:00&lt;00:00, 849kB/s]"
          }
        },
        "30c88659423f4d8e8573c85b00e4895c": {
          "model_module": "@jupyter-widgets/base",
          "model_name": "LayoutModel",
          "model_module_version": "1.2.0",
          "state": {
            "_model_module": "@jupyter-widgets/base",
            "_model_module_version": "1.2.0",
            "_model_name": "LayoutModel",
            "_view_count": null,
            "_view_module": "@jupyter-widgets/base",
            "_view_module_version": "1.2.0",
            "_view_name": "LayoutView",
            "align_content": null,
            "align_items": null,
            "align_self": null,
            "border": null,
            "bottom": null,
            "display": null,
            "flex": null,
            "flex_flow": null,
            "grid_area": null,
            "grid_auto_columns": null,
            "grid_auto_flow": null,
            "grid_auto_rows": null,
            "grid_column": null,
            "grid_gap": null,
            "grid_row": null,
            "grid_template_areas": null,
            "grid_template_columns": null,
            "grid_template_rows": null,
            "height": null,
            "justify_content": null,
            "justify_items": null,
            "left": null,
            "margin": null,
            "max_height": null,
            "max_width": null,
            "min_height": null,
            "min_width": null,
            "object_fit": null,
            "object_position": null,
            "order": null,
            "overflow": null,
            "overflow_x": null,
            "overflow_y": null,
            "padding": null,
            "right": null,
            "top": null,
            "visibility": null,
            "width": null
          }
        },
        "f399dbc6fe234af59c4b21e26181befa": {
          "model_module": "@jupyter-widgets/base",
          "model_name": "LayoutModel",
          "model_module_version": "1.2.0",
          "state": {
            "_model_module": "@jupyter-widgets/base",
            "_model_module_version": "1.2.0",
            "_model_name": "LayoutModel",
            "_view_count": null,
            "_view_module": "@jupyter-widgets/base",
            "_view_module_version": "1.2.0",
            "_view_name": "LayoutView",
            "align_content": null,
            "align_items": null,
            "align_self": null,
            "border": null,
            "bottom": null,
            "display": null,
            "flex": null,
            "flex_flow": null,
            "grid_area": null,
            "grid_auto_columns": null,
            "grid_auto_flow": null,
            "grid_auto_rows": null,
            "grid_column": null,
            "grid_gap": null,
            "grid_row": null,
            "grid_template_areas": null,
            "grid_template_columns": null,
            "grid_template_rows": null,
            "height": null,
            "justify_content": null,
            "justify_items": null,
            "left": null,
            "margin": null,
            "max_height": null,
            "max_width": null,
            "min_height": null,
            "min_width": null,
            "object_fit": null,
            "object_position": null,
            "order": null,
            "overflow": null,
            "overflow_x": null,
            "overflow_y": null,
            "padding": null,
            "right": null,
            "top": null,
            "visibility": null,
            "width": null
          }
        },
        "08ed91a46fd643d0a38764269d4b6382": {
          "model_module": "@jupyter-widgets/controls",
          "model_name": "DescriptionStyleModel",
          "model_module_version": "1.5.0",
          "state": {
            "_model_module": "@jupyter-widgets/controls",
            "_model_module_version": "1.5.0",
            "_model_name": "DescriptionStyleModel",
            "_view_count": null,
            "_view_module": "@jupyter-widgets/base",
            "_view_module_version": "1.2.0",
            "_view_name": "StyleView",
            "description_width": ""
          }
        },
        "7280aae01d5d4b8a89449ea7db16eaca": {
          "model_module": "@jupyter-widgets/base",
          "model_name": "LayoutModel",
          "model_module_version": "1.2.0",
          "state": {
            "_model_module": "@jupyter-widgets/base",
            "_model_module_version": "1.2.0",
            "_model_name": "LayoutModel",
            "_view_count": null,
            "_view_module": "@jupyter-widgets/base",
            "_view_module_version": "1.2.0",
            "_view_name": "LayoutView",
            "align_content": null,
            "align_items": null,
            "align_self": null,
            "border": null,
            "bottom": null,
            "display": null,
            "flex": null,
            "flex_flow": null,
            "grid_area": null,
            "grid_auto_columns": null,
            "grid_auto_flow": null,
            "grid_auto_rows": null,
            "grid_column": null,
            "grid_gap": null,
            "grid_row": null,
            "grid_template_areas": null,
            "grid_template_columns": null,
            "grid_template_rows": null,
            "height": null,
            "justify_content": null,
            "justify_items": null,
            "left": null,
            "margin": null,
            "max_height": null,
            "max_width": null,
            "min_height": null,
            "min_width": null,
            "object_fit": null,
            "object_position": null,
            "order": null,
            "overflow": null,
            "overflow_x": null,
            "overflow_y": null,
            "padding": null,
            "right": null,
            "top": null,
            "visibility": null,
            "width": null
          }
        },
        "57e7dbe54c8b40208d601fa0f535e0cd": {
          "model_module": "@jupyter-widgets/controls",
          "model_name": "ProgressStyleModel",
          "model_module_version": "1.5.0",
          "state": {
            "_model_module": "@jupyter-widgets/controls",
            "_model_module_version": "1.5.0",
            "_model_name": "ProgressStyleModel",
            "_view_count": null,
            "_view_module": "@jupyter-widgets/base",
            "_view_module_version": "1.2.0",
            "_view_name": "StyleView",
            "bar_color": null,
            "description_width": ""
          }
        },
        "16fbfc0e4ee646a8878e38d621210b41": {
          "model_module": "@jupyter-widgets/base",
          "model_name": "LayoutModel",
          "model_module_version": "1.2.0",
          "state": {
            "_model_module": "@jupyter-widgets/base",
            "_model_module_version": "1.2.0",
            "_model_name": "LayoutModel",
            "_view_count": null,
            "_view_module": "@jupyter-widgets/base",
            "_view_module_version": "1.2.0",
            "_view_name": "LayoutView",
            "align_content": null,
            "align_items": null,
            "align_self": null,
            "border": null,
            "bottom": null,
            "display": null,
            "flex": null,
            "flex_flow": null,
            "grid_area": null,
            "grid_auto_columns": null,
            "grid_auto_flow": null,
            "grid_auto_rows": null,
            "grid_column": null,
            "grid_gap": null,
            "grid_row": null,
            "grid_template_areas": null,
            "grid_template_columns": null,
            "grid_template_rows": null,
            "height": null,
            "justify_content": null,
            "justify_items": null,
            "left": null,
            "margin": null,
            "max_height": null,
            "max_width": null,
            "min_height": null,
            "min_width": null,
            "object_fit": null,
            "object_position": null,
            "order": null,
            "overflow": null,
            "overflow_x": null,
            "overflow_y": null,
            "padding": null,
            "right": null,
            "top": null,
            "visibility": null,
            "width": null
          }
        },
        "641ba07d9b2e46d5b2edb13ec19a8ddc": {
          "model_module": "@jupyter-widgets/controls",
          "model_name": "DescriptionStyleModel",
          "model_module_version": "1.5.0",
          "state": {
            "_model_module": "@jupyter-widgets/controls",
            "_model_module_version": "1.5.0",
            "_model_name": "DescriptionStyleModel",
            "_view_count": null,
            "_view_module": "@jupyter-widgets/base",
            "_view_module_version": "1.2.0",
            "_view_name": "StyleView",
            "description_width": ""
          }
        },
        "0e7a625fac0941a5848dcd9f670b9cde": {
          "model_module": "@jupyter-widgets/controls",
          "model_name": "HBoxModel",
          "model_module_version": "1.5.0",
          "state": {
            "_dom_classes": [],
            "_model_module": "@jupyter-widgets/controls",
            "_model_module_version": "1.5.0",
            "_model_name": "HBoxModel",
            "_view_count": null,
            "_view_module": "@jupyter-widgets/controls",
            "_view_module_version": "1.5.0",
            "_view_name": "HBoxView",
            "box_style": "",
            "children": [
              "IPY_MODEL_968b3aebc5154297ad69911d426b96f2",
              "IPY_MODEL_b5c6b2b8bf164486b6747f8ce9284546",
              "IPY_MODEL_cb9fbd2b67a74f2595922fac393c28b6"
            ],
            "layout": "IPY_MODEL_a6c768a7400743c4a8efce8f141cbc56"
          }
        },
        "968b3aebc5154297ad69911d426b96f2": {
          "model_module": "@jupyter-widgets/controls",
          "model_name": "HTMLModel",
          "model_module_version": "1.5.0",
          "state": {
            "_dom_classes": [],
            "_model_module": "@jupyter-widgets/controls",
            "_model_module_version": "1.5.0",
            "_model_name": "HTMLModel",
            "_view_count": null,
            "_view_module": "@jupyter-widgets/controls",
            "_view_module_version": "1.5.0",
            "_view_name": "HTMLView",
            "description": "",
            "description_tooltip": null,
            "layout": "IPY_MODEL_912a092dab0b4fbeb15b0a7c7388aca1",
            "placeholder": "​",
            "style": "IPY_MODEL_4f1c48a2c8974353bc96c44f0efe6158",
            "value": "Downloading: 100%"
          }
        },
        "b5c6b2b8bf164486b6747f8ce9284546": {
          "model_module": "@jupyter-widgets/controls",
          "model_name": "FloatProgressModel",
          "model_module_version": "1.5.0",
          "state": {
            "_dom_classes": [],
            "_model_module": "@jupyter-widgets/controls",
            "_model_module_version": "1.5.0",
            "_model_name": "FloatProgressModel",
            "_view_count": null,
            "_view_module": "@jupyter-widgets/controls",
            "_view_module_version": "1.5.0",
            "_view_name": "ProgressView",
            "bar_style": "success",
            "description": "",
            "description_tooltip": null,
            "layout": "IPY_MODEL_27420d286d614e7b90521e4b4ea72abf",
            "max": 1355256,
            "min": 0,
            "orientation": "horizontal",
            "style": "IPY_MODEL_a9a9176332804b35a403eeb48ef9c98b",
            "value": 1355256
          }
        },
        "cb9fbd2b67a74f2595922fac393c28b6": {
          "model_module": "@jupyter-widgets/controls",
          "model_name": "HTMLModel",
          "model_module_version": "1.5.0",
          "state": {
            "_dom_classes": [],
            "_model_module": "@jupyter-widgets/controls",
            "_model_module_version": "1.5.0",
            "_model_name": "HTMLModel",
            "_view_count": null,
            "_view_module": "@jupyter-widgets/controls",
            "_view_module_version": "1.5.0",
            "_view_name": "HTMLView",
            "description": "",
            "description_tooltip": null,
            "layout": "IPY_MODEL_bf264c6e110d44889a524faddd14e3a8",
            "placeholder": "​",
            "style": "IPY_MODEL_3bb1e57530c54acf9dadbe7d5c636211",
            "value": " 1.29M/1.29M [00:00&lt;00:00, 2.92MB/s]"
          }
        },
        "a6c768a7400743c4a8efce8f141cbc56": {
          "model_module": "@jupyter-widgets/base",
          "model_name": "LayoutModel",
          "model_module_version": "1.2.0",
          "state": {
            "_model_module": "@jupyter-widgets/base",
            "_model_module_version": "1.2.0",
            "_model_name": "LayoutModel",
            "_view_count": null,
            "_view_module": "@jupyter-widgets/base",
            "_view_module_version": "1.2.0",
            "_view_name": "LayoutView",
            "align_content": null,
            "align_items": null,
            "align_self": null,
            "border": null,
            "bottom": null,
            "display": null,
            "flex": null,
            "flex_flow": null,
            "grid_area": null,
            "grid_auto_columns": null,
            "grid_auto_flow": null,
            "grid_auto_rows": null,
            "grid_column": null,
            "grid_gap": null,
            "grid_row": null,
            "grid_template_areas": null,
            "grid_template_columns": null,
            "grid_template_rows": null,
            "height": null,
            "justify_content": null,
            "justify_items": null,
            "left": null,
            "margin": null,
            "max_height": null,
            "max_width": null,
            "min_height": null,
            "min_width": null,
            "object_fit": null,
            "object_position": null,
            "order": null,
            "overflow": null,
            "overflow_x": null,
            "overflow_y": null,
            "padding": null,
            "right": null,
            "top": null,
            "visibility": null,
            "width": null
          }
        },
        "912a092dab0b4fbeb15b0a7c7388aca1": {
          "model_module": "@jupyter-widgets/base",
          "model_name": "LayoutModel",
          "model_module_version": "1.2.0",
          "state": {
            "_model_module": "@jupyter-widgets/base",
            "_model_module_version": "1.2.0",
            "_model_name": "LayoutModel",
            "_view_count": null,
            "_view_module": "@jupyter-widgets/base",
            "_view_module_version": "1.2.0",
            "_view_name": "LayoutView",
            "align_content": null,
            "align_items": null,
            "align_self": null,
            "border": null,
            "bottom": null,
            "display": null,
            "flex": null,
            "flex_flow": null,
            "grid_area": null,
            "grid_auto_columns": null,
            "grid_auto_flow": null,
            "grid_auto_rows": null,
            "grid_column": null,
            "grid_gap": null,
            "grid_row": null,
            "grid_template_areas": null,
            "grid_template_columns": null,
            "grid_template_rows": null,
            "height": null,
            "justify_content": null,
            "justify_items": null,
            "left": null,
            "margin": null,
            "max_height": null,
            "max_width": null,
            "min_height": null,
            "min_width": null,
            "object_fit": null,
            "object_position": null,
            "order": null,
            "overflow": null,
            "overflow_x": null,
            "overflow_y": null,
            "padding": null,
            "right": null,
            "top": null,
            "visibility": null,
            "width": null
          }
        },
        "4f1c48a2c8974353bc96c44f0efe6158": {
          "model_module": "@jupyter-widgets/controls",
          "model_name": "DescriptionStyleModel",
          "model_module_version": "1.5.0",
          "state": {
            "_model_module": "@jupyter-widgets/controls",
            "_model_module_version": "1.5.0",
            "_model_name": "DescriptionStyleModel",
            "_view_count": null,
            "_view_module": "@jupyter-widgets/base",
            "_view_module_version": "1.2.0",
            "_view_name": "StyleView",
            "description_width": ""
          }
        },
        "27420d286d614e7b90521e4b4ea72abf": {
          "model_module": "@jupyter-widgets/base",
          "model_name": "LayoutModel",
          "model_module_version": "1.2.0",
          "state": {
            "_model_module": "@jupyter-widgets/base",
            "_model_module_version": "1.2.0",
            "_model_name": "LayoutModel",
            "_view_count": null,
            "_view_module": "@jupyter-widgets/base",
            "_view_module_version": "1.2.0",
            "_view_name": "LayoutView",
            "align_content": null,
            "align_items": null,
            "align_self": null,
            "border": null,
            "bottom": null,
            "display": null,
            "flex": null,
            "flex_flow": null,
            "grid_area": null,
            "grid_auto_columns": null,
            "grid_auto_flow": null,
            "grid_auto_rows": null,
            "grid_column": null,
            "grid_gap": null,
            "grid_row": null,
            "grid_template_areas": null,
            "grid_template_columns": null,
            "grid_template_rows": null,
            "height": null,
            "justify_content": null,
            "justify_items": null,
            "left": null,
            "margin": null,
            "max_height": null,
            "max_width": null,
            "min_height": null,
            "min_width": null,
            "object_fit": null,
            "object_position": null,
            "order": null,
            "overflow": null,
            "overflow_x": null,
            "overflow_y": null,
            "padding": null,
            "right": null,
            "top": null,
            "visibility": null,
            "width": null
          }
        },
        "a9a9176332804b35a403eeb48ef9c98b": {
          "model_module": "@jupyter-widgets/controls",
          "model_name": "ProgressStyleModel",
          "model_module_version": "1.5.0",
          "state": {
            "_model_module": "@jupyter-widgets/controls",
            "_model_module_version": "1.5.0",
            "_model_name": "ProgressStyleModel",
            "_view_count": null,
            "_view_module": "@jupyter-widgets/base",
            "_view_module_version": "1.2.0",
            "_view_name": "StyleView",
            "bar_color": null,
            "description_width": ""
          }
        },
        "bf264c6e110d44889a524faddd14e3a8": {
          "model_module": "@jupyter-widgets/base",
          "model_name": "LayoutModel",
          "model_module_version": "1.2.0",
          "state": {
            "_model_module": "@jupyter-widgets/base",
            "_model_module_version": "1.2.0",
            "_model_name": "LayoutModel",
            "_view_count": null,
            "_view_module": "@jupyter-widgets/base",
            "_view_module_version": "1.2.0",
            "_view_name": "LayoutView",
            "align_content": null,
            "align_items": null,
            "align_self": null,
            "border": null,
            "bottom": null,
            "display": null,
            "flex": null,
            "flex_flow": null,
            "grid_area": null,
            "grid_auto_columns": null,
            "grid_auto_flow": null,
            "grid_auto_rows": null,
            "grid_column": null,
            "grid_gap": null,
            "grid_row": null,
            "grid_template_areas": null,
            "grid_template_columns": null,
            "grid_template_rows": null,
            "height": null,
            "justify_content": null,
            "justify_items": null,
            "left": null,
            "margin": null,
            "max_height": null,
            "max_width": null,
            "min_height": null,
            "min_width": null,
            "object_fit": null,
            "object_position": null,
            "order": null,
            "overflow": null,
            "overflow_x": null,
            "overflow_y": null,
            "padding": null,
            "right": null,
            "top": null,
            "visibility": null,
            "width": null
          }
        },
        "3bb1e57530c54acf9dadbe7d5c636211": {
          "model_module": "@jupyter-widgets/controls",
          "model_name": "DescriptionStyleModel",
          "model_module_version": "1.5.0",
          "state": {
            "_model_module": "@jupyter-widgets/controls",
            "_model_module_version": "1.5.0",
            "_model_name": "DescriptionStyleModel",
            "_view_count": null,
            "_view_module": "@jupyter-widgets/base",
            "_view_module_version": "1.2.0",
            "_view_name": "StyleView",
            "description_width": ""
          }
        },
        "0b222229f22d436a967ab58e8ca718fd": {
          "model_module": "@jupyter-widgets/controls",
          "model_name": "HBoxModel",
          "model_module_version": "1.5.0",
          "state": {
            "_dom_classes": [],
            "_model_module": "@jupyter-widgets/controls",
            "_model_module_version": "1.5.0",
            "_model_name": "HBoxModel",
            "_view_count": null,
            "_view_module": "@jupyter-widgets/controls",
            "_view_module_version": "1.5.0",
            "_view_name": "HBoxView",
            "box_style": "",
            "children": [
              "IPY_MODEL_285f6d454f004f8e9dff4d51be5e778b",
              "IPY_MODEL_a6324faa6836433a888636c1685b8f60",
              "IPY_MODEL_99e14b78b810426a85086a93f5b51afd"
            ],
            "layout": "IPY_MODEL_7dc152eda30e4b319ae3c09286f7fa45"
          }
        },
        "285f6d454f004f8e9dff4d51be5e778b": {
          "model_module": "@jupyter-widgets/controls",
          "model_name": "HTMLModel",
          "model_module_version": "1.5.0",
          "state": {
            "_dom_classes": [],
            "_model_module": "@jupyter-widgets/controls",
            "_model_module_version": "1.5.0",
            "_model_name": "HTMLModel",
            "_view_count": null,
            "_view_module": "@jupyter-widgets/controls",
            "_view_module_version": "1.5.0",
            "_view_name": "HTMLView",
            "description": "",
            "description_tooltip": null,
            "layout": "IPY_MODEL_1aef095877e94d83b33bd2f107e3f5e9",
            "placeholder": "​",
            "style": "IPY_MODEL_efd3deb9cc1f4965a14cc774197808e4",
            "value": "Downloading: 100%"
          }
        },
        "a6324faa6836433a888636c1685b8f60": {
          "model_module": "@jupyter-widgets/controls",
          "model_name": "FloatProgressModel",
          "model_module_version": "1.5.0",
          "state": {
            "_dom_classes": [],
            "_model_module": "@jupyter-widgets/controls",
            "_model_module_version": "1.5.0",
            "_model_name": "FloatProgressModel",
            "_view_count": null,
            "_view_module": "@jupyter-widgets/controls",
            "_view_module_version": "1.5.0",
            "_view_name": "ProgressView",
            "bar_style": "success",
            "description": "",
            "description_tooltip": null,
            "layout": "IPY_MODEL_ce8ab286051c4cc68702044d50f7b004",
            "max": 548118077,
            "min": 0,
            "orientation": "horizontal",
            "style": "IPY_MODEL_cee3785458904d5c955554eea091242e",
            "value": 548118077
          }
        },
        "99e14b78b810426a85086a93f5b51afd": {
          "model_module": "@jupyter-widgets/controls",
          "model_name": "HTMLModel",
          "model_module_version": "1.5.0",
          "state": {
            "_dom_classes": [],
            "_model_module": "@jupyter-widgets/controls",
            "_model_module_version": "1.5.0",
            "_model_name": "HTMLModel",
            "_view_count": null,
            "_view_module": "@jupyter-widgets/controls",
            "_view_module_version": "1.5.0",
            "_view_name": "HTMLView",
            "description": "",
            "description_tooltip": null,
            "layout": "IPY_MODEL_6318feafd2d240b8be862e19c9962e86",
            "placeholder": "​",
            "style": "IPY_MODEL_e42159850d9d4a05892a4b99ee3d74d1",
            "value": " 523M/523M [00:08&lt;00:00, 60.1MB/s]"
          }
        },
        "7dc152eda30e4b319ae3c09286f7fa45": {
          "model_module": "@jupyter-widgets/base",
          "model_name": "LayoutModel",
          "model_module_version": "1.2.0",
          "state": {
            "_model_module": "@jupyter-widgets/base",
            "_model_module_version": "1.2.0",
            "_model_name": "LayoutModel",
            "_view_count": null,
            "_view_module": "@jupyter-widgets/base",
            "_view_module_version": "1.2.0",
            "_view_name": "LayoutView",
            "align_content": null,
            "align_items": null,
            "align_self": null,
            "border": null,
            "bottom": null,
            "display": null,
            "flex": null,
            "flex_flow": null,
            "grid_area": null,
            "grid_auto_columns": null,
            "grid_auto_flow": null,
            "grid_auto_rows": null,
            "grid_column": null,
            "grid_gap": null,
            "grid_row": null,
            "grid_template_areas": null,
            "grid_template_columns": null,
            "grid_template_rows": null,
            "height": null,
            "justify_content": null,
            "justify_items": null,
            "left": null,
            "margin": null,
            "max_height": null,
            "max_width": null,
            "min_height": null,
            "min_width": null,
            "object_fit": null,
            "object_position": null,
            "order": null,
            "overflow": null,
            "overflow_x": null,
            "overflow_y": null,
            "padding": null,
            "right": null,
            "top": null,
            "visibility": null,
            "width": null
          }
        },
        "1aef095877e94d83b33bd2f107e3f5e9": {
          "model_module": "@jupyter-widgets/base",
          "model_name": "LayoutModel",
          "model_module_version": "1.2.0",
          "state": {
            "_model_module": "@jupyter-widgets/base",
            "_model_module_version": "1.2.0",
            "_model_name": "LayoutModel",
            "_view_count": null,
            "_view_module": "@jupyter-widgets/base",
            "_view_module_version": "1.2.0",
            "_view_name": "LayoutView",
            "align_content": null,
            "align_items": null,
            "align_self": null,
            "border": null,
            "bottom": null,
            "display": null,
            "flex": null,
            "flex_flow": null,
            "grid_area": null,
            "grid_auto_columns": null,
            "grid_auto_flow": null,
            "grid_auto_rows": null,
            "grid_column": null,
            "grid_gap": null,
            "grid_row": null,
            "grid_template_areas": null,
            "grid_template_columns": null,
            "grid_template_rows": null,
            "height": null,
            "justify_content": null,
            "justify_items": null,
            "left": null,
            "margin": null,
            "max_height": null,
            "max_width": null,
            "min_height": null,
            "min_width": null,
            "object_fit": null,
            "object_position": null,
            "order": null,
            "overflow": null,
            "overflow_x": null,
            "overflow_y": null,
            "padding": null,
            "right": null,
            "top": null,
            "visibility": null,
            "width": null
          }
        },
        "efd3deb9cc1f4965a14cc774197808e4": {
          "model_module": "@jupyter-widgets/controls",
          "model_name": "DescriptionStyleModel",
          "model_module_version": "1.5.0",
          "state": {
            "_model_module": "@jupyter-widgets/controls",
            "_model_module_version": "1.5.0",
            "_model_name": "DescriptionStyleModel",
            "_view_count": null,
            "_view_module": "@jupyter-widgets/base",
            "_view_module_version": "1.2.0",
            "_view_name": "StyleView",
            "description_width": ""
          }
        },
        "ce8ab286051c4cc68702044d50f7b004": {
          "model_module": "@jupyter-widgets/base",
          "model_name": "LayoutModel",
          "model_module_version": "1.2.0",
          "state": {
            "_model_module": "@jupyter-widgets/base",
            "_model_module_version": "1.2.0",
            "_model_name": "LayoutModel",
            "_view_count": null,
            "_view_module": "@jupyter-widgets/base",
            "_view_module_version": "1.2.0",
            "_view_name": "LayoutView",
            "align_content": null,
            "align_items": null,
            "align_self": null,
            "border": null,
            "bottom": null,
            "display": null,
            "flex": null,
            "flex_flow": null,
            "grid_area": null,
            "grid_auto_columns": null,
            "grid_auto_flow": null,
            "grid_auto_rows": null,
            "grid_column": null,
            "grid_gap": null,
            "grid_row": null,
            "grid_template_areas": null,
            "grid_template_columns": null,
            "grid_template_rows": null,
            "height": null,
            "justify_content": null,
            "justify_items": null,
            "left": null,
            "margin": null,
            "max_height": null,
            "max_width": null,
            "min_height": null,
            "min_width": null,
            "object_fit": null,
            "object_position": null,
            "order": null,
            "overflow": null,
            "overflow_x": null,
            "overflow_y": null,
            "padding": null,
            "right": null,
            "top": null,
            "visibility": null,
            "width": null
          }
        },
        "cee3785458904d5c955554eea091242e": {
          "model_module": "@jupyter-widgets/controls",
          "model_name": "ProgressStyleModel",
          "model_module_version": "1.5.0",
          "state": {
            "_model_module": "@jupyter-widgets/controls",
            "_model_module_version": "1.5.0",
            "_model_name": "ProgressStyleModel",
            "_view_count": null,
            "_view_module": "@jupyter-widgets/base",
            "_view_module_version": "1.2.0",
            "_view_name": "StyleView",
            "bar_color": null,
            "description_width": ""
          }
        },
        "6318feafd2d240b8be862e19c9962e86": {
          "model_module": "@jupyter-widgets/base",
          "model_name": "LayoutModel",
          "model_module_version": "1.2.0",
          "state": {
            "_model_module": "@jupyter-widgets/base",
            "_model_module_version": "1.2.0",
            "_model_name": "LayoutModel",
            "_view_count": null,
            "_view_module": "@jupyter-widgets/base",
            "_view_module_version": "1.2.0",
            "_view_name": "LayoutView",
            "align_content": null,
            "align_items": null,
            "align_self": null,
            "border": null,
            "bottom": null,
            "display": null,
            "flex": null,
            "flex_flow": null,
            "grid_area": null,
            "grid_auto_columns": null,
            "grid_auto_flow": null,
            "grid_auto_rows": null,
            "grid_column": null,
            "grid_gap": null,
            "grid_row": null,
            "grid_template_areas": null,
            "grid_template_columns": null,
            "grid_template_rows": null,
            "height": null,
            "justify_content": null,
            "justify_items": null,
            "left": null,
            "margin": null,
            "max_height": null,
            "max_width": null,
            "min_height": null,
            "min_width": null,
            "object_fit": null,
            "object_position": null,
            "order": null,
            "overflow": null,
            "overflow_x": null,
            "overflow_y": null,
            "padding": null,
            "right": null,
            "top": null,
            "visibility": null,
            "width": null
          }
        },
        "e42159850d9d4a05892a4b99ee3d74d1": {
          "model_module": "@jupyter-widgets/controls",
          "model_name": "DescriptionStyleModel",
          "model_module_version": "1.5.0",
          "state": {
            "_model_module": "@jupyter-widgets/controls",
            "_model_module_version": "1.5.0",
            "_model_name": "DescriptionStyleModel",
            "_view_count": null,
            "_view_module": "@jupyter-widgets/base",
            "_view_module_version": "1.2.0",
            "_view_name": "StyleView",
            "description_width": ""
          }
        }
      }
    }
  },
  "nbformat": 4,
  "nbformat_minor": 0
}