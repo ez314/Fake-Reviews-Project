{
  "nbformat": 4,
  "nbformat_minor": 0,
  "metadata": {
    "colab": {
      "name": "GPT2_Control_Generation.ipynb",
      "provenance": [],
      "collapsed_sections": [
        "I7Vq7v1ulvWw",
        "4mFK5nFMExRZ",
        "Ow2m2CPIE36y",
        "MTLMgTtjE5rp",
        "G9YITzYdE_4w",
        "zn6JzvwBCazg",
        "emiGz28bCep4",
        "1zLmXNMhCpjh",
        "h_B_jZnnCtnI",
        "rJarazPPCzLa",
        "01Qgap8Cjimy",
        "qGuDmhzKlMYo",
        "B6Z_kEIBWnmf"
      ],
      "authorship_tag": "ABX9TyN9deiNosCv6Vevo+2IK9H+",
      "include_colab_link": true
    },
    "kernelspec": {
      "name": "python3",
      "display_name": "Python 3"
    },
    "language_info": {
      "name": "python"
    },
    "accelerator": "GPU",
    "widgets": {
      "application/vnd.jupyter.widget-state+json": {
        "94b620a1e34a44788af4f09bfeff4d02": {
          "model_module": "@jupyter-widgets/controls",
          "model_name": "HBoxModel",
          "model_module_version": "1.5.0",
          "state": {
            "_view_name": "HBoxView",
            "_dom_classes": [],
            "_model_name": "HBoxModel",
            "_view_module": "@jupyter-widgets/controls",
            "_model_module_version": "1.5.0",
            "_view_count": null,
            "_view_module_version": "1.5.0",
            "box_style": "",
            "layout": "IPY_MODEL_d9809eb10fc743779675a63dc7bf2299",
            "_model_module": "@jupyter-widgets/controls",
            "children": [
              "IPY_MODEL_e4807e9383e24df6af77de9a1c25aaf5",
              "IPY_MODEL_e72a532169a841fb927c91c694c3c119",
              "IPY_MODEL_8d6ebf03a3c3442a8d46d8915b82f46c"
            ]
          }
        },
        "d9809eb10fc743779675a63dc7bf2299": {
          "model_module": "@jupyter-widgets/base",
          "model_name": "LayoutModel",
          "model_module_version": "1.2.0",
          "state": {
            "_view_name": "LayoutView",
            "grid_template_rows": null,
            "right": null,
            "justify_content": null,
            "_view_module": "@jupyter-widgets/base",
            "overflow": null,
            "_model_module_version": "1.2.0",
            "_view_count": null,
            "flex_flow": null,
            "width": null,
            "min_width": null,
            "border": null,
            "align_items": null,
            "bottom": null,
            "_model_module": "@jupyter-widgets/base",
            "top": null,
            "grid_column": null,
            "overflow_y": null,
            "overflow_x": null,
            "grid_auto_flow": null,
            "grid_area": null,
            "grid_template_columns": null,
            "flex": null,
            "_model_name": "LayoutModel",
            "justify_items": null,
            "grid_row": null,
            "max_height": null,
            "align_content": null,
            "visibility": null,
            "align_self": null,
            "height": null,
            "min_height": null,
            "padding": null,
            "grid_auto_rows": null,
            "grid_gap": null,
            "max_width": null,
            "order": null,
            "_view_module_version": "1.2.0",
            "grid_template_areas": null,
            "object_position": null,
            "object_fit": null,
            "grid_auto_columns": null,
            "margin": null,
            "display": null,
            "left": null
          }
        },
        "e4807e9383e24df6af77de9a1c25aaf5": {
          "model_module": "@jupyter-widgets/controls",
          "model_name": "HTMLModel",
          "model_module_version": "1.5.0",
          "state": {
            "_view_name": "HTMLView",
            "style": "IPY_MODEL_1efc394e31a143ef93b41a032997d2e6",
            "_dom_classes": [],
            "description": "",
            "_model_name": "HTMLModel",
            "placeholder": "​",
            "_view_module": "@jupyter-widgets/controls",
            "_model_module_version": "1.5.0",
            "value": "Downloading: 100%",
            "_view_count": null,
            "_view_module_version": "1.5.0",
            "description_tooltip": null,
            "_model_module": "@jupyter-widgets/controls",
            "layout": "IPY_MODEL_84d960321e324d4dbd825ec107939859"
          }
        },
        "e72a532169a841fb927c91c694c3c119": {
          "model_module": "@jupyter-widgets/controls",
          "model_name": "FloatProgressModel",
          "model_module_version": "1.5.0",
          "state": {
            "_view_name": "ProgressView",
            "style": "IPY_MODEL_ece8ddf9d3e6443d9c03ac7ad7b8bb79",
            "_dom_classes": [],
            "description": "",
            "_model_name": "FloatProgressModel",
            "bar_style": "success",
            "max": 665,
            "_view_module": "@jupyter-widgets/controls",
            "_model_module_version": "1.5.0",
            "value": 665,
            "_view_count": null,
            "_view_module_version": "1.5.0",
            "orientation": "horizontal",
            "min": 0,
            "description_tooltip": null,
            "_model_module": "@jupyter-widgets/controls",
            "layout": "IPY_MODEL_d10b42874879458ab6b5927a9ed60c7f"
          }
        },
        "8d6ebf03a3c3442a8d46d8915b82f46c": {
          "model_module": "@jupyter-widgets/controls",
          "model_name": "HTMLModel",
          "model_module_version": "1.5.0",
          "state": {
            "_view_name": "HTMLView",
            "style": "IPY_MODEL_5714e82dfdbd4ef8af488dba84709147",
            "_dom_classes": [],
            "description": "",
            "_model_name": "HTMLModel",
            "placeholder": "​",
            "_view_module": "@jupyter-widgets/controls",
            "_model_module_version": "1.5.0",
            "value": " 665/665 [00:00&lt;00:00, 13.9kB/s]",
            "_view_count": null,
            "_view_module_version": "1.5.0",
            "description_tooltip": null,
            "_model_module": "@jupyter-widgets/controls",
            "layout": "IPY_MODEL_20158e2555c64bd9a38a4301aab417db"
          }
        },
        "1efc394e31a143ef93b41a032997d2e6": {
          "model_module": "@jupyter-widgets/controls",
          "model_name": "DescriptionStyleModel",
          "model_module_version": "1.5.0",
          "state": {
            "_view_name": "StyleView",
            "_model_name": "DescriptionStyleModel",
            "description_width": "",
            "_view_module": "@jupyter-widgets/base",
            "_model_module_version": "1.5.0",
            "_view_count": null,
            "_view_module_version": "1.2.0",
            "_model_module": "@jupyter-widgets/controls"
          }
        },
        "84d960321e324d4dbd825ec107939859": {
          "model_module": "@jupyter-widgets/base",
          "model_name": "LayoutModel",
          "model_module_version": "1.2.0",
          "state": {
            "_view_name": "LayoutView",
            "grid_template_rows": null,
            "right": null,
            "justify_content": null,
            "_view_module": "@jupyter-widgets/base",
            "overflow": null,
            "_model_module_version": "1.2.0",
            "_view_count": null,
            "flex_flow": null,
            "width": null,
            "min_width": null,
            "border": null,
            "align_items": null,
            "bottom": null,
            "_model_module": "@jupyter-widgets/base",
            "top": null,
            "grid_column": null,
            "overflow_y": null,
            "overflow_x": null,
            "grid_auto_flow": null,
            "grid_area": null,
            "grid_template_columns": null,
            "flex": null,
            "_model_name": "LayoutModel",
            "justify_items": null,
            "grid_row": null,
            "max_height": null,
            "align_content": null,
            "visibility": null,
            "align_self": null,
            "height": null,
            "min_height": null,
            "padding": null,
            "grid_auto_rows": null,
            "grid_gap": null,
            "max_width": null,
            "order": null,
            "_view_module_version": "1.2.0",
            "grid_template_areas": null,
            "object_position": null,
            "object_fit": null,
            "grid_auto_columns": null,
            "margin": null,
            "display": null,
            "left": null
          }
        },
        "ece8ddf9d3e6443d9c03ac7ad7b8bb79": {
          "model_module": "@jupyter-widgets/controls",
          "model_name": "ProgressStyleModel",
          "model_module_version": "1.5.0",
          "state": {
            "_view_name": "StyleView",
            "_model_name": "ProgressStyleModel",
            "description_width": "",
            "_view_module": "@jupyter-widgets/base",
            "_model_module_version": "1.5.0",
            "_view_count": null,
            "_view_module_version": "1.2.0",
            "bar_color": null,
            "_model_module": "@jupyter-widgets/controls"
          }
        },
        "d10b42874879458ab6b5927a9ed60c7f": {
          "model_module": "@jupyter-widgets/base",
          "model_name": "LayoutModel",
          "model_module_version": "1.2.0",
          "state": {
            "_view_name": "LayoutView",
            "grid_template_rows": null,
            "right": null,
            "justify_content": null,
            "_view_module": "@jupyter-widgets/base",
            "overflow": null,
            "_model_module_version": "1.2.0",
            "_view_count": null,
            "flex_flow": null,
            "width": null,
            "min_width": null,
            "border": null,
            "align_items": null,
            "bottom": null,
            "_model_module": "@jupyter-widgets/base",
            "top": null,
            "grid_column": null,
            "overflow_y": null,
            "overflow_x": null,
            "grid_auto_flow": null,
            "grid_area": null,
            "grid_template_columns": null,
            "flex": null,
            "_model_name": "LayoutModel",
            "justify_items": null,
            "grid_row": null,
            "max_height": null,
            "align_content": null,
            "visibility": null,
            "align_self": null,
            "height": null,
            "min_height": null,
            "padding": null,
            "grid_auto_rows": null,
            "grid_gap": null,
            "max_width": null,
            "order": null,
            "_view_module_version": "1.2.0",
            "grid_template_areas": null,
            "object_position": null,
            "object_fit": null,
            "grid_auto_columns": null,
            "margin": null,
            "display": null,
            "left": null
          }
        },
        "5714e82dfdbd4ef8af488dba84709147": {
          "model_module": "@jupyter-widgets/controls",
          "model_name": "DescriptionStyleModel",
          "model_module_version": "1.5.0",
          "state": {
            "_view_name": "StyleView",
            "_model_name": "DescriptionStyleModel",
            "description_width": "",
            "_view_module": "@jupyter-widgets/base",
            "_model_module_version": "1.5.0",
            "_view_count": null,
            "_view_module_version": "1.2.0",
            "_model_module": "@jupyter-widgets/controls"
          }
        },
        "20158e2555c64bd9a38a4301aab417db": {
          "model_module": "@jupyter-widgets/base",
          "model_name": "LayoutModel",
          "model_module_version": "1.2.0",
          "state": {
            "_view_name": "LayoutView",
            "grid_template_rows": null,
            "right": null,
            "justify_content": null,
            "_view_module": "@jupyter-widgets/base",
            "overflow": null,
            "_model_module_version": "1.2.0",
            "_view_count": null,
            "flex_flow": null,
            "width": null,
            "min_width": null,
            "border": null,
            "align_items": null,
            "bottom": null,
            "_model_module": "@jupyter-widgets/base",
            "top": null,
            "grid_column": null,
            "overflow_y": null,
            "overflow_x": null,
            "grid_auto_flow": null,
            "grid_area": null,
            "grid_template_columns": null,
            "flex": null,
            "_model_name": "LayoutModel",
            "justify_items": null,
            "grid_row": null,
            "max_height": null,
            "align_content": null,
            "visibility": null,
            "align_self": null,
            "height": null,
            "min_height": null,
            "padding": null,
            "grid_auto_rows": null,
            "grid_gap": null,
            "max_width": null,
            "order": null,
            "_view_module_version": "1.2.0",
            "grid_template_areas": null,
            "object_position": null,
            "object_fit": null,
            "grid_auto_columns": null,
            "margin": null,
            "display": null,
            "left": null
          }
        },
        "8ecc69f13d9b4ddea65273342c643f39": {
          "model_module": "@jupyter-widgets/controls",
          "model_name": "HBoxModel",
          "model_module_version": "1.5.0",
          "state": {
            "_view_name": "HBoxView",
            "_dom_classes": [],
            "_model_name": "HBoxModel",
            "_view_module": "@jupyter-widgets/controls",
            "_model_module_version": "1.5.0",
            "_view_count": null,
            "_view_module_version": "1.5.0",
            "box_style": "",
            "layout": "IPY_MODEL_d26eee432bfe40de9170a9197a5c92bf",
            "_model_module": "@jupyter-widgets/controls",
            "children": [
              "IPY_MODEL_c7ff4899b9c9435ab0411dbd422cb988",
              "IPY_MODEL_e83fe0e8231249a7adbfc6b12951d257",
              "IPY_MODEL_7ccdc80a5f3c4126bf1bc58a57618e11"
            ]
          }
        },
        "d26eee432bfe40de9170a9197a5c92bf": {
          "model_module": "@jupyter-widgets/base",
          "model_name": "LayoutModel",
          "model_module_version": "1.2.0",
          "state": {
            "_view_name": "LayoutView",
            "grid_template_rows": null,
            "right": null,
            "justify_content": null,
            "_view_module": "@jupyter-widgets/base",
            "overflow": null,
            "_model_module_version": "1.2.0",
            "_view_count": null,
            "flex_flow": null,
            "width": null,
            "min_width": null,
            "border": null,
            "align_items": null,
            "bottom": null,
            "_model_module": "@jupyter-widgets/base",
            "top": null,
            "grid_column": null,
            "overflow_y": null,
            "overflow_x": null,
            "grid_auto_flow": null,
            "grid_area": null,
            "grid_template_columns": null,
            "flex": null,
            "_model_name": "LayoutModel",
            "justify_items": null,
            "grid_row": null,
            "max_height": null,
            "align_content": null,
            "visibility": null,
            "align_self": null,
            "height": null,
            "min_height": null,
            "padding": null,
            "grid_auto_rows": null,
            "grid_gap": null,
            "max_width": null,
            "order": null,
            "_view_module_version": "1.2.0",
            "grid_template_areas": null,
            "object_position": null,
            "object_fit": null,
            "grid_auto_columns": null,
            "margin": null,
            "display": null,
            "left": null
          }
        },
        "c7ff4899b9c9435ab0411dbd422cb988": {
          "model_module": "@jupyter-widgets/controls",
          "model_name": "HTMLModel",
          "model_module_version": "1.5.0",
          "state": {
            "_view_name": "HTMLView",
            "style": "IPY_MODEL_1dbfb2335c34480cbc0d597df1121900",
            "_dom_classes": [],
            "description": "",
            "_model_name": "HTMLModel",
            "placeholder": "​",
            "_view_module": "@jupyter-widgets/controls",
            "_model_module_version": "1.5.0",
            "value": "Downloading: 100%",
            "_view_count": null,
            "_view_module_version": "1.5.0",
            "description_tooltip": null,
            "_model_module": "@jupyter-widgets/controls",
            "layout": "IPY_MODEL_f0f57a32d2304671ba37801282610116"
          }
        },
        "e83fe0e8231249a7adbfc6b12951d257": {
          "model_module": "@jupyter-widgets/controls",
          "model_name": "FloatProgressModel",
          "model_module_version": "1.5.0",
          "state": {
            "_view_name": "ProgressView",
            "style": "IPY_MODEL_828dd5790c8f4a7199a9fcc75238b5d3",
            "_dom_classes": [],
            "description": "",
            "_model_name": "FloatProgressModel",
            "bar_style": "success",
            "max": 1042301,
            "_view_module": "@jupyter-widgets/controls",
            "_model_module_version": "1.5.0",
            "value": 1042301,
            "_view_count": null,
            "_view_module_version": "1.5.0",
            "orientation": "horizontal",
            "min": 0,
            "description_tooltip": null,
            "_model_module": "@jupyter-widgets/controls",
            "layout": "IPY_MODEL_c8e9a4d26c354af9ba89ce974c6ea56d"
          }
        },
        "7ccdc80a5f3c4126bf1bc58a57618e11": {
          "model_module": "@jupyter-widgets/controls",
          "model_name": "HTMLModel",
          "model_module_version": "1.5.0",
          "state": {
            "_view_name": "HTMLView",
            "style": "IPY_MODEL_66ed86ab566948088d829572bd68caae",
            "_dom_classes": [],
            "description": "",
            "_model_name": "HTMLModel",
            "placeholder": "​",
            "_view_module": "@jupyter-widgets/controls",
            "_model_module_version": "1.5.0",
            "value": " 0.99M/0.99M [00:01&lt;00:00, 1.19MB/s]",
            "_view_count": null,
            "_view_module_version": "1.5.0",
            "description_tooltip": null,
            "_model_module": "@jupyter-widgets/controls",
            "layout": "IPY_MODEL_d07e02d53e474ad883c68e80e02a4860"
          }
        },
        "1dbfb2335c34480cbc0d597df1121900": {
          "model_module": "@jupyter-widgets/controls",
          "model_name": "DescriptionStyleModel",
          "model_module_version": "1.5.0",
          "state": {
            "_view_name": "StyleView",
            "_model_name": "DescriptionStyleModel",
            "description_width": "",
            "_view_module": "@jupyter-widgets/base",
            "_model_module_version": "1.5.0",
            "_view_count": null,
            "_view_module_version": "1.2.0",
            "_model_module": "@jupyter-widgets/controls"
          }
        },
        "f0f57a32d2304671ba37801282610116": {
          "model_module": "@jupyter-widgets/base",
          "model_name": "LayoutModel",
          "model_module_version": "1.2.0",
          "state": {
            "_view_name": "LayoutView",
            "grid_template_rows": null,
            "right": null,
            "justify_content": null,
            "_view_module": "@jupyter-widgets/base",
            "overflow": null,
            "_model_module_version": "1.2.0",
            "_view_count": null,
            "flex_flow": null,
            "width": null,
            "min_width": null,
            "border": null,
            "align_items": null,
            "bottom": null,
            "_model_module": "@jupyter-widgets/base",
            "top": null,
            "grid_column": null,
            "overflow_y": null,
            "overflow_x": null,
            "grid_auto_flow": null,
            "grid_area": null,
            "grid_template_columns": null,
            "flex": null,
            "_model_name": "LayoutModel",
            "justify_items": null,
            "grid_row": null,
            "max_height": null,
            "align_content": null,
            "visibility": null,
            "align_self": null,
            "height": null,
            "min_height": null,
            "padding": null,
            "grid_auto_rows": null,
            "grid_gap": null,
            "max_width": null,
            "order": null,
            "_view_module_version": "1.2.0",
            "grid_template_areas": null,
            "object_position": null,
            "object_fit": null,
            "grid_auto_columns": null,
            "margin": null,
            "display": null,
            "left": null
          }
        },
        "828dd5790c8f4a7199a9fcc75238b5d3": {
          "model_module": "@jupyter-widgets/controls",
          "model_name": "ProgressStyleModel",
          "model_module_version": "1.5.0",
          "state": {
            "_view_name": "StyleView",
            "_model_name": "ProgressStyleModel",
            "description_width": "",
            "_view_module": "@jupyter-widgets/base",
            "_model_module_version": "1.5.0",
            "_view_count": null,
            "_view_module_version": "1.2.0",
            "bar_color": null,
            "_model_module": "@jupyter-widgets/controls"
          }
        },
        "c8e9a4d26c354af9ba89ce974c6ea56d": {
          "model_module": "@jupyter-widgets/base",
          "model_name": "LayoutModel",
          "model_module_version": "1.2.0",
          "state": {
            "_view_name": "LayoutView",
            "grid_template_rows": null,
            "right": null,
            "justify_content": null,
            "_view_module": "@jupyter-widgets/base",
            "overflow": null,
            "_model_module_version": "1.2.0",
            "_view_count": null,
            "flex_flow": null,
            "width": null,
            "min_width": null,
            "border": null,
            "align_items": null,
            "bottom": null,
            "_model_module": "@jupyter-widgets/base",
            "top": null,
            "grid_column": null,
            "overflow_y": null,
            "overflow_x": null,
            "grid_auto_flow": null,
            "grid_area": null,
            "grid_template_columns": null,
            "flex": null,
            "_model_name": "LayoutModel",
            "justify_items": null,
            "grid_row": null,
            "max_height": null,
            "align_content": null,
            "visibility": null,
            "align_self": null,
            "height": null,
            "min_height": null,
            "padding": null,
            "grid_auto_rows": null,
            "grid_gap": null,
            "max_width": null,
            "order": null,
            "_view_module_version": "1.2.0",
            "grid_template_areas": null,
            "object_position": null,
            "object_fit": null,
            "grid_auto_columns": null,
            "margin": null,
            "display": null,
            "left": null
          }
        },
        "66ed86ab566948088d829572bd68caae": {
          "model_module": "@jupyter-widgets/controls",
          "model_name": "DescriptionStyleModel",
          "model_module_version": "1.5.0",
          "state": {
            "_view_name": "StyleView",
            "_model_name": "DescriptionStyleModel",
            "description_width": "",
            "_view_module": "@jupyter-widgets/base",
            "_model_module_version": "1.5.0",
            "_view_count": null,
            "_view_module_version": "1.2.0",
            "_model_module": "@jupyter-widgets/controls"
          }
        },
        "d07e02d53e474ad883c68e80e02a4860": {
          "model_module": "@jupyter-widgets/base",
          "model_name": "LayoutModel",
          "model_module_version": "1.2.0",
          "state": {
            "_view_name": "LayoutView",
            "grid_template_rows": null,
            "right": null,
            "justify_content": null,
            "_view_module": "@jupyter-widgets/base",
            "overflow": null,
            "_model_module_version": "1.2.0",
            "_view_count": null,
            "flex_flow": null,
            "width": null,
            "min_width": null,
            "border": null,
            "align_items": null,
            "bottom": null,
            "_model_module": "@jupyter-widgets/base",
            "top": null,
            "grid_column": null,
            "overflow_y": null,
            "overflow_x": null,
            "grid_auto_flow": null,
            "grid_area": null,
            "grid_template_columns": null,
            "flex": null,
            "_model_name": "LayoutModel",
            "justify_items": null,
            "grid_row": null,
            "max_height": null,
            "align_content": null,
            "visibility": null,
            "align_self": null,
            "height": null,
            "min_height": null,
            "padding": null,
            "grid_auto_rows": null,
            "grid_gap": null,
            "max_width": null,
            "order": null,
            "_view_module_version": "1.2.0",
            "grid_template_areas": null,
            "object_position": null,
            "object_fit": null,
            "grid_auto_columns": null,
            "margin": null,
            "display": null,
            "left": null
          }
        },
        "bd74d2e731034c60b78fd98c436e3cde": {
          "model_module": "@jupyter-widgets/controls",
          "model_name": "HBoxModel",
          "model_module_version": "1.5.0",
          "state": {
            "_view_name": "HBoxView",
            "_dom_classes": [],
            "_model_name": "HBoxModel",
            "_view_module": "@jupyter-widgets/controls",
            "_model_module_version": "1.5.0",
            "_view_count": null,
            "_view_module_version": "1.5.0",
            "box_style": "",
            "layout": "IPY_MODEL_6993527f4bdf4fd987e9fccde6fb7f9a",
            "_model_module": "@jupyter-widgets/controls",
            "children": [
              "IPY_MODEL_38b3732dcaeb4fc9b308dfce404a104e",
              "IPY_MODEL_835f741fc0b84b82984db228804883b8",
              "IPY_MODEL_dc8d7f648d954e318f0ec500f957a2b8"
            ]
          }
        },
        "6993527f4bdf4fd987e9fccde6fb7f9a": {
          "model_module": "@jupyter-widgets/base",
          "model_name": "LayoutModel",
          "model_module_version": "1.2.0",
          "state": {
            "_view_name": "LayoutView",
            "grid_template_rows": null,
            "right": null,
            "justify_content": null,
            "_view_module": "@jupyter-widgets/base",
            "overflow": null,
            "_model_module_version": "1.2.0",
            "_view_count": null,
            "flex_flow": null,
            "width": null,
            "min_width": null,
            "border": null,
            "align_items": null,
            "bottom": null,
            "_model_module": "@jupyter-widgets/base",
            "top": null,
            "grid_column": null,
            "overflow_y": null,
            "overflow_x": null,
            "grid_auto_flow": null,
            "grid_area": null,
            "grid_template_columns": null,
            "flex": null,
            "_model_name": "LayoutModel",
            "justify_items": null,
            "grid_row": null,
            "max_height": null,
            "align_content": null,
            "visibility": null,
            "align_self": null,
            "height": null,
            "min_height": null,
            "padding": null,
            "grid_auto_rows": null,
            "grid_gap": null,
            "max_width": null,
            "order": null,
            "_view_module_version": "1.2.0",
            "grid_template_areas": null,
            "object_position": null,
            "object_fit": null,
            "grid_auto_columns": null,
            "margin": null,
            "display": null,
            "left": null
          }
        },
        "38b3732dcaeb4fc9b308dfce404a104e": {
          "model_module": "@jupyter-widgets/controls",
          "model_name": "HTMLModel",
          "model_module_version": "1.5.0",
          "state": {
            "_view_name": "HTMLView",
            "style": "IPY_MODEL_93997308113b4590a6d9140bc4866064",
            "_dom_classes": [],
            "description": "",
            "_model_name": "HTMLModel",
            "placeholder": "​",
            "_view_module": "@jupyter-widgets/controls",
            "_model_module_version": "1.5.0",
            "value": "Downloading: 100%",
            "_view_count": null,
            "_view_module_version": "1.5.0",
            "description_tooltip": null,
            "_model_module": "@jupyter-widgets/controls",
            "layout": "IPY_MODEL_8f7aecc18a7a4550ac74d8db652c6f4e"
          }
        },
        "835f741fc0b84b82984db228804883b8": {
          "model_module": "@jupyter-widgets/controls",
          "model_name": "FloatProgressModel",
          "model_module_version": "1.5.0",
          "state": {
            "_view_name": "ProgressView",
            "style": "IPY_MODEL_26559d48c07a4d3a8cc33155a792cab7",
            "_dom_classes": [],
            "description": "",
            "_model_name": "FloatProgressModel",
            "bar_style": "success",
            "max": 456318,
            "_view_module": "@jupyter-widgets/controls",
            "_model_module_version": "1.5.0",
            "value": 456318,
            "_view_count": null,
            "_view_module_version": "1.5.0",
            "orientation": "horizontal",
            "min": 0,
            "description_tooltip": null,
            "_model_module": "@jupyter-widgets/controls",
            "layout": "IPY_MODEL_5345d213a82c49b3a3146b5c852f049d"
          }
        },
        "dc8d7f648d954e318f0ec500f957a2b8": {
          "model_module": "@jupyter-widgets/controls",
          "model_name": "HTMLModel",
          "model_module_version": "1.5.0",
          "state": {
            "_view_name": "HTMLView",
            "style": "IPY_MODEL_8af5136543de424183f9c5d5656962d8",
            "_dom_classes": [],
            "description": "",
            "_model_name": "HTMLModel",
            "placeholder": "​",
            "_view_module": "@jupyter-widgets/controls",
            "_model_module_version": "1.5.0",
            "value": " 446k/446k [00:00&lt;00:00, 668kB/s]",
            "_view_count": null,
            "_view_module_version": "1.5.0",
            "description_tooltip": null,
            "_model_module": "@jupyter-widgets/controls",
            "layout": "IPY_MODEL_05de9c98d2114b0894c0248b16c694ae"
          }
        },
        "93997308113b4590a6d9140bc4866064": {
          "model_module": "@jupyter-widgets/controls",
          "model_name": "DescriptionStyleModel",
          "model_module_version": "1.5.0",
          "state": {
            "_view_name": "StyleView",
            "_model_name": "DescriptionStyleModel",
            "description_width": "",
            "_view_module": "@jupyter-widgets/base",
            "_model_module_version": "1.5.0",
            "_view_count": null,
            "_view_module_version": "1.2.0",
            "_model_module": "@jupyter-widgets/controls"
          }
        },
        "8f7aecc18a7a4550ac74d8db652c6f4e": {
          "model_module": "@jupyter-widgets/base",
          "model_name": "LayoutModel",
          "model_module_version": "1.2.0",
          "state": {
            "_view_name": "LayoutView",
            "grid_template_rows": null,
            "right": null,
            "justify_content": null,
            "_view_module": "@jupyter-widgets/base",
            "overflow": null,
            "_model_module_version": "1.2.0",
            "_view_count": null,
            "flex_flow": null,
            "width": null,
            "min_width": null,
            "border": null,
            "align_items": null,
            "bottom": null,
            "_model_module": "@jupyter-widgets/base",
            "top": null,
            "grid_column": null,
            "overflow_y": null,
            "overflow_x": null,
            "grid_auto_flow": null,
            "grid_area": null,
            "grid_template_columns": null,
            "flex": null,
            "_model_name": "LayoutModel",
            "justify_items": null,
            "grid_row": null,
            "max_height": null,
            "align_content": null,
            "visibility": null,
            "align_self": null,
            "height": null,
            "min_height": null,
            "padding": null,
            "grid_auto_rows": null,
            "grid_gap": null,
            "max_width": null,
            "order": null,
            "_view_module_version": "1.2.0",
            "grid_template_areas": null,
            "object_position": null,
            "object_fit": null,
            "grid_auto_columns": null,
            "margin": null,
            "display": null,
            "left": null
          }
        },
        "26559d48c07a4d3a8cc33155a792cab7": {
          "model_module": "@jupyter-widgets/controls",
          "model_name": "ProgressStyleModel",
          "model_module_version": "1.5.0",
          "state": {
            "_view_name": "StyleView",
            "_model_name": "ProgressStyleModel",
            "description_width": "",
            "_view_module": "@jupyter-widgets/base",
            "_model_module_version": "1.5.0",
            "_view_count": null,
            "_view_module_version": "1.2.0",
            "bar_color": null,
            "_model_module": "@jupyter-widgets/controls"
          }
        },
        "5345d213a82c49b3a3146b5c852f049d": {
          "model_module": "@jupyter-widgets/base",
          "model_name": "LayoutModel",
          "model_module_version": "1.2.0",
          "state": {
            "_view_name": "LayoutView",
            "grid_template_rows": null,
            "right": null,
            "justify_content": null,
            "_view_module": "@jupyter-widgets/base",
            "overflow": null,
            "_model_module_version": "1.2.0",
            "_view_count": null,
            "flex_flow": null,
            "width": null,
            "min_width": null,
            "border": null,
            "align_items": null,
            "bottom": null,
            "_model_module": "@jupyter-widgets/base",
            "top": null,
            "grid_column": null,
            "overflow_y": null,
            "overflow_x": null,
            "grid_auto_flow": null,
            "grid_area": null,
            "grid_template_columns": null,
            "flex": null,
            "_model_name": "LayoutModel",
            "justify_items": null,
            "grid_row": null,
            "max_height": null,
            "align_content": null,
            "visibility": null,
            "align_self": null,
            "height": null,
            "min_height": null,
            "padding": null,
            "grid_auto_rows": null,
            "grid_gap": null,
            "max_width": null,
            "order": null,
            "_view_module_version": "1.2.0",
            "grid_template_areas": null,
            "object_position": null,
            "object_fit": null,
            "grid_auto_columns": null,
            "margin": null,
            "display": null,
            "left": null
          }
        },
        "8af5136543de424183f9c5d5656962d8": {
          "model_module": "@jupyter-widgets/controls",
          "model_name": "DescriptionStyleModel",
          "model_module_version": "1.5.0",
          "state": {
            "_view_name": "StyleView",
            "_model_name": "DescriptionStyleModel",
            "description_width": "",
            "_view_module": "@jupyter-widgets/base",
            "_model_module_version": "1.5.0",
            "_view_count": null,
            "_view_module_version": "1.2.0",
            "_model_module": "@jupyter-widgets/controls"
          }
        },
        "05de9c98d2114b0894c0248b16c694ae": {
          "model_module": "@jupyter-widgets/base",
          "model_name": "LayoutModel",
          "model_module_version": "1.2.0",
          "state": {
            "_view_name": "LayoutView",
            "grid_template_rows": null,
            "right": null,
            "justify_content": null,
            "_view_module": "@jupyter-widgets/base",
            "overflow": null,
            "_model_module_version": "1.2.0",
            "_view_count": null,
            "flex_flow": null,
            "width": null,
            "min_width": null,
            "border": null,
            "align_items": null,
            "bottom": null,
            "_model_module": "@jupyter-widgets/base",
            "top": null,
            "grid_column": null,
            "overflow_y": null,
            "overflow_x": null,
            "grid_auto_flow": null,
            "grid_area": null,
            "grid_template_columns": null,
            "flex": null,
            "_model_name": "LayoutModel",
            "justify_items": null,
            "grid_row": null,
            "max_height": null,
            "align_content": null,
            "visibility": null,
            "align_self": null,
            "height": null,
            "min_height": null,
            "padding": null,
            "grid_auto_rows": null,
            "grid_gap": null,
            "max_width": null,
            "order": null,
            "_view_module_version": "1.2.0",
            "grid_template_areas": null,
            "object_position": null,
            "object_fit": null,
            "grid_auto_columns": null,
            "margin": null,
            "display": null,
            "left": null
          }
        },
        "b3aae3f1c420433a817ef15501bbbb16": {
          "model_module": "@jupyter-widgets/controls",
          "model_name": "HBoxModel",
          "model_module_version": "1.5.0",
          "state": {
            "_view_name": "HBoxView",
            "_dom_classes": [],
            "_model_name": "HBoxModel",
            "_view_module": "@jupyter-widgets/controls",
            "_model_module_version": "1.5.0",
            "_view_count": null,
            "_view_module_version": "1.5.0",
            "box_style": "",
            "layout": "IPY_MODEL_93d0954ccaa24ec1a4bb7e26d0a30525",
            "_model_module": "@jupyter-widgets/controls",
            "children": [
              "IPY_MODEL_a490260f3cf4494190a5e46cba907af2",
              "IPY_MODEL_9795d61bcb014d40b0ffcdb9cd588284",
              "IPY_MODEL_efacabf73e6d4cbe9bd797bf6d0caa87"
            ]
          }
        },
        "93d0954ccaa24ec1a4bb7e26d0a30525": {
          "model_module": "@jupyter-widgets/base",
          "model_name": "LayoutModel",
          "model_module_version": "1.2.0",
          "state": {
            "_view_name": "LayoutView",
            "grid_template_rows": null,
            "right": null,
            "justify_content": null,
            "_view_module": "@jupyter-widgets/base",
            "overflow": null,
            "_model_module_version": "1.2.0",
            "_view_count": null,
            "flex_flow": null,
            "width": null,
            "min_width": null,
            "border": null,
            "align_items": null,
            "bottom": null,
            "_model_module": "@jupyter-widgets/base",
            "top": null,
            "grid_column": null,
            "overflow_y": null,
            "overflow_x": null,
            "grid_auto_flow": null,
            "grid_area": null,
            "grid_template_columns": null,
            "flex": null,
            "_model_name": "LayoutModel",
            "justify_items": null,
            "grid_row": null,
            "max_height": null,
            "align_content": null,
            "visibility": null,
            "align_self": null,
            "height": null,
            "min_height": null,
            "padding": null,
            "grid_auto_rows": null,
            "grid_gap": null,
            "max_width": null,
            "order": null,
            "_view_module_version": "1.2.0",
            "grid_template_areas": null,
            "object_position": null,
            "object_fit": null,
            "grid_auto_columns": null,
            "margin": null,
            "display": null,
            "left": null
          }
        },
        "a490260f3cf4494190a5e46cba907af2": {
          "model_module": "@jupyter-widgets/controls",
          "model_name": "HTMLModel",
          "model_module_version": "1.5.0",
          "state": {
            "_view_name": "HTMLView",
            "style": "IPY_MODEL_bec65a4733fb45ffab4b40a41d2beea4",
            "_dom_classes": [],
            "description": "",
            "_model_name": "HTMLModel",
            "placeholder": "​",
            "_view_module": "@jupyter-widgets/controls",
            "_model_module_version": "1.5.0",
            "value": "Downloading: 100%",
            "_view_count": null,
            "_view_module_version": "1.5.0",
            "description_tooltip": null,
            "_model_module": "@jupyter-widgets/controls",
            "layout": "IPY_MODEL_60837686036e4a58958936ab8d1c35c4"
          }
        },
        "9795d61bcb014d40b0ffcdb9cd588284": {
          "model_module": "@jupyter-widgets/controls",
          "model_name": "FloatProgressModel",
          "model_module_version": "1.5.0",
          "state": {
            "_view_name": "ProgressView",
            "style": "IPY_MODEL_8c7f96e280af421ba2bbecc5274793d4",
            "_dom_classes": [],
            "description": "",
            "_model_name": "FloatProgressModel",
            "bar_style": "success",
            "max": 1355256,
            "_view_module": "@jupyter-widgets/controls",
            "_model_module_version": "1.5.0",
            "value": 1355256,
            "_view_count": null,
            "_view_module_version": "1.5.0",
            "orientation": "horizontal",
            "min": 0,
            "description_tooltip": null,
            "_model_module": "@jupyter-widgets/controls",
            "layout": "IPY_MODEL_5442aba0aefa4cbfaedc29fc340cea18"
          }
        },
        "efacabf73e6d4cbe9bd797bf6d0caa87": {
          "model_module": "@jupyter-widgets/controls",
          "model_name": "HTMLModel",
          "model_module_version": "1.5.0",
          "state": {
            "_view_name": "HTMLView",
            "style": "IPY_MODEL_5bdf3fff01974fb8ae16bf9de033026d",
            "_dom_classes": [],
            "description": "",
            "_model_name": "HTMLModel",
            "placeholder": "​",
            "_view_module": "@jupyter-widgets/controls",
            "_model_module_version": "1.5.0",
            "value": " 1.29M/1.29M [00:01&lt;00:00, 1.23MB/s]",
            "_view_count": null,
            "_view_module_version": "1.5.0",
            "description_tooltip": null,
            "_model_module": "@jupyter-widgets/controls",
            "layout": "IPY_MODEL_f19ef299540a436abd0e991ffbfa164b"
          }
        },
        "bec65a4733fb45ffab4b40a41d2beea4": {
          "model_module": "@jupyter-widgets/controls",
          "model_name": "DescriptionStyleModel",
          "model_module_version": "1.5.0",
          "state": {
            "_view_name": "StyleView",
            "_model_name": "DescriptionStyleModel",
            "description_width": "",
            "_view_module": "@jupyter-widgets/base",
            "_model_module_version": "1.5.0",
            "_view_count": null,
            "_view_module_version": "1.2.0",
            "_model_module": "@jupyter-widgets/controls"
          }
        },
        "60837686036e4a58958936ab8d1c35c4": {
          "model_module": "@jupyter-widgets/base",
          "model_name": "LayoutModel",
          "model_module_version": "1.2.0",
          "state": {
            "_view_name": "LayoutView",
            "grid_template_rows": null,
            "right": null,
            "justify_content": null,
            "_view_module": "@jupyter-widgets/base",
            "overflow": null,
            "_model_module_version": "1.2.0",
            "_view_count": null,
            "flex_flow": null,
            "width": null,
            "min_width": null,
            "border": null,
            "align_items": null,
            "bottom": null,
            "_model_module": "@jupyter-widgets/base",
            "top": null,
            "grid_column": null,
            "overflow_y": null,
            "overflow_x": null,
            "grid_auto_flow": null,
            "grid_area": null,
            "grid_template_columns": null,
            "flex": null,
            "_model_name": "LayoutModel",
            "justify_items": null,
            "grid_row": null,
            "max_height": null,
            "align_content": null,
            "visibility": null,
            "align_self": null,
            "height": null,
            "min_height": null,
            "padding": null,
            "grid_auto_rows": null,
            "grid_gap": null,
            "max_width": null,
            "order": null,
            "_view_module_version": "1.2.0",
            "grid_template_areas": null,
            "object_position": null,
            "object_fit": null,
            "grid_auto_columns": null,
            "margin": null,
            "display": null,
            "left": null
          }
        },
        "8c7f96e280af421ba2bbecc5274793d4": {
          "model_module": "@jupyter-widgets/controls",
          "model_name": "ProgressStyleModel",
          "model_module_version": "1.5.0",
          "state": {
            "_view_name": "StyleView",
            "_model_name": "ProgressStyleModel",
            "description_width": "",
            "_view_module": "@jupyter-widgets/base",
            "_model_module_version": "1.5.0",
            "_view_count": null,
            "_view_module_version": "1.2.0",
            "bar_color": null,
            "_model_module": "@jupyter-widgets/controls"
          }
        },
        "5442aba0aefa4cbfaedc29fc340cea18": {
          "model_module": "@jupyter-widgets/base",
          "model_name": "LayoutModel",
          "model_module_version": "1.2.0",
          "state": {
            "_view_name": "LayoutView",
            "grid_template_rows": null,
            "right": null,
            "justify_content": null,
            "_view_module": "@jupyter-widgets/base",
            "overflow": null,
            "_model_module_version": "1.2.0",
            "_view_count": null,
            "flex_flow": null,
            "width": null,
            "min_width": null,
            "border": null,
            "align_items": null,
            "bottom": null,
            "_model_module": "@jupyter-widgets/base",
            "top": null,
            "grid_column": null,
            "overflow_y": null,
            "overflow_x": null,
            "grid_auto_flow": null,
            "grid_area": null,
            "grid_template_columns": null,
            "flex": null,
            "_model_name": "LayoutModel",
            "justify_items": null,
            "grid_row": null,
            "max_height": null,
            "align_content": null,
            "visibility": null,
            "align_self": null,
            "height": null,
            "min_height": null,
            "padding": null,
            "grid_auto_rows": null,
            "grid_gap": null,
            "max_width": null,
            "order": null,
            "_view_module_version": "1.2.0",
            "grid_template_areas": null,
            "object_position": null,
            "object_fit": null,
            "grid_auto_columns": null,
            "margin": null,
            "display": null,
            "left": null
          }
        },
        "5bdf3fff01974fb8ae16bf9de033026d": {
          "model_module": "@jupyter-widgets/controls",
          "model_name": "DescriptionStyleModel",
          "model_module_version": "1.5.0",
          "state": {
            "_view_name": "StyleView",
            "_model_name": "DescriptionStyleModel",
            "description_width": "",
            "_view_module": "@jupyter-widgets/base",
            "_model_module_version": "1.5.0",
            "_view_count": null,
            "_view_module_version": "1.2.0",
            "_model_module": "@jupyter-widgets/controls"
          }
        },
        "f19ef299540a436abd0e991ffbfa164b": {
          "model_module": "@jupyter-widgets/base",
          "model_name": "LayoutModel",
          "model_module_version": "1.2.0",
          "state": {
            "_view_name": "LayoutView",
            "grid_template_rows": null,
            "right": null,
            "justify_content": null,
            "_view_module": "@jupyter-widgets/base",
            "overflow": null,
            "_model_module_version": "1.2.0",
            "_view_count": null,
            "flex_flow": null,
            "width": null,
            "min_width": null,
            "border": null,
            "align_items": null,
            "bottom": null,
            "_model_module": "@jupyter-widgets/base",
            "top": null,
            "grid_column": null,
            "overflow_y": null,
            "overflow_x": null,
            "grid_auto_flow": null,
            "grid_area": null,
            "grid_template_columns": null,
            "flex": null,
            "_model_name": "LayoutModel",
            "justify_items": null,
            "grid_row": null,
            "max_height": null,
            "align_content": null,
            "visibility": null,
            "align_self": null,
            "height": null,
            "min_height": null,
            "padding": null,
            "grid_auto_rows": null,
            "grid_gap": null,
            "max_width": null,
            "order": null,
            "_view_module_version": "1.2.0",
            "grid_template_areas": null,
            "object_position": null,
            "object_fit": null,
            "grid_auto_columns": null,
            "margin": null,
            "display": null,
            "left": null
          }
        },
        "9005523de2784e67a330810a0234f045": {
          "model_module": "@jupyter-widgets/controls",
          "model_name": "HBoxModel",
          "model_module_version": "1.5.0",
          "state": {
            "_view_name": "HBoxView",
            "_dom_classes": [],
            "_model_name": "HBoxModel",
            "_view_module": "@jupyter-widgets/controls",
            "_model_module_version": "1.5.0",
            "_view_count": null,
            "_view_module_version": "1.5.0",
            "box_style": "",
            "layout": "IPY_MODEL_5c57438bef294ef6a3859574d82bb5fc",
            "_model_module": "@jupyter-widgets/controls",
            "children": [
              "IPY_MODEL_284135b0c9134f41a9deb172f307451a",
              "IPY_MODEL_5ee15b03cc544b7eaf6fb245cc62a135",
              "IPY_MODEL_3282e15e68bc406380260eba918f0a84"
            ]
          }
        },
        "5c57438bef294ef6a3859574d82bb5fc": {
          "model_module": "@jupyter-widgets/base",
          "model_name": "LayoutModel",
          "model_module_version": "1.2.0",
          "state": {
            "_view_name": "LayoutView",
            "grid_template_rows": null,
            "right": null,
            "justify_content": null,
            "_view_module": "@jupyter-widgets/base",
            "overflow": null,
            "_model_module_version": "1.2.0",
            "_view_count": null,
            "flex_flow": null,
            "width": null,
            "min_width": null,
            "border": null,
            "align_items": null,
            "bottom": null,
            "_model_module": "@jupyter-widgets/base",
            "top": null,
            "grid_column": null,
            "overflow_y": null,
            "overflow_x": null,
            "grid_auto_flow": null,
            "grid_area": null,
            "grid_template_columns": null,
            "flex": null,
            "_model_name": "LayoutModel",
            "justify_items": null,
            "grid_row": null,
            "max_height": null,
            "align_content": null,
            "visibility": null,
            "align_self": null,
            "height": null,
            "min_height": null,
            "padding": null,
            "grid_auto_rows": null,
            "grid_gap": null,
            "max_width": null,
            "order": null,
            "_view_module_version": "1.2.0",
            "grid_template_areas": null,
            "object_position": null,
            "object_fit": null,
            "grid_auto_columns": null,
            "margin": null,
            "display": null,
            "left": null
          }
        },
        "284135b0c9134f41a9deb172f307451a": {
          "model_module": "@jupyter-widgets/controls",
          "model_name": "HTMLModel",
          "model_module_version": "1.5.0",
          "state": {
            "_view_name": "HTMLView",
            "style": "IPY_MODEL_fdc45a3ac1ee4a4bb682b62f8a4e65c4",
            "_dom_classes": [],
            "description": "",
            "_model_name": "HTMLModel",
            "placeholder": "​",
            "_view_module": "@jupyter-widgets/controls",
            "_model_module_version": "1.5.0",
            "value": "Downloading: 100%",
            "_view_count": null,
            "_view_module_version": "1.5.0",
            "description_tooltip": null,
            "_model_module": "@jupyter-widgets/controls",
            "layout": "IPY_MODEL_c3c84ea1ccd24934ab0646c42ee11f5e"
          }
        },
        "5ee15b03cc544b7eaf6fb245cc62a135": {
          "model_module": "@jupyter-widgets/controls",
          "model_name": "FloatProgressModel",
          "model_module_version": "1.5.0",
          "state": {
            "_view_name": "ProgressView",
            "style": "IPY_MODEL_02eccfab52f6461495b3740364f6b93d",
            "_dom_classes": [],
            "description": "",
            "_model_name": "FloatProgressModel",
            "bar_style": "success",
            "max": 548118077,
            "_view_module": "@jupyter-widgets/controls",
            "_model_module_version": "1.5.0",
            "value": 548118077,
            "_view_count": null,
            "_view_module_version": "1.5.0",
            "orientation": "horizontal",
            "min": 0,
            "description_tooltip": null,
            "_model_module": "@jupyter-widgets/controls",
            "layout": "IPY_MODEL_a1ea5d0bda4c484b8ea22dd3f18c2c23"
          }
        },
        "3282e15e68bc406380260eba918f0a84": {
          "model_module": "@jupyter-widgets/controls",
          "model_name": "HTMLModel",
          "model_module_version": "1.5.0",
          "state": {
            "_view_name": "HTMLView",
            "style": "IPY_MODEL_1d1c5527a717494da6e3df8c93bf4299",
            "_dom_classes": [],
            "description": "",
            "_model_name": "HTMLModel",
            "placeholder": "​",
            "_view_module": "@jupyter-widgets/controls",
            "_model_module_version": "1.5.0",
            "value": " 523M/523M [00:15&lt;00:00, 35.7MB/s]",
            "_view_count": null,
            "_view_module_version": "1.5.0",
            "description_tooltip": null,
            "_model_module": "@jupyter-widgets/controls",
            "layout": "IPY_MODEL_ebe5d37c93b24a20b9bb2c17b816871b"
          }
        },
        "fdc45a3ac1ee4a4bb682b62f8a4e65c4": {
          "model_module": "@jupyter-widgets/controls",
          "model_name": "DescriptionStyleModel",
          "model_module_version": "1.5.0",
          "state": {
            "_view_name": "StyleView",
            "_model_name": "DescriptionStyleModel",
            "description_width": "",
            "_view_module": "@jupyter-widgets/base",
            "_model_module_version": "1.5.0",
            "_view_count": null,
            "_view_module_version": "1.2.0",
            "_model_module": "@jupyter-widgets/controls"
          }
        },
        "c3c84ea1ccd24934ab0646c42ee11f5e": {
          "model_module": "@jupyter-widgets/base",
          "model_name": "LayoutModel",
          "model_module_version": "1.2.0",
          "state": {
            "_view_name": "LayoutView",
            "grid_template_rows": null,
            "right": null,
            "justify_content": null,
            "_view_module": "@jupyter-widgets/base",
            "overflow": null,
            "_model_module_version": "1.2.0",
            "_view_count": null,
            "flex_flow": null,
            "width": null,
            "min_width": null,
            "border": null,
            "align_items": null,
            "bottom": null,
            "_model_module": "@jupyter-widgets/base",
            "top": null,
            "grid_column": null,
            "overflow_y": null,
            "overflow_x": null,
            "grid_auto_flow": null,
            "grid_area": null,
            "grid_template_columns": null,
            "flex": null,
            "_model_name": "LayoutModel",
            "justify_items": null,
            "grid_row": null,
            "max_height": null,
            "align_content": null,
            "visibility": null,
            "align_self": null,
            "height": null,
            "min_height": null,
            "padding": null,
            "grid_auto_rows": null,
            "grid_gap": null,
            "max_width": null,
            "order": null,
            "_view_module_version": "1.2.0",
            "grid_template_areas": null,
            "object_position": null,
            "object_fit": null,
            "grid_auto_columns": null,
            "margin": null,
            "display": null,
            "left": null
          }
        },
        "02eccfab52f6461495b3740364f6b93d": {
          "model_module": "@jupyter-widgets/controls",
          "model_name": "ProgressStyleModel",
          "model_module_version": "1.5.0",
          "state": {
            "_view_name": "StyleView",
            "_model_name": "ProgressStyleModel",
            "description_width": "",
            "_view_module": "@jupyter-widgets/base",
            "_model_module_version": "1.5.0",
            "_view_count": null,
            "_view_module_version": "1.2.0",
            "bar_color": null,
            "_model_module": "@jupyter-widgets/controls"
          }
        },
        "a1ea5d0bda4c484b8ea22dd3f18c2c23": {
          "model_module": "@jupyter-widgets/base",
          "model_name": "LayoutModel",
          "model_module_version": "1.2.0",
          "state": {
            "_view_name": "LayoutView",
            "grid_template_rows": null,
            "right": null,
            "justify_content": null,
            "_view_module": "@jupyter-widgets/base",
            "overflow": null,
            "_model_module_version": "1.2.0",
            "_view_count": null,
            "flex_flow": null,
            "width": null,
            "min_width": null,
            "border": null,
            "align_items": null,
            "bottom": null,
            "_model_module": "@jupyter-widgets/base",
            "top": null,
            "grid_column": null,
            "overflow_y": null,
            "overflow_x": null,
            "grid_auto_flow": null,
            "grid_area": null,
            "grid_template_columns": null,
            "flex": null,
            "_model_name": "LayoutModel",
            "justify_items": null,
            "grid_row": null,
            "max_height": null,
            "align_content": null,
            "visibility": null,
            "align_self": null,
            "height": null,
            "min_height": null,
            "padding": null,
            "grid_auto_rows": null,
            "grid_gap": null,
            "max_width": null,
            "order": null,
            "_view_module_version": "1.2.0",
            "grid_template_areas": null,
            "object_position": null,
            "object_fit": null,
            "grid_auto_columns": null,
            "margin": null,
            "display": null,
            "left": null
          }
        },
        "1d1c5527a717494da6e3df8c93bf4299": {
          "model_module": "@jupyter-widgets/controls",
          "model_name": "DescriptionStyleModel",
          "model_module_version": "1.5.0",
          "state": {
            "_view_name": "StyleView",
            "_model_name": "DescriptionStyleModel",
            "description_width": "",
            "_view_module": "@jupyter-widgets/base",
            "_model_module_version": "1.5.0",
            "_view_count": null,
            "_view_module_version": "1.2.0",
            "_model_module": "@jupyter-widgets/controls"
          }
        },
        "ebe5d37c93b24a20b9bb2c17b816871b": {
          "model_module": "@jupyter-widgets/base",
          "model_name": "LayoutModel",
          "model_module_version": "1.2.0",
          "state": {
            "_view_name": "LayoutView",
            "grid_template_rows": null,
            "right": null,
            "justify_content": null,
            "_view_module": "@jupyter-widgets/base",
            "overflow": null,
            "_model_module_version": "1.2.0",
            "_view_count": null,
            "flex_flow": null,
            "width": null,
            "min_width": null,
            "border": null,
            "align_items": null,
            "bottom": null,
            "_model_module": "@jupyter-widgets/base",
            "top": null,
            "grid_column": null,
            "overflow_y": null,
            "overflow_x": null,
            "grid_auto_flow": null,
            "grid_area": null,
            "grid_template_columns": null,
            "flex": null,
            "_model_name": "LayoutModel",
            "justify_items": null,
            "grid_row": null,
            "max_height": null,
            "align_content": null,
            "visibility": null,
            "align_self": null,
            "height": null,
            "min_height": null,
            "padding": null,
            "grid_auto_rows": null,
            "grid_gap": null,
            "max_width": null,
            "order": null,
            "_view_module_version": "1.2.0",
            "grid_template_areas": null,
            "object_position": null,
            "object_fit": null,
            "grid_auto_columns": null,
            "margin": null,
            "display": null,
            "left": null
          }
        }
      }
    }
  },
  "cells": [
    {
      "cell_type": "markdown",
      "metadata": {
        "id": "view-in-github",
        "colab_type": "text"
      },
      "source": [
        "<a href=\"https://colab.research.google.com/github/ez314/Fake-Reviews-Project/blob/main/GPT2_Control_Generation.ipynb\" target=\"_parent\"><img src=\"https://colab.research.google.com/assets/colab-badge.svg\" alt=\"Open In Colab\"/></a>"
      ]
    },
    {
      "cell_type": "markdown",
      "source": [
        "gpt2 control generation in active development\n",
        "\n",
        "Future Work\n",
        "- Categories\n",
        "  - ~~Infer amazon category name from data~~ Done\n",
        "  - Randomize order?\n",
        "  - Prune products without categories?\n",
        "- Model Robustness\n",
        "  - ~~Pick an even distribution of ratings, to boost performance of less-common scores like 1.~~ Done, but it doesn't work that well?  \n",
        "- QoL\n",
        "  - ~~Use form fields for environment variables~~ Done\n",
        "  - Seed randomness across the entire model using a global seed\n",
        "  - Automatically model CG ratings distribution around the calculated OR ratings distribution\n",
        "- Data Generation\n",
        "  - Be able to generate review subjects alongside the body\n",
        "  - ~~Build CG/OR dataset just like in paper 2~~ Done"
      ],
      "metadata": {
        "id": "snIIl8xBWmKt"
      }
    },
    {
      "cell_type": "code",
      "source": [
        "#@title Configuration Variables\n",
        "\n",
        "#@markdown Workspace root folder\n",
        "WORKSPACE = '/content/drive/MyDrive/College/Classes/CS 4v98/CS 4v98 Shared Data/Workspace' #@param {type: \"string\"}\n",
        "\n",
        "#@markdown Category name be used in dataset URL replacement\n",
        "CATEGORY_NAME_URL = 'Automotive' #@param {type: \"string\"}\n",
        "\n",
        "#@markdown Category name to be used for save files\n",
        "CATEGORY_NAME_SIMPLE = \"Automotive\" #@param {type: \"string\"}\n",
        "\n",
        "#@markdown Maximum number of reviews to use from the training set\n",
        "NUM_REVIEWS =  50000#@param {type: \"number\"}\n",
        "\n",
        "#@markdown Number of categories to use\n",
        "NUM_CATEGORIES =  5#@param {type: \"number\"}\n",
        "\n",
        "#@markdown Language Model\n",
        "MODEL = 'gpt2' #@param ['gpt2']\n",
        "\n",
        "#@markdown Version to be used for save files\n",
        "CODE_VER =  6#@param {type: \"number\"}\n",
        "#@markdown ---\n",
        "\n",
        "CODE_VER = f'v{CODE_VER}'"
      ],
      "metadata": {
        "cellView": "form",
        "id": "gprveN4TlI77"
      },
      "execution_count": 2,
      "outputs": []
    },
    {
      "cell_type": "markdown",
      "source": [
        "## Python and Env Configuration"
      ],
      "metadata": {
        "id": "I7Vq7v1ulvWw"
      }
    },
    {
      "cell_type": "markdown",
      "source": [
        "#### Mount Google Drive"
      ],
      "metadata": {
        "id": "4mFK5nFMExRZ"
      }
    },
    {
      "cell_type": "code",
      "source": [
        "from google.colab import drive\n",
        "drive.mount('/content/drive')"
      ],
      "metadata": {
        "id": "Y_z_9jGtdu7j",
        "colab": {
          "base_uri": "https://localhost:8080/"
        },
        "outputId": "34cf67c0-0870-491b-902c-1eb5befa3162"
      },
      "execution_count": 3,
      "outputs": [
        {
          "output_type": "stream",
          "name": "stdout",
          "text": [
            "Mounted at /content/drive\n"
          ]
        }
      ]
    },
    {
      "cell_type": "markdown",
      "source": [
        "#### Pip install"
      ],
      "metadata": {
        "id": "Ow2m2CPIE36y"
      }
    },
    {
      "cell_type": "code",
      "source": [
        "!pip install -q transformers sentencepiece\n",
        "!pip install -q fastai --upgrade"
      ],
      "metadata": {
        "id": "kbM26EfVgwhk",
        "colab": {
          "base_uri": "https://localhost:8080/"
        },
        "outputId": "497f9c45-019f-4e0f-c975-155ee3e223b3"
      },
      "execution_count": 4,
      "outputs": [
        {
          "output_type": "stream",
          "name": "stdout",
          "text": [
            "\u001b[K     |████████████████████████████████| 3.8 MB 4.0 MB/s \n",
            "\u001b[K     |████████████████████████████████| 1.2 MB 35.6 MB/s \n",
            "\u001b[K     |████████████████████████████████| 6.5 MB 43.3 MB/s \n",
            "\u001b[K     |████████████████████████████████| 67 kB 5.0 MB/s \n",
            "\u001b[K     |████████████████████████████████| 596 kB 39.1 MB/s \n",
            "\u001b[K     |████████████████████████████████| 895 kB 47.6 MB/s \n",
            "\u001b[K     |████████████████████████████████| 189 kB 4.1 MB/s \n",
            "\u001b[K     |████████████████████████████████| 55 kB 3.8 MB/s \n",
            "\u001b[?25h"
          ]
        }
      ]
    },
    {
      "cell_type": "markdown",
      "source": [
        "#### Python imports"
      ],
      "metadata": {
        "id": "MTLMgTtjE5rp"
      }
    },
    {
      "cell_type": "code",
      "source": [
        "import os, gzip, json, gc, re, random\n",
        "from collections import Counter, defaultdict\n",
        "import pandas as pd\n",
        "from sklearn.model_selection import train_test_split\n",
        "from transformers import AutoTokenizer, AutoConfig, AutoModelForPreTraining\n",
        "from fastai.text.all import *"
      ],
      "metadata": {
        "id": "F51TJkNJerUS"
      },
      "execution_count": 5,
      "outputs": []
    },
    {
      "cell_type": "markdown",
      "source": [
        "### Set environment and constants"
      ],
      "metadata": {
        "id": "G9YITzYdE_4w"
      }
    },
    {
      "cell_type": "code",
      "execution_count": 6,
      "metadata": {
        "id": "Jm3nQGj5dp5j",
        "colab": {
          "base_uri": "https://localhost:8080/"
        },
        "outputId": "083d761c-b528-4a83-a255-9a47096ed904"
      },
      "outputs": [
        {
          "output_type": "stream",
          "name": "stdout",
          "text": [
            "env: WORKSPACE=/content/drive/MyDrive/College/Classes/CS 4v98/CS 4v98 Shared Data/Workspace\n",
            "env: CATEGORY_NAME_URL=Automotive\n",
            "env: CATEGORY_NAME_SIMPLE=Automotive\n",
            "/content/drive/MyDrive/College/Classes/CS 4v98/CS 4v98 Shared Data/Workspace\n"
          ]
        }
      ],
      "source": [
        "# Set environment variables\n",
        "%set_env WORKSPACE $WORKSPACE\n",
        "%set_env CATEGORY_NAME_URL $CATEGORY_NAME_URL\n",
        "%set_env CATEGORY_NAME_SIMPLE $CATEGORY_NAME_SIMPLE\n",
        "\n",
        "# Set python constants/configs\n",
        "SPECIAL_TOKENS  = { \"bos_token\": \"<|BOS|>\",\n",
        "                    \"eos_token\": \"<|EOS|>\",\n",
        "                    \"unk_token\": \"<|UNK|>\",\n",
        "                    \"pad_token\": \"<|PAD|>\",\n",
        "                    \"sep_token\": \"<|SEP|>\"}\n",
        "\n",
        "# Set dir to WORKSPACE\n",
        "%cd $WORKSPACE\n",
        "\n",
        "# Initialize numpy RNG\n",
        "rng = np.random.default_rng()"
      ]
    },
    {
      "cell_type": "markdown",
      "source": [
        "## Load Data"
      ],
      "metadata": {
        "id": "5JHK3qOICgFd"
      }
    },
    {
      "cell_type": "markdown",
      "source": [
        "### [Skip after first time] Fetch data from source, process, and save"
      ],
      "metadata": {
        "id": "5CiY_QhmXvPq"
      }
    },
    {
      "cell_type": "markdown",
      "source": [
        "#### Download and extract data"
      ],
      "metadata": {
        "id": "zn6JzvwBCazg"
      }
    },
    {
      "cell_type": "code",
      "source": [
        "%%bash\n",
        "\n",
        "download_and_extract() {\n",
        "  local filename=`basename \"$1\"`\n",
        "  local filename_ex=${filename%.gz}\n",
        "\n",
        "  # Extract file if json not there\n",
        "  if [ ! -f \"$filename_ex\" ]\n",
        "  then\n",
        "    # Download original file if not there\n",
        "    if [ ! -f \"$filename\" ]\n",
        "    then\n",
        "      echo \"Downloading $filename\"\n",
        "      wget -q \"$1\"\n",
        "    fi\n",
        "    echo \"Extracting to $filename_ex\"\n",
        "    gzip -d \"$filename\"\n",
        "  else\n",
        "    echo \"Nothing to do: $filename_ex already exists\"\n",
        "  fi\n",
        "}\n",
        "\n",
        "download_and_extract \"http://deepyeti.ucsd.edu/jianmo/amazon/categoryFiles/\"$CATEGORY_NAME_URL\".json.gz\"\n",
        "download_and_extract \"http://deepyeti.ucsd.edu/jianmo/amazon/metaFiles2/meta_\"$CATEGORY_NAME_URL\".json.gz\""
      ],
      "metadata": {
        "id": "ACEbDGRKeCdP",
        "colab": {
          "base_uri": "https://localhost:8080/"
        },
        "outputId": "b8dca625-14bb-453a-dc8c-cd1937affc3f"
      },
      "execution_count": 12,
      "outputs": [
        {
          "output_type": "stream",
          "name": "stdout",
          "text": [
            "Nothing to do: Automotive.json already exists\n",
            "Nothing to do: meta_Automotive.json already exists\n"
          ]
        }
      ]
    },
    {
      "cell_type": "markdown",
      "source": [
        "#### Load all metadata into memory"
      ],
      "metadata": {
        "id": "emiGz28bCep4"
      }
    },
    {
      "cell_type": "code",
      "source": [
        "%%time\n",
        "\n",
        "# Load unzpped metadata into memory\n",
        "metadata = {}\n",
        "useless_categories = None\n",
        "with open(f'meta_{CATEGORY_NAME_URL}.json') as f:\n",
        "  counter = 0\n",
        "  for l in f:\n",
        "    counter += 1\n",
        "    if counter % 100000 == 0:\n",
        "      print(f'Loading item number {counter}')\n",
        "    j = json.loads(l.strip())\n",
        "\n",
        "    # Ensure category is list of str\n",
        "    # if type(j['category']) is not list or any(type(x) is not str for x in j['category']):\n",
        "    #   print('uh oh!', j)\n",
        "\n",
        "    # Remove any surrounding spaces from the category\n",
        "    category = [x.strip() for x in j['category']]\n",
        "\n",
        "    # Only load fields you will use! Otherwise, memory usage is extremely high.\n",
        "    metadata[j['asin']] = {\n",
        "        'title': j['title'],\n",
        "        'category': category\n",
        "    }\n",
        "\n",
        "    # Track useless categories\n",
        "    if category: \n",
        "      if useless_categories is None:\n",
        "        useless_categories = set(category)\n",
        "      else:\n",
        "        useless_categories = useless_categories & set(category)\n",
        "\n",
        "\n",
        "# Convert categories to string, after removing any useless ones\n",
        "if useless_categories is None:\n",
        "  useless_categories = set()\n",
        "for m in metadata.values():\n",
        "  filtered_categories = list(filter(lambda x: x not in useless_categories, m['category']))\n",
        "  fixed_size_categories = (\n",
        "      filtered_categories[:NUM_CATEGORIES] + \n",
        "      [SPECIAL_TOKENS['unk_token']] * max(0, NUM_CATEGORIES - len(filtered_categories))\n",
        "  )\n",
        "  m['category'] = SPECIAL_TOKENS['sep_token'].join(fixed_size_categories)\n",
        "\n",
        "# total length of list, this number equals total number of products\n",
        "print(f'Loaded {len(metadata)} items')\n",
        "print(f'Pruned useless categories: {\", \".join(useless_categories)}')\n"
      ],
      "metadata": {
        "colab": {
          "base_uri": "https://localhost:8080/"
        },
        "id": "bfj-TOCseQwO",
        "outputId": "fc8e3534-9d74-4620-a55a-c18c84cf4718"
      },
      "execution_count": 37,
      "outputs": [
        {
          "output_type": "stream",
          "name": "stdout",
          "text": [
            "Loading item number 100000\n",
            "Loading item number 200000\n",
            "Loading item number 300000\n",
            "Loading item number 400000\n",
            "Loading item number 500000\n",
            "Loading item number 600000\n",
            "Loading item number 700000\n",
            "Loading item number 800000\n",
            "Loading item number 900000\n",
            "Loaded 924693 items\n",
            "Pruned useless categories: Automotive\n",
            "CPU times: user 3min 2s, sys: 22.8 s, total: 3min 25s\n",
            "Wall time: 4min 54s\n"
          ]
        }
      ]
    },
    {
      "cell_type": "markdown",
      "source": [
        "#### Load all reviews into memory"
      ],
      "metadata": {
        "id": "6mD6aH9_Cjll"
      }
    },
    {
      "cell_type": "code",
      "source": [
        "# Build training data and store to reviews (defaultdict of rating -> list(review))\n",
        "reviews = defaultdict(list)\n",
        "with open(f'{CATEGORY_NAME_URL}.json') as f:\n",
        "  i = 0\n",
        "  for l in f:\n",
        "    j = json.loads(l.strip())\n",
        "\n",
        "    # Filter unusable reviews\n",
        "    if 'summary' not in j or 'reviewText' not in j or j['asin'] not in metadata:\n",
        "      continue\n",
        "\n",
        "    # Increment counter, break if loaded enough reviews, print progress\n",
        "    # \"Enough\" defined as NUM_REVIEWS*20, tolerates each category making up >= 5% of reviews\n",
        "    i += 1\n",
        "    if i > NUM_REVIEWS * 10:\n",
        "      break\n",
        "    if i % 500000 == 0:\n",
        "      print(f'Loading review number {i}')\n",
        "\n",
        "    prod_meta = metadata[j['asin']]\n",
        "    rating = str(int(j[\"overall\"]))\n",
        "\n",
        "    # Why not build the string right now? Uses too much memory :(\n",
        "    # Track relevant info for each review\n",
        "    reviews[rating].append((j['asin'], rating, j['reviewText']))"
      ],
      "metadata": {
        "colab": {
          "base_uri": "https://localhost:8080/"
        },
        "id": "vPjh4vG-bxbu",
        "outputId": "b646999d-af24-4999-c15a-f9c7ee854ac3"
      },
      "execution_count": 44,
      "outputs": [
        {
          "output_type": "stream",
          "name": "stdout",
          "text": [
            "Loading review number 500000\n"
          ]
        }
      ]
    },
    {
      "cell_type": "markdown",
      "source": [
        "#### Take an even distribution of reviews from each rating"
      ],
      "metadata": {
        "id": "95lNe57udS7B"
      }
    },
    {
      "cell_type": "code",
      "source": [
        "# Keep track of which product ASINs we haven't looked at. These are guaranteed to not appear in training data\n",
        "unseen_asins = set(metadata.keys())\n",
        "\n",
        "# Calculate how many reviews we want to look at\n",
        "NUM_REVIEWS_PER_RATING = NUM_REVIEWS // len(reviews.keys())\n",
        "\n",
        "# Build dataframe of actual training set\n",
        "all_reviews = []\n",
        "ratings = list(reviews.keys())\n",
        "for rating in ratings:\n",
        "  print(f'Sampling {NUM_REVIEWS_PER_RATING}/{len(reviews[rating])} reviews with rating of {rating}.')\n",
        "\n",
        "  # Pick NUM_REVIEWS_PER_RATING ratings at random to include\n",
        "  for asin, rating, reviewText in random.sample(reviews[rating], NUM_REVIEWS_PER_RATING):\n",
        "    prod_meta = metadata[asin]\n",
        "    all_reviews.append((        \n",
        "        SPECIAL_TOKENS['bos_token'] + prod_meta['title'] + \\\n",
        "        SPECIAL_TOKENS['sep_token'] + prod_meta['category'] + \\\n",
        "        SPECIAL_TOKENS['sep_token'] + rating + \\\n",
        "        SPECIAL_TOKENS['sep_token'] + reviewText + \\\n",
        "        SPECIAL_TOKENS['eos_token']\n",
        "    ))\n",
        "    # Track products which are not in the training data\n",
        "    if asin in unseen_asins:\n",
        "      unseen_asins.remove(asin)\n",
        "\n",
        "all_reviews = pd.DataFrame(all_reviews, columns=[\"reviewText\"])\n",
        "all_reviews.to_csv(f'{CATEGORY_NAME_SIMPLE}_processed_{CODE_VER}.csv', index=False)"
      ],
      "metadata": {
        "colab": {
          "base_uri": "https://localhost:8080/"
        },
        "id": "aqEXwfh5VyA8",
        "outputId": "14364ac5-8af5-4a5f-af1f-9359ab3a899b"
      },
      "execution_count": 46,
      "outputs": [
        {
          "output_type": "stream",
          "name": "stdout",
          "text": [
            "Sampling 10000/344584 reviews with rating of 5.\n",
            "Sampling 10000/29586 reviews with rating of 3.\n",
            "Sampling 10000/36233 reviews with rating of 1.\n",
            "Sampling 10000/71775 reviews with rating of 4.\n",
            "Sampling 10000/17822 reviews with rating of 2.\n"
          ]
        }
      ]
    },
    {
      "cell_type": "markdown",
      "source": [
        "#### Manual inspection"
      ],
      "metadata": {
        "id": "1zLmXNMhCpjh"
      }
    },
    {
      "cell_type": "code",
      "source": [
        "all_reviews.head() # Make sure the data looks right"
      ],
      "metadata": {
        "id": "csPlt8OzfD_9",
        "colab": {
          "base_uri": "https://localhost:8080/",
          "height": 0
        },
        "outputId": "455cccd6-0e9d-4e49-e6e0-5f7ed2652404"
      },
      "execution_count": 47,
      "outputs": [
        {
          "output_type": "execute_result",
          "data": {
            "text/html": [
              "\n",
              "  <div id=\"df-320f27d2-6c11-4d3d-9d24-3b4b023b3050\">\n",
              "    <div class=\"colab-df-container\">\n",
              "      <div>\n",
              "<style scoped>\n",
              "    .dataframe tbody tr th:only-of-type {\n",
              "        vertical-align: middle;\n",
              "    }\n",
              "\n",
              "    .dataframe tbody tr th {\n",
              "        vertical-align: top;\n",
              "    }\n",
              "\n",
              "    .dataframe thead th {\n",
              "        text-align: right;\n",
              "    }\n",
              "</style>\n",
              "<table border=\"1\" class=\"dataframe\">\n",
              "  <thead>\n",
              "    <tr style=\"text-align: right;\">\n",
              "      <th></th>\n",
              "      <th>reviewText</th>\n",
              "    </tr>\n",
              "  </thead>\n",
              "  <tbody>\n",
              "    <tr>\n",
              "      <th>0</th>\n",
              "      <td>&lt;|BOS|&gt;Meguiar's M6732 Marine/RV One Step Compound, 32 oz&lt;|SEP|&gt;Car Care&lt;|SEP|&gt;Exterior Care&lt;|SEP|&gt;Car Polishes &amp; Waxes&lt;|SEP|&gt;Chrome &amp; Metal Polishes&lt;|SEP|&gt;Metal Polishes&lt;|SEP|&gt;5&lt;|SEP|&gt;Good product&lt;|EOS|&gt;</td>\n",
              "    </tr>\n",
              "    <tr>\n",
              "      <th>1</th>\n",
              "      <td>&lt;|BOS|&gt;Fel-Pro VS50461R Valve Cover Set&lt;|SEP|&gt;Replacement Parts&lt;|SEP|&gt;Gaskets&lt;|SEP|&gt;Valve Cover &amp; Stem&lt;|SEP|&gt;Valve Cover Gasket Sets&lt;|SEP|&gt;&lt;|UNK|&gt;&lt;|SEP|&gt;5&lt;|SEP|&gt;6 months ago I got this, and it still protecting from leaks. a bit hard to fit (one cover was a bit longer) but nothing to worry about.&lt;|EOS|&gt;</td>\n",
              "    </tr>\n",
              "    <tr>\n",
              "      <th>2</th>\n",
              "      <td>&lt;|BOS|&gt;Dupli-Color NGGM516 Gold Metallic General Motors Exact-Match Touch-up Paint - 0.5 oz.&lt;|SEP|&gt;Paint &amp;amp; Paint Supplies&lt;|SEP|&gt;Paints &amp;amp; Primers&lt;|SEP|&gt;Touchup Paint&lt;|SEP|&gt;&lt;|UNK|&gt;&lt;|SEP|&gt;&lt;|UNK|&gt;&lt;|SEP|&gt;5&lt;|SEP|&gt;Color matched beautifully.  A few days later I went back around my truck to find some of the touch-ups and I could only find one rough spot.&lt;|EOS|&gt;</td>\n",
              "    </tr>\n",
              "    <tr>\n",
              "      <th>3</th>\n",
              "      <td>&lt;|BOS|&gt;Battery Tender Plus 021-0128, 1.25 Amp Battery Charger is a Smart Charger, it will Fully Charge and Maintain a Battery at Proper Storage Voltage without the Damaging Effects Caused by Trickle Chargers&lt;|SEP|&gt;Tools &amp; Equipment&lt;|SEP|&gt;Jump Starters, Battery Chargers &amp; Portable Power&lt;|SEP|&gt;Battery Chargers&lt;|SEP|&gt;&lt;|UNK|&gt;&lt;|SEP|&gt;&lt;|UNK|&gt;&lt;|SEP|&gt;5&lt;|SEP|&gt;Time will tell, but this battery tender appears to be very well made. The unit is pretty compact and solidly built. I am not a fan of plastic in my garage. It typically indicates to me that the manufacturer is looking to cut costs and maximize ...</td>\n",
              "    </tr>\n",
              "    <tr>\n",
              "      <th>4</th>\n",
              "      <td>&lt;|BOS|&gt;Dorman HELP! 38416 Door Hinge Pin and Bushing Kit&lt;|SEP|&gt;Replacement Parts&lt;|SEP|&gt;Body &amp;amp; Trim&lt;|SEP|&gt;Body&lt;|SEP|&gt;Doors&lt;|SEP|&gt;&lt;|UNK|&gt;&lt;|SEP|&gt;5&lt;|SEP|&gt;aaa&lt;|EOS|&gt;</td>\n",
              "    </tr>\n",
              "  </tbody>\n",
              "</table>\n",
              "</div>\n",
              "      <button class=\"colab-df-convert\" onclick=\"convertToInteractive('df-320f27d2-6c11-4d3d-9d24-3b4b023b3050')\"\n",
              "              title=\"Convert this dataframe to an interactive table.\"\n",
              "              style=\"display:none;\">\n",
              "        \n",
              "  <svg xmlns=\"http://www.w3.org/2000/svg\" height=\"24px\"viewBox=\"0 0 24 24\"\n",
              "       width=\"24px\">\n",
              "    <path d=\"M0 0h24v24H0V0z\" fill=\"none\"/>\n",
              "    <path d=\"M18.56 5.44l.94 2.06.94-2.06 2.06-.94-2.06-.94-.94-2.06-.94 2.06-2.06.94zm-11 1L8.5 8.5l.94-2.06 2.06-.94-2.06-.94L8.5 2.5l-.94 2.06-2.06.94zm10 10l.94 2.06.94-2.06 2.06-.94-2.06-.94-.94-2.06-.94 2.06-2.06.94z\"/><path d=\"M17.41 7.96l-1.37-1.37c-.4-.4-.92-.59-1.43-.59-.52 0-1.04.2-1.43.59L10.3 9.45l-7.72 7.72c-.78.78-.78 2.05 0 2.83L4 21.41c.39.39.9.59 1.41.59.51 0 1.02-.2 1.41-.59l7.78-7.78 2.81-2.81c.8-.78.8-2.07 0-2.86zM5.41 20L4 18.59l7.72-7.72 1.47 1.35L5.41 20z\"/>\n",
              "  </svg>\n",
              "      </button>\n",
              "      \n",
              "  <style>\n",
              "    .colab-df-container {\n",
              "      display:flex;\n",
              "      flex-wrap:wrap;\n",
              "      gap: 12px;\n",
              "    }\n",
              "\n",
              "    .colab-df-convert {\n",
              "      background-color: #E8F0FE;\n",
              "      border: none;\n",
              "      border-radius: 50%;\n",
              "      cursor: pointer;\n",
              "      display: none;\n",
              "      fill: #1967D2;\n",
              "      height: 32px;\n",
              "      padding: 0 0 0 0;\n",
              "      width: 32px;\n",
              "    }\n",
              "\n",
              "    .colab-df-convert:hover {\n",
              "      background-color: #E2EBFA;\n",
              "      box-shadow: 0px 1px 2px rgba(60, 64, 67, 0.3), 0px 1px 3px 1px rgba(60, 64, 67, 0.15);\n",
              "      fill: #174EA6;\n",
              "    }\n",
              "\n",
              "    [theme=dark] .colab-df-convert {\n",
              "      background-color: #3B4455;\n",
              "      fill: #D2E3FC;\n",
              "    }\n",
              "\n",
              "    [theme=dark] .colab-df-convert:hover {\n",
              "      background-color: #434B5C;\n",
              "      box-shadow: 0px 1px 3px 1px rgba(0, 0, 0, 0.15);\n",
              "      filter: drop-shadow(0px 1px 2px rgba(0, 0, 0, 0.3));\n",
              "      fill: #FFFFFF;\n",
              "    }\n",
              "  </style>\n",
              "\n",
              "      <script>\n",
              "        const buttonEl =\n",
              "          document.querySelector('#df-320f27d2-6c11-4d3d-9d24-3b4b023b3050 button.colab-df-convert');\n",
              "        buttonEl.style.display =\n",
              "          google.colab.kernel.accessAllowed ? 'block' : 'none';\n",
              "\n",
              "        async function convertToInteractive(key) {\n",
              "          const element = document.querySelector('#df-320f27d2-6c11-4d3d-9d24-3b4b023b3050');\n",
              "          const dataTable =\n",
              "            await google.colab.kernel.invokeFunction('convertToInteractive',\n",
              "                                                     [key], {});\n",
              "          if (!dataTable) return;\n",
              "\n",
              "          const docLinkHtml = 'Like what you see? Visit the ' +\n",
              "            '<a target=\"_blank\" href=https://colab.research.google.com/notebooks/data_table.ipynb>data table notebook</a>'\n",
              "            + ' to learn more about interactive tables.';\n",
              "          element.innerHTML = '';\n",
              "          dataTable['output_type'] = 'display_data';\n",
              "          await google.colab.output.renderOutput(dataTable, element);\n",
              "          const docLink = document.createElement('div');\n",
              "          docLink.innerHTML = docLinkHtml;\n",
              "          element.appendChild(docLink);\n",
              "        }\n",
              "      </script>\n",
              "    </div>\n",
              "  </div>\n",
              "  "
            ],
            "text/plain": [
              "                                                                                                                                                                                                                                                                                                                                                                                                                                                                                                                                                                                                                reviewText\n",
              "0                                                                                                                                                                                                                                                                                                                                                                                                             <|BOS|>Meguiar's M6732 Marine/RV One Step Compound, 32 oz<|SEP|>Car Care<|SEP|>Exterior Care<|SEP|>Car Polishes & Waxes<|SEP|>Chrome & Metal Polishes<|SEP|>Metal Polishes<|SEP|>5<|SEP|>Good product<|EOS|>\n",
              "1                                                                                                                                                                                                                                                                                                          <|BOS|>Fel-Pro VS50461R Valve Cover Set<|SEP|>Replacement Parts<|SEP|>Gaskets<|SEP|>Valve Cover & Stem<|SEP|>Valve Cover Gasket Sets<|SEP|><|UNK|><|SEP|>5<|SEP|>6 months ago I got this, and it still protecting from leaks. a bit hard to fit (one cover was a bit longer) but nothing to worry about.<|EOS|>\n",
              "2                                                                                                                                                                                                                                               <|BOS|>Dupli-Color NGGM516 Gold Metallic General Motors Exact-Match Touch-up Paint - 0.5 oz.<|SEP|>Paint &amp; Paint Supplies<|SEP|>Paints &amp; Primers<|SEP|>Touchup Paint<|SEP|><|UNK|><|SEP|><|UNK|><|SEP|>5<|SEP|>Color matched beautifully.  A few days later I went back around my truck to find some of the touch-ups and I could only find one rough spot.<|EOS|>\n",
              "3  <|BOS|>Battery Tender Plus 021-0128, 1.25 Amp Battery Charger is a Smart Charger, it will Fully Charge and Maintain a Battery at Proper Storage Voltage without the Damaging Effects Caused by Trickle Chargers<|SEP|>Tools & Equipment<|SEP|>Jump Starters, Battery Chargers & Portable Power<|SEP|>Battery Chargers<|SEP|><|UNK|><|SEP|><|UNK|><|SEP|>5<|SEP|>Time will tell, but this battery tender appears to be very well made. The unit is pretty compact and solidly built. I am not a fan of plastic in my garage. It typically indicates to me that the manufacturer is looking to cut costs and maximize ...\n",
              "4                                                                                                                                                                                                                                                                                                                                                                                                                                                     <|BOS|>Dorman HELP! 38416 Door Hinge Pin and Bushing Kit<|SEP|>Replacement Parts<|SEP|>Body &amp; Trim<|SEP|>Body<|SEP|>Doors<|SEP|><|UNK|><|SEP|>5<|SEP|>aaa<|EOS|>"
            ]
          },
          "metadata": {},
          "execution_count": 47
        }
      ]
    },
    {
      "cell_type": "markdown",
      "source": [
        "#### Build prompts from unseen ASINs set"
      ],
      "metadata": {
        "id": "h_B_jZnnCtnI"
      }
    },
    {
      "cell_type": "code",
      "source": [
        "%%time\n",
        "\n",
        "# Convert unseen asin set to prompts df\n",
        "prompts = {}\n",
        "for i, asin in enumerate(unseen_asins, 1):\n",
        "  prod_meta = metadata[asin]\n",
        "  prompts[i] = SPECIAL_TOKENS['bos_token'] + prod_meta['title'] + \\\n",
        "                SPECIAL_TOKENS['sep_token'] + prod_meta['category'] + \\\n",
        "                SPECIAL_TOKENS['sep_token']\n",
        "\n",
        "print(f'There are {len(prompts)} prompts available to test with')\n",
        "\n",
        "prompts = pd.DataFrame.from_dict(prompts, columns=[\"prompt\"], orient=\"index\")\n",
        "prompts.to_csv(f\"{CATEGORY_NAME_SIMPLE}_processed_{CODE_VER}_prompts.csv\", index=False)"
      ],
      "metadata": {
        "id": "Go72UsA9yYc5",
        "colab": {
          "base_uri": "https://localhost:8080/"
        },
        "outputId": "6bfed66f-923e-4e0f-ffcf-53e5a1b3cda9"
      },
      "execution_count": 48,
      "outputs": [
        {
          "output_type": "stream",
          "name": "stdout",
          "text": [
            "There are 919040 prompts available to test with\n",
            "CPU times: user 7.26 s, sys: 471 ms, total: 7.73 s\n",
            "Wall time: 8.56 s\n"
          ]
        }
      ]
    },
    {
      "cell_type": "code",
      "source": [
        "prompts.head()"
      ],
      "metadata": {
        "id": "cLmn-n3oySEF",
        "colab": {
          "base_uri": "https://localhost:8080/",
          "height": 285
        },
        "outputId": "6e8f4acc-672a-49cc-a5cb-aac751b55351"
      },
      "execution_count": 49,
      "outputs": [
        {
          "output_type": "execute_result",
          "data": {
            "text/html": [
              "\n",
              "  <div id=\"df-b5a7bb07-35cf-4dca-bbed-1b88b87fbec4\">\n",
              "    <div class=\"colab-df-container\">\n",
              "      <div>\n",
              "<style scoped>\n",
              "    .dataframe tbody tr th:only-of-type {\n",
              "        vertical-align: middle;\n",
              "    }\n",
              "\n",
              "    .dataframe tbody tr th {\n",
              "        vertical-align: top;\n",
              "    }\n",
              "\n",
              "    .dataframe thead th {\n",
              "        text-align: right;\n",
              "    }\n",
              "</style>\n",
              "<table border=\"1\" class=\"dataframe\">\n",
              "  <thead>\n",
              "    <tr style=\"text-align: right;\">\n",
              "      <th></th>\n",
              "      <th>prompt</th>\n",
              "    </tr>\n",
              "  </thead>\n",
              "  <tbody>\n",
              "    <tr>\n",
              "      <th>1</th>\n",
              "      <td>&lt;|BOS|&gt;Sunsong 3402813 Power Steering Pressure Hose Assembly (Toyota)&lt;|SEP|&gt;Replacement Parts&lt;|SEP|&gt;Steering System&lt;|SEP|&gt;Power Steering&lt;|SEP|&gt;Pressure Hoses&lt;|SEP|&gt;&lt;|UNK|&gt;&lt;|SEP|&gt;5&lt;|SEP|&gt;</td>\n",
              "    </tr>\n",
              "    <tr>\n",
              "      <th>2</th>\n",
              "      <td>&lt;|BOS|&gt;Preferhouse Cleaning Cloth 6 Pack Towels 12&amp;quot;x12&amp;quot; (Pink)&lt;|SEP|&gt;Car Care&lt;|SEP|&gt;Cleaning Kits&lt;|SEP|&gt;&lt;|UNK|&gt;&lt;|SEP|&gt;&lt;|UNK|&gt;&lt;|SEP|&gt;&lt;|UNK|&gt;&lt;|SEP|&gt;5&lt;|SEP|&gt;</td>\n",
              "    </tr>\n",
              "    <tr>\n",
              "      <th>3</th>\n",
              "      <td>&lt;|BOS|&gt;Spectra Premium Spectra Industrial Heater Core 99403&lt;|SEP|&gt;Replacement Parts&lt;|SEP|&gt;Engine Cooling &amp; Climate Control&lt;|SEP|&gt;Heating&lt;|SEP|&gt;Heaters&lt;|SEP|&gt;&lt;|UNK|&gt;&lt;|SEP|&gt;5&lt;|SEP|&gt;</td>\n",
              "    </tr>\n",
              "    <tr>\n",
              "      <th>4</th>\n",
              "      <td>&lt;|BOS|&gt;Moog T40269 Tie Rod End Tool&lt;|SEP|&gt;Replacement Parts&lt;|SEP|&gt;Shocks, Struts &amp; Suspension&lt;|SEP|&gt;Tie Rod Ends &amp; Parts&lt;|SEP|&gt;Tie Rod Ends&lt;|SEP|&gt;&lt;|UNK|&gt;&lt;|SEP|&gt;5&lt;|SEP|&gt;</td>\n",
              "    </tr>\n",
              "    <tr>\n",
              "      <th>5</th>\n",
              "      <td>&lt;|BOS|&gt;URO Parts 31 12 1 127 726 Front Right Control Arm&lt;|SEP|&gt;Replacement Parts&lt;|SEP|&gt;Shocks, Struts &amp; Suspension&lt;|SEP|&gt;Control Arms &amp; Parts&lt;|SEP|&gt;Control Arms&lt;|SEP|&gt;&lt;|UNK|&gt;&lt;|SEP|&gt;5&lt;|SEP|&gt;</td>\n",
              "    </tr>\n",
              "  </tbody>\n",
              "</table>\n",
              "</div>\n",
              "      <button class=\"colab-df-convert\" onclick=\"convertToInteractive('df-b5a7bb07-35cf-4dca-bbed-1b88b87fbec4')\"\n",
              "              title=\"Convert this dataframe to an interactive table.\"\n",
              "              style=\"display:none;\">\n",
              "        \n",
              "  <svg xmlns=\"http://www.w3.org/2000/svg\" height=\"24px\"viewBox=\"0 0 24 24\"\n",
              "       width=\"24px\">\n",
              "    <path d=\"M0 0h24v24H0V0z\" fill=\"none\"/>\n",
              "    <path d=\"M18.56 5.44l.94 2.06.94-2.06 2.06-.94-2.06-.94-.94-2.06-.94 2.06-2.06.94zm-11 1L8.5 8.5l.94-2.06 2.06-.94-2.06-.94L8.5 2.5l-.94 2.06-2.06.94zm10 10l.94 2.06.94-2.06 2.06-.94-2.06-.94-.94-2.06-.94 2.06-2.06.94z\"/><path d=\"M17.41 7.96l-1.37-1.37c-.4-.4-.92-.59-1.43-.59-.52 0-1.04.2-1.43.59L10.3 9.45l-7.72 7.72c-.78.78-.78 2.05 0 2.83L4 21.41c.39.39.9.59 1.41.59.51 0 1.02-.2 1.41-.59l7.78-7.78 2.81-2.81c.8-.78.8-2.07 0-2.86zM5.41 20L4 18.59l7.72-7.72 1.47 1.35L5.41 20z\"/>\n",
              "  </svg>\n",
              "      </button>\n",
              "      \n",
              "  <style>\n",
              "    .colab-df-container {\n",
              "      display:flex;\n",
              "      flex-wrap:wrap;\n",
              "      gap: 12px;\n",
              "    }\n",
              "\n",
              "    .colab-df-convert {\n",
              "      background-color: #E8F0FE;\n",
              "      border: none;\n",
              "      border-radius: 50%;\n",
              "      cursor: pointer;\n",
              "      display: none;\n",
              "      fill: #1967D2;\n",
              "      height: 32px;\n",
              "      padding: 0 0 0 0;\n",
              "      width: 32px;\n",
              "    }\n",
              "\n",
              "    .colab-df-convert:hover {\n",
              "      background-color: #E2EBFA;\n",
              "      box-shadow: 0px 1px 2px rgba(60, 64, 67, 0.3), 0px 1px 3px 1px rgba(60, 64, 67, 0.15);\n",
              "      fill: #174EA6;\n",
              "    }\n",
              "\n",
              "    [theme=dark] .colab-df-convert {\n",
              "      background-color: #3B4455;\n",
              "      fill: #D2E3FC;\n",
              "    }\n",
              "\n",
              "    [theme=dark] .colab-df-convert:hover {\n",
              "      background-color: #434B5C;\n",
              "      box-shadow: 0px 1px 3px 1px rgba(0, 0, 0, 0.15);\n",
              "      filter: drop-shadow(0px 1px 2px rgba(0, 0, 0, 0.3));\n",
              "      fill: #FFFFFF;\n",
              "    }\n",
              "  </style>\n",
              "\n",
              "      <script>\n",
              "        const buttonEl =\n",
              "          document.querySelector('#df-b5a7bb07-35cf-4dca-bbed-1b88b87fbec4 button.colab-df-convert');\n",
              "        buttonEl.style.display =\n",
              "          google.colab.kernel.accessAllowed ? 'block' : 'none';\n",
              "\n",
              "        async function convertToInteractive(key) {\n",
              "          const element = document.querySelector('#df-b5a7bb07-35cf-4dca-bbed-1b88b87fbec4');\n",
              "          const dataTable =\n",
              "            await google.colab.kernel.invokeFunction('convertToInteractive',\n",
              "                                                     [key], {});\n",
              "          if (!dataTable) return;\n",
              "\n",
              "          const docLinkHtml = 'Like what you see? Visit the ' +\n",
              "            '<a target=\"_blank\" href=https://colab.research.google.com/notebooks/data_table.ipynb>data table notebook</a>'\n",
              "            + ' to learn more about interactive tables.';\n",
              "          element.innerHTML = '';\n",
              "          dataTable['output_type'] = 'display_data';\n",
              "          await google.colab.output.renderOutput(dataTable, element);\n",
              "          const docLink = document.createElement('div');\n",
              "          docLink.innerHTML = docLinkHtml;\n",
              "          element.appendChild(docLink);\n",
              "        }\n",
              "      </script>\n",
              "    </div>\n",
              "  </div>\n",
              "  "
            ],
            "text/plain": [
              "                                                                                                                                                                                          prompt\n",
              "1     <|BOS|>Sunsong 3402813 Power Steering Pressure Hose Assembly (Toyota)<|SEP|>Replacement Parts<|SEP|>Steering System<|SEP|>Power Steering<|SEP|>Pressure Hoses<|SEP|><|UNK|><|SEP|>5<|SEP|>\n",
              "2                           <|BOS|>Preferhouse Cleaning Cloth 6 Pack Towels 12&quot;x12&quot; (Pink)<|SEP|>Car Care<|SEP|>Cleaning Kits<|SEP|><|UNK|><|SEP|><|UNK|><|SEP|><|UNK|><|SEP|>5<|SEP|>\n",
              "3            <|BOS|>Spectra Premium Spectra Industrial Heater Core 99403<|SEP|>Replacement Parts<|SEP|>Engine Cooling & Climate Control<|SEP|>Heating<|SEP|>Heaters<|SEP|><|UNK|><|SEP|>5<|SEP|>\n",
              "4                       <|BOS|>Moog T40269 Tie Rod End Tool<|SEP|>Replacement Parts<|SEP|>Shocks, Struts & Suspension<|SEP|>Tie Rod Ends & Parts<|SEP|>Tie Rod Ends<|SEP|><|UNK|><|SEP|>5<|SEP|>\n",
              "5  <|BOS|>URO Parts 31 12 1 127 726 Front Right Control Arm<|SEP|>Replacement Parts<|SEP|>Shocks, Struts & Suspension<|SEP|>Control Arms & Parts<|SEP|>Control Arms<|SEP|><|UNK|><|SEP|>5<|SEP|>"
            ]
          },
          "metadata": {},
          "execution_count": 49
        }
      ]
    },
    {
      "cell_type": "markdown",
      "source": [
        "#### Garbage Collect"
      ],
      "metadata": {
        "id": "rJarazPPCzLa"
      }
    },
    {
      "cell_type": "code",
      "source": [
        "# Save memory, clear useless large objects no longer used after this section\n",
        "del metadata\n",
        "del unseen_asins\n",
        "del reviews\n",
        "gc.collect()"
      ],
      "metadata": {
        "id": "apJLDIUWYR0s",
        "colab": {
          "base_uri": "https://localhost:8080/"
        },
        "outputId": "cf0b633d-c091-4962-e4a1-82feaed8e207"
      },
      "execution_count": 50,
      "outputs": [
        {
          "output_type": "execute_result",
          "data": {
            "text/plain": [
              "1178"
            ]
          },
          "metadata": {},
          "execution_count": 50
        }
      ]
    },
    {
      "cell_type": "markdown",
      "source": [
        "### [Only run after first time] Load processed data from disk"
      ],
      "metadata": {
        "id": "tS9VmwD3X5dP"
      }
    },
    {
      "cell_type": "code",
      "source": [
        "all_reviews = pd.read_csv(f\"{CATEGORY_NAME_SIMPLE}_processed_{CODE_VER}.csv\", sep=\",\")\n",
        "prompts = pd.read_csv(f\"{CATEGORY_NAME_SIMPLE}_processed_{CODE_VER}_prompts.csv\", sep=\",\")"
      ],
      "metadata": {
        "id": "XWFnXFlW3fEB"
      },
      "execution_count": 7,
      "outputs": []
    },
    {
      "cell_type": "markdown",
      "source": [
        "### Break data into train and valid"
      ],
      "metadata": {
        "id": "nJOlTBurYIfV"
      }
    },
    {
      "cell_type": "code",
      "source": [
        "sample_df = all_reviews"
      ],
      "metadata": {
        "id": "xuU3W__3yeP0"
      },
      "execution_count": 20,
      "outputs": []
    },
    {
      "cell_type": "code",
      "source": [
        "#sample_df = all_reviews.sample(n=50000, random_state=2021).dropna().reset_index()"
      ],
      "metadata": {
        "id": "I7KqrQHufRS0"
      },
      "execution_count": null,
      "outputs": []
    },
    {
      "cell_type": "code",
      "source": [
        "del all_reviews\n",
        "gc.collect()"
      ],
      "metadata": {
        "colab": {
          "base_uri": "https://localhost:8080/"
        },
        "id": "0L-sagnDeFL3",
        "outputId": "fe557970-cdd5-4209-80d5-ebfc102a94ce"
      },
      "execution_count": 21,
      "outputs": [
        {
          "output_type": "execute_result",
          "data": {
            "text/plain": [
              "391"
            ]
          },
          "metadata": {},
          "execution_count": 21
        }
      ]
    },
    {
      "cell_type": "code",
      "source": [
        "df_train, df_valid = train_test_split(sample_df, random_state=2021, test_size=0.1)\n",
        "all_texts = np.concatenate([df_train[\"reviewText\"].values, df_valid[\"reviewText\"].values])"
      ],
      "metadata": {
        "id": "cxexI-RggHN1"
      },
      "execution_count": 22,
      "outputs": []
    },
    {
      "cell_type": "markdown",
      "source": [
        "## Download Pre-Trained Model (gpt2)\n",
        "And configure tokenizer to recognize special tokens\n"
      ],
      "metadata": {
        "id": "01Qgap8Cjimy"
      }
    },
    {
      "cell_type": "code",
      "source": [
        "def get_tokenizer(special_tokens=None):\n",
        "    tokenizer = AutoTokenizer.from_pretrained(MODEL) #GPT2Tokenizer\n",
        "\n",
        "    if special_tokens:\n",
        "        tokenizer.add_special_tokens(special_tokens)\n",
        "        print(\"Special tokens added\")\n",
        "    return tokenizer\n",
        "\n",
        "def get_model(tokenizer, special_tokens=None, load_model_path=None):\n",
        "\n",
        "    #GPT2LMHeadModel\n",
        "    if special_tokens:\n",
        "        config = AutoConfig.from_pretrained(MODEL, \n",
        "                                            bos_token_id=tokenizer.bos_token_id,\n",
        "                                            eos_token_id=tokenizer.eos_token_id,\n",
        "                                            sep_token_id=tokenizer.sep_token_id,\n",
        "                                            pad_token_id=tokenizer.pad_token_id,\n",
        "                                            output_hidden_states=False)\n",
        "    else: \n",
        "        config = AutoConfig.from_pretrained(MODEL,                                     \n",
        "                                            pad_token_id=tokenizer.eos_token_id,\n",
        "                                            output_hidden_states=False)    \n",
        "\n",
        "    model = AutoModelForPreTraining.from_pretrained(MODEL, config=config)\n",
        "\n",
        "    if special_tokens:\n",
        "        #Special tokens added, model needs to be resized accordingly\n",
        "        model.resize_token_embeddings(len(tokenizer))\n",
        "\n",
        "    if load_model_path:\n",
        "        model.load_state_dict(torch.load(load_model_path))\n",
        "\n",
        "    model.cuda()\n",
        "    return model"
      ],
      "metadata": {
        "id": "Dfj0dmki58Xn"
      },
      "execution_count": 26,
      "outputs": []
    },
    {
      "cell_type": "code",
      "source": [
        "tokenizer = get_tokenizer(SPECIAL_TOKENS)\n",
        "model = get_model(tokenizer, special_tokens=SPECIAL_TOKENS)"
      ],
      "metadata": {
        "colab": {
          "base_uri": "https://localhost:8080/",
          "height": 0,
          "referenced_widgets": [
            "94b620a1e34a44788af4f09bfeff4d02",
            "d9809eb10fc743779675a63dc7bf2299",
            "e4807e9383e24df6af77de9a1c25aaf5",
            "e72a532169a841fb927c91c694c3c119",
            "8d6ebf03a3c3442a8d46d8915b82f46c",
            "1efc394e31a143ef93b41a032997d2e6",
            "84d960321e324d4dbd825ec107939859",
            "ece8ddf9d3e6443d9c03ac7ad7b8bb79",
            "d10b42874879458ab6b5927a9ed60c7f",
            "5714e82dfdbd4ef8af488dba84709147",
            "20158e2555c64bd9a38a4301aab417db",
            "8ecc69f13d9b4ddea65273342c643f39",
            "d26eee432bfe40de9170a9197a5c92bf",
            "c7ff4899b9c9435ab0411dbd422cb988",
            "e83fe0e8231249a7adbfc6b12951d257",
            "7ccdc80a5f3c4126bf1bc58a57618e11",
            "1dbfb2335c34480cbc0d597df1121900",
            "f0f57a32d2304671ba37801282610116",
            "828dd5790c8f4a7199a9fcc75238b5d3",
            "c8e9a4d26c354af9ba89ce974c6ea56d",
            "66ed86ab566948088d829572bd68caae",
            "d07e02d53e474ad883c68e80e02a4860",
            "bd74d2e731034c60b78fd98c436e3cde",
            "6993527f4bdf4fd987e9fccde6fb7f9a",
            "38b3732dcaeb4fc9b308dfce404a104e",
            "835f741fc0b84b82984db228804883b8",
            "dc8d7f648d954e318f0ec500f957a2b8",
            "93997308113b4590a6d9140bc4866064",
            "8f7aecc18a7a4550ac74d8db652c6f4e",
            "26559d48c07a4d3a8cc33155a792cab7",
            "5345d213a82c49b3a3146b5c852f049d",
            "8af5136543de424183f9c5d5656962d8",
            "05de9c98d2114b0894c0248b16c694ae",
            "b3aae3f1c420433a817ef15501bbbb16",
            "93d0954ccaa24ec1a4bb7e26d0a30525",
            "a490260f3cf4494190a5e46cba907af2",
            "9795d61bcb014d40b0ffcdb9cd588284",
            "efacabf73e6d4cbe9bd797bf6d0caa87",
            "bec65a4733fb45ffab4b40a41d2beea4",
            "60837686036e4a58958936ab8d1c35c4",
            "8c7f96e280af421ba2bbecc5274793d4",
            "5442aba0aefa4cbfaedc29fc340cea18",
            "5bdf3fff01974fb8ae16bf9de033026d",
            "f19ef299540a436abd0e991ffbfa164b",
            "9005523de2784e67a330810a0234f045",
            "5c57438bef294ef6a3859574d82bb5fc",
            "284135b0c9134f41a9deb172f307451a",
            "5ee15b03cc544b7eaf6fb245cc62a135",
            "3282e15e68bc406380260eba918f0a84",
            "fdc45a3ac1ee4a4bb682b62f8a4e65c4",
            "c3c84ea1ccd24934ab0646c42ee11f5e",
            "02eccfab52f6461495b3740364f6b93d",
            "a1ea5d0bda4c484b8ea22dd3f18c2c23",
            "1d1c5527a717494da6e3df8c93bf4299",
            "ebe5d37c93b24a20b9bb2c17b816871b"
          ]
        },
        "id": "0YheM_CO6npO",
        "outputId": "62d5815c-8a57-491e-c469-fdaefe8704c2"
      },
      "execution_count": 27,
      "outputs": [
        {
          "output_type": "display_data",
          "data": {
            "application/vnd.jupyter.widget-view+json": {
              "model_id": "94b620a1e34a44788af4f09bfeff4d02",
              "version_minor": 0,
              "version_major": 2
            },
            "text/plain": [
              "Downloading:   0%|          | 0.00/665 [00:00<?, ?B/s]"
            ]
          },
          "metadata": {}
        },
        {
          "output_type": "display_data",
          "data": {
            "application/vnd.jupyter.widget-view+json": {
              "model_id": "8ecc69f13d9b4ddea65273342c643f39",
              "version_minor": 0,
              "version_major": 2
            },
            "text/plain": [
              "Downloading:   0%|          | 0.00/0.99M [00:00<?, ?B/s]"
            ]
          },
          "metadata": {}
        },
        {
          "output_type": "display_data",
          "data": {
            "application/vnd.jupyter.widget-view+json": {
              "model_id": "bd74d2e731034c60b78fd98c436e3cde",
              "version_minor": 0,
              "version_major": 2
            },
            "text/plain": [
              "Downloading:   0%|          | 0.00/446k [00:00<?, ?B/s]"
            ]
          },
          "metadata": {}
        },
        {
          "output_type": "display_data",
          "data": {
            "application/vnd.jupyter.widget-view+json": {
              "model_id": "b3aae3f1c420433a817ef15501bbbb16",
              "version_minor": 0,
              "version_major": 2
            },
            "text/plain": [
              "Downloading:   0%|          | 0.00/1.29M [00:00<?, ?B/s]"
            ]
          },
          "metadata": {}
        },
        {
          "output_type": "stream",
          "name": "stdout",
          "text": [
            "Special tokens added\n"
          ]
        },
        {
          "output_type": "display_data",
          "data": {
            "application/vnd.jupyter.widget-view+json": {
              "model_id": "9005523de2784e67a330810a0234f045",
              "version_minor": 0,
              "version_major": 2
            },
            "text/plain": [
              "Downloading:   0%|          | 0.00/523M [00:00<?, ?B/s]"
            ]
          },
          "metadata": {}
        }
      ]
    },
    {
      "cell_type": "code",
      "source": [
        "class TransformersTokenizer(Transform):\n",
        "    def __init__(self, tokenizer): self.tokenizer = tokenizer\n",
        "    def encodes(self, x): \n",
        "        toks = self.tokenizer.tokenize(x)[:1024]\n",
        "        return tensor(self.tokenizer.convert_tokens_to_ids(toks))\n",
        "    def decodes(self, x): return TitledStr(self.tokenizer.decode(x.cpu().numpy()))"
      ],
      "metadata": {
        "id": "vGP0FX22gJzr"
      },
      "execution_count": 28,
      "outputs": []
    },
    {
      "cell_type": "code",
      "source": [
        "splits = [list(df_train.index), list(df_valid.index)]\n",
        "tls = TfmdLists(all_texts, TransformersTokenizer(tokenizer), splits=splits, dl_type=LMDataLoader)"
      ],
      "metadata": {
        "id": "0KHIuUCLgRN6"
      },
      "execution_count": 29,
      "outputs": []
    },
    {
      "cell_type": "code",
      "source": [
        "tls.train[0]"
      ],
      "metadata": {
        "colab": {
          "base_uri": "https://localhost:8080/"
        },
        "id": "4HvrM7NMxauC",
        "outputId": "3bd76500-b9f4-4b0d-d87d-57a36d03145b"
      },
      "execution_count": 30,
      "outputs": [
        {
          "output_type": "execute_result",
          "data": {
            "text/plain": [
              "tensor([50257, 35660,   489,    72,    12, 10258,   347,  8697, 21844, 12550,\n",
              "         9718,   365,  2199,  9346, 10897, 50261, 39232,  5592, 22349, 50261,\n",
              "           33, 33788,  4482, 50261,    33, 33788, 40297, 50261, 50259, 50261,\n",
              "        50259, 50261,    17, 50261,  1212,  7521,   318,   407,  1049,  3081,\n",
              "         7521,    13,   220,   632,  1718,   604,    12,    20, 30720,   286,\n",
              "          428,   284,   651,   257,  1336,   772, 13209,   284,   787,   616,\n",
              "         2386, 29288, 18340,   287,  6016,  7872,    13,   220,   843,   611,\n",
              "          345,   423,   257, 14788,  7872,  1276,   648,    11,   340,   857,\n",
              "         5626,  2872,   262,  7521,  3124,    11,   468,   257,  1310, 10912,\n",
              "          287,   340,    13,   220,  2102,   262,  7729,   547,  2562,   284,\n",
              "         1061,   290,   484,  1577,   345,   477,   262,  4899,   345,   761,\n",
              "           13,   220,   383,  7521,   318,   845,  7888,    11,   314,  4313,\n",
              "          257,   890,  5041,   290,   284,  1011,   534,   640,    11,   428,\n",
              "          318,   407,   281,  2562,  1693,     0, 50258])"
            ]
          },
          "metadata": {},
          "execution_count": 30
        }
      ]
    },
    {
      "cell_type": "code",
      "source": [
        "tls.valid[0]"
      ],
      "metadata": {
        "colab": {
          "base_uri": "https://localhost:8080/"
        },
        "id": "6qWoUI2e1WTy",
        "outputId": "247759e8-fd0b-4922-8826-0955e72f1a99"
      },
      "execution_count": 31,
      "outputs": [
        {
          "output_type": "execute_result",
          "data": {
            "text/plain": [
              "tensor([50257, 31398,    82,  8870,  3064,  2944,  1222,   696,    26, 35859,\n",
              "        15945,   532,   642, 15649, 50261,  9914,  7276, 50261,  3109, 14172,\n",
              "         7276, 50261,  9914,  2165,  5614,  1222, 42656,   274, 50261,  1925,\n",
              "         5998,  1222, 12136,  2165,  5614, 50261, 36790,  2165,  5614, 50261,\n",
              "           20, 50261,    40,  1053,  1464,  3177,  9873,    81, 45401,   262,\n",
              "         3210,   329,  3081,  6147, 25245,    13,  1649,   314,  4966,   503,\n",
              "          286,   340,   257,  1178,  2745,  2084,    11,   314,  1625,   284,\n",
              "         6186,   284,  2822,   517,    13,   220,  2102,    11,   314,  6810,\n",
              "          326,   867,   661,   547,   374,  2703,   546, 49673,    11,   523,\n",
              "          314,  1807,   314,  1549,  1949,   340,    13,   314,  1101,   845,\n",
              "         9675,   326,   314,   750,    13,   632,   318,   355,  4050,   355,\n",
              "         9873,    81, 45401,   287, 22751,  6147,   290,   857,   523,  1231,\n",
              "          262,   645, 48392, 47301,   326,  9873,    81, 45401,  8075,    13,\n",
              "          314,  1549,  1464,   423,   284,   779, 18051,   351,  9873,    81,\n",
              "        45401,   355,   262,  8122,   561, 28302,   597, 16270,   973,    13,\n",
              "          220, 10584,   318,   517,   588,   257,  9215,    88,  9136,  2138,\n",
              "          621,   281, 44560,  9136,    11,   290,   857,   407, 28302,   262,\n",
              "        27714, 16270,    13,  6952,   345,   477,   329,   534, 10763,     0,\n",
              "          314, 16399,   284,   345,   290,   716,   845,  5763,   876,    13,\n",
              "          314,  1053, 15293,   284, 49673,    13, 50258])"
            ]
          },
          "metadata": {},
          "execution_count": 31
        }
      ]
    },
    {
      "cell_type": "code",
      "source": [
        "tls.tfms(tls.train.items[0]).shape, tls.tfms(tls.valid.items[0]).shape"
      ],
      "metadata": {
        "colab": {
          "base_uri": "https://localhost:8080/"
        },
        "id": "ImGXuOhQ1YLh",
        "outputId": "fece6b83-e9bc-470b-c89f-e6a2c954f1f1"
      },
      "execution_count": 32,
      "outputs": [
        {
          "output_type": "execute_result",
          "data": {
            "text/plain": [
              "(torch.Size([137]), torch.Size([197]))"
            ]
          },
          "metadata": {},
          "execution_count": 32
        }
      ]
    },
    {
      "cell_type": "code",
      "source": [
        "show_at(tls.train, 0)"
      ],
      "metadata": {
        "colab": {
          "base_uri": "https://localhost:8080/"
        },
        "id": "Z-9-FUA91bZw",
        "outputId": "6ca8a0c3-57a7-4478-aab5-d320fb48e714"
      },
      "execution_count": 33,
      "outputs": [
        {
          "output_type": "stream",
          "name": "stdout",
          "text": [
            "<|BOS|>Dupli-Color BCP401 Yellow Brake Caliper Kit<|SEP|>Replacement Parts<|SEP|>Brake System<|SEP|>Brake Kits<|SEP|><|UNK|><|SEP|><|UNK|><|SEP|>2<|SEP|>This paint is not great quality paint.  It took 4-5 coats of this to get a full even coat to make my calipers shine in bright yellow.  And if you have a screaming yellow mustang, it does NOT match the paint color, has a little orange in it.  However the instructions were easy to follow and they give you all the tools you need.  The paint is very thin, I recommend a long weekend and to take your time, this is not an easy job!<|EOS|>\n"
          ]
        }
      ]
    },
    {
      "cell_type": "code",
      "source": [
        "show_at(tls.valid, 0)"
      ],
      "metadata": {
        "colab": {
          "base_uri": "https://localhost:8080/"
        },
        "id": "qxGbNLgd1diq",
        "outputId": "bd398c71-3dcc-4445-e728-21ad4efb0342"
      },
      "execution_count": 34,
      "outputs": [
        {
          "output_type": "stream",
          "name": "stdout",
          "text": [
            "<|BOS|>Mothers 05100 Mag &amp; Aluminum Polish - 5 oz<|SEP|>Car Care<|SEP|>Exterior Care<|SEP|>Car Polishes & Waxes<|SEP|>Chrome & Metal Polishes<|SEP|>Metal Polishes<|SEP|>5<|SEP|>I've always considered Nevr Dull the standard for quality metal polish. When I ran out of it a few weeks ago, I came to Amazon to buy more.  However, I noticed that many people were raving about Mothers, so I thought I'd try it. I'm very glad that I did. It is as effective as Nevr Dull in shining metal and does so without the noxious fumes that Nevr Dull creates. I'd always have to use gloves with Nevr Dull as the liquid would penetrate any cloth used.  Mother is more like a buttery substance rather than an oily substance, and does not penetrate the rubbing cloth. Thank you all for your recommendations! I listened to you and am very appreciative. I've switched to Mothers.<|EOS|>\n"
          ]
        }
      ]
    },
    {
      "cell_type": "code",
      "source": [
        "%%time\n",
        "\n",
        "bs,sl = 4,256\n",
        "dls = tls.dataloaders(bs=bs, seq_len=sl)"
      ],
      "metadata": {
        "colab": {
          "base_uri": "https://localhost:8080/"
        },
        "id": "ChHRR4cPgWif",
        "outputId": "a08dcaf3-2759-4f12-b94b-45e1b94f5ce2"
      },
      "execution_count": 35,
      "outputs": [
        {
          "output_type": "stream",
          "name": "stderr",
          "text": [
            "Token indices sequence length is longer than the specified maximum sequence length for this model (1443 > 1024). Running this sequence through the model will result in indexing errors\n"
          ]
        },
        {
          "output_type": "stream",
          "name": "stdout",
          "text": [
            "CPU times: user 30.6 s, sys: 220 ms, total: 30.8 s\n",
            "Wall time: 32.5 s\n"
          ]
        }
      ]
    },
    {
      "cell_type": "code",
      "source": [
        "dls.show_batch(max_n=2)"
      ],
      "metadata": {
        "id": "7_1D5kHa1CkG",
        "colab": {
          "base_uri": "https://localhost:8080/",
          "height": 0
        },
        "outputId": "26a6da5a-5aa4-4ec9-d231-f7f73516af30"
      },
      "execution_count": 36,
      "outputs": [
        {
          "output_type": "display_data",
          "data": {
            "text/html": [
              "<table border=\"1\" class=\"dataframe\">\n",
              "  <thead>\n",
              "    <tr style=\"text-align: right;\">\n",
              "      <th></th>\n",
              "      <th>text</th>\n",
              "      <th>text_</th>\n",
              "    </tr>\n",
              "  </thead>\n",
              "  <tbody>\n",
              "    <tr>\n",
              "      <th>0</th>\n",
              "      <td>&lt;|BOS|&gt;Thule Roof Rack Load Bars, Set of 2&lt;|SEP|&gt;Exterior Accessories&lt;|SEP|&gt;Cargo Management&lt;|SEP|&gt;Cargo Racks&lt;|SEP|&gt;&lt;|UNK|&gt;&lt;|SEP|&gt;&lt;|UNK|&gt;&lt;|SEP|&gt;2&lt;|SEP|&gt;I generally like Thule products, but not these. Initially they looked great but after one summer of having eight kayak saddles attached to them they looked terrible. The saddle's bases, which were the tighten-by-hand style, badly crushed and stretched the plastic skin on these bars. When I removed the saddles the bars looked terrible. Contrary to some of the reviews, the skins are not durable. I finally cut them off with a razor blade and had the bars powder-coated. Very disappointing given the price paid.&lt;|EOS|&gt;&lt;|BOS|&gt;JR Products BS-1005 10mm Ball Stud&lt;|SEP|&gt;&lt;|UNK|&gt;&lt;|SEP|&gt;&lt;|UNK|&gt;&lt;|SEP|&gt;&lt;|UNK|&gt;&lt;|SEP|&gt;&lt;|UNK|&gt;&lt;|SEP|&gt;&lt;|UNK|&gt;&lt;|SEP|&gt;3&lt;|SEP|&gt;Did not come with bolts or any washers.  That would have been nice.&lt;|EOS|&gt;&lt;|BOS|&gt;Lisle 44870 Gold Lift Support Clamp&lt;|SEP|&gt;Replacement Parts&lt;|SEP|&gt;Shocks, Struts &amp; Suspension&lt;|SEP|&gt;Lift Supports&lt;|SEP|&gt;&lt;|UNK|&gt;&lt;|SEP|&gt;&lt;|UNK|&gt;&lt;|SEP|&gt;3&lt;|SEP|&gt;The first day I brought it to work I got a chance to use it. Sadly enough it didn't work nearly as well as vice grips. Going to</td>\n",
              "      <td>Thule Roof Rack Load Bars, Set of 2&lt;|SEP|&gt;Exterior Accessories&lt;|SEP|&gt;Cargo Management&lt;|SEP|&gt;Cargo Racks&lt;|SEP|&gt;&lt;|UNK|&gt;&lt;|SEP|&gt;&lt;|UNK|&gt;&lt;|SEP|&gt;2&lt;|SEP|&gt;I generally like Thule products, but not these. Initially they looked great but after one summer of having eight kayak saddles attached to them they looked terrible. The saddle's bases, which were the tighten-by-hand style, badly crushed and stretched the plastic skin on these bars. When I removed the saddles the bars looked terrible. Contrary to some of the reviews, the skins are not durable. I finally cut them off with a razor blade and had the bars powder-coated. Very disappointing given the price paid.&lt;|EOS|&gt;&lt;|BOS|&gt;JR Products BS-1005 10mm Ball Stud&lt;|SEP|&gt;&lt;|UNK|&gt;&lt;|SEP|&gt;&lt;|UNK|&gt;&lt;|SEP|&gt;&lt;|UNK|&gt;&lt;|SEP|&gt;&lt;|UNK|&gt;&lt;|SEP|&gt;&lt;|UNK|&gt;&lt;|SEP|&gt;3&lt;|SEP|&gt;Did not come with bolts or any washers.  That would have been nice.&lt;|EOS|&gt;&lt;|BOS|&gt;Lisle 44870 Gold Lift Support Clamp&lt;|SEP|&gt;Replacement Parts&lt;|SEP|&gt;Shocks, Struts &amp; Suspension&lt;|SEP|&gt;Lift Supports&lt;|SEP|&gt;&lt;|UNK|&gt;&lt;|SEP|&gt;&lt;|UNK|&gt;&lt;|SEP|&gt;3&lt;|SEP|&gt;The first day I brought it to work I got a chance to use it. Sadly enough it didn't work nearly as well as vice grips. Going to</td>\n",
              "    </tr>\n",
              "    <tr>\n",
              "      <th>1</th>\n",
              "      <td>ower Motor with Wheel&lt;|SEP|&gt;Replacement Parts&lt;|SEP|&gt;Engine Cooling &amp; Climate Control&lt;|SEP|&gt;Heating&lt;|SEP|&gt;Blower Motors&lt;|SEP|&gt;&lt;|UNK|&gt;&lt;|SEP|&gt;1&lt;|SEP|&gt;Does not fit a 2008 Toyota Sequoia. It said it. For the front. The white one is what came out of my sequoia. Wrong connection everything.&lt;|EOS|&gt;&lt;|BOS|&gt;Gorilla Automotive 71743 Acorn Chrome Lug Nut and Lock System (14mm x 1.50 Thread Size)&lt;|SEP|&gt;Tires &amp;amp; Wheels&lt;|SEP|&gt;Accessories &amp;amp; Parts&lt;|SEP|&gt;Lug Nuts &amp;amp; Accessories&lt;|SEP|&gt;Lug Nuts&lt;|SEP|&gt;&lt;|UNK|&gt;&lt;|SEP|&gt;1&lt;|SEP|&gt;This is wrong not for alloy rims all Montaros have alloy not steel, i want correct product for vehicle not item that will cause injury and or death you scammers...........!!!!!!&lt;|EOS|&gt;&lt;|BOS|&gt;Westin 60-2175 Platinum Series Step Pad&lt;|SEP|&gt;Exterior Accessories&lt;|SEP|&gt;Running Boards &amp; Steps&lt;|SEP|&gt;Running Boards&lt;|SEP|&gt;&lt;|UNK|&gt;&lt;|SEP|&gt;&lt;|UNK|&gt;&lt;|SEP|&gt;3&lt;|SEP|&gt;Didn't fit perfect, but it is on&lt;|EOS|&gt;&lt;|BOS|&gt;Royal Purple 01130 10W30 Synthetic Oil, 1 Quart&lt;|SEP|&gt;Oils &amp; Fluids&lt;|SEP|&gt;Oils&lt;|SEP|&gt;Motor Oils&lt;|SEP|&gt;&lt;|UNK|&gt;&lt;|SEP|&gt;&lt;|UNK|&gt;&lt;|SEP|&gt;5&lt;|SEP|&gt;I generally will run Royal Purple Oil with a Royal Purple filter through my vehicle for 6,</td>\n",
              "      <td>Motor with Wheel&lt;|SEP|&gt;Replacement Parts&lt;|SEP|&gt;Engine Cooling &amp; Climate Control&lt;|SEP|&gt;Heating&lt;|SEP|&gt;Blower Motors&lt;|SEP|&gt;&lt;|UNK|&gt;&lt;|SEP|&gt;1&lt;|SEP|&gt;Does not fit a 2008 Toyota Sequoia. It said it. For the front. The white one is what came out of my sequoia. Wrong connection everything.&lt;|EOS|&gt;&lt;|BOS|&gt;Gorilla Automotive 71743 Acorn Chrome Lug Nut and Lock System (14mm x 1.50 Thread Size)&lt;|SEP|&gt;Tires &amp;amp; Wheels&lt;|SEP|&gt;Accessories &amp;amp; Parts&lt;|SEP|&gt;Lug Nuts &amp;amp; Accessories&lt;|SEP|&gt;Lug Nuts&lt;|SEP|&gt;&lt;|UNK|&gt;&lt;|SEP|&gt;1&lt;|SEP|&gt;This is wrong not for alloy rims all Montaros have alloy not steel, i want correct product for vehicle not item that will cause injury and or death you scammers...........!!!!!!&lt;|EOS|&gt;&lt;|BOS|&gt;Westin 60-2175 Platinum Series Step Pad&lt;|SEP|&gt;Exterior Accessories&lt;|SEP|&gt;Running Boards &amp; Steps&lt;|SEP|&gt;Running Boards&lt;|SEP|&gt;&lt;|UNK|&gt;&lt;|SEP|&gt;&lt;|UNK|&gt;&lt;|SEP|&gt;3&lt;|SEP|&gt;Didn't fit perfect, but it is on&lt;|EOS|&gt;&lt;|BOS|&gt;Royal Purple 01130 10W30 Synthetic Oil, 1 Quart&lt;|SEP|&gt;Oils &amp; Fluids&lt;|SEP|&gt;Oils&lt;|SEP|&gt;Motor Oils&lt;|SEP|&gt;&lt;|UNK|&gt;&lt;|SEP|&gt;&lt;|UNK|&gt;&lt;|SEP|&gt;5&lt;|SEP|&gt;I generally will run Royal Purple Oil with a Royal Purple filter through my vehicle for 6,000</td>\n",
              "    </tr>\n",
              "  </tbody>\n",
              "</table>"
            ],
            "text/plain": [
              "<IPython.core.display.HTML object>"
            ]
          },
          "metadata": {}
        }
      ]
    },
    {
      "cell_type": "markdown",
      "source": [
        "## Fine-tuning"
      ],
      "metadata": {
        "id": "qGuDmhzKlMYo"
      }
    },
    {
      "cell_type": "markdown",
      "source": [
        "### Create Learner from model"
      ],
      "metadata": {
        "id": "8-MTEydZQ_i4"
      }
    },
    {
      "cell_type": "code",
      "source": [
        "class DropOutput(Callback):\n",
        "    def after_pred(self): self.learn.pred = self.pred[0]"
      ],
      "metadata": {
        "id": "JmN9Wg1ClKHB"
      },
      "execution_count": 37,
      "outputs": []
    },
    {
      "cell_type": "code",
      "source": [
        "learn = Learner(dls, model, loss_func=CrossEntropyLossFlat(), cbs=[DropOutput], metrics=Perplexity()).to_fp16()"
      ],
      "metadata": {
        "id": "ksCHQrVOmYZ_"
      },
      "execution_count": 38,
      "outputs": []
    },
    {
      "cell_type": "markdown",
      "source": [
        "### [Skip after first time] Run fine-tuning and save"
      ],
      "metadata": {
        "id": "tj87bvbWWef9"
      }
    },
    {
      "cell_type": "code",
      "source": [
        "learn.validate()"
      ],
      "metadata": {
        "colab": {
          "base_uri": "https://localhost:8080/",
          "height": 34
        },
        "id": "GW3RKYGsmcCx",
        "outputId": "f9a05b1d-3578-4d9e-8b30-4c3158f8737e"
      },
      "execution_count": 67,
      "outputs": [
        {
          "output_type": "display_data",
          "data": {
            "text/html": [
              "\n",
              "<style>\n",
              "    /* Turns off some styling */\n",
              "    progress {\n",
              "        /* gets rid of default border in Firefox and Opera. */\n",
              "        border: none;\n",
              "        /* Needs to be in here for Safari polyfill so background images work as expected. */\n",
              "        background-size: auto;\n",
              "    }\n",
              "    .progress-bar-interrupted, .progress-bar-interrupted::-webkit-progress-bar {\n",
              "        background: #F44336;\n",
              "    }\n",
              "</style>\n"
            ],
            "text/plain": [
              "<IPython.core.display.HTML object>"
            ]
          },
          "metadata": {}
        },
        {
          "output_type": "display_data",
          "data": {
            "text/html": [
              ""
            ],
            "text/plain": [
              "<IPython.core.display.HTML object>"
            ]
          },
          "metadata": {}
        },
        {
          "output_type": "execute_result",
          "data": {
            "text/plain": [
              "(#2) [86.50740814208984,3.7127011626713194e+37]"
            ]
          },
          "metadata": {},
          "execution_count": 67
        }
      ]
    },
    {
      "cell_type": "code",
      "source": [
        "%%time\n",
        "learn.lr_find()"
      ],
      "metadata": {
        "colab": {
          "base_uri": "https://localhost:8080/",
          "height": 335
        },
        "id": "r1A65m6tmeX_",
        "outputId": "2bd32113-6306-4dc8-db8c-f6407fffcb34"
      },
      "execution_count": 68,
      "outputs": [
        {
          "output_type": "display_data",
          "data": {
            "text/html": [
              "\n",
              "<style>\n",
              "    /* Turns off some styling */\n",
              "    progress {\n",
              "        /* gets rid of default border in Firefox and Opera. */\n",
              "        border: none;\n",
              "        /* Needs to be in here for Safari polyfill so background images work as expected. */\n",
              "        background-size: auto;\n",
              "    }\n",
              "    .progress-bar-interrupted, .progress-bar-interrupted::-webkit-progress-bar {\n",
              "        background: #F44336;\n",
              "    }\n",
              "</style>\n"
            ],
            "text/plain": [
              "<IPython.core.display.HTML object>"
            ]
          },
          "metadata": {}
        },
        {
          "output_type": "display_data",
          "data": {
            "text/html": [
              ""
            ],
            "text/plain": [
              "<IPython.core.display.HTML object>"
            ]
          },
          "metadata": {}
        },
        {
          "output_type": "stream",
          "name": "stdout",
          "text": [
            "CPU times: user 1min 13s, sys: 37.5 s, total: 1min 51s\n",
            "Wall time: 1min 53s\n"
          ]
        },
        {
          "output_type": "execute_result",
          "data": {
            "text/plain": [
              "SuggestedLRs(valley=0.0002754228771664202)"
            ]
          },
          "metadata": {},
          "execution_count": 68
        },
        {
          "output_type": "display_data",
          "data": {
            "image/png": "[encoded data removed]",
            "text/plain": [
              "<Figure size 432x288 with 1 Axes>"
            ]
          },
          "metadata": {
            "needs_background": "light"
          }
        }
      ]
    },
    {
      "cell_type": "code",
      "source": [
        "%%time\n",
        "learn.fit_one_cycle(1, 1e-4)"
      ],
      "metadata": {
        "colab": {
          "base_uri": "https://localhost:8080/",
          "height": 115
        },
        "id": "61DEqMr5mfxh",
        "outputId": "05dbe4e7-f3e3-4776-e085-0c668957fef0"
      },
      "execution_count": 70,
      "outputs": [
        {
          "output_type": "display_data",
          "data": {
            "text/html": [
              "\n",
              "<style>\n",
              "    /* Turns off some styling */\n",
              "    progress {\n",
              "        /* gets rid of default border in Firefox and Opera. */\n",
              "        border: none;\n",
              "        /* Needs to be in here for Safari polyfill so background images work as expected. */\n",
              "        background-size: auto;\n",
              "    }\n",
              "    .progress-bar-interrupted, .progress-bar-interrupted::-webkit-progress-bar {\n",
              "        background: #F44336;\n",
              "    }\n",
              "</style>\n"
            ],
            "text/plain": [
              "<IPython.core.display.HTML object>"
            ]
          },
          "metadata": {}
        },
        {
          "output_type": "display_data",
          "data": {
            "text/html": [
              "<table border=\"1\" class=\"dataframe\">\n",
              "  <thead>\n",
              "    <tr style=\"text-align: left;\">\n",
              "      <th>epoch</th>\n",
              "      <th>train_loss</th>\n",
              "      <th>valid_loss</th>\n",
              "      <th>perplexity</th>\n",
              "      <th>time</th>\n",
              "    </tr>\n",
              "  </thead>\n",
              "  <tbody>\n",
              "    <tr>\n",
              "      <td>0</td>\n",
              "      <td>2.434311</td>\n",
              "      <td>2.324295</td>\n",
              "      <td>10.219471</td>\n",
              "      <td>1:22:18</td>\n",
              "    </tr>\n",
              "  </tbody>\n",
              "</table>"
            ],
            "text/plain": [
              "<IPython.core.display.HTML object>"
            ]
          },
          "metadata": {}
        },
        {
          "output_type": "stream",
          "name": "stdout",
          "text": [
            "CPU times: user 55min 49s, sys: 26min 30s, total: 1h 22min 19s\n",
            "Wall time: 1h 22min 18s\n"
          ]
        }
      ]
    },
    {
      "cell_type": "code",
      "source": [
        "learn.save(f\"gpt2-control-generation-{CATEGORY_NAME_SIMPLE}-{CODE_VER}\")"
      ],
      "metadata": {
        "colab": {
          "base_uri": "https://localhost:8080/"
        },
        "id": "Swt8hBvbmgxs",
        "outputId": "0735bb5b-5810-49c7-f608-ea25475b5894"
      },
      "execution_count": 71,
      "outputs": [
        {
          "output_type": "execute_result",
          "data": {
            "text/plain": [
              "Path('models/gpt2-control-generation-Automotive-v6.pth')"
            ]
          },
          "metadata": {},
          "execution_count": 71
        }
      ]
    },
    {
      "cell_type": "markdown",
      "source": [
        "### [Only run after first time] Load fine-tuned model from disk"
      ],
      "metadata": {
        "id": "1NjqRhcYWkiV"
      }
    },
    {
      "cell_type": "code",
      "source": [
        "learn.load(f\"gpt2-control-generation-{CATEGORY_NAME_SIMPLE}-{CODE_VER}\")"
      ],
      "metadata": {
        "colab": {
          "base_uri": "https://localhost:8080/"
        },
        "id": "HJZdsQV6WqpR",
        "outputId": "a2e5cd88-f70b-439d-aa8c-2d26df29e1d5"
      },
      "execution_count": 39,
      "outputs": [
        {
          "output_type": "execute_result",
          "data": {
            "text/plain": [
              "<fastai.learner.Learner at 0x7f0b9408b090>"
            ]
          },
          "metadata": {},
          "execution_count": 39
        }
      ]
    },
    {
      "cell_type": "markdown",
      "source": [
        "## Run Model"
      ],
      "metadata": {
        "id": "B6Z_kEIBWnmf"
      }
    },
    {
      "cell_type": "markdown",
      "source": [
        "### Manual Checking"
      ],
      "metadata": {
        "id": "aPHuBz7MLb_5"
      }
    },
    {
      "cell_type": "code",
      "source": [
        "prompts.head(10) # Display some products that we haven't trained on"
      ],
      "metadata": {
        "colab": {
          "base_uri": "https://localhost:8080/",
          "height": 511
        },
        "id": "yl8d8GRYQRwU",
        "outputId": "03e9c6b5-68f4-4e3d-808c-eec31a25c523"
      },
      "execution_count": null,
      "outputs": [
        {
          "output_type": "execute_result",
          "data": {
            "text/html": [
              "\n",
              "  <div id=\"df-a5f83ccc-a17f-4762-a7d3-c8757b047757\">\n",
              "    <div class=\"colab-df-container\">\n",
              "      <div>\n",
              "<style scoped>\n",
              "    .dataframe tbody tr th:only-of-type {\n",
              "        vertical-align: middle;\n",
              "    }\n",
              "\n",
              "    .dataframe tbody tr th {\n",
              "        vertical-align: top;\n",
              "    }\n",
              "\n",
              "    .dataframe thead th {\n",
              "        text-align: right;\n",
              "    }\n",
              "</style>\n",
              "<table border=\"1\" class=\"dataframe\">\n",
              "  <thead>\n",
              "    <tr style=\"text-align: right;\">\n",
              "      <th></th>\n",
              "      <th>prompt</th>\n",
              "    </tr>\n",
              "  </thead>\n",
              "  <tbody>\n",
              "    <tr>\n",
              "      <th>0</th>\n",
              "      <td>&lt;|BOS|&gt;Espresso Wenge Reversible L-Desk 72&amp;quot;W with Brushed Nickel Modesty Panel Legs - At Work Collection&lt;|SEP|&gt;Office Furniture &amp; Lighting,Desks &amp; Workstations,Desks,Office Desks&lt;|SEP|&gt;5&lt;|SEP|&gt;</td>\n",
              "    </tr>\n",
              "    <tr>\n",
              "      <th>1</th>\n",
              "      <td>&lt;|BOS|&gt;STEELMASTER Contemporary Vertical Organizer with 4 Slots, 8.38 x 12 x 7.25 Inches, Granite (2644500A3)&lt;|SEP|&gt;Office Furniture &amp; Lighting,Cabinets, Racks &amp; Shelves,Racks &amp; Displays&lt;|SEP|&gt;5&lt;|SEP|&gt;</td>\n",
              "    </tr>\n",
              "    <tr>\n",
              "      <th>2</th>\n",
              "      <td>&lt;|BOS|&gt;100 5x7 Reclosable Poly Clear Plastic Zip Lock Zipper Bag 4 Mil Jewelry Baggies&lt;|SEP|&gt;Office &amp; School Supplies,Envelopes, Mailers &amp; Shipping Supplies,Mail Bags &amp; Transit Sacks,Mail Bags&lt;|SEP|&gt;5&lt;|SEP|&gt;</td>\n",
              "    </tr>\n",
              "    <tr>\n",
              "      <th>3</th>\n",
              "      <td>&lt;|BOS|&gt;GLOBE-WEIS Colored Classification Folder (PU5615LBL)&lt;|SEP|&gt;Office &amp; School Supplies&lt;|SEP|&gt;5&lt;|SEP|&gt;</td>\n",
              "    </tr>\n",
              "    <tr>\n",
              "      <th>4</th>\n",
              "      <td>&lt;|BOS|&gt;3&amp;quot; X 4&amp;quot; - 2 Mil Clear White Block Reclosable Poly Zip Lock Bags Pack of 100&lt;|SEP|&gt;Office &amp; School Supplies,Envelopes, Mailers &amp; Shipping Supplies,Mail Bags &amp; Transit Sacks,Mail Bags&lt;|SEP|&gt;5&lt;|SEP|&gt;</td>\n",
              "    </tr>\n",
              "    <tr>\n",
              "      <th>5</th>\n",
              "      <td>&lt;|BOS|&gt;Assorted Hand made Voodoo String Doll Key Chain (12 pieces)&lt;|SEP|&gt;Office &amp; School Supplies,Forms, Recordkeeping &amp; Money Handling,Key Tags &amp; Chains&lt;|SEP|&gt;5&lt;|SEP|&gt;</td>\n",
              "    </tr>\n",
              "    <tr>\n",
              "      <th>6</th>\n",
              "      <td>&lt;|BOS|&gt;Vonage Phone Solution Adapter + Cordless Phone System, New for 2011 Vonage Digital Phone System Adapter and Dect 6.0 Motorola Cordless System L603 (not the previous L403) in One Box&lt;|SEP|&gt;Office Electronics,Telephones &amp; Accessories,Landline Phones,Cordless Telephones&lt;|SEP|&gt;5&lt;|SEP|&gt;</td>\n",
              "    </tr>\n",
              "    <tr>\n",
              "      <th>7</th>\n",
              "      <td>&lt;|BOS|&gt;NEW 100 Feet Flexible Magnet Magnetic Strip 1&amp;quot; wide Adhesive Back 30 Mil&lt;|SEP|&gt;Office &amp; School Supplies,Tape, Adhesives &amp; Fasteners,Interlocking Tape &amp; Mounting Products,Magnetic Tape&lt;|SEP|&gt;5&lt;|SEP|&gt;</td>\n",
              "    </tr>\n",
              "    <tr>\n",
              "      <th>8</th>\n",
              "      <td>&lt;|BOS|&gt;Palmetto 2-Drawer Oak File Cabinet Warm Honey&lt;|SEP|&gt;Office &amp; School Supplies,Forms, Recordkeeping &amp; Money Handling,Key Cabinets, Racks &amp; Holders,Cabinets&lt;|SEP|&gt;5&lt;|SEP|&gt;</td>\n",
              "    </tr>\n",
              "    <tr>\n",
              "      <th>9</th>\n",
              "      <td>&lt;|BOS|&gt;Pelikan Pelikano Blue Fountain Pen Medium&lt;|SEP|&gt;Office &amp; School Supplies,Writing &amp; Correction Supplies,Pens &amp; Refills,Fountain Pens&lt;|SEP|&gt;5&lt;|SEP|&gt;</td>\n",
              "    </tr>\n",
              "  </tbody>\n",
              "</table>\n",
              "</div>\n",
              "      <button class=\"colab-df-convert\" onclick=\"convertToInteractive('df-a5f83ccc-a17f-4762-a7d3-c8757b047757')\"\n",
              "              title=\"Convert this dataframe to an interactive table.\"\n",
              "              style=\"display:none;\">\n",
              "        \n",
              "  <svg xmlns=\"http://www.w3.org/2000/svg\" height=\"24px\"viewBox=\"0 0 24 24\"\n",
              "       width=\"24px\">\n",
              "    <path d=\"M0 0h24v24H0V0z\" fill=\"none\"/>\n",
              "    <path d=\"M18.56 5.44l.94 2.06.94-2.06 2.06-.94-2.06-.94-.94-2.06-.94 2.06-2.06.94zm-11 1L8.5 8.5l.94-2.06 2.06-.94-2.06-.94L8.5 2.5l-.94 2.06-2.06.94zm10 10l.94 2.06.94-2.06 2.06-.94-2.06-.94-.94-2.06-.94 2.06-2.06.94z\"/><path d=\"M17.41 7.96l-1.37-1.37c-.4-.4-.92-.59-1.43-.59-.52 0-1.04.2-1.43.59L10.3 9.45l-7.72 7.72c-.78.78-.78 2.05 0 2.83L4 21.41c.39.39.9.59 1.41.59.51 0 1.02-.2 1.41-.59l7.78-7.78 2.81-2.81c.8-.78.8-2.07 0-2.86zM5.41 20L4 18.59l7.72-7.72 1.47 1.35L5.41 20z\"/>\n",
              "  </svg>\n",
              "      </button>\n",
              "      \n",
              "  <style>\n",
              "    .colab-df-container {\n",
              "      display:flex;\n",
              "      flex-wrap:wrap;\n",
              "      gap: 12px;\n",
              "    }\n",
              "\n",
              "    .colab-df-convert {\n",
              "      background-color: #E8F0FE;\n",
              "      border: none;\n",
              "      border-radius: 50%;\n",
              "      cursor: pointer;\n",
              "      display: none;\n",
              "      fill: #1967D2;\n",
              "      height: 32px;\n",
              "      padding: 0 0 0 0;\n",
              "      width: 32px;\n",
              "    }\n",
              "\n",
              "    .colab-df-convert:hover {\n",
              "      background-color: #E2EBFA;\n",
              "      box-shadow: 0px 1px 2px rgba(60, 64, 67, 0.3), 0px 1px 3px 1px rgba(60, 64, 67, 0.15);\n",
              "      fill: #174EA6;\n",
              "    }\n",
              "\n",
              "    [theme=dark] .colab-df-convert {\n",
              "      background-color: #3B4455;\n",
              "      fill: #D2E3FC;\n",
              "    }\n",
              "\n",
              "    [theme=dark] .colab-df-convert:hover {\n",
              "      background-color: #434B5C;\n",
              "      box-shadow: 0px 1px 3px 1px rgba(0, 0, 0, 0.15);\n",
              "      filter: drop-shadow(0px 1px 2px rgba(0, 0, 0, 0.3));\n",
              "      fill: #FFFFFF;\n",
              "    }\n",
              "  </style>\n",
              "\n",
              "      <script>\n",
              "        const buttonEl =\n",
              "          document.querySelector('#df-a5f83ccc-a17f-4762-a7d3-c8757b047757 button.colab-df-convert');\n",
              "        buttonEl.style.display =\n",
              "          google.colab.kernel.accessAllowed ? 'block' : 'none';\n",
              "\n",
              "        async function convertToInteractive(key) {\n",
              "          const element = document.querySelector('#df-a5f83ccc-a17f-4762-a7d3-c8757b047757');\n",
              "          const dataTable =\n",
              "            await google.colab.kernel.invokeFunction('convertToInteractive',\n",
              "                                                     [key], {});\n",
              "          if (!dataTable) return;\n",
              "\n",
              "          const docLinkHtml = 'Like what you see? Visit the ' +\n",
              "            '<a target=\"_blank\" href=https://colab.research.google.com/notebooks/data_table.ipynb>data table notebook</a>'\n",
              "            + ' to learn more about interactive tables.';\n",
              "          element.innerHTML = '';\n",
              "          dataTable['output_type'] = 'display_data';\n",
              "          await google.colab.output.renderOutput(dataTable, element);\n",
              "          const docLink = document.createElement('div');\n",
              "          docLink.innerHTML = docLinkHtml;\n",
              "          element.appendChild(docLink);\n",
              "        }\n",
              "      </script>\n",
              "    </div>\n",
              "  </div>\n",
              "  "
            ],
            "text/plain": [
              "                                                                                                                                                                                                                                                                                              prompt\n",
              "0                                                                                             <|BOS|>Espresso Wenge Reversible L-Desk 72&quot;W with Brushed Nickel Modesty Panel Legs - At Work Collection<|SEP|>Office Furniture & Lighting,Desks & Workstations,Desks,Office Desks<|SEP|>5<|SEP|>\n",
              "1                                                                                          <|BOS|>STEELMASTER Contemporary Vertical Organizer with 4 Slots, 8.38 x 12 x 7.25 Inches, Granite (2644500A3)<|SEP|>Office Furniture & Lighting,Cabinets, Racks & Shelves,Racks & Displays<|SEP|>5<|SEP|>\n",
              "2                                                                                    <|BOS|>100 5x7 Reclosable Poly Clear Plastic Zip Lock Zipper Bag 4 Mil Jewelry Baggies<|SEP|>Office & School Supplies,Envelopes, Mailers & Shipping Supplies,Mail Bags & Transit Sacks,Mail Bags<|SEP|>5<|SEP|>\n",
              "3                                                                                                                                                                                          <|BOS|>GLOBE-WEIS Colored Classification Folder (PU5615LBL)<|SEP|>Office & School Supplies<|SEP|>5<|SEP|>\n",
              "4                                                                              <|BOS|>3&quot; X 4&quot; - 2 Mil Clear White Block Reclosable Poly Zip Lock Bags Pack of 100<|SEP|>Office & School Supplies,Envelopes, Mailers & Shipping Supplies,Mail Bags & Transit Sacks,Mail Bags<|SEP|>5<|SEP|>\n",
              "5                                                                                                                           <|BOS|>Assorted Hand made Voodoo String Doll Key Chain (12 pieces)<|SEP|>Office & School Supplies,Forms, Recordkeeping & Money Handling,Key Tags & Chains<|SEP|>5<|SEP|>\n",
              "6  <|BOS|>Vonage Phone Solution Adapter + Cordless Phone System, New for 2011 Vonage Digital Phone System Adapter and Dect 6.0 Motorola Cordless System L603 (not the previous L403) in One Box<|SEP|>Office Electronics,Telephones & Accessories,Landline Phones,Cordless Telephones<|SEP|>5<|SEP|>\n",
              "7                                                                                 <|BOS|>NEW 100 Feet Flexible Magnet Magnetic Strip 1&quot; wide Adhesive Back 30 Mil<|SEP|>Office & School Supplies,Tape, Adhesives & Fasteners,Interlocking Tape & Mounting Products,Magnetic Tape<|SEP|>5<|SEP|>\n",
              "8                                                                                                                    <|BOS|>Palmetto 2-Drawer Oak File Cabinet Warm Honey<|SEP|>Office & School Supplies,Forms, Recordkeeping & Money Handling,Key Cabinets, Racks & Holders,Cabinets<|SEP|>5<|SEP|>\n",
              "9                                                                                                                                          <|BOS|>Pelikan Pelikano Blue Fountain Pen Medium<|SEP|>Office & School Supplies,Writing & Correction Supplies,Pens & Refills,Fountain Pens<|SEP|>5<|SEP|>"
            ]
          },
          "metadata": {},
          "execution_count": 27
        }
      ]
    },
    {
      "cell_type": "code",
      "source": [
        "prompt = \"<|BOS|>Espresso Wenge Reversible L-Desk 72&quot;W with Brushed Nickel Modesty Panel Legs - At Work Collection<|SEP|>Office Furniture & Lighting,Desks & Workstations,Desks,Office Desks<|SEP|>1<|SEP|>\"\n",
        "prompt_len = len(re.sub(r'<\\|[A-Z]{3}\\|>', '', prompt))\n",
        "\n",
        "prompt_ids = tokenizer.encode(prompt)\n",
        "inp = tensor(prompt_ids)[None].cuda()\n",
        "\n",
        "preds = learn.model.generate(inp, max_length=1024, do_sample=True, top_k=0, top_p=0.92, num_return_sequences=25, temperature=0.7)\n",
        "for i, pred in enumerate(preds):\n",
        "  print(\"{}: {}\".format(i+1, tokenizer.decode(pred, skip_special_tokens=True)[prompt_len:]))"
      ],
      "metadata": {
        "colab": {
          "base_uri": "https://localhost:8080/"
        },
        "id": "86yuoJPxQfMX",
        "outputId": "f7aa2cd5-8fde-4d3c-89df-b3e65532bd77"
      },
      "execution_count": null,
      "outputs": [
        {
          "output_type": "stream",
          "name": "stdout",
          "text": [
            "1: The legs are a bit too wide for my liking.  I got the drawer on the first floor and they are definitely not a good fit.  I am going to go back to the office supply store.  I will definitely buy again.\n",
            "2: It is a HUGE piece of furniture.  It is a huge piece of junk.  It was just not worth the $30 it was charged for.  It is not worth the money.\n",
            "3: The leg is too short, the hinge too tight, the hinge too loose, and the legs don't stay together.  My desk looks like it was scratched.  I'll never buy another one.\n",
            "4: I had to use a hard to find regular staple tray to put in my desk, but it worked fine.  I didn't expect it to work.  I had to purchase a new one because I don't want to pay the extra $60 for a regular staple tray.  I also had to use a new staple tray because it was too heavy for my desk.  It was a total waste of money.\n",
            "5: I have had this for over a year now and it has completely destroyed my desk.  The carpet is carpet, not even a single rug.  I am very happy with it.  It is nice to have a desk with a carpeted floor that does not slide down.  I will buy another one.\n",
            "6: It is so small!  It is not in the fridge so it doesn't hold anything.  My other one is a little bigger and needs to be moved.\n",
            "7: Great product. Would have liked to have had a more durable case. The cover is pretty, but it doesn't fit my desk well.  The paper is very thick, which is disappointing.\n",
            "8: I have a kitchen and it works great. I tried to use the sides of the desk to get the metal out, but it does not fit on the bottom. So, I called the seller and they said they will replace the desk. I'm looking for a replacement.\n",
            "9: I am so disappointed.  I have been using this for years and have never seen the issues.  The sliding compartment is so small that I have to push it into the desk drawer.  I have had a hard time removing the key, which is pretty frustrating.  If you do it right, it will just slide into the drawer.  I don't know why anyone would want to buy this.\n",
            "10: I purchased this to hold my keyboard. It's not holding up to use. The metal part on the keyboard slides off easily. The metal part on the keyboard is much too thin for my liking. It's not a good quality product.\n",
            "11: I have used these for several years and they are the same thing. They are not very durable.\n",
            "12: The bottom of this item is not plastic, it is a piece of wood. It looks like it is made of a metal detector. I have a friend who has a metal detector and has a small plastic piece that is not plastic, so it is not plastic. If I had to pick one up I would pick it up, but that is not the case. I will not buy this item again.\n",
            "13: The paper feeder is very bad and it is not working. The feeder is a bit cheap, but I am not complaining.\n",
            "\n",
            "I'm giving it 5 stars because it's great and I just wish it was more of a \"nice\" product.\n",
            "\n",
            "You can buy this product on Amazon.com for $1 less than this guy.\n",
            "14: Great product, but I needed to replace the bottom of the desk, not sure how to do that.  I'm not sure how it will hold up with my old desk.  But I don't know how I could buy a better product.\n",
            "15: Bad quality. Does not have a \"closed\" tab.\n",
            "16: I purchased this item after seeing other reviews on Amazon and other sites that said it was not sturdy enough to handle heavy items.  I am very disappointed.  I have to return it for a refund and I will be returning it.\n",
            "17: It does not work at all.  I'm not sure what I am getting it for.  It looks good but I'm not sure how I can get it to work.  I've had mine for about 2 weeks and I've tried to use it on multiple occasions.  It has never worked and it is not working at all.\n",
            "18: Not as described.  Looks like it's going to be a lot thicker than it should be.  This is a cheap, big and cheap, heavy duty product.  I didn't realize it would be so heavy.  Don't buy it.\n",
            "19: This is a great desk for my work. It is a little small, but it is comfortable to use. The lumbar support is very good and makes it easy to sit and rest your neck. The only problem I have is that it does not hold up as well as the lumbar support.  This will probably be a major problem for some time.\n",
            "20: Too big for my desk.\n",
            "21: I had to replace my desk and it was a pain to get it back.  The lead was a little loose, but the metal parts were still holding it together.  I had to replace it.\n",
            "22: Not the same as the ones I had before.\n",
            "23: I had been looking for a new desk for a long time and this was the best.  The only complaint I have was that the wrist rest was a little short.  This thing does not have the wrist rest that I was looking for.  You would have to bend the wrist to have it.  The design of the desk is a bit different than what I would have been using.  I would have preferred a more professional look.\n",
            "24: I was very disappointed with this product, I was expecting a clean product and I was disappointed. I had to return it because I had to use the other side of the desk. The unit came with a 5-position tab to keep the tabs aligned. The tab is not very sturdy and I have to get it adjusted to fit the desk. The tabs are not even 1/2\" long. The only thing I would change would be to make the tabs more tapered.\n",
            "25: This is not a great product. It is a bit too small for my desk. It is not very sturdy, and if you put the table on top of it, it falls off of the desk.\n"
          ]
        }
      ]
    },
    {
      "cell_type": "markdown",
      "source": [
        "### Generate CG/OG survey data"
      ],
      "metadata": {
        "id": "a2ulFwUiLg6-"
      }
    },
    {
      "cell_type": "code",
      "source": [
        "%%time\n",
        "\n",
        "# TODO: move these to top config\n",
        "NUM_OR = 200\n",
        "NUM_CG = 200\n",
        "\n",
        "NUM_RET_SEQS = 1\n",
        "\n",
        "mixed_reviews = [] # [product name, categories, star rating, CG/OG, review text]\n",
        "\n",
        "# The end of the regex is so complicated because reviews that actually reach 1024 tokens long will not end with EOS\n",
        "regex = re.compile(\n",
        "    r'<\\|BOS\\|>(.*?)<\\|SEP\\|>' + \n",
        "    r'(.*)<\\|SEP\\|>' * (NUM_CATEGORIES-1) +\n",
        "    r'(.*)<\\|SEP\\|>(\\d)<\\|SEP\\|>(?:(.*)(?:<\\|EOS\\|>)|(.*))', \n",
        "    re.MULTILINE | re.DOTALL\n",
        ")\n",
        "\n",
        "def add_review(review, label):\n",
        "  if not regex.match(review):\n",
        "    print(regex)\n",
        "    print(review)\n",
        "\n",
        "  groups = regex.match(review).groups()\n",
        "  title, rating, reviewText = groups[0], groups[-3], groups[-1] if groups[-1] else groups[-2]\n",
        "  categories = groups[1:-3]\n",
        "  mixed_reviews.append([title, *categories, rating, label, reviewText])\n",
        "\n",
        "# Add the OG data (which we trained on)\n",
        "for review in np.random.choice(all_texts, NUM_OR, replace=False):\n",
        "  # Parse review and add it to the mixed reviews\n",
        "  add_review(review, 'OR')\n",
        "\n",
        "# Add the CG data\n",
        "for prompt in np.random.choice(prompts['prompt'].values, NUM_CG, replace=False):\n",
        "  # Add rating section to the prompt\n",
        "  rating = str(random.randint(1, 5)) # pick star rating with equal probability\n",
        "  prompt += rating + SPECIAL_TOKENS['sep_token']\n",
        "  \n",
        "  # Generate NUM_RET_SEQS possible reviews\n",
        "  prompt_ids = tokenizer.encode(prompt)\n",
        "  inp = tensor(prompt_ids)[None].cuda()\n",
        "  preds = learn.model.generate(inp, max_length=1024, do_sample=True, top_k=0, top_p=0.92, num_return_sequences=NUM_RET_SEQS, temperature=0.7)\n",
        "\n",
        "  # Pick one and add it to the mixed dataset\n",
        "  idx = random.randrange(NUM_RET_SEQS)\n",
        "  review = tokenizer.decode(preds[idx])\n",
        "\n",
        "  # Parse review and add it to the mixed reviews\n",
        "  add_review(review, 'CG')\n",
        "\n",
        "category_headers = [f'category_{i+1}' for i in range(NUM_CATEGORIES)]\n",
        "mixed_reviews = pd.DataFrame(mixed_reviews, columns=[\"product\", *category_headers, \"rating\", \"label\", \"review\"])\n",
        "mixed_reviews.to_csv(f'{CATEGORY_NAME_SIMPLE}_mixed_reviews_{CODE_VER}.csv', index=None)\n"
      ],
      "metadata": {
        "id": "pVXH-0ROQmUL",
        "colab": {
          "base_uri": "https://localhost:8080/"
        },
        "outputId": "4191c199-65b4-4daf-80be-8d5a827e4701"
      },
      "execution_count": 47,
      "outputs": [
        {
          "output_type": "stream",
          "name": "stdout",
          "text": [
            "CPU times: user 2min 57s, sys: 606 ms, total: 2min 58s\n",
            "Wall time: 3min 1s\n"
          ]
        }
      ]
    },
    {
      "cell_type": "code",
      "source": [
        "mixed_reviews.head(20)"
      ],
      "metadata": {
        "id": "UFeniyfj4Kic"
      },
      "execution_count": null,
      "outputs": []
    },
    {
      "cell_type": "markdown",
      "source": [
        "# Misc"
      ],
      "metadata": {
        "id": "n-3OdJO6U5Ih"
      }
    },
    {
      "cell_type": "markdown",
      "source": [
        "## Find out what GPU is being used"
      ],
      "metadata": {
        "id": "x7mMoPpourLY"
      }
    },
    {
      "cell_type": "markdown",
      "source": [
        "GPU | Time to fine tune\n",
        "-|-\n",
        "T4 | 20  \n",
        "K80 | 85"
      ],
      "metadata": {
        "id": "cu47axCxuuO2"
      }
    },
    {
      "cell_type": "code",
      "source": [
        "!nvidia-smi"
      ],
      "metadata": {
        "colab": {
          "base_uri": "https://localhost:8080/"
        },
        "id": "tnbOnwHxU4Ci",
        "outputId": "81f015ae-f5d4-4955-a9c1-4ba16d7b873e"
      },
      "execution_count": 18,
      "outputs": [
        {
          "output_type": "stream",
          "name": "stdout",
          "text": [
            "Fri Mar  4 04:36:11 2022       \n",
            "+-----------------------------------------------------------------------------+\n",
            "| NVIDIA-SMI 460.32.03    Driver Version: 460.32.03    CUDA Version: 11.2     |\n",
            "|-------------------------------+----------------------+----------------------+\n",
            "| GPU  Name        Persistence-M| Bus-Id        Disp.A | Volatile Uncorr. ECC |\n",
            "| Fan  Temp  Perf  Pwr:Usage/Cap|         Memory-Usage | GPU-Util  Compute M. |\n",
            "|                               |                      |               MIG M. |\n",
            "|===============================+======================+======================|\n",
            "|   0  Tesla K80           Off  | 00000000:00:04.0 Off |                    0 |\n",
            "| N/A   35C    P8    27W / 149W |      3MiB / 11441MiB |      0%      Default |\n",
            "|                               |                      |                  N/A |\n",
            "+-------------------------------+----------------------+----------------------+\n",
            "                                                                               \n",
            "+-----------------------------------------------------------------------------+\n",
            "| Processes:                                                                  |\n",
            "|  GPU   GI   CI        PID   Type   Process name                  GPU Memory |\n",
            "|        ID   ID                                                   Usage      |\n",
            "|=============================================================================|\n",
            "|  No running processes found                                                 |\n",
            "+-----------------------------------------------------------------------------+\n"
          ]
        }
      ]
    }
  ]
}