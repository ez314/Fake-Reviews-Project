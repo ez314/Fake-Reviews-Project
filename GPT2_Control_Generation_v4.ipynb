{
  "nbformat": 4,
  "nbformat_minor": 0,
  "metadata": {
    "colab": {
      "name": "GPT2_Control_Generation_v4.ipynb",
      "provenance": [],
      "collapsed_sections": [
        "I7Vq7v1ulvWw",
        "4mFK5nFMExRZ",
        "emiGz28bCep4",
        "6mD6aH9_Cjll",
        "1zLmXNMhCpjh",
        "h_B_jZnnCtnI",
        "rJarazPPCzLa"
      ],
      "authorship_tag": "ABX9TyMoX1TD7EdLJc/8MbBJ/IPS",
      "include_colab_link": true
    },
    "kernelspec": {
      "name": "python3",
      "display_name": "Python 3"
    },
    "language_info": {
      "name": "python"
    },
    "accelerator": "GPU",
    "widgets": {
      "application/vnd.jupyter.widget-state+json": {
        "6d1736b37afa43748e0e72a0b725eae5": {
          "model_module": "@jupyter-widgets/controls",
          "model_name": "HBoxModel",
          "model_module_version": "1.5.0",
          "state": {
            "_view_name": "HBoxView",
            "_dom_classes": [],
            "_model_name": "HBoxModel",
            "_view_module": "@jupyter-widgets/controls",
            "_model_module_version": "1.5.0",
            "_view_count": null,
            "_view_module_version": "1.5.0",
            "box_style": "",
            "layout": "IPY_MODEL_f1e5fa2481654da3aa2896a1b96c4b97",
            "_model_module": "@jupyter-widgets/controls",
            "children": [
              "IPY_MODEL_0eaf4952c01e477795e7aa2aec441095",
              "IPY_MODEL_8cfc5181fe094758a3bbb47afb2f570f",
              "IPY_MODEL_3838de962bef44dc8d95bd3d1e2bbc13"
            ]
          }
        },
        "f1e5fa2481654da3aa2896a1b96c4b97": {
          "model_module": "@jupyter-widgets/base",
          "model_name": "LayoutModel",
          "model_module_version": "1.2.0",
          "state": {
            "_view_name": "LayoutView",
            "grid_template_rows": null,
            "right": null,
            "justify_content": null,
            "_view_module": "@jupyter-widgets/base",
            "overflow": null,
            "_model_module_version": "1.2.0",
            "_view_count": null,
            "flex_flow": null,
            "width": null,
            "min_width": null,
            "border": null,
            "align_items": null,
            "bottom": null,
            "_model_module": "@jupyter-widgets/base",
            "top": null,
            "grid_column": null,
            "overflow_y": null,
            "overflow_x": null,
            "grid_auto_flow": null,
            "grid_area": null,
            "grid_template_columns": null,
            "flex": null,
            "_model_name": "LayoutModel",
            "justify_items": null,
            "grid_row": null,
            "max_height": null,
            "align_content": null,
            "visibility": null,
            "align_self": null,
            "height": null,
            "min_height": null,
            "padding": null,
            "grid_auto_rows": null,
            "grid_gap": null,
            "max_width": null,
            "order": null,
            "_view_module_version": "1.2.0",
            "grid_template_areas": null,
            "object_position": null,
            "object_fit": null,
            "grid_auto_columns": null,
            "margin": null,
            "display": null,
            "left": null
          }
        },
        "0eaf4952c01e477795e7aa2aec441095": {
          "model_module": "@jupyter-widgets/controls",
          "model_name": "HTMLModel",
          "model_module_version": "1.5.0",
          "state": {
            "_view_name": "HTMLView",
            "style": "IPY_MODEL_cdac91c8ef73410d95b1e461cfc4fc30",
            "_dom_classes": [],
            "description": "",
            "_model_name": "HTMLModel",
            "placeholder": "​",
            "_view_module": "@jupyter-widgets/controls",
            "_model_module_version": "1.5.0",
            "value": "Downloading: 100%",
            "_view_count": null,
            "_view_module_version": "1.5.0",
            "description_tooltip": null,
            "_model_module": "@jupyter-widgets/controls",
            "layout": "IPY_MODEL_94827e79868b48b4bc3fe869dca4d3cd"
          }
        },
        "8cfc5181fe094758a3bbb47afb2f570f": {
          "model_module": "@jupyter-widgets/controls",
          "model_name": "FloatProgressModel",
          "model_module_version": "1.5.0",
          "state": {
            "_view_name": "ProgressView",
            "style": "IPY_MODEL_4dc9d54e49b44b5991c89b6426629267",
            "_dom_classes": [],
            "description": "",
            "_model_name": "FloatProgressModel",
            "bar_style": "success",
            "max": 665,
            "_view_module": "@jupyter-widgets/controls",
            "_model_module_version": "1.5.0",
            "value": 665,
            "_view_count": null,
            "_view_module_version": "1.5.0",
            "orientation": "horizontal",
            "min": 0,
            "description_tooltip": null,
            "_model_module": "@jupyter-widgets/controls",
            "layout": "IPY_MODEL_416ed6606379410b936ba1e6978861a7"
          }
        },
        "3838de962bef44dc8d95bd3d1e2bbc13": {
          "model_module": "@jupyter-widgets/controls",
          "model_name": "HTMLModel",
          "model_module_version": "1.5.0",
          "state": {
            "_view_name": "HTMLView",
            "style": "IPY_MODEL_4ce6b961af244b3d912bad46b367e274",
            "_dom_classes": [],
            "description": "",
            "_model_name": "HTMLModel",
            "placeholder": "​",
            "_view_module": "@jupyter-widgets/controls",
            "_model_module_version": "1.5.0",
            "value": " 665/665 [00:00&lt;00:00, 14.4kB/s]",
            "_view_count": null,
            "_view_module_version": "1.5.0",
            "description_tooltip": null,
            "_model_module": "@jupyter-widgets/controls",
            "layout": "IPY_MODEL_e47154a8178c421191d6f8eb080267bb"
          }
        },
        "cdac91c8ef73410d95b1e461cfc4fc30": {
          "model_module": "@jupyter-widgets/controls",
          "model_name": "DescriptionStyleModel",
          "model_module_version": "1.5.0",
          "state": {
            "_view_name": "StyleView",
            "_model_name": "DescriptionStyleModel",
            "description_width": "",
            "_view_module": "@jupyter-widgets/base",
            "_model_module_version": "1.5.0",
            "_view_count": null,
            "_view_module_version": "1.2.0",
            "_model_module": "@jupyter-widgets/controls"
          }
        },
        "94827e79868b48b4bc3fe869dca4d3cd": {
          "model_module": "@jupyter-widgets/base",
          "model_name": "LayoutModel",
          "model_module_version": "1.2.0",
          "state": {
            "_view_name": "LayoutView",
            "grid_template_rows": null,
            "right": null,
            "justify_content": null,
            "_view_module": "@jupyter-widgets/base",
            "overflow": null,
            "_model_module_version": "1.2.0",
            "_view_count": null,
            "flex_flow": null,
            "width": null,
            "min_width": null,
            "border": null,
            "align_items": null,
            "bottom": null,
            "_model_module": "@jupyter-widgets/base",
            "top": null,
            "grid_column": null,
            "overflow_y": null,
            "overflow_x": null,
            "grid_auto_flow": null,
            "grid_area": null,
            "grid_template_columns": null,
            "flex": null,
            "_model_name": "LayoutModel",
            "justify_items": null,
            "grid_row": null,
            "max_height": null,
            "align_content": null,
            "visibility": null,
            "align_self": null,
            "height": null,
            "min_height": null,
            "padding": null,
            "grid_auto_rows": null,
            "grid_gap": null,
            "max_width": null,
            "order": null,
            "_view_module_version": "1.2.0",
            "grid_template_areas": null,
            "object_position": null,
            "object_fit": null,
            "grid_auto_columns": null,
            "margin": null,
            "display": null,
            "left": null
          }
        },
        "4dc9d54e49b44b5991c89b6426629267": {
          "model_module": "@jupyter-widgets/controls",
          "model_name": "ProgressStyleModel",
          "model_module_version": "1.5.0",
          "state": {
            "_view_name": "StyleView",
            "_model_name": "ProgressStyleModel",
            "description_width": "",
            "_view_module": "@jupyter-widgets/base",
            "_model_module_version": "1.5.0",
            "_view_count": null,
            "_view_module_version": "1.2.0",
            "bar_color": null,
            "_model_module": "@jupyter-widgets/controls"
          }
        },
        "416ed6606379410b936ba1e6978861a7": {
          "model_module": "@jupyter-widgets/base",
          "model_name": "LayoutModel",
          "model_module_version": "1.2.0",
          "state": {
            "_view_name": "LayoutView",
            "grid_template_rows": null,
            "right": null,
            "justify_content": null,
            "_view_module": "@jupyter-widgets/base",
            "overflow": null,
            "_model_module_version": "1.2.0",
            "_view_count": null,
            "flex_flow": null,
            "width": null,
            "min_width": null,
            "border": null,
            "align_items": null,
            "bottom": null,
            "_model_module": "@jupyter-widgets/base",
            "top": null,
            "grid_column": null,
            "overflow_y": null,
            "overflow_x": null,
            "grid_auto_flow": null,
            "grid_area": null,
            "grid_template_columns": null,
            "flex": null,
            "_model_name": "LayoutModel",
            "justify_items": null,
            "grid_row": null,
            "max_height": null,
            "align_content": null,
            "visibility": null,
            "align_self": null,
            "height": null,
            "min_height": null,
            "padding": null,
            "grid_auto_rows": null,
            "grid_gap": null,
            "max_width": null,
            "order": null,
            "_view_module_version": "1.2.0",
            "grid_template_areas": null,
            "object_position": null,
            "object_fit": null,
            "grid_auto_columns": null,
            "margin": null,
            "display": null,
            "left": null
          }
        },
        "4ce6b961af244b3d912bad46b367e274": {
          "model_module": "@jupyter-widgets/controls",
          "model_name": "DescriptionStyleModel",
          "model_module_version": "1.5.0",
          "state": {
            "_view_name": "StyleView",
            "_model_name": "DescriptionStyleModel",
            "description_width": "",
            "_view_module": "@jupyter-widgets/base",
            "_model_module_version": "1.5.0",
            "_view_count": null,
            "_view_module_version": "1.2.0",
            "_model_module": "@jupyter-widgets/controls"
          }
        },
        "e47154a8178c421191d6f8eb080267bb": {
          "model_module": "@jupyter-widgets/base",
          "model_name": "LayoutModel",
          "model_module_version": "1.2.0",
          "state": {
            "_view_name": "LayoutView",
            "grid_template_rows": null,
            "right": null,
            "justify_content": null,
            "_view_module": "@jupyter-widgets/base",
            "overflow": null,
            "_model_module_version": "1.2.0",
            "_view_count": null,
            "flex_flow": null,
            "width": null,
            "min_width": null,
            "border": null,
            "align_items": null,
            "bottom": null,
            "_model_module": "@jupyter-widgets/base",
            "top": null,
            "grid_column": null,
            "overflow_y": null,
            "overflow_x": null,
            "grid_auto_flow": null,
            "grid_area": null,
            "grid_template_columns": null,
            "flex": null,
            "_model_name": "LayoutModel",
            "justify_items": null,
            "grid_row": null,
            "max_height": null,
            "align_content": null,
            "visibility": null,
            "align_self": null,
            "height": null,
            "min_height": null,
            "padding": null,
            "grid_auto_rows": null,
            "grid_gap": null,
            "max_width": null,
            "order": null,
            "_view_module_version": "1.2.0",
            "grid_template_areas": null,
            "object_position": null,
            "object_fit": null,
            "grid_auto_columns": null,
            "margin": null,
            "display": null,
            "left": null
          }
        },
        "b6724c6927884f008185d24c7bf2fbfb": {
          "model_module": "@jupyter-widgets/controls",
          "model_name": "HBoxModel",
          "model_module_version": "1.5.0",
          "state": {
            "_view_name": "HBoxView",
            "_dom_classes": [],
            "_model_name": "HBoxModel",
            "_view_module": "@jupyter-widgets/controls",
            "_model_module_version": "1.5.0",
            "_view_count": null,
            "_view_module_version": "1.5.0",
            "box_style": "",
            "layout": "IPY_MODEL_f2ade57e0dd94e32a389d74e2033bfed",
            "_model_module": "@jupyter-widgets/controls",
            "children": [
              "IPY_MODEL_25a3d95099314809acb6de5d8c173c4c",
              "IPY_MODEL_cce042a6daf4466eb0afe9ab6a124f98",
              "IPY_MODEL_3784033d48b84e5cb2ccb35cc326452c"
            ]
          }
        },
        "f2ade57e0dd94e32a389d74e2033bfed": {
          "model_module": "@jupyter-widgets/base",
          "model_name": "LayoutModel",
          "model_module_version": "1.2.0",
          "state": {
            "_view_name": "LayoutView",
            "grid_template_rows": null,
            "right": null,
            "justify_content": null,
            "_view_module": "@jupyter-widgets/base",
            "overflow": null,
            "_model_module_version": "1.2.0",
            "_view_count": null,
            "flex_flow": null,
            "width": null,
            "min_width": null,
            "border": null,
            "align_items": null,
            "bottom": null,
            "_model_module": "@jupyter-widgets/base",
            "top": null,
            "grid_column": null,
            "overflow_y": null,
            "overflow_x": null,
            "grid_auto_flow": null,
            "grid_area": null,
            "grid_template_columns": null,
            "flex": null,
            "_model_name": "LayoutModel",
            "justify_items": null,
            "grid_row": null,
            "max_height": null,
            "align_content": null,
            "visibility": null,
            "align_self": null,
            "height": null,
            "min_height": null,
            "padding": null,
            "grid_auto_rows": null,
            "grid_gap": null,
            "max_width": null,
            "order": null,
            "_view_module_version": "1.2.0",
            "grid_template_areas": null,
            "object_position": null,
            "object_fit": null,
            "grid_auto_columns": null,
            "margin": null,
            "display": null,
            "left": null
          }
        },
        "25a3d95099314809acb6de5d8c173c4c": {
          "model_module": "@jupyter-widgets/controls",
          "model_name": "HTMLModel",
          "model_module_version": "1.5.0",
          "state": {
            "_view_name": "HTMLView",
            "style": "IPY_MODEL_44376adbed7f4ee0bd51a7116521aea8",
            "_dom_classes": [],
            "description": "",
            "_model_name": "HTMLModel",
            "placeholder": "​",
            "_view_module": "@jupyter-widgets/controls",
            "_model_module_version": "1.5.0",
            "value": "Downloading: 100%",
            "_view_count": null,
            "_view_module_version": "1.5.0",
            "description_tooltip": null,
            "_model_module": "@jupyter-widgets/controls",
            "layout": "IPY_MODEL_205db8a68d6e4e39830e3e269934e588"
          }
        },
        "cce042a6daf4466eb0afe9ab6a124f98": {
          "model_module": "@jupyter-widgets/controls",
          "model_name": "FloatProgressModel",
          "model_module_version": "1.5.0",
          "state": {
            "_view_name": "ProgressView",
            "style": "IPY_MODEL_ae475c2d46a14f20b44a9e04af849244",
            "_dom_classes": [],
            "description": "",
            "_model_name": "FloatProgressModel",
            "bar_style": "success",
            "max": 1042301,
            "_view_module": "@jupyter-widgets/controls",
            "_model_module_version": "1.5.0",
            "value": 1042301,
            "_view_count": null,
            "_view_module_version": "1.5.0",
            "orientation": "horizontal",
            "min": 0,
            "description_tooltip": null,
            "_model_module": "@jupyter-widgets/controls",
            "layout": "IPY_MODEL_868c983450634ec094a74a5d858cb9cd"
          }
        },
        "3784033d48b84e5cb2ccb35cc326452c": {
          "model_module": "@jupyter-widgets/controls",
          "model_name": "HTMLModel",
          "model_module_version": "1.5.0",
          "state": {
            "_view_name": "HTMLView",
            "style": "IPY_MODEL_95cb43c7ac4446199ca500cf27285dda",
            "_dom_classes": [],
            "description": "",
            "_model_name": "HTMLModel",
            "placeholder": "​",
            "_view_module": "@jupyter-widgets/controls",
            "_model_module_version": "1.5.0",
            "value": " 0.99M/0.99M [00:00&lt;00:00, 1.07MB/s]",
            "_view_count": null,
            "_view_module_version": "1.5.0",
            "description_tooltip": null,
            "_model_module": "@jupyter-widgets/controls",
            "layout": "IPY_MODEL_538a8c8c135b414f8641c0ce40bee452"
          }
        },
        "44376adbed7f4ee0bd51a7116521aea8": {
          "model_module": "@jupyter-widgets/controls",
          "model_name": "DescriptionStyleModel",
          "model_module_version": "1.5.0",
          "state": {
            "_view_name": "StyleView",
            "_model_name": "DescriptionStyleModel",
            "description_width": "",
            "_view_module": "@jupyter-widgets/base",
            "_model_module_version": "1.5.0",
            "_view_count": null,
            "_view_module_version": "1.2.0",
            "_model_module": "@jupyter-widgets/controls"
          }
        },
        "205db8a68d6e4e39830e3e269934e588": {
          "model_module": "@jupyter-widgets/base",
          "model_name": "LayoutModel",
          "model_module_version": "1.2.0",
          "state": {
            "_view_name": "LayoutView",
            "grid_template_rows": null,
            "right": null,
            "justify_content": null,
            "_view_module": "@jupyter-widgets/base",
            "overflow": null,
            "_model_module_version": "1.2.0",
            "_view_count": null,
            "flex_flow": null,
            "width": null,
            "min_width": null,
            "border": null,
            "align_items": null,
            "bottom": null,
            "_model_module": "@jupyter-widgets/base",
            "top": null,
            "grid_column": null,
            "overflow_y": null,
            "overflow_x": null,
            "grid_auto_flow": null,
            "grid_area": null,
            "grid_template_columns": null,
            "flex": null,
            "_model_name": "LayoutModel",
            "justify_items": null,
            "grid_row": null,
            "max_height": null,
            "align_content": null,
            "visibility": null,
            "align_self": null,
            "height": null,
            "min_height": null,
            "padding": null,
            "grid_auto_rows": null,
            "grid_gap": null,
            "max_width": null,
            "order": null,
            "_view_module_version": "1.2.0",
            "grid_template_areas": null,
            "object_position": null,
            "object_fit": null,
            "grid_auto_columns": null,
            "margin": null,
            "display": null,
            "left": null
          }
        },
        "ae475c2d46a14f20b44a9e04af849244": {
          "model_module": "@jupyter-widgets/controls",
          "model_name": "ProgressStyleModel",
          "model_module_version": "1.5.0",
          "state": {
            "_view_name": "StyleView",
            "_model_name": "ProgressStyleModel",
            "description_width": "",
            "_view_module": "@jupyter-widgets/base",
            "_model_module_version": "1.5.0",
            "_view_count": null,
            "_view_module_version": "1.2.0",
            "bar_color": null,
            "_model_module": "@jupyter-widgets/controls"
          }
        },
        "868c983450634ec094a74a5d858cb9cd": {
          "model_module": "@jupyter-widgets/base",
          "model_name": "LayoutModel",
          "model_module_version": "1.2.0",
          "state": {
            "_view_name": "LayoutView",
            "grid_template_rows": null,
            "right": null,
            "justify_content": null,
            "_view_module": "@jupyter-widgets/base",
            "overflow": null,
            "_model_module_version": "1.2.0",
            "_view_count": null,
            "flex_flow": null,
            "width": null,
            "min_width": null,
            "border": null,
            "align_items": null,
            "bottom": null,
            "_model_module": "@jupyter-widgets/base",
            "top": null,
            "grid_column": null,
            "overflow_y": null,
            "overflow_x": null,
            "grid_auto_flow": null,
            "grid_area": null,
            "grid_template_columns": null,
            "flex": null,
            "_model_name": "LayoutModel",
            "justify_items": null,
            "grid_row": null,
            "max_height": null,
            "align_content": null,
            "visibility": null,
            "align_self": null,
            "height": null,
            "min_height": null,
            "padding": null,
            "grid_auto_rows": null,
            "grid_gap": null,
            "max_width": null,
            "order": null,
            "_view_module_version": "1.2.0",
            "grid_template_areas": null,
            "object_position": null,
            "object_fit": null,
            "grid_auto_columns": null,
            "margin": null,
            "display": null,
            "left": null
          }
        },
        "95cb43c7ac4446199ca500cf27285dda": {
          "model_module": "@jupyter-widgets/controls",
          "model_name": "DescriptionStyleModel",
          "model_module_version": "1.5.0",
          "state": {
            "_view_name": "StyleView",
            "_model_name": "DescriptionStyleModel",
            "description_width": "",
            "_view_module": "@jupyter-widgets/base",
            "_model_module_version": "1.5.0",
            "_view_count": null,
            "_view_module_version": "1.2.0",
            "_model_module": "@jupyter-widgets/controls"
          }
        },
        "538a8c8c135b414f8641c0ce40bee452": {
          "model_module": "@jupyter-widgets/base",
          "model_name": "LayoutModel",
          "model_module_version": "1.2.0",
          "state": {
            "_view_name": "LayoutView",
            "grid_template_rows": null,
            "right": null,
            "justify_content": null,
            "_view_module": "@jupyter-widgets/base",
            "overflow": null,
            "_model_module_version": "1.2.0",
            "_view_count": null,
            "flex_flow": null,
            "width": null,
            "min_width": null,
            "border": null,
            "align_items": null,
            "bottom": null,
            "_model_module": "@jupyter-widgets/base",
            "top": null,
            "grid_column": null,
            "overflow_y": null,
            "overflow_x": null,
            "grid_auto_flow": null,
            "grid_area": null,
            "grid_template_columns": null,
            "flex": null,
            "_model_name": "LayoutModel",
            "justify_items": null,
            "grid_row": null,
            "max_height": null,
            "align_content": null,
            "visibility": null,
            "align_self": null,
            "height": null,
            "min_height": null,
            "padding": null,
            "grid_auto_rows": null,
            "grid_gap": null,
            "max_width": null,
            "order": null,
            "_view_module_version": "1.2.0",
            "grid_template_areas": null,
            "object_position": null,
            "object_fit": null,
            "grid_auto_columns": null,
            "margin": null,
            "display": null,
            "left": null
          }
        },
        "93c16ba3655141c1b892f8494e2d55ff": {
          "model_module": "@jupyter-widgets/controls",
          "model_name": "HBoxModel",
          "model_module_version": "1.5.0",
          "state": {
            "_view_name": "HBoxView",
            "_dom_classes": [],
            "_model_name": "HBoxModel",
            "_view_module": "@jupyter-widgets/controls",
            "_model_module_version": "1.5.0",
            "_view_count": null,
            "_view_module_version": "1.5.0",
            "box_style": "",
            "layout": "IPY_MODEL_ee8ebb04498f4709bc75965b9b3e8efd",
            "_model_module": "@jupyter-widgets/controls",
            "children": [
              "IPY_MODEL_c5aeab80d28f487ca0cc3d1518378c3e",
              "IPY_MODEL_003be8893b614c1a97798cd5e52f0d5a",
              "IPY_MODEL_2bcbacf2ff294011aafaa86fb9ac7ffc"
            ]
          }
        },
        "ee8ebb04498f4709bc75965b9b3e8efd": {
          "model_module": "@jupyter-widgets/base",
          "model_name": "LayoutModel",
          "model_module_version": "1.2.0",
          "state": {
            "_view_name": "LayoutView",
            "grid_template_rows": null,
            "right": null,
            "justify_content": null,
            "_view_module": "@jupyter-widgets/base",
            "overflow": null,
            "_model_module_version": "1.2.0",
            "_view_count": null,
            "flex_flow": null,
            "width": null,
            "min_width": null,
            "border": null,
            "align_items": null,
            "bottom": null,
            "_model_module": "@jupyter-widgets/base",
            "top": null,
            "grid_column": null,
            "overflow_y": null,
            "overflow_x": null,
            "grid_auto_flow": null,
            "grid_area": null,
            "grid_template_columns": null,
            "flex": null,
            "_model_name": "LayoutModel",
            "justify_items": null,
            "grid_row": null,
            "max_height": null,
            "align_content": null,
            "visibility": null,
            "align_self": null,
            "height": null,
            "min_height": null,
            "padding": null,
            "grid_auto_rows": null,
            "grid_gap": null,
            "max_width": null,
            "order": null,
            "_view_module_version": "1.2.0",
            "grid_template_areas": null,
            "object_position": null,
            "object_fit": null,
            "grid_auto_columns": null,
            "margin": null,
            "display": null,
            "left": null
          }
        },
        "c5aeab80d28f487ca0cc3d1518378c3e": {
          "model_module": "@jupyter-widgets/controls",
          "model_name": "HTMLModel",
          "model_module_version": "1.5.0",
          "state": {
            "_view_name": "HTMLView",
            "style": "IPY_MODEL_c7f3724680cf484baa8033cabc0f7ea3",
            "_dom_classes": [],
            "description": "",
            "_model_name": "HTMLModel",
            "placeholder": "​",
            "_view_module": "@jupyter-widgets/controls",
            "_model_module_version": "1.5.0",
            "value": "Downloading: 100%",
            "_view_count": null,
            "_view_module_version": "1.5.0",
            "description_tooltip": null,
            "_model_module": "@jupyter-widgets/controls",
            "layout": "IPY_MODEL_3b4f3574c2dc4db9a6eb9ea9c7917d5c"
          }
        },
        "003be8893b614c1a97798cd5e52f0d5a": {
          "model_module": "@jupyter-widgets/controls",
          "model_name": "FloatProgressModel",
          "model_module_version": "1.5.0",
          "state": {
            "_view_name": "ProgressView",
            "style": "IPY_MODEL_135af4808b7e43b29827d85e41b09d4e",
            "_dom_classes": [],
            "description": "",
            "_model_name": "FloatProgressModel",
            "bar_style": "success",
            "max": 456318,
            "_view_module": "@jupyter-widgets/controls",
            "_model_module_version": "1.5.0",
            "value": 456318,
            "_view_count": null,
            "_view_module_version": "1.5.0",
            "orientation": "horizontal",
            "min": 0,
            "description_tooltip": null,
            "_model_module": "@jupyter-widgets/controls",
            "layout": "IPY_MODEL_3b85f8713e4247e38a67057a34b78763"
          }
        },
        "2bcbacf2ff294011aafaa86fb9ac7ffc": {
          "model_module": "@jupyter-widgets/controls",
          "model_name": "HTMLModel",
          "model_module_version": "1.5.0",
          "state": {
            "_view_name": "HTMLView",
            "style": "IPY_MODEL_eaa3b0de565940fbb0e75d87284e3928",
            "_dom_classes": [],
            "description": "",
            "_model_name": "HTMLModel",
            "placeholder": "​",
            "_view_module": "@jupyter-widgets/controls",
            "_model_module_version": "1.5.0",
            "value": " 446k/446k [00:00&lt;00:00, 1.13MB/s]",
            "_view_count": null,
            "_view_module_version": "1.5.0",
            "description_tooltip": null,
            "_model_module": "@jupyter-widgets/controls",
            "layout": "IPY_MODEL_30ac49a5b2114b039b652e19cd20053a"
          }
        },
        "c7f3724680cf484baa8033cabc0f7ea3": {
          "model_module": "@jupyter-widgets/controls",
          "model_name": "DescriptionStyleModel",
          "model_module_version": "1.5.0",
          "state": {
            "_view_name": "StyleView",
            "_model_name": "DescriptionStyleModel",
            "description_width": "",
            "_view_module": "@jupyter-widgets/base",
            "_model_module_version": "1.5.0",
            "_view_count": null,
            "_view_module_version": "1.2.0",
            "_model_module": "@jupyter-widgets/controls"
          }
        },
        "3b4f3574c2dc4db9a6eb9ea9c7917d5c": {
          "model_module": "@jupyter-widgets/base",
          "model_name": "LayoutModel",
          "model_module_version": "1.2.0",
          "state": {
            "_view_name": "LayoutView",
            "grid_template_rows": null,
            "right": null,
            "justify_content": null,
            "_view_module": "@jupyter-widgets/base",
            "overflow": null,
            "_model_module_version": "1.2.0",
            "_view_count": null,
            "flex_flow": null,
            "width": null,
            "min_width": null,
            "border": null,
            "align_items": null,
            "bottom": null,
            "_model_module": "@jupyter-widgets/base",
            "top": null,
            "grid_column": null,
            "overflow_y": null,
            "overflow_x": null,
            "grid_auto_flow": null,
            "grid_area": null,
            "grid_template_columns": null,
            "flex": null,
            "_model_name": "LayoutModel",
            "justify_items": null,
            "grid_row": null,
            "max_height": null,
            "align_content": null,
            "visibility": null,
            "align_self": null,
            "height": null,
            "min_height": null,
            "padding": null,
            "grid_auto_rows": null,
            "grid_gap": null,
            "max_width": null,
            "order": null,
            "_view_module_version": "1.2.0",
            "grid_template_areas": null,
            "object_position": null,
            "object_fit": null,
            "grid_auto_columns": null,
            "margin": null,
            "display": null,
            "left": null
          }
        },
        "135af4808b7e43b29827d85e41b09d4e": {
          "model_module": "@jupyter-widgets/controls",
          "model_name": "ProgressStyleModel",
          "model_module_version": "1.5.0",
          "state": {
            "_view_name": "StyleView",
            "_model_name": "ProgressStyleModel",
            "description_width": "",
            "_view_module": "@jupyter-widgets/base",
            "_model_module_version": "1.5.0",
            "_view_count": null,
            "_view_module_version": "1.2.0",
            "bar_color": null,
            "_model_module": "@jupyter-widgets/controls"
          }
        },
        "3b85f8713e4247e38a67057a34b78763": {
          "model_module": "@jupyter-widgets/base",
          "model_name": "LayoutModel",
          "model_module_version": "1.2.0",
          "state": {
            "_view_name": "LayoutView",
            "grid_template_rows": null,
            "right": null,
            "justify_content": null,
            "_view_module": "@jupyter-widgets/base",
            "overflow": null,
            "_model_module_version": "1.2.0",
            "_view_count": null,
            "flex_flow": null,
            "width": null,
            "min_width": null,
            "border": null,
            "align_items": null,
            "bottom": null,
            "_model_module": "@jupyter-widgets/base",
            "top": null,
            "grid_column": null,
            "overflow_y": null,
            "overflow_x": null,
            "grid_auto_flow": null,
            "grid_area": null,
            "grid_template_columns": null,
            "flex": null,
            "_model_name": "LayoutModel",
            "justify_items": null,
            "grid_row": null,
            "max_height": null,
            "align_content": null,
            "visibility": null,
            "align_self": null,
            "height": null,
            "min_height": null,
            "padding": null,
            "grid_auto_rows": null,
            "grid_gap": null,
            "max_width": null,
            "order": null,
            "_view_module_version": "1.2.0",
            "grid_template_areas": null,
            "object_position": null,
            "object_fit": null,
            "grid_auto_columns": null,
            "margin": null,
            "display": null,
            "left": null
          }
        },
        "eaa3b0de565940fbb0e75d87284e3928": {
          "model_module": "@jupyter-widgets/controls",
          "model_name": "DescriptionStyleModel",
          "model_module_version": "1.5.0",
          "state": {
            "_view_name": "StyleView",
            "_model_name": "DescriptionStyleModel",
            "description_width": "",
            "_view_module": "@jupyter-widgets/base",
            "_model_module_version": "1.5.0",
            "_view_count": null,
            "_view_module_version": "1.2.0",
            "_model_module": "@jupyter-widgets/controls"
          }
        },
        "30ac49a5b2114b039b652e19cd20053a": {
          "model_module": "@jupyter-widgets/base",
          "model_name": "LayoutModel",
          "model_module_version": "1.2.0",
          "state": {
            "_view_name": "LayoutView",
            "grid_template_rows": null,
            "right": null,
            "justify_content": null,
            "_view_module": "@jupyter-widgets/base",
            "overflow": null,
            "_model_module_version": "1.2.0",
            "_view_count": null,
            "flex_flow": null,
            "width": null,
            "min_width": null,
            "border": null,
            "align_items": null,
            "bottom": null,
            "_model_module": "@jupyter-widgets/base",
            "top": null,
            "grid_column": null,
            "overflow_y": null,
            "overflow_x": null,
            "grid_auto_flow": null,
            "grid_area": null,
            "grid_template_columns": null,
            "flex": null,
            "_model_name": "LayoutModel",
            "justify_items": null,
            "grid_row": null,
            "max_height": null,
            "align_content": null,
            "visibility": null,
            "align_self": null,
            "height": null,
            "min_height": null,
            "padding": null,
            "grid_auto_rows": null,
            "grid_gap": null,
            "max_width": null,
            "order": null,
            "_view_module_version": "1.2.0",
            "grid_template_areas": null,
            "object_position": null,
            "object_fit": null,
            "grid_auto_columns": null,
            "margin": null,
            "display": null,
            "left": null
          }
        },
        "d4bab2e49ba84c2e95eb594284ec02ec": {
          "model_module": "@jupyter-widgets/controls",
          "model_name": "HBoxModel",
          "model_module_version": "1.5.0",
          "state": {
            "_view_name": "HBoxView",
            "_dom_classes": [],
            "_model_name": "HBoxModel",
            "_view_module": "@jupyter-widgets/controls",
            "_model_module_version": "1.5.0",
            "_view_count": null,
            "_view_module_version": "1.5.0",
            "box_style": "",
            "layout": "IPY_MODEL_f5b2225f9efc4692822d541f3d71ddbc",
            "_model_module": "@jupyter-widgets/controls",
            "children": [
              "IPY_MODEL_bfb94b9ad572407eadef418a24a17e5d",
              "IPY_MODEL_26eb01ef6994417ba9f0c1d29e6a9227",
              "IPY_MODEL_8161646f7625444480a79c4b6a611240"
            ]
          }
        },
        "f5b2225f9efc4692822d541f3d71ddbc": {
          "model_module": "@jupyter-widgets/base",
          "model_name": "LayoutModel",
          "model_module_version": "1.2.0",
          "state": {
            "_view_name": "LayoutView",
            "grid_template_rows": null,
            "right": null,
            "justify_content": null,
            "_view_module": "@jupyter-widgets/base",
            "overflow": null,
            "_model_module_version": "1.2.0",
            "_view_count": null,
            "flex_flow": null,
            "width": null,
            "min_width": null,
            "border": null,
            "align_items": null,
            "bottom": null,
            "_model_module": "@jupyter-widgets/base",
            "top": null,
            "grid_column": null,
            "overflow_y": null,
            "overflow_x": null,
            "grid_auto_flow": null,
            "grid_area": null,
            "grid_template_columns": null,
            "flex": null,
            "_model_name": "LayoutModel",
            "justify_items": null,
            "grid_row": null,
            "max_height": null,
            "align_content": null,
            "visibility": null,
            "align_self": null,
            "height": null,
            "min_height": null,
            "padding": null,
            "grid_auto_rows": null,
            "grid_gap": null,
            "max_width": null,
            "order": null,
            "_view_module_version": "1.2.0",
            "grid_template_areas": null,
            "object_position": null,
            "object_fit": null,
            "grid_auto_columns": null,
            "margin": null,
            "display": null,
            "left": null
          }
        },
        "bfb94b9ad572407eadef418a24a17e5d": {
          "model_module": "@jupyter-widgets/controls",
          "model_name": "HTMLModel",
          "model_module_version": "1.5.0",
          "state": {
            "_view_name": "HTMLView",
            "style": "IPY_MODEL_dff7ed0d88a74bb8b36d22b3519fe49b",
            "_dom_classes": [],
            "description": "",
            "_model_name": "HTMLModel",
            "placeholder": "​",
            "_view_module": "@jupyter-widgets/controls",
            "_model_module_version": "1.5.0",
            "value": "Downloading: 100%",
            "_view_count": null,
            "_view_module_version": "1.5.0",
            "description_tooltip": null,
            "_model_module": "@jupyter-widgets/controls",
            "layout": "IPY_MODEL_c022897eaafe48ababdfd5114b3bb028"
          }
        },
        "26eb01ef6994417ba9f0c1d29e6a9227": {
          "model_module": "@jupyter-widgets/controls",
          "model_name": "FloatProgressModel",
          "model_module_version": "1.5.0",
          "state": {
            "_view_name": "ProgressView",
            "style": "IPY_MODEL_7e600d2ae4bd48bebe00a990972e1d09",
            "_dom_classes": [],
            "description": "",
            "_model_name": "FloatProgressModel",
            "bar_style": "success",
            "max": 1355256,
            "_view_module": "@jupyter-widgets/controls",
            "_model_module_version": "1.5.0",
            "value": 1355256,
            "_view_count": null,
            "_view_module_version": "1.5.0",
            "orientation": "horizontal",
            "min": 0,
            "description_tooltip": null,
            "_model_module": "@jupyter-widgets/controls",
            "layout": "IPY_MODEL_d3b4b9e3b3ea4e8e97457e94a70b53af"
          }
        },
        "8161646f7625444480a79c4b6a611240": {
          "model_module": "@jupyter-widgets/controls",
          "model_name": "HTMLModel",
          "model_module_version": "1.5.0",
          "state": {
            "_view_name": "HTMLView",
            "style": "IPY_MODEL_f6c50d017b2049ffa2284a9193494620",
            "_dom_classes": [],
            "description": "",
            "_model_name": "HTMLModel",
            "placeholder": "​",
            "_view_module": "@jupyter-widgets/controls",
            "_model_module_version": "1.5.0",
            "value": " 1.29M/1.29M [00:00&lt;00:00, 972kB/s]",
            "_view_count": null,
            "_view_module_version": "1.5.0",
            "description_tooltip": null,
            "_model_module": "@jupyter-widgets/controls",
            "layout": "IPY_MODEL_bfe3f8c4efaa4b71a32bd446011fb7c6"
          }
        },
        "dff7ed0d88a74bb8b36d22b3519fe49b": {
          "model_module": "@jupyter-widgets/controls",
          "model_name": "DescriptionStyleModel",
          "model_module_version": "1.5.0",
          "state": {
            "_view_name": "StyleView",
            "_model_name": "DescriptionStyleModel",
            "description_width": "",
            "_view_module": "@jupyter-widgets/base",
            "_model_module_version": "1.5.0",
            "_view_count": null,
            "_view_module_version": "1.2.0",
            "_model_module": "@jupyter-widgets/controls"
          }
        },
        "c022897eaafe48ababdfd5114b3bb028": {
          "model_module": "@jupyter-widgets/base",
          "model_name": "LayoutModel",
          "model_module_version": "1.2.0",
          "state": {
            "_view_name": "LayoutView",
            "grid_template_rows": null,
            "right": null,
            "justify_content": null,
            "_view_module": "@jupyter-widgets/base",
            "overflow": null,
            "_model_module_version": "1.2.0",
            "_view_count": null,
            "flex_flow": null,
            "width": null,
            "min_width": null,
            "border": null,
            "align_items": null,
            "bottom": null,
            "_model_module": "@jupyter-widgets/base",
            "top": null,
            "grid_column": null,
            "overflow_y": null,
            "overflow_x": null,
            "grid_auto_flow": null,
            "grid_area": null,
            "grid_template_columns": null,
            "flex": null,
            "_model_name": "LayoutModel",
            "justify_items": null,
            "grid_row": null,
            "max_height": null,
            "align_content": null,
            "visibility": null,
            "align_self": null,
            "height": null,
            "min_height": null,
            "padding": null,
            "grid_auto_rows": null,
            "grid_gap": null,
            "max_width": null,
            "order": null,
            "_view_module_version": "1.2.0",
            "grid_template_areas": null,
            "object_position": null,
            "object_fit": null,
            "grid_auto_columns": null,
            "margin": null,
            "display": null,
            "left": null
          }
        },
        "7e600d2ae4bd48bebe00a990972e1d09": {
          "model_module": "@jupyter-widgets/controls",
          "model_name": "ProgressStyleModel",
          "model_module_version": "1.5.0",
          "state": {
            "_view_name": "StyleView",
            "_model_name": "ProgressStyleModel",
            "description_width": "",
            "_view_module": "@jupyter-widgets/base",
            "_model_module_version": "1.5.0",
            "_view_count": null,
            "_view_module_version": "1.2.0",
            "bar_color": null,
            "_model_module": "@jupyter-widgets/controls"
          }
        },
        "d3b4b9e3b3ea4e8e97457e94a70b53af": {
          "model_module": "@jupyter-widgets/base",
          "model_name": "LayoutModel",
          "model_module_version": "1.2.0",
          "state": {
            "_view_name": "LayoutView",
            "grid_template_rows": null,
            "right": null,
            "justify_content": null,
            "_view_module": "@jupyter-widgets/base",
            "overflow": null,
            "_model_module_version": "1.2.0",
            "_view_count": null,
            "flex_flow": null,
            "width": null,
            "min_width": null,
            "border": null,
            "align_items": null,
            "bottom": null,
            "_model_module": "@jupyter-widgets/base",
            "top": null,
            "grid_column": null,
            "overflow_y": null,
            "overflow_x": null,
            "grid_auto_flow": null,
            "grid_area": null,
            "grid_template_columns": null,
            "flex": null,
            "_model_name": "LayoutModel",
            "justify_items": null,
            "grid_row": null,
            "max_height": null,
            "align_content": null,
            "visibility": null,
            "align_self": null,
            "height": null,
            "min_height": null,
            "padding": null,
            "grid_auto_rows": null,
            "grid_gap": null,
            "max_width": null,
            "order": null,
            "_view_module_version": "1.2.0",
            "grid_template_areas": null,
            "object_position": null,
            "object_fit": null,
            "grid_auto_columns": null,
            "margin": null,
            "display": null,
            "left": null
          }
        },
        "f6c50d017b2049ffa2284a9193494620": {
          "model_module": "@jupyter-widgets/controls",
          "model_name": "DescriptionStyleModel",
          "model_module_version": "1.5.0",
          "state": {
            "_view_name": "StyleView",
            "_model_name": "DescriptionStyleModel",
            "description_width": "",
            "_view_module": "@jupyter-widgets/base",
            "_model_module_version": "1.5.0",
            "_view_count": null,
            "_view_module_version": "1.2.0",
            "_model_module": "@jupyter-widgets/controls"
          }
        },
        "bfe3f8c4efaa4b71a32bd446011fb7c6": {
          "model_module": "@jupyter-widgets/base",
          "model_name": "LayoutModel",
          "model_module_version": "1.2.0",
          "state": {
            "_view_name": "LayoutView",
            "grid_template_rows": null,
            "right": null,
            "justify_content": null,
            "_view_module": "@jupyter-widgets/base",
            "overflow": null,
            "_model_module_version": "1.2.0",
            "_view_count": null,
            "flex_flow": null,
            "width": null,
            "min_width": null,
            "border": null,
            "align_items": null,
            "bottom": null,
            "_model_module": "@jupyter-widgets/base",
            "top": null,
            "grid_column": null,
            "overflow_y": null,
            "overflow_x": null,
            "grid_auto_flow": null,
            "grid_area": null,
            "grid_template_columns": null,
            "flex": null,
            "_model_name": "LayoutModel",
            "justify_items": null,
            "grid_row": null,
            "max_height": null,
            "align_content": null,
            "visibility": null,
            "align_self": null,
            "height": null,
            "min_height": null,
            "padding": null,
            "grid_auto_rows": null,
            "grid_gap": null,
            "max_width": null,
            "order": null,
            "_view_module_version": "1.2.0",
            "grid_template_areas": null,
            "object_position": null,
            "object_fit": null,
            "grid_auto_columns": null,
            "margin": null,
            "display": null,
            "left": null
          }
        },
        "965bda6e9d0044dcabbac66307dc36ee": {
          "model_module": "@jupyter-widgets/controls",
          "model_name": "HBoxModel",
          "model_module_version": "1.5.0",
          "state": {
            "_view_name": "HBoxView",
            "_dom_classes": [],
            "_model_name": "HBoxModel",
            "_view_module": "@jupyter-widgets/controls",
            "_model_module_version": "1.5.0",
            "_view_count": null,
            "_view_module_version": "1.5.0",
            "box_style": "",
            "layout": "IPY_MODEL_677a583f01584e3a892eb395eff4a77d",
            "_model_module": "@jupyter-widgets/controls",
            "children": [
              "IPY_MODEL_243739af11254dbf8f8e12aeb6c4777c",
              "IPY_MODEL_05a0bbceed6742429d1c437282df815e",
              "IPY_MODEL_079686c1d7854bebb6207f2f5f5670a0"
            ]
          }
        },
        "677a583f01584e3a892eb395eff4a77d": {
          "model_module": "@jupyter-widgets/base",
          "model_name": "LayoutModel",
          "model_module_version": "1.2.0",
          "state": {
            "_view_name": "LayoutView",
            "grid_template_rows": null,
            "right": null,
            "justify_content": null,
            "_view_module": "@jupyter-widgets/base",
            "overflow": null,
            "_model_module_version": "1.2.0",
            "_view_count": null,
            "flex_flow": null,
            "width": null,
            "min_width": null,
            "border": null,
            "align_items": null,
            "bottom": null,
            "_model_module": "@jupyter-widgets/base",
            "top": null,
            "grid_column": null,
            "overflow_y": null,
            "overflow_x": null,
            "grid_auto_flow": null,
            "grid_area": null,
            "grid_template_columns": null,
            "flex": null,
            "_model_name": "LayoutModel",
            "justify_items": null,
            "grid_row": null,
            "max_height": null,
            "align_content": null,
            "visibility": null,
            "align_self": null,
            "height": null,
            "min_height": null,
            "padding": null,
            "grid_auto_rows": null,
            "grid_gap": null,
            "max_width": null,
            "order": null,
            "_view_module_version": "1.2.0",
            "grid_template_areas": null,
            "object_position": null,
            "object_fit": null,
            "grid_auto_columns": null,
            "margin": null,
            "display": null,
            "left": null
          }
        },
        "243739af11254dbf8f8e12aeb6c4777c": {
          "model_module": "@jupyter-widgets/controls",
          "model_name": "HTMLModel",
          "model_module_version": "1.5.0",
          "state": {
            "_view_name": "HTMLView",
            "style": "IPY_MODEL_79be3299a24145c28993ce403fd9e87c",
            "_dom_classes": [],
            "description": "",
            "_model_name": "HTMLModel",
            "placeholder": "​",
            "_view_module": "@jupyter-widgets/controls",
            "_model_module_version": "1.5.0",
            "value": "Downloading: 100%",
            "_view_count": null,
            "_view_module_version": "1.5.0",
            "description_tooltip": null,
            "_model_module": "@jupyter-widgets/controls",
            "layout": "IPY_MODEL_deb5309faee645a991cec4ec72081a16"
          }
        },
        "05a0bbceed6742429d1c437282df815e": {
          "model_module": "@jupyter-widgets/controls",
          "model_name": "FloatProgressModel",
          "model_module_version": "1.5.0",
          "state": {
            "_view_name": "ProgressView",
            "style": "IPY_MODEL_6151e050f39b4ad8896c8257b7100c1e",
            "_dom_classes": [],
            "description": "",
            "_model_name": "FloatProgressModel",
            "bar_style": "success",
            "max": 548118077,
            "_view_module": "@jupyter-widgets/controls",
            "_model_module_version": "1.5.0",
            "value": 548118077,
            "_view_count": null,
            "_view_module_version": "1.5.0",
            "orientation": "horizontal",
            "min": 0,
            "description_tooltip": null,
            "_model_module": "@jupyter-widgets/controls",
            "layout": "IPY_MODEL_ed84e1a79dbf4a308f3e5cb334bb1344"
          }
        },
        "079686c1d7854bebb6207f2f5f5670a0": {
          "model_module": "@jupyter-widgets/controls",
          "model_name": "HTMLModel",
          "model_module_version": "1.5.0",
          "state": {
            "_view_name": "HTMLView",
            "style": "IPY_MODEL_45429b32bcb64c3c9c6f1e15cb78b7e9",
            "_dom_classes": [],
            "description": "",
            "_model_name": "HTMLModel",
            "placeholder": "​",
            "_view_module": "@jupyter-widgets/controls",
            "_model_module_version": "1.5.0",
            "value": " 523M/523M [00:19&lt;00:00, 31.4MB/s]",
            "_view_count": null,
            "_view_module_version": "1.5.0",
            "description_tooltip": null,
            "_model_module": "@jupyter-widgets/controls",
            "layout": "IPY_MODEL_e0c524f3dee0427a8434b14b6213cb96"
          }
        },
        "79be3299a24145c28993ce403fd9e87c": {
          "model_module": "@jupyter-widgets/controls",
          "model_name": "DescriptionStyleModel",
          "model_module_version": "1.5.0",
          "state": {
            "_view_name": "StyleView",
            "_model_name": "DescriptionStyleModel",
            "description_width": "",
            "_view_module": "@jupyter-widgets/base",
            "_model_module_version": "1.5.0",
            "_view_count": null,
            "_view_module_version": "1.2.0",
            "_model_module": "@jupyter-widgets/controls"
          }
        },
        "deb5309faee645a991cec4ec72081a16": {
          "model_module": "@jupyter-widgets/base",
          "model_name": "LayoutModel",
          "model_module_version": "1.2.0",
          "state": {
            "_view_name": "LayoutView",
            "grid_template_rows": null,
            "right": null,
            "justify_content": null,
            "_view_module": "@jupyter-widgets/base",
            "overflow": null,
            "_model_module_version": "1.2.0",
            "_view_count": null,
            "flex_flow": null,
            "width": null,
            "min_width": null,
            "border": null,
            "align_items": null,
            "bottom": null,
            "_model_module": "@jupyter-widgets/base",
            "top": null,
            "grid_column": null,
            "overflow_y": null,
            "overflow_x": null,
            "grid_auto_flow": null,
            "grid_area": null,
            "grid_template_columns": null,
            "flex": null,
            "_model_name": "LayoutModel",
            "justify_items": null,
            "grid_row": null,
            "max_height": null,
            "align_content": null,
            "visibility": null,
            "align_self": null,
            "height": null,
            "min_height": null,
            "padding": null,
            "grid_auto_rows": null,
            "grid_gap": null,
            "max_width": null,
            "order": null,
            "_view_module_version": "1.2.0",
            "grid_template_areas": null,
            "object_position": null,
            "object_fit": null,
            "grid_auto_columns": null,
            "margin": null,
            "display": null,
            "left": null
          }
        },
        "6151e050f39b4ad8896c8257b7100c1e": {
          "model_module": "@jupyter-widgets/controls",
          "model_name": "ProgressStyleModel",
          "model_module_version": "1.5.0",
          "state": {
            "_view_name": "StyleView",
            "_model_name": "ProgressStyleModel",
            "description_width": "",
            "_view_module": "@jupyter-widgets/base",
            "_model_module_version": "1.5.0",
            "_view_count": null,
            "_view_module_version": "1.2.0",
            "bar_color": null,
            "_model_module": "@jupyter-widgets/controls"
          }
        },
        "ed84e1a79dbf4a308f3e5cb334bb1344": {
          "model_module": "@jupyter-widgets/base",
          "model_name": "LayoutModel",
          "model_module_version": "1.2.0",
          "state": {
            "_view_name": "LayoutView",
            "grid_template_rows": null,
            "right": null,
            "justify_content": null,
            "_view_module": "@jupyter-widgets/base",
            "overflow": null,
            "_model_module_version": "1.2.0",
            "_view_count": null,
            "flex_flow": null,
            "width": null,
            "min_width": null,
            "border": null,
            "align_items": null,
            "bottom": null,
            "_model_module": "@jupyter-widgets/base",
            "top": null,
            "grid_column": null,
            "overflow_y": null,
            "overflow_x": null,
            "grid_auto_flow": null,
            "grid_area": null,
            "grid_template_columns": null,
            "flex": null,
            "_model_name": "LayoutModel",
            "justify_items": null,
            "grid_row": null,
            "max_height": null,
            "align_content": null,
            "visibility": null,
            "align_self": null,
            "height": null,
            "min_height": null,
            "padding": null,
            "grid_auto_rows": null,
            "grid_gap": null,
            "max_width": null,
            "order": null,
            "_view_module_version": "1.2.0",
            "grid_template_areas": null,
            "object_position": null,
            "object_fit": null,
            "grid_auto_columns": null,
            "margin": null,
            "display": null,
            "left": null
          }
        },
        "45429b32bcb64c3c9c6f1e15cb78b7e9": {
          "model_module": "@jupyter-widgets/controls",
          "model_name": "DescriptionStyleModel",
          "model_module_version": "1.5.0",
          "state": {
            "_view_name": "StyleView",
            "_model_name": "DescriptionStyleModel",
            "description_width": "",
            "_view_module": "@jupyter-widgets/base",
            "_model_module_version": "1.5.0",
            "_view_count": null,
            "_view_module_version": "1.2.0",
            "_model_module": "@jupyter-widgets/controls"
          }
        },
        "e0c524f3dee0427a8434b14b6213cb96": {
          "model_module": "@jupyter-widgets/base",
          "model_name": "LayoutModel",
          "model_module_version": "1.2.0",
          "state": {
            "_view_name": "LayoutView",
            "grid_template_rows": null,
            "right": null,
            "justify_content": null,
            "_view_module": "@jupyter-widgets/base",
            "overflow": null,
            "_model_module_version": "1.2.0",
            "_view_count": null,
            "flex_flow": null,
            "width": null,
            "min_width": null,
            "border": null,
            "align_items": null,
            "bottom": null,
            "_model_module": "@jupyter-widgets/base",
            "top": null,
            "grid_column": null,
            "overflow_y": null,
            "overflow_x": null,
            "grid_auto_flow": null,
            "grid_area": null,
            "grid_template_columns": null,
            "flex": null,
            "_model_name": "LayoutModel",
            "justify_items": null,
            "grid_row": null,
            "max_height": null,
            "align_content": null,
            "visibility": null,
            "align_self": null,
            "height": null,
            "min_height": null,
            "padding": null,
            "grid_auto_rows": null,
            "grid_gap": null,
            "max_width": null,
            "order": null,
            "_view_module_version": "1.2.0",
            "grid_template_areas": null,
            "object_position": null,
            "object_fit": null,
            "grid_auto_columns": null,
            "margin": null,
            "display": null,
            "left": null
          }
        }
      }
    }
  },
  "cells": [
    {
      "cell_type": "markdown",
      "metadata": {
        "id": "view-in-github",
        "colab_type": "text"
      },
      "source": [
        "<a href=\"https://colab.research.google.com/github/ez314/Fake-Reviews-Project/blob/main/GPT2_Control_Generation_v4.ipynb\" target=\"_parent\"><img src=\"https://colab.research.google.com/assets/colab-badge.svg\" alt=\"Open In Colab\"/></a>"
      ]
    },
    {
      "cell_type": "markdown",
      "source": [
        "gpt2 control generation in active development\n",
        "\n",
        "Changes since v3:\n",
        "- Generate CG/OR datasets\n",
        "- Equalize ratings distribution\n",
        "\n",
        "Future Work\n",
        "- Categories\n",
        "  - ~~Infer amazon category name from data~~ Done\n",
        "  - Randomize order?\n",
        "  - Prune products without categories?\n",
        "- Model Robustness\n",
        "  - ~~Pick an even distribution of ratings, to boost performance of less-common scores like 1.~~ Done, but it doesn't work that well?  \n",
        "- QoL\n",
        "  - ~~Use form fields for environment variables~~ Done\n",
        "  - Seed randomness across the entire model using a global seed\n",
        "  - Automatically model CG ratings distribution around the calculated OR ratings distribution\n",
        "- Data Generation\n",
        "  - Be able to generate review subjects alongside the body\n",
        "  - ~~Build CG/OR dataset just like in paper 2~~ Done"
      ],
      "metadata": {
        "id": "snIIl8xBWmKt"
      }
    },
    {
      "cell_type": "code",
      "source": [
        "#@title Configuration Variables\n",
        "\n",
        "#@markdown Workspace root folder\n",
        "WORKSPACE = '/content/drive/MyDrive/College/Classes/CS 4v98/CS 4v98 Shared Data/Workspace' #@param {type: \"string\"}\n",
        "\n",
        "#@markdown Category name be used in dataset URL replacement\n",
        "CATEGORY_NAME_URL = 'Automotive' #@param {type: \"string\"}\n",
        "\n",
        "#@markdown Category name to be used for save files\n",
        "CATEGORY_NAME_SIMPLE = \"Automotive\" #@param {type: \"string\"}\n",
        "\n",
        "#@markdown Language Model\n",
        "MODEL = 'gpt2' #@param ['gpt2']\n",
        "\n",
        "#@markdown Version to be used for save files\n",
        "CODE_VER =  4#@param {type: \"number\"}\n",
        "#@markdown ---\n",
        "\n",
        "CODE_VER = f'v{CODE_VER}'"
      ],
      "metadata": {
        "cellView": "form",
        "id": "gprveN4TlI77"
      },
      "execution_count": null,
      "outputs": []
    },
    {
      "cell_type": "markdown",
      "source": [
        "## Python and Env Configuration"
      ],
      "metadata": {
        "id": "I7Vq7v1ulvWw"
      }
    },
    {
      "cell_type": "markdown",
      "source": [
        "#### Mount Google Drive"
      ],
      "metadata": {
        "id": "4mFK5nFMExRZ"
      }
    },
    {
      "cell_type": "code",
      "source": [
        "from google.colab import drive\n",
        "drive.mount('/content/drive')"
      ],
      "metadata": {
        "id": "Y_z_9jGtdu7j"
      },
      "execution_count": null,
      "outputs": []
    },
    {
      "cell_type": "markdown",
      "source": [
        "#### Pip install"
      ],
      "metadata": {
        "id": "Ow2m2CPIE36y"
      }
    },
    {
      "cell_type": "code",
      "source": [
        "!pip install -q transformers sentencepiece\n",
        "!pip install -q fastai --upgrade"
      ],
      "metadata": {
        "id": "kbM26EfVgwhk",
        "colab": {
          "base_uri": "https://localhost:8080/"
        },
        "outputId": "25dceca7-e97b-4e3e-f085-269c6e1d2612"
      },
      "execution_count": null,
      "outputs": [
        {
          "output_type": "stream",
          "name": "stdout",
          "text": [
            "\u001b[K     |████████████████████████████████| 3.5 MB 5.4 MB/s \n",
            "\u001b[K     |████████████████████████████████| 1.2 MB 33.4 MB/s \n",
            "\u001b[K     |████████████████████████████████| 6.5 MB 34.2 MB/s \n",
            "\u001b[K     |████████████████████████████████| 895 kB 37.6 MB/s \n",
            "\u001b[K     |████████████████████████████████| 596 kB 45.1 MB/s \n",
            "\u001b[K     |████████████████████████████████| 67 kB 4.4 MB/s \n",
            "\u001b[K     |████████████████████████████████| 189 kB 5.4 MB/s \n",
            "\u001b[K     |████████████████████████████████| 55 kB 3.6 MB/s \n",
            "\u001b[?25h"
          ]
        }
      ]
    },
    {
      "cell_type": "markdown",
      "source": [
        "#### Python imports"
      ],
      "metadata": {
        "id": "MTLMgTtjE5rp"
      }
    },
    {
      "cell_type": "code",
      "source": [
        "import os, gzip, json, gc, re, random\n",
        "from collections import Counter, defaultdict\n",
        "import pandas as pd\n",
        "from sklearn.model_selection import train_test_split\n",
        "from transformers import AutoTokenizer, AutoConfig, AutoModelForPreTraining\n",
        "from fastai.text.all import *"
      ],
      "metadata": {
        "id": "F51TJkNJerUS"
      },
      "execution_count": null,
      "outputs": []
    },
    {
      "cell_type": "markdown",
      "source": [
        "### Set environment and constants"
      ],
      "metadata": {
        "id": "G9YITzYdE_4w"
      }
    },
    {
      "cell_type": "code",
      "execution_count": null,
      "metadata": {
        "id": "Jm3nQGj5dp5j",
        "colab": {
          "base_uri": "https://localhost:8080/"
        },
        "outputId": "3829283b-6908-49c6-cf0d-060ae5099c4d"
      },
      "outputs": [
        {
          "output_type": "stream",
          "name": "stdout",
          "text": [
            "env: WORKSPACE=/content/drive/MyDrive/College/Classes/CS 4v98/CS 4v98 Shared Data/Workspace\n",
            "env: CATEGORY_NAME_URL=Automotive\n",
            "env: CATEGORY_NAME_SIMPLE=Automotive\n",
            "/content/drive/MyDrive/College/Classes/CS 4v98/CS 4v98 Shared Data/Workspace\n"
          ]
        }
      ],
      "source": [
        "# Set environment variables\n",
        "%set_env WORKSPACE $WORKSPACE\n",
        "%set_env CATEGORY_NAME_URL $CATEGORY_NAME_URL\n",
        "%set_env CATEGORY_NAME_SIMPLE $CATEGORY_NAME_SIMPLE\n",
        "\n",
        "# Set python constants/configs\n",
        "SPECIAL_TOKENS  = { \"bos_token\": \"<|BOS|>\",\n",
        "                    \"eos_token\": \"<|EOS|>\",\n",
        "                    \"unk_token\": \"<|UNK|>\",\n",
        "                    \"pad_token\": \"<|PAD|>\",\n",
        "                    \"sep_token\": \"<|SEP|>\"}\n",
        "\n",
        "# Set dir to WORKSPACE\n",
        "%cd {WORKSPACE}"
      ]
    },
    {
      "cell_type": "markdown",
      "source": [
        "## Load Data"
      ],
      "metadata": {
        "id": "5JHK3qOICgFd"
      }
    },
    {
      "cell_type": "markdown",
      "source": [
        "### [Skip after first time] Fetch data from source, process, and save"
      ],
      "metadata": {
        "id": "5CiY_QhmXvPq"
      }
    },
    {
      "cell_type": "markdown",
      "source": [
        "#### Download and extract data"
      ],
      "metadata": {
        "id": "zn6JzvwBCazg"
      }
    },
    {
      "cell_type": "code",
      "source": [
        "%%bash\n",
        "\n",
        "download_and_extract() {\n",
        "  local filename=`basename \"$1\"`\n",
        "  local filename_ex=${filename%.gz}\n",
        "\n",
        "  # Extract file if json not there\n",
        "  if [ ! -f \"$filename_ex\" ]\n",
        "  then\n",
        "    # Download original file if not there\n",
        "    if [ ! -f \"$filename\" ]\n",
        "    then\n",
        "      echo \"Downloading $filename\"\n",
        "      wget -q \"$1\"\n",
        "    fi\n",
        "    echo \"Extracting to $filename_ex\"\n",
        "    gzip -d \"$filename\"\n",
        "  else\n",
        "    echo \"Nothing to do: $filename_ex already exists\"\n",
        "  fi\n",
        "}\n",
        "\n",
        "download_and_extract \"http://deepyeti.ucsd.edu/jianmo/amazon/categoryFiles/\"$CATEGORY_NAME_URL\".json.gz\"\n",
        "download_and_extract \"http://deepyeti.ucsd.edu/jianmo/amazon/metaFiles2/meta_\"$CATEGORY_NAME_URL\".json.gz\""
      ],
      "metadata": {
        "id": "ACEbDGRKeCdP",
        "colab": {
          "base_uri": "https://localhost:8080/"
        },
        "outputId": "6dd54d57-47c0-49a5-f43d-d6371bb4f2bd"
      },
      "execution_count": null,
      "outputs": [
        {
          "output_type": "stream",
          "name": "stdout",
          "text": [
            "Downloading Automotive.json.gz\n",
            "Extracting to Automotive.json\n",
            "Downloading meta_Automotive.json.gz\n",
            "Extracting to meta_Automotive.json\n"
          ]
        }
      ]
    },
    {
      "cell_type": "markdown",
      "source": [
        "#### Load all metadata into memory"
      ],
      "metadata": {
        "id": "emiGz28bCep4"
      }
    },
    {
      "cell_type": "code",
      "source": [
        "%%time\n",
        "\n",
        "# Load unzpped metadata into memory\n",
        "metadata = {}\n",
        "useless_categories = None\n",
        "with open(f'meta_{CATEGORY_NAME_URL}.json') as f:\n",
        "  counter = 0\n",
        "  for l in f:\n",
        "    counter += 1\n",
        "    if counter % 100000 == 0:\n",
        "      print(f'Loading item number {counter}')\n",
        "    j = json.loads(l.strip())\n",
        "\n",
        "    # Ensure category is list of str\n",
        "    # if type(j['category']) is not list or any(type(x) is not str for x in j['category']):\n",
        "    #   print('uh oh!', j)\n",
        "\n",
        "    # Remove any surrounding spaces from the category\n",
        "    category = [x.strip() for x in j['category']]\n",
        "\n",
        "    # Only load fields you will use! Otherwise, memory usage is extremely high.\n",
        "    metadata[j['asin']] = {\n",
        "        'title': j['title'],\n",
        "        'category': category\n",
        "    }\n",
        "\n",
        "    # Track useless categories\n",
        "    if category: \n",
        "      if useless_categories is None:\n",
        "        useless_categories = set(category)\n",
        "      else:\n",
        "        useless_categories = useless_categories & set(category)\n",
        "\n",
        "# Convert categories to string, after removing any useless ones\n",
        "if useless_categories is None:\n",
        "  useless_categories = set()\n",
        "for m in metadata.values():\n",
        "  m['category'] = ','.join(filter(lambda x: x not in useless_categories, m['category']))\n",
        "\n",
        "# total length of list, this number equals total number of products\n",
        "print(f'Loaded {len(metadata)} items')\n",
        "print(f'Pruned useless categories: {\", \".join(useless_categories)}')\n"
      ],
      "metadata": {
        "colab": {
          "base_uri": "https://localhost:8080/"
        },
        "id": "bfj-TOCseQwO",
        "outputId": "60820f99-baa2-4ae7-c981-9c9372c24160"
      },
      "execution_count": null,
      "outputs": [
        {
          "output_type": "stream",
          "name": "stdout",
          "text": [
            "Loading item number 100000\n",
            "Loading item number 200000\n",
            "Loading item number 300000\n",
            "Loading item number 400000\n",
            "Loading item number 500000\n",
            "Loading item number 600000\n",
            "Loading item number 700000\n",
            "Loading item number 800000\n",
            "Loading item number 900000\n",
            "Loaded 924693 items\n",
            "Pruned useless categories: Automotive\n",
            "CPU times: user 2min 59s, sys: 25 s, total: 3min 24s\n",
            "Wall time: 3min 55s\n"
          ]
        }
      ]
    },
    {
      "cell_type": "markdown",
      "source": [
        "#### Load all reviews into memory"
      ],
      "metadata": {
        "id": "6mD6aH9_Cjll"
      }
    },
    {
      "cell_type": "code",
      "source": [
        "%%time\n",
        "\n",
        "NUM_REVIEWS_PER_RATING = 40000\n",
        "\n",
        "# Keep track of which product ASINs we haven't looked at. These are guaranteed to not appear in training data\n",
        "unseen_asins = set(metadata.keys())\n",
        "\n",
        "# Build training data and store to reviews (defaultdict of rating -> list(review))\n",
        "reviews = defaultdict(list)\n",
        "with open(f'{CATEGORY_NAME_URL}.json') as f:\n",
        "  i = 0\n",
        "  for l in f:\n",
        "    j = json.loads(l.strip())\n",
        "\n",
        "    # Filter unusable reviews\n",
        "    if 'summary' not in j or 'reviewText' not in j or j['asin'] not in metadata:\n",
        "      continue\n",
        "\n",
        "    # Increment counter, break if loaded enough reviews, print progress\n",
        "    i += 1\n",
        "    # if i > 1000000:\n",
        "    #   break\n",
        "    if i % 500000 == 0:\n",
        "      print(f'Loading review number {i}')\n",
        "\n",
        "\n",
        "    # Build string with control codes & review\n",
        "    prod_meta = metadata[j['asin']]\n",
        "    rating = str(int(j[\"overall\"]))\n",
        "\n",
        "    if len(reviews[rating]) < NUM_REVIEWS_PER_RATING:\n",
        "      reviews[rating].append(\n",
        "          SPECIAL_TOKENS['bos_token'] + prod_meta['title'] + \\\n",
        "          SPECIAL_TOKENS['sep_token'] + prod_meta['category'] + \\\n",
        "          SPECIAL_TOKENS['sep_token'] + rating + \\\n",
        "          SPECIAL_TOKENS['sep_token'] + j['reviewText'] + \\\n",
        "          SPECIAL_TOKENS['eos_token']\n",
        "      )\n",
        "\n",
        "      # Track unseen ASINs\n",
        "      if j['asin'] in unseen_asins:\n",
        "        unseen_asins.remove(j['asin'])\n",
        "\n",
        "all_reviews = []\n",
        "for rating in reviews:\n",
        "  print(f'{len(reviews[rating])} reviews with rating of {rating}.')\n",
        "  for review in reviews[rating]: #np.random.choice(reviews[rating], 15000, replace=False):\n",
        "    all_reviews.append((review))\n",
        "\n",
        "\n",
        "all_reviews = pd.DataFrame(all_reviews, columns=[\"reviewText\"])\n",
        "all_reviews.to_csv(f'{CATEGORY_NAME_SIMPLE}_processed_{CODE_VER}.csv', index=False)"
      ],
      "metadata": {
        "colab": {
          "base_uri": "https://localhost:8080/"
        },
        "id": "aqEXwfh5VyA8",
        "outputId": "ec03898f-85f4-4b0b-a52a-d307c987769f"
      },
      "execution_count": null,
      "outputs": [
        {
          "output_type": "stream",
          "name": "stdout",
          "text": [
            "Loading review number 500000\n",
            "Loading review number 1000000\n",
            "Loading review number 1500000\n",
            "Loading review number 2000000\n",
            "Loading review number 2500000\n",
            "Loading review number 3000000\n",
            "Loading review number 3500000\n",
            "Loading review number 4000000\n",
            "Loading review number 4500000\n",
            "Loading review number 5000000\n",
            "Loading review number 5500000\n",
            "Loading review number 6000000\n",
            "Loading review number 6500000\n",
            "Loading review number 7000000\n",
            "Loading review number 7500000\n",
            "40000 reviews with rating of 5.\n",
            "40000 reviews with rating of 3.\n",
            "40000 reviews with rating of 1.\n",
            "40000 reviews with rating of 4.\n",
            "40000 reviews with rating of 2.\n",
            "CPU times: user 1min 6s, sys: 3.06 s, total: 1min 9s\n",
            "Wall time: 1min 21s\n"
          ]
        }
      ]
    },
    {
      "cell_type": "markdown",
      "source": [
        "#### Manual inspection"
      ],
      "metadata": {
        "id": "1zLmXNMhCpjh"
      }
    },
    {
      "cell_type": "code",
      "source": [
        "all_reviews.head() # Make sure the data looks right"
      ],
      "metadata": {
        "id": "csPlt8OzfD_9",
        "colab": {
          "base_uri": "https://localhost:8080/",
          "height": 476
        },
        "outputId": "04d82618-aca7-457b-eb4d-1ea2083e1c60"
      },
      "execution_count": null,
      "outputs": [
        {
          "output_type": "execute_result",
          "data": {
            "text/html": [
              "\n",
              "  <div id=\"df-fd336bd5-f7dc-41d4-8ef4-02351ed20b89\">\n",
              "    <div class=\"colab-df-container\">\n",
              "      <div>\n",
              "<style scoped>\n",
              "    .dataframe tbody tr th:only-of-type {\n",
              "        vertical-align: middle;\n",
              "    }\n",
              "\n",
              "    .dataframe tbody tr th {\n",
              "        vertical-align: top;\n",
              "    }\n",
              "\n",
              "    .dataframe thead th {\n",
              "        text-align: right;\n",
              "    }\n",
              "</style>\n",
              "<table border=\"1\" class=\"dataframe\">\n",
              "  <thead>\n",
              "    <tr style=\"text-align: right;\">\n",
              "      <th></th>\n",
              "      <th>reviewText</th>\n",
              "    </tr>\n",
              "  </thead>\n",
              "  <tbody>\n",
              "    <tr>\n",
              "      <th>0</th>\n",
              "      <td>&lt;|BOS|&gt;Lightwedge Paperback - Black&lt;|SEP|&gt;Lighting &amp; Ceiling Fans&lt;|SEP|&gt;3&lt;|SEP|&gt;I received the book lightwedge but have not used it as of yet so I cannot give a rating&lt;|EOS|&gt;</td>\n",
              "    </tr>\n",
              "    <tr>\n",
              "      <th>1</th>\n",
              "      <td>&lt;|BOS|&gt;Breeding Organic Vegetables: A Step-by-Step Guide for Growers&lt;|SEP|&gt;Rough Plumbing,Water Heaters &amp; Parts&lt;|SEP|&gt;3&lt;|SEP|&gt;I cannot get water more than luke warm, even at  a low flow rate,.&lt;|EOS|&gt;</td>\n",
              "    </tr>\n",
              "    <tr>\n",
              "      <th>2</th>\n",
              "      <td>&lt;|BOS|&gt;Breeding Organic Vegetables: A Step-by-Step Guide for Growers&lt;|SEP|&gt;Rough Plumbing,Water Heaters &amp; Parts&lt;|SEP|&gt;3&lt;|SEP|&gt;If I were married, I'd be in trouble for buying this. I live halfway down in texas and it's barely adequate during summer when I need to shower. Replaced a 30 gallon water heater in a house with 2 water heaters, I live alone. It's not that cold here in winter but waiting to see if it'll be enough. Puts out just enough hot water in the summer, but I'm afraid if it's cold in the house in the winter the small volume of hot water it produces is going to make for one col...</td>\n",
              "    </tr>\n",
              "    <tr>\n",
              "      <th>3</th>\n",
              "      <td>&lt;|BOS|&gt;Breeding Organic Vegetables: A Step-by-Step Guide for Growers&lt;|SEP|&gt;Rough Plumbing,Water Heaters &amp; Parts&lt;|SEP|&gt;3&lt;|SEP|&gt;I purchased Model IR-260 on-line, which seemed to be a good fit for my pool house served by a well (Texas). I had difficulty getting the various fittings to align with the installed plumbing; the local hardware and plumbing stores could not figure it out, either.  I called SioGreen and spoke with Iris (who had a defective headset and was, therefore, very difficult to communicate with).  She had an engineer, Anthony, return my call.  He informed me that this model wa...</td>\n",
              "    </tr>\n",
              "    <tr>\n",
              "      <th>4</th>\n",
              "      <td>&lt;|BOS|&gt;Breeding Organic Vegetables: A Step-by-Step Guide for Growers&lt;|SEP|&gt;Rough Plumbing,Water Heaters &amp; Parts&lt;|SEP|&gt;3&lt;|SEP|&gt;I am having difficulty with it.&lt;|EOS|&gt;</td>\n",
              "    </tr>\n",
              "  </tbody>\n",
              "</table>\n",
              "</div>\n",
              "      <button class=\"colab-df-convert\" onclick=\"convertToInteractive('df-fd336bd5-f7dc-41d4-8ef4-02351ed20b89')\"\n",
              "              title=\"Convert this dataframe to an interactive table.\"\n",
              "              style=\"display:none;\">\n",
              "        \n",
              "  <svg xmlns=\"http://www.w3.org/2000/svg\" height=\"24px\"viewBox=\"0 0 24 24\"\n",
              "       width=\"24px\">\n",
              "    <path d=\"M0 0h24v24H0V0z\" fill=\"none\"/>\n",
              "    <path d=\"M18.56 5.44l.94 2.06.94-2.06 2.06-.94-2.06-.94-.94-2.06-.94 2.06-2.06.94zm-11 1L8.5 8.5l.94-2.06 2.06-.94-2.06-.94L8.5 2.5l-.94 2.06-2.06.94zm10 10l.94 2.06.94-2.06 2.06-.94-2.06-.94-.94-2.06-.94 2.06-2.06.94z\"/><path d=\"M17.41 7.96l-1.37-1.37c-.4-.4-.92-.59-1.43-.59-.52 0-1.04.2-1.43.59L10.3 9.45l-7.72 7.72c-.78.78-.78 2.05 0 2.83L4 21.41c.39.39.9.59 1.41.59.51 0 1.02-.2 1.41-.59l7.78-7.78 2.81-2.81c.8-.78.8-2.07 0-2.86zM5.41 20L4 18.59l7.72-7.72 1.47 1.35L5.41 20z\"/>\n",
              "  </svg>\n",
              "      </button>\n",
              "      \n",
              "  <style>\n",
              "    .colab-df-container {\n",
              "      display:flex;\n",
              "      flex-wrap:wrap;\n",
              "      gap: 12px;\n",
              "    }\n",
              "\n",
              "    .colab-df-convert {\n",
              "      background-color: #E8F0FE;\n",
              "      border: none;\n",
              "      border-radius: 50%;\n",
              "      cursor: pointer;\n",
              "      display: none;\n",
              "      fill: #1967D2;\n",
              "      height: 32px;\n",
              "      padding: 0 0 0 0;\n",
              "      width: 32px;\n",
              "    }\n",
              "\n",
              "    .colab-df-convert:hover {\n",
              "      background-color: #E2EBFA;\n",
              "      box-shadow: 0px 1px 2px rgba(60, 64, 67, 0.3), 0px 1px 3px 1px rgba(60, 64, 67, 0.15);\n",
              "      fill: #174EA6;\n",
              "    }\n",
              "\n",
              "    [theme=dark] .colab-df-convert {\n",
              "      background-color: #3B4455;\n",
              "      fill: #D2E3FC;\n",
              "    }\n",
              "\n",
              "    [theme=dark] .colab-df-convert:hover {\n",
              "      background-color: #434B5C;\n",
              "      box-shadow: 0px 1px 3px 1px rgba(0, 0, 0, 0.15);\n",
              "      filter: drop-shadow(0px 1px 2px rgba(0, 0, 0, 0.3));\n",
              "      fill: #FFFFFF;\n",
              "    }\n",
              "  </style>\n",
              "\n",
              "      <script>\n",
              "        const buttonEl =\n",
              "          document.querySelector('#df-fd336bd5-f7dc-41d4-8ef4-02351ed20b89 button.colab-df-convert');\n",
              "        buttonEl.style.display =\n",
              "          google.colab.kernel.accessAllowed ? 'block' : 'none';\n",
              "\n",
              "        async function convertToInteractive(key) {\n",
              "          const element = document.querySelector('#df-fd336bd5-f7dc-41d4-8ef4-02351ed20b89');\n",
              "          const dataTable =\n",
              "            await google.colab.kernel.invokeFunction('convertToInteractive',\n",
              "                                                     [key], {});\n",
              "          if (!dataTable) return;\n",
              "\n",
              "          const docLinkHtml = 'Like what you see? Visit the ' +\n",
              "            '<a target=\"_blank\" href=https://colab.research.google.com/notebooks/data_table.ipynb>data table notebook</a>'\n",
              "            + ' to learn more about interactive tables.';\n",
              "          element.innerHTML = '';\n",
              "          dataTable['output_type'] = 'display_data';\n",
              "          await google.colab.output.renderOutput(dataTable, element);\n",
              "          const docLink = document.createElement('div');\n",
              "          docLink.innerHTML = docLinkHtml;\n",
              "          element.appendChild(docLink);\n",
              "        }\n",
              "      </script>\n",
              "    </div>\n",
              "  </div>\n",
              "  "
            ],
            "text/plain": [
              "                                                                                                                                                                                                                                                                                                                                                                                                                                                                                                                                                                                                                reviewText\n",
              "0                                                                                                                                                                                                                                                                                                                                                                                                                                           <|BOS|>Lightwedge Paperback - Black<|SEP|>Lighting & Ceiling Fans<|SEP|>3<|SEP|>I received the book lightwedge but have not used it as of yet so I cannot give a rating<|EOS|>\n",
              "1                                                                                                                                                                                                                                                                                                                                                                                                                  <|BOS|>Breeding Organic Vegetables: A Step-by-Step Guide for Growers<|SEP|>Rough Plumbing,Water Heaters & Parts<|SEP|>3<|SEP|>I cannot get water more than luke warm, even at  a low flow rate,.<|EOS|>\n",
              "2  <|BOS|>Breeding Organic Vegetables: A Step-by-Step Guide for Growers<|SEP|>Rough Plumbing,Water Heaters & Parts<|SEP|>3<|SEP|>If I were married, I'd be in trouble for buying this. I live halfway down in texas and it's barely adequate during summer when I need to shower. Replaced a 30 gallon water heater in a house with 2 water heaters, I live alone. It's not that cold here in winter but waiting to see if it'll be enough. Puts out just enough hot water in the summer, but I'm afraid if it's cold in the house in the winter the small volume of hot water it produces is going to make for one col...\n",
              "3  <|BOS|>Breeding Organic Vegetables: A Step-by-Step Guide for Growers<|SEP|>Rough Plumbing,Water Heaters & Parts<|SEP|>3<|SEP|>I purchased Model IR-260 on-line, which seemed to be a good fit for my pool house served by a well (Texas). I had difficulty getting the various fittings to align with the installed plumbing; the local hardware and plumbing stores could not figure it out, either.  I called SioGreen and spoke with Iris (who had a defective headset and was, therefore, very difficult to communicate with).  She had an engineer, Anthony, return my call.  He informed me that this model wa...\n",
              "4                                                                                                                                                                                                                                                                                                                                                                                                                                                     <|BOS|>Breeding Organic Vegetables: A Step-by-Step Guide for Growers<|SEP|>Rough Plumbing,Water Heaters & Parts<|SEP|>3<|SEP|>I am having difficulty with it.<|EOS|>"
            ]
          },
          "metadata": {},
          "execution_count": 13
        }
      ]
    },
    {
      "cell_type": "markdown",
      "source": [
        "Rating dist: {1.0: 817515, 2.0: 413875, 3.0: 611394, 4.0: 1301947, 5.0: 5870472}\n"
      ],
      "metadata": {
        "id": "FX5Aby5Gi3Y2"
      }
    },
    {
      "cell_type": "markdown",
      "source": [
        "#### Build prompts from unseen ASINs set"
      ],
      "metadata": {
        "id": "h_B_jZnnCtnI"
      }
    },
    {
      "cell_type": "code",
      "source": [
        "%%time\n",
        "\n",
        "# Convert unseen asin set to prompts df\n",
        "prompts = {}\n",
        "for i, asin in enumerate(unseen_asins, 1):\n",
        "  prod_meta = metadata[asin]\n",
        "  prompts[i] = SPECIAL_TOKENS['bos_token'] + prod_meta['title'] + \\\n",
        "                SPECIAL_TOKENS['sep_token'] + prod_meta['category'] + \\\n",
        "                SPECIAL_TOKENS['sep_token'] + '5' + \\\n",
        "                SPECIAL_TOKENS['sep_token']\n",
        "\n",
        "print(f'There are {len(prompts)} prompts available to test with')\n",
        "\n",
        "prompts = pd.DataFrame.from_dict(prompts, columns=[\"prompt\"], orient=\"index\")\n",
        "prompts.to_csv(f\"{CATEGORY_NAME_SIMPLE}_processed_{CODE_VER}_prompts.csv\", index=False)"
      ],
      "metadata": {
        "id": "Go72UsA9yYc5",
        "colab": {
          "base_uri": "https://localhost:8080/"
        },
        "outputId": "b2395ef7-0322-465e-f738-c4cf65d2924c"
      },
      "execution_count": null,
      "outputs": [
        {
          "output_type": "stream",
          "name": "stdout",
          "text": [
            "There are 911819 prompts available to test with\n",
            "CPU times: user 6.13 s, sys: 364 ms, total: 6.49 s\n",
            "Wall time: 7.05 s\n"
          ]
        }
      ]
    },
    {
      "cell_type": "code",
      "source": [
        "prompts.head()"
      ],
      "metadata": {
        "id": "cLmn-n3oySEF",
        "colab": {
          "base_uri": "https://localhost:8080/"
        },
        "outputId": "4dda4d92-2a2c-4fcc-d6d3-2267dbca6346"
      },
      "execution_count": null,
      "outputs": [
        {
          "output_type": "execute_result",
          "data": {
            "text/html": [
              "\n",
              "  <div id=\"df-a0b95cc6-6924-461e-952e-7e87858bd647\">\n",
              "    <div class=\"colab-df-container\">\n",
              "      <div>\n",
              "<style scoped>\n",
              "    .dataframe tbody tr th:only-of-type {\n",
              "        vertical-align: middle;\n",
              "    }\n",
              "\n",
              "    .dataframe tbody tr th {\n",
              "        vertical-align: top;\n",
              "    }\n",
              "\n",
              "    .dataframe thead th {\n",
              "        text-align: right;\n",
              "    }\n",
              "</style>\n",
              "<table border=\"1\" class=\"dataframe\">\n",
              "  <thead>\n",
              "    <tr style=\"text-align: right;\">\n",
              "      <th></th>\n",
              "      <th>prompt</th>\n",
              "    </tr>\n",
              "  </thead>\n",
              "  <tbody>\n",
              "    <tr>\n",
              "      <th>1</th>\n",
              "      <td>&lt;|BOS|&gt;Panel Mount Battery Gauge for Dual Batteries - Panther&lt;|SEP|&gt;Replacement Parts,Batteries &amp; Accessories&lt;|SEP|&gt;5&lt;|SEP|&gt;</td>\n",
              "    </tr>\n",
              "    <tr>\n",
              "      <th>2</th>\n",
              "      <td>&lt;|BOS|&gt;Monroe 72293 OESpectrum Premium Strut&lt;|SEP|&gt;Replacement Parts,Shocks, Struts &amp; Suspension,Shocks &amp; Struts,Struts&lt;|SEP|&gt;5&lt;|SEP|&gt;</td>\n",
              "    </tr>\n",
              "    <tr>\n",
              "      <th>3</th>\n",
              "      <td>&lt;|BOS|&gt;Fit 2008-2011 Cadillac CTS Front Sport Drill Slot Brake Rotors+Ceramic Brake Pad&lt;|SEP|&gt;Replacement Parts,Brake System,Brake Kits&lt;|SEP|&gt;5&lt;|SEP|&gt;</td>\n",
              "    </tr>\n",
              "    <tr>\n",
              "      <th>4</th>\n",
              "      <td>&lt;|BOS|&gt;Lisle 64870 Back Probe, Red, 90-Degree&lt;|SEP|&gt;Tools &amp; Equipment,Electrical System Tools&lt;|SEP|&gt;5&lt;|SEP|&gt;</td>\n",
              "    </tr>\n",
              "    <tr>\n",
              "      <th>5</th>\n",
              "      <td>&lt;|BOS|&gt;PODOY Camper White 1156 5050 BA15S SMD 18 LED Tail Bulbs for RV Camper SUV MPV Car (2 Pack)&lt;|SEP|&gt;Replacement Parts,Switches &amp; Relays,Relays&lt;|SEP|&gt;5&lt;|SEP|&gt;</td>\n",
              "    </tr>\n",
              "  </tbody>\n",
              "</table>\n",
              "</div>\n",
              "      <button class=\"colab-df-convert\" onclick=\"convertToInteractive('df-a0b95cc6-6924-461e-952e-7e87858bd647')\"\n",
              "              title=\"Convert this dataframe to an interactive table.\"\n",
              "              style=\"display:none;\">\n",
              "        \n",
              "  <svg xmlns=\"http://www.w3.org/2000/svg\" height=\"24px\"viewBox=\"0 0 24 24\"\n",
              "       width=\"24px\">\n",
              "    <path d=\"M0 0h24v24H0V0z\" fill=\"none\"/>\n",
              "    <path d=\"M18.56 5.44l.94 2.06.94-2.06 2.06-.94-2.06-.94-.94-2.06-.94 2.06-2.06.94zm-11 1L8.5 8.5l.94-2.06 2.06-.94-2.06-.94L8.5 2.5l-.94 2.06-2.06.94zm10 10l.94 2.06.94-2.06 2.06-.94-2.06-.94-.94-2.06-.94 2.06-2.06.94z\"/><path d=\"M17.41 7.96l-1.37-1.37c-.4-.4-.92-.59-1.43-.59-.52 0-1.04.2-1.43.59L10.3 9.45l-7.72 7.72c-.78.78-.78 2.05 0 2.83L4 21.41c.39.39.9.59 1.41.59.51 0 1.02-.2 1.41-.59l7.78-7.78 2.81-2.81c.8-.78.8-2.07 0-2.86zM5.41 20L4 18.59l7.72-7.72 1.47 1.35L5.41 20z\"/>\n",
              "  </svg>\n",
              "      </button>\n",
              "      \n",
              "  <style>\n",
              "    .colab-df-container {\n",
              "      display:flex;\n",
              "      flex-wrap:wrap;\n",
              "      gap: 12px;\n",
              "    }\n",
              "\n",
              "    .colab-df-convert {\n",
              "      background-color: #E8F0FE;\n",
              "      border: none;\n",
              "      border-radius: 50%;\n",
              "      cursor: pointer;\n",
              "      display: none;\n",
              "      fill: #1967D2;\n",
              "      height: 32px;\n",
              "      padding: 0 0 0 0;\n",
              "      width: 32px;\n",
              "    }\n",
              "\n",
              "    .colab-df-convert:hover {\n",
              "      background-color: #E2EBFA;\n",
              "      box-shadow: 0px 1px 2px rgba(60, 64, 67, 0.3), 0px 1px 3px 1px rgba(60, 64, 67, 0.15);\n",
              "      fill: #174EA6;\n",
              "    }\n",
              "\n",
              "    [theme=dark] .colab-df-convert {\n",
              "      background-color: #3B4455;\n",
              "      fill: #D2E3FC;\n",
              "    }\n",
              "\n",
              "    [theme=dark] .colab-df-convert:hover {\n",
              "      background-color: #434B5C;\n",
              "      box-shadow: 0px 1px 3px 1px rgba(0, 0, 0, 0.15);\n",
              "      filter: drop-shadow(0px 1px 2px rgba(0, 0, 0, 0.3));\n",
              "      fill: #FFFFFF;\n",
              "    }\n",
              "  </style>\n",
              "\n",
              "      <script>\n",
              "        const buttonEl =\n",
              "          document.querySelector('#df-a0b95cc6-6924-461e-952e-7e87858bd647 button.colab-df-convert');\n",
              "        buttonEl.style.display =\n",
              "          google.colab.kernel.accessAllowed ? 'block' : 'none';\n",
              "\n",
              "        async function convertToInteractive(key) {\n",
              "          const element = document.querySelector('#df-a0b95cc6-6924-461e-952e-7e87858bd647');\n",
              "          const dataTable =\n",
              "            await google.colab.kernel.invokeFunction('convertToInteractive',\n",
              "                                                     [key], {});\n",
              "          if (!dataTable) return;\n",
              "\n",
              "          const docLinkHtml = 'Like what you see? Visit the ' +\n",
              "            '<a target=\"_blank\" href=https://colab.research.google.com/notebooks/data_table.ipynb>data table notebook</a>'\n",
              "            + ' to learn more about interactive tables.';\n",
              "          element.innerHTML = '';\n",
              "          dataTable['output_type'] = 'display_data';\n",
              "          await google.colab.output.renderOutput(dataTable, element);\n",
              "          const docLink = document.createElement('div');\n",
              "          docLink.innerHTML = docLinkHtml;\n",
              "          element.appendChild(docLink);\n",
              "        }\n",
              "      </script>\n",
              "    </div>\n",
              "  </div>\n",
              "  "
            ],
            "text/plain": [
              "                                                                                                                                                               prompt\n",
              "1                                        <|BOS|>Panel Mount Battery Gauge for Dual Batteries - Panther<|SEP|>Replacement Parts,Batteries & Accessories<|SEP|>5<|SEP|>\n",
              "2                              <|BOS|>Monroe 72293 OESpectrum Premium Strut<|SEP|>Replacement Parts,Shocks, Struts & Suspension,Shocks & Struts,Struts<|SEP|>5<|SEP|>\n",
              "3              <|BOS|>Fit 2008-2011 Cadillac CTS Front Sport Drill Slot Brake Rotors+Ceramic Brake Pad<|SEP|>Replacement Parts,Brake System,Brake Kits<|SEP|>5<|SEP|>\n",
              "4                                                        <|BOS|>Lisle 64870 Back Probe, Red, 90-Degree<|SEP|>Tools & Equipment,Electrical System Tools<|SEP|>5<|SEP|>\n",
              "5  <|BOS|>PODOY Camper White 1156 5050 BA15S SMD 18 LED Tail Bulbs for RV Camper SUV MPV Car (2 Pack)<|SEP|>Replacement Parts,Switches & Relays,Relays<|SEP|>5<|SEP|>"
            ]
          },
          "metadata": {},
          "execution_count": 48
        }
      ]
    },
    {
      "cell_type": "markdown",
      "source": [
        "#### Garbage Collect"
      ],
      "metadata": {
        "id": "rJarazPPCzLa"
      }
    },
    {
      "cell_type": "code",
      "source": [
        "# Save memory, clear useless large objects no longer used after this section\n",
        "del metadata\n",
        "del unseen_asins\n",
        "del reviews\n",
        "gc.collect()"
      ],
      "metadata": {
        "id": "apJLDIUWYR0s",
        "colab": {
          "base_uri": "https://localhost:8080/"
        },
        "outputId": "c22577f6-472a-4172-f113-cf63bf0faf99"
      },
      "execution_count": null,
      "outputs": [
        {
          "output_type": "execute_result",
          "data": {
            "text/plain": [
              "167"
            ]
          },
          "metadata": {},
          "execution_count": 49
        }
      ]
    },
    {
      "cell_type": "markdown",
      "source": [
        "### [Only run after first time] Load processed data from disk"
      ],
      "metadata": {
        "id": "tS9VmwD3X5dP"
      }
    },
    {
      "cell_type": "code",
      "source": [
        "all_reviews = pd.read_csv(f\"{CATEGORY_NAME_SIMPLE}_processed_{CODE_VER}.csv\", sep=\",\")\n",
        "prompts = pd.read_csv(f\"{CATEGORY_NAME_SIMPLE}_processed_{CODE_VER}_prompts.csv\", sep=\",\")"
      ],
      "metadata": {
        "id": "XWFnXFlW3fEB"
      },
      "execution_count": null,
      "outputs": []
    },
    {
      "cell_type": "markdown",
      "source": [
        "### Break data into train and valid"
      ],
      "metadata": {
        "id": "nJOlTBurYIfV"
      }
    },
    {
      "cell_type": "code",
      "source": [
        "sample_df = all_reviews"
      ],
      "metadata": {
        "id": "xuU3W__3yeP0"
      },
      "execution_count": null,
      "outputs": []
    },
    {
      "cell_type": "code",
      "source": [
        "#sample_df = all_reviews.sample(n=50000, random_state=2021).dropna().reset_index()"
      ],
      "metadata": {
        "id": "I7KqrQHufRS0"
      },
      "execution_count": null,
      "outputs": []
    },
    {
      "cell_type": "code",
      "source": [
        "del all_reviews\n",
        "gc.collect()"
      ],
      "metadata": {
        "colab": {
          "base_uri": "https://localhost:8080/"
        },
        "id": "0L-sagnDeFL3",
        "outputId": "42e9f25b-bca0-4f2c-f12d-6e1441147478"
      },
      "execution_count": null,
      "outputs": [
        {
          "output_type": "execute_result",
          "data": {
            "text/plain": [
              "177"
            ]
          },
          "metadata": {},
          "execution_count": 10
        }
      ]
    },
    {
      "cell_type": "code",
      "source": [
        "df_train, df_valid = train_test_split(sample_df, random_state=2021, test_size=0.1)\n",
        "all_texts = np.concatenate([df_train[\"reviewText\"].values, df_valid[\"reviewText\"].values])"
      ],
      "metadata": {
        "id": "cxexI-RggHN1"
      },
      "execution_count": null,
      "outputs": []
    },
    {
      "cell_type": "markdown",
      "source": [
        "## Download Pre-Trained Model (gpt2)\n",
        "And configure tokenizer to recognize special tokens\n"
      ],
      "metadata": {
        "id": "01Qgap8Cjimy"
      }
    },
    {
      "cell_type": "code",
      "source": [
        "def get_tokenizer(special_tokens=None):\n",
        "    tokenizer = AutoTokenizer.from_pretrained(MODEL) #GPT2Tokenizer\n",
        "\n",
        "    if special_tokens:\n",
        "        tokenizer.add_special_tokens(special_tokens)\n",
        "        print(\"Special tokens added\")\n",
        "    return tokenizer\n",
        "\n",
        "def get_model(tokenizer, special_tokens=None, load_model_path=None):\n",
        "\n",
        "    #GPT2LMHeadModel\n",
        "    if special_tokens:\n",
        "        config = AutoConfig.from_pretrained(MODEL, \n",
        "                                            bos_token_id=tokenizer.bos_token_id,\n",
        "                                            eos_token_id=tokenizer.eos_token_id,\n",
        "                                            sep_token_id=tokenizer.sep_token_id,\n",
        "                                            pad_token_id=tokenizer.pad_token_id,\n",
        "                                            output_hidden_states=False)\n",
        "    else: \n",
        "        config = AutoConfig.from_pretrained(MODEL,                                     \n",
        "                                            pad_token_id=tokenizer.eos_token_id,\n",
        "                                            output_hidden_states=False)    \n",
        "\n",
        "    model = AutoModelForPreTraining.from_pretrained(MODEL, config=config)\n",
        "\n",
        "    if special_tokens:\n",
        "        #Special tokens added, model needs to be resized accordingly\n",
        "        model.resize_token_embeddings(len(tokenizer))\n",
        "\n",
        "    if load_model_path:\n",
        "        model.load_state_dict(torch.load(load_model_path))\n",
        "\n",
        "    model.cuda()\n",
        "    return model"
      ],
      "metadata": {
        "id": "Dfj0dmki58Xn"
      },
      "execution_count": null,
      "outputs": []
    },
    {
      "cell_type": "code",
      "source": [
        "tokenizer = get_tokenizer(SPECIAL_TOKENS)\n",
        "model = get_model(tokenizer, special_tokens=SPECIAL_TOKENS)"
      ],
      "metadata": {
        "colab": {
          "base_uri": "https://localhost:8080/",
          "height": 195,
          "referenced_widgets": [
            "6d1736b37afa43748e0e72a0b725eae5",
            "f1e5fa2481654da3aa2896a1b96c4b97",
            "0eaf4952c01e477795e7aa2aec441095",
            "8cfc5181fe094758a3bbb47afb2f570f",
            "3838de962bef44dc8d95bd3d1e2bbc13",
            "cdac91c8ef73410d95b1e461cfc4fc30",
            "94827e79868b48b4bc3fe869dca4d3cd",
            "4dc9d54e49b44b5991c89b6426629267",
            "416ed6606379410b936ba1e6978861a7",
            "4ce6b961af244b3d912bad46b367e274",
            "e47154a8178c421191d6f8eb080267bb",
            "b6724c6927884f008185d24c7bf2fbfb",
            "f2ade57e0dd94e32a389d74e2033bfed",
            "25a3d95099314809acb6de5d8c173c4c",
            "cce042a6daf4466eb0afe9ab6a124f98",
            "3784033d48b84e5cb2ccb35cc326452c",
            "44376adbed7f4ee0bd51a7116521aea8",
            "205db8a68d6e4e39830e3e269934e588",
            "ae475c2d46a14f20b44a9e04af849244",
            "868c983450634ec094a74a5d858cb9cd",
            "95cb43c7ac4446199ca500cf27285dda",
            "538a8c8c135b414f8641c0ce40bee452",
            "93c16ba3655141c1b892f8494e2d55ff",
            "ee8ebb04498f4709bc75965b9b3e8efd",
            "c5aeab80d28f487ca0cc3d1518378c3e",
            "003be8893b614c1a97798cd5e52f0d5a",
            "2bcbacf2ff294011aafaa86fb9ac7ffc",
            "c7f3724680cf484baa8033cabc0f7ea3",
            "3b4f3574c2dc4db9a6eb9ea9c7917d5c",
            "135af4808b7e43b29827d85e41b09d4e",
            "3b85f8713e4247e38a67057a34b78763",
            "eaa3b0de565940fbb0e75d87284e3928",
            "30ac49a5b2114b039b652e19cd20053a",
            "d4bab2e49ba84c2e95eb594284ec02ec",
            "f5b2225f9efc4692822d541f3d71ddbc",
            "bfb94b9ad572407eadef418a24a17e5d",
            "26eb01ef6994417ba9f0c1d29e6a9227",
            "8161646f7625444480a79c4b6a611240",
            "dff7ed0d88a74bb8b36d22b3519fe49b",
            "c022897eaafe48ababdfd5114b3bb028",
            "7e600d2ae4bd48bebe00a990972e1d09",
            "d3b4b9e3b3ea4e8e97457e94a70b53af",
            "f6c50d017b2049ffa2284a9193494620",
            "bfe3f8c4efaa4b71a32bd446011fb7c6",
            "965bda6e9d0044dcabbac66307dc36ee",
            "677a583f01584e3a892eb395eff4a77d",
            "243739af11254dbf8f8e12aeb6c4777c",
            "05a0bbceed6742429d1c437282df815e",
            "079686c1d7854bebb6207f2f5f5670a0",
            "79be3299a24145c28993ce403fd9e87c",
            "deb5309faee645a991cec4ec72081a16",
            "6151e050f39b4ad8896c8257b7100c1e",
            "ed84e1a79dbf4a308f3e5cb334bb1344",
            "45429b32bcb64c3c9c6f1e15cb78b7e9",
            "e0c524f3dee0427a8434b14b6213cb96"
          ]
        },
        "id": "0YheM_CO6npO",
        "outputId": "b4b9398e-30b7-48d9-ce53-0dac40bb0b1c"
      },
      "execution_count": null,
      "outputs": [
        {
          "output_type": "display_data",
          "data": {
            "application/vnd.jupyter.widget-view+json": {
              "model_id": "6d1736b37afa43748e0e72a0b725eae5",
              "version_minor": 0,
              "version_major": 2
            },
            "text/plain": [
              "Downloading:   0%|          | 0.00/665 [00:00<?, ?B/s]"
            ]
          },
          "metadata": {}
        },
        {
          "output_type": "display_data",
          "data": {
            "application/vnd.jupyter.widget-view+json": {
              "model_id": "b6724c6927884f008185d24c7bf2fbfb",
              "version_minor": 0,
              "version_major": 2
            },
            "text/plain": [
              "Downloading:   0%|          | 0.00/0.99M [00:00<?, ?B/s]"
            ]
          },
          "metadata": {}
        },
        {
          "output_type": "display_data",
          "data": {
            "application/vnd.jupyter.widget-view+json": {
              "model_id": "93c16ba3655141c1b892f8494e2d55ff",
              "version_minor": 0,
              "version_major": 2
            },
            "text/plain": [
              "Downloading:   0%|          | 0.00/446k [00:00<?, ?B/s]"
            ]
          },
          "metadata": {}
        },
        {
          "output_type": "display_data",
          "data": {
            "application/vnd.jupyter.widget-view+json": {
              "model_id": "d4bab2e49ba84c2e95eb594284ec02ec",
              "version_minor": 0,
              "version_major": 2
            },
            "text/plain": [
              "Downloading:   0%|          | 0.00/1.29M [00:00<?, ?B/s]"
            ]
          },
          "metadata": {}
        },
        {
          "output_type": "stream",
          "name": "stdout",
          "text": [
            "Special tokens added\n"
          ]
        },
        {
          "output_type": "display_data",
          "data": {
            "application/vnd.jupyter.widget-view+json": {
              "model_id": "965bda6e9d0044dcabbac66307dc36ee",
              "version_minor": 0,
              "version_major": 2
            },
            "text/plain": [
              "Downloading:   0%|          | 0.00/523M [00:00<?, ?B/s]"
            ]
          },
          "metadata": {}
        }
      ]
    },
    {
      "cell_type": "code",
      "source": [
        "class TransformersTokenizer(Transform):\n",
        "    def __init__(self, tokenizer): self.tokenizer = tokenizer\n",
        "    def encodes(self, x): \n",
        "        toks = self.tokenizer.tokenize(x)[:1024]\n",
        "        return tensor(self.tokenizer.convert_tokens_to_ids(toks))\n",
        "    def decodes(self, x): return TitledStr(self.tokenizer.decode(x.cpu().numpy()))"
      ],
      "metadata": {
        "id": "vGP0FX22gJzr"
      },
      "execution_count": null,
      "outputs": []
    },
    {
      "cell_type": "code",
      "source": [
        "splits = [list(df_train.index), list(df_valid.index)]\n",
        "tls = TfmdLists(all_texts, TransformersTokenizer(tokenizer), splits=splits, dl_type=LMDataLoader)"
      ],
      "metadata": {
        "id": "0KHIuUCLgRN6"
      },
      "execution_count": null,
      "outputs": []
    },
    {
      "cell_type": "code",
      "source": [
        "tls.train[0]"
      ],
      "metadata": {
        "colab": {
          "base_uri": "https://localhost:8080/"
        },
        "id": "4HvrM7NMxauC",
        "outputId": "46c387b4-a104-4059-abb7-224728c26b32"
      },
      "execution_count": null,
      "outputs": [
        {
          "output_type": "execute_result",
          "data": {
            "text/plain": [
              "tensor([50257,  5990,  9830,    87,   807,  1485,  3559, 12297,    12,  4653,\n",
              "         1096,   406, 29812,   415,    11,   352, 15649,    13, 34510, 50261,\n",
              "           46,  4487,  1222,   696,    26, 34070,  2340,    11, 43887,  1386,\n",
              "         1222,   696,    26,   406, 29812,  1187,    11,    43, 29812,  1187,\n",
              "           11, 28795,    12,  4653,  1096, 50261,    19, 50261,  1212,   318,\n",
              "          257, 23754, 10474,   300,  3266,    13,   220,   383,  5876,   318,\n",
              "          326,   262,  3098,    12,   325,  1096,  7515,   318,   845,  1327,\n",
              "          284,   651,   572,  2832,    11,  8242,    11,   262,  4314,  1377,\n",
              "         1997,   340, 18105,    13,   220,  1002,   345,   389,   257,   497,\n",
              "          729,  8383,   621,   314,   716,    11,   428,  1839,   470,   307,\n",
              "          257,  1263, 43585,    13, 50258])"
            ]
          },
          "metadata": {},
          "execution_count": 17
        }
      ]
    },
    {
      "cell_type": "code",
      "source": [
        "tls.valid[0]"
      ],
      "metadata": {
        "colab": {
          "base_uri": "https://localhost:8080/"
        },
        "id": "6qWoUI2e1WTy",
        "outputId": "f8d6b360-a4cc-4291-b9ca-16f9bd12d808"
      },
      "execution_count": null,
      "outputs": [
        {
          "output_type": "execute_result",
          "data": {
            "text/plain": [
              "tensor([50257,    57,   272,  2256, 31763,   370, 21870,    44, 16562,  3169,\n",
              "          404, 25924,  6462, 15399, 18007,    11,  2619, 50261, 34919, 13696,\n",
              "         1222, 20668,  3742,    11, 19703, 13967, 10740,    11,    49,  2530,\n",
              "         7123, 13927,    11, 32388,   337,  6791, 50261,    17, 50261,  1532,\n",
              "          345,   423,   257,  1588, 30777,   836,   470,  2822,    11,   663,\n",
              "          925,   329,  1310,   661, 47226, 50258])"
            ]
          },
          "metadata": {},
          "execution_count": 18
        }
      ]
    },
    {
      "cell_type": "code",
      "source": [
        "tls.tfms(tls.train.items[0]).shape, tls.tfms(tls.valid.items[0]).shape"
      ],
      "metadata": {
        "colab": {
          "base_uri": "https://localhost:8080/"
        },
        "id": "ImGXuOhQ1YLh",
        "outputId": "5ef3e9db-9a36-4762-f380-a4a64312891d"
      },
      "execution_count": null,
      "outputs": [
        {
          "output_type": "execute_result",
          "data": {
            "text/plain": [
              "(torch.Size([105]), torch.Size([56]))"
            ]
          },
          "metadata": {},
          "execution_count": 19
        }
      ]
    },
    {
      "cell_type": "code",
      "source": [
        "show_at(tls.train, 0)"
      ],
      "metadata": {
        "colab": {
          "base_uri": "https://localhost:8080/"
        },
        "id": "Z-9-FUA91bZw",
        "outputId": "d876ac33-7dd2-461a-ac46-514f64a9f87f"
      },
      "execution_count": null,
      "outputs": [
        {
          "output_type": "stream",
          "name": "stdout",
          "text": [
            "<|BOS|>Permatex 81343 Anti-Seize Lubricant, 1 oz. Tube<|SEP|>Oils &amp; Fluids,Greases &amp; Lubricants,Lubricants,Anti-Seize<|SEP|>4<|SEP|>This is a terrific assembly lube.  The trouble is that the anti-seize component is very hard to get off hands, clothes, the floor -- anything it touches.  If you are a neater worker than I am, this won't be a big drawback.<|EOS|>\n"
          ]
        }
      ]
    },
    {
      "cell_type": "code",
      "source": [
        "show_at(tls.valid, 0)"
      ],
      "metadata": {
        "colab": {
          "base_uri": "https://localhost:8080/"
        },
        "id": "qxGbNLgd1diq",
        "outputId": "19bbf4f1-de17-4205-9952-438c3b7b84a7"
      },
      "execution_count": null,
      "outputs": [
        {
          "output_type": "stream",
          "name": "stdout",
          "text": [
            "<|BOS|>Zanheadgear WNFM114 Neoprene Full Face Mask, Black<|SEP|>Motorcycle & Powersports,Protective Gear,Riding Headwear,Face Masks<|SEP|>2<|SEP|>If you have a large grape don't buy, its made for little people :-)<|EOS|>\n"
          ]
        }
      ]
    },
    {
      "cell_type": "code",
      "source": [
        "%%time\n",
        "\n",
        "bs,sl = 4,256\n",
        "dls = tls.dataloaders(bs=bs, seq_len=sl)"
      ],
      "metadata": {
        "colab": {
          "base_uri": "https://localhost:8080/"
        },
        "id": "ChHRR4cPgWif",
        "outputId": "10a78310-43aa-4526-ca7e-245935304aec"
      },
      "execution_count": null,
      "outputs": [
        {
          "output_type": "stream",
          "name": "stderr",
          "text": [
            "Token indices sequence length is longer than the specified maximum sequence length for this model (1309 > 1024). Running this sequence through the model will result in indexing errors\n"
          ]
        },
        {
          "output_type": "stream",
          "name": "stdout",
          "text": [
            "CPU times: user 2min 11s, sys: 542 ms, total: 2min 12s\n",
            "Wall time: 2min 13s\n"
          ]
        }
      ]
    },
    {
      "cell_type": "code",
      "source": [
        "dls.show_batch(max_n=2)"
      ],
      "metadata": {
        "id": "7_1D5kHa1CkG",
        "colab": {
          "base_uri": "https://localhost:8080/"
        },
        "outputId": "bd22ca00-8cb4-4f26-c791-268ebdaf7aed"
      },
      "execution_count": null,
      "outputs": [
        {
          "output_type": "display_data",
          "data": {
            "text/html": [
              "<table border=\"1\" class=\"dataframe\">\n",
              "  <thead>\n",
              "    <tr style=\"text-align: right;\">\n",
              "      <th></th>\n",
              "      <th>text</th>\n",
              "      <th>text_</th>\n",
              "    </tr>\n",
              "  </thead>\n",
              "  <tbody>\n",
              "    <tr>\n",
              "      <th>0</th>\n",
              "      <td>&lt;|BOS|&gt;Meguiar's G10307 ScratchX 2.0 - 7 oz. &amp;ndash; Safe Scratch and Swirl Remover&lt;|SEP|&gt;Car Care,Exterior Care,Car Wash Equipment&lt;|SEP|&gt;1&lt;|SEP|&gt;It didn't work for my black Acura. Scratches are still there even after I followed the instructions.&lt;|EOS|&gt;&lt;|BOS|&gt;Goldenrod 505 Spring Bottom Oiler with Straight Spout - 6 oz. Capacity&lt;|SEP|&gt;Tools &amp; Equipment,Garage &amp; Shop,Fuel Transfer &amp; Lubrication,Oil Lube Systems&lt;|SEP|&gt;1&lt;|SEP|&gt;Filled it with oil and screwed on the top.  Noticed oil on the bench.  Dripping from the base seam.  Unusable.&lt;|EOS|&gt;&lt;|BOS|&gt;Sheepskin Stretch-On Steering Wheel Cover-Grey&lt;|SEP|&gt;Interior Accessories,Steering Wheels &amp; Accessories,Steering Accessories&lt;|SEP|&gt;2&lt;|SEP|&gt;The sheepskin is a bit skimpy and the color came off on my hands.&lt;|EOS|&gt;&lt;|BOS|&gt;Schumacher PS-400-3A Instant Power Jump Starter&lt;|SEP|&gt;Tools &amp; Equipment,Jump Starters, Battery Chargers &amp; Portable Power,Jump Starters&lt;|SEP|&gt;1&lt;|SEP|&gt;I used this item for a gift, and was embarrassed when the recipitant found it broken in several places.  He was able to exchange at a local business who</td>\n",
              "      <td>Meguiar's G10307 ScratchX 2.0 - 7 oz. &amp;ndash; Safe Scratch and Swirl Remover&lt;|SEP|&gt;Car Care,Exterior Care,Car Wash Equipment&lt;|SEP|&gt;1&lt;|SEP|&gt;It didn't work for my black Acura. Scratches are still there even after I followed the instructions.&lt;|EOS|&gt;&lt;|BOS|&gt;Goldenrod 505 Spring Bottom Oiler with Straight Spout - 6 oz. Capacity&lt;|SEP|&gt;Tools &amp; Equipment,Garage &amp; Shop,Fuel Transfer &amp; Lubrication,Oil Lube Systems&lt;|SEP|&gt;1&lt;|SEP|&gt;Filled it with oil and screwed on the top.  Noticed oil on the bench.  Dripping from the base seam.  Unusable.&lt;|EOS|&gt;&lt;|BOS|&gt;Sheepskin Stretch-On Steering Wheel Cover-Grey&lt;|SEP|&gt;Interior Accessories,Steering Wheels &amp; Accessories,Steering Accessories&lt;|SEP|&gt;2&lt;|SEP|&gt;The sheepskin is a bit skimpy and the color came off on my hands.&lt;|EOS|&gt;&lt;|BOS|&gt;Schumacher PS-400-3A Instant Power Jump Starter&lt;|SEP|&gt;Tools &amp; Equipment,Jump Starters, Battery Chargers &amp; Portable Power,Jump Starters&lt;|SEP|&gt;1&lt;|SEP|&gt;I used this item for a gift, and was embarrassed when the recipitant found it broken in several places.  He was able to exchange at a local business who carried</td>\n",
              "    </tr>\n",
              "    <tr>\n",
              "      <th>1</th>\n",
              "      <td>It states that this is about 260mm while the 120.40057 rotor has a diameter of 300mm. Hope this helps!&lt;|EOS|&gt;&lt;|BOS|&gt;Meguiar's G14422 Ultimate Quik Detailer - 22 oz. &amp;ndash; Premium Spray Detailer&lt;|SEP|&gt;Car Care,Tools &amp; Equipment,Detailing Tools&lt;|SEP|&gt;2&lt;|SEP|&gt;I like Meguiars other products but not this.\\nFollowed directions correctly. Because there was  mild invisible debris on my car using this and wiping down just left tiny scratches on my car&lt;|EOS|&gt;&lt;|BOS|&gt;Hopkins 08525 Graduated Level&lt;|SEP|&gt;Tools &amp;amp; Equipment&lt;|SEP|&gt;2&lt;|SEP|&gt;I give it a lower grade because after a short 4 months the nice green liquid inside the bubble turned clear, making it more difficult to see. Had 2 installed both turned clear. With no explanation of why. One was placed in front other on side and both turned clear, wondered if anyone else have done the same or did I get a bad set?&lt;|EOS|&gt;&lt;|BOS|&gt;Lisle 30800 CV Boot Clamp Pliers&lt;|SEP|&gt;Motorcycle &amp; Powersports,Parts,Drive Train,CV Boots &amp; Joints&lt;|SEP|&gt;3&lt;|SEP|&gt;Used it on one job</td>\n",
              "      <td>states that this is about 260mm while the 120.40057 rotor has a diameter of 300mm. Hope this helps!&lt;|EOS|&gt;&lt;|BOS|&gt;Meguiar's G14422 Ultimate Quik Detailer - 22 oz. &amp;ndash; Premium Spray Detailer&lt;|SEP|&gt;Car Care,Tools &amp; Equipment,Detailing Tools&lt;|SEP|&gt;2&lt;|SEP|&gt;I like Meguiars other products but not this.\\nFollowed directions correctly. Because there was  mild invisible debris on my car using this and wiping down just left tiny scratches on my car&lt;|EOS|&gt;&lt;|BOS|&gt;Hopkins 08525 Graduated Level&lt;|SEP|&gt;Tools &amp;amp; Equipment&lt;|SEP|&gt;2&lt;|SEP|&gt;I give it a lower grade because after a short 4 months the nice green liquid inside the bubble turned clear, making it more difficult to see. Had 2 installed both turned clear. With no explanation of why. One was placed in front other on side and both turned clear, wondered if anyone else have done the same or did I get a bad set?&lt;|EOS|&gt;&lt;|BOS|&gt;Lisle 30800 CV Boot Clamp Pliers&lt;|SEP|&gt;Motorcycle &amp; Powersports,Parts,Drive Train,CV Boots &amp; Joints&lt;|SEP|&gt;3&lt;|SEP|&gt;Used it on one job so</td>\n",
              "    </tr>\n",
              "  </tbody>\n",
              "</table>"
            ],
            "text/plain": [
              "<IPython.core.display.HTML object>"
            ]
          },
          "metadata": {}
        }
      ]
    },
    {
      "cell_type": "markdown",
      "source": [
        "## Fine-tuning"
      ],
      "metadata": {
        "id": "qGuDmhzKlMYo"
      }
    },
    {
      "cell_type": "markdown",
      "source": [
        "### Create Learner from model"
      ],
      "metadata": {
        "id": "8-MTEydZQ_i4"
      }
    },
    {
      "cell_type": "code",
      "source": [
        "class DropOutput(Callback):\n",
        "    def after_pred(self): self.learn.pred = self.pred[0]"
      ],
      "metadata": {
        "id": "JmN9Wg1ClKHB"
      },
      "execution_count": null,
      "outputs": []
    },
    {
      "cell_type": "code",
      "source": [
        "learn = Learner(dls, model, loss_func=CrossEntropyLossFlat(), cbs=[DropOutput], metrics=Perplexity()).to_fp16()"
      ],
      "metadata": {
        "id": "ksCHQrVOmYZ_"
      },
      "execution_count": null,
      "outputs": []
    },
    {
      "cell_type": "markdown",
      "source": [
        "### [Skip after first time] Run fine-tuning and save"
      ],
      "metadata": {
        "id": "tj87bvbWWef9"
      }
    },
    {
      "cell_type": "code",
      "source": [
        "learn.validate()"
      ],
      "metadata": {
        "colab": {
          "base_uri": "https://localhost:8080/"
        },
        "id": "GW3RKYGsmcCx",
        "outputId": "2e6159eb-114b-48da-d850-95a4a06f5659"
      },
      "execution_count": null,
      "outputs": [
        {
          "output_type": "display_data",
          "data": {
            "text/html": [
              "\n",
              "<style>\n",
              "    /* Turns off some styling */\n",
              "    progress {\n",
              "        /* gets rid of default border in Firefox and Opera. */\n",
              "        border: none;\n",
              "        /* Needs to be in here for Safari polyfill so background images work as expected. */\n",
              "        background-size: auto;\n",
              "    }\n",
              "    .progress-bar-interrupted, .progress-bar-interrupted::-webkit-progress-bar {\n",
              "        background: #F44336;\n",
              "    }\n",
              "</style>\n"
            ],
            "text/plain": [
              "<IPython.core.display.HTML object>"
            ]
          },
          "metadata": {}
        },
        {
          "output_type": "display_data",
          "data": {
            "text/html": [
              ""
            ],
            "text/plain": [
              "<IPython.core.display.HTML object>"
            ]
          },
          "metadata": {}
        },
        {
          "output_type": "execute_result",
          "data": {
            "text/plain": [
              "(#2) [93.18417358398438,inf]"
            ]
          },
          "metadata": {},
          "execution_count": 67
        }
      ]
    },
    {
      "cell_type": "code",
      "source": [
        "%%time\n",
        "learn.lr_find()"
      ],
      "metadata": {
        "colab": {
          "base_uri": "https://localhost:8080/"
        },
        "id": "r1A65m6tmeX_",
        "outputId": "88dba6ac-e75d-4dc8-fffd-702b0b1635d0"
      },
      "execution_count": null,
      "outputs": [
        {
          "output_type": "display_data",
          "data": {
            "text/html": [
              "\n",
              "<style>\n",
              "    /* Turns off some styling */\n",
              "    progress {\n",
              "        /* gets rid of default border in Firefox and Opera. */\n",
              "        border: none;\n",
              "        /* Needs to be in here for Safari polyfill so background images work as expected. */\n",
              "        background-size: auto;\n",
              "    }\n",
              "    .progress-bar-interrupted, .progress-bar-interrupted::-webkit-progress-bar {\n",
              "        background: #F44336;\n",
              "    }\n",
              "</style>\n"
            ],
            "text/plain": [
              "<IPython.core.display.HTML object>"
            ]
          },
          "metadata": {}
        },
        {
          "output_type": "display_data",
          "data": {
            "text/html": [
              ""
            ],
            "text/plain": [
              "<IPython.core.display.HTML object>"
            ]
          },
          "metadata": {}
        },
        {
          "output_type": "stream",
          "name": "stdout",
          "text": [
            "CPU times: user 20.1 s, sys: 1.36 s, total: 21.5 s\n",
            "Wall time: 23.8 s\n"
          ]
        },
        {
          "output_type": "execute_result",
          "data": {
            "text/plain": [
              "SuggestedLRs(valley=0.0002754228771664202)"
            ]
          },
          "metadata": {},
          "execution_count": 68
        },
        {
          "output_type": "display_data",
          "data": {
            "image/png": "[encoded data removed]",
            "text/plain": [
              "<Figure size 432x288 with 1 Axes>"
            ]
          },
          "metadata": {
            "needs_background": "light"
          }
        }
      ]
    },
    {
      "cell_type": "code",
      "source": [
        "%%time\n",
        "learn.fit_one_cycle(1, 1e-4)"
      ],
      "metadata": {
        "colab": {
          "base_uri": "https://localhost:8080/"
        },
        "id": "61DEqMr5mfxh",
        "outputId": "62771a69-cd8a-4e45-f1f2-767d2c33026d"
      },
      "execution_count": null,
      "outputs": [
        {
          "output_type": "display_data",
          "data": {
            "text/html": [
              "\n",
              "<style>\n",
              "    /* Turns off some styling */\n",
              "    progress {\n",
              "        /* gets rid of default border in Firefox and Opera. */\n",
              "        border: none;\n",
              "        /* Needs to be in here for Safari polyfill so background images work as expected. */\n",
              "        background-size: auto;\n",
              "    }\n",
              "    .progress-bar-interrupted, .progress-bar-interrupted::-webkit-progress-bar {\n",
              "        background: #F44336;\n",
              "    }\n",
              "</style>\n"
            ],
            "text/plain": [
              "<IPython.core.display.HTML object>"
            ]
          },
          "metadata": {}
        },
        {
          "output_type": "display_data",
          "data": {
            "text/html": [
              "<table border=\"1\" class=\"dataframe\">\n",
              "  <thead>\n",
              "    <tr style=\"text-align: left;\">\n",
              "      <th>epoch</th>\n",
              "      <th>train_loss</th>\n",
              "      <th>valid_loss</th>\n",
              "      <th>perplexity</th>\n",
              "      <th>time</th>\n",
              "    </tr>\n",
              "  </thead>\n",
              "  <tbody>\n",
              "    <tr>\n",
              "      <td>0</td>\n",
              "      <td>2.295566</td>\n",
              "      <td>2.204673</td>\n",
              "      <td>9.067288</td>\n",
              "      <td>56:56</td>\n",
              "    </tr>\n",
              "  </tbody>\n",
              "</table>"
            ],
            "text/plain": [
              "<IPython.core.display.HTML object>"
            ]
          },
          "metadata": {}
        },
        {
          "output_type": "stream",
          "name": "stdout",
          "text": [
            "CPU times: user 55min 31s, sys: 1min 13s, total: 56min 45s\n",
            "Wall time: 56min 56s\n"
          ]
        }
      ]
    },
    {
      "cell_type": "code",
      "source": [
        "learn.save(f\"gpt2-control-generation-{CATEGORY_NAME_SIMPLE}-{CODE_VER}\")"
      ],
      "metadata": {
        "colab": {
          "base_uri": "https://localhost:8080/"
        },
        "id": "Swt8hBvbmgxs",
        "outputId": "787b9055-a51b-472f-e933-b9e852952130"
      },
      "execution_count": null,
      "outputs": [
        {
          "output_type": "execute_result",
          "data": {
            "text/plain": [
              "Path('models/gpt2-control-generation-Automotive-v4.pth')"
            ]
          },
          "metadata": {},
          "execution_count": 70
        }
      ]
    },
    {
      "cell_type": "markdown",
      "source": [
        "### [Only run after first time] Load fine-tuned model from disk"
      ],
      "metadata": {
        "id": "1NjqRhcYWkiV"
      }
    },
    {
      "cell_type": "code",
      "source": [
        "learn.load(f\"gpt2-control-generation-{CATEGORY_NAME_SIMPLE}-{CODE_VER}\")"
      ],
      "metadata": {
        "colab": {
          "base_uri": "https://localhost:8080/"
        },
        "id": "HJZdsQV6WqpR",
        "outputId": "d1f08871-4822-41e4-e135-805a43bf2dd5"
      },
      "execution_count": null,
      "outputs": [
        {
          "output_type": "execute_result",
          "data": {
            "text/plain": [
              "<fastai.learner.Learner at 0x7f75d34b4410>"
            ]
          },
          "metadata": {},
          "execution_count": 26
        }
      ]
    },
    {
      "cell_type": "markdown",
      "source": [
        "## Run Model"
      ],
      "metadata": {
        "id": "B6Z_kEIBWnmf"
      }
    },
    {
      "cell_type": "markdown",
      "source": [
        "### Manual Checking"
      ],
      "metadata": {
        "id": "aPHuBz7MLb_5"
      }
    },
    {
      "cell_type": "code",
      "source": [
        "prompts.head(10) # Display some products that we haven't trained on"
      ],
      "metadata": {
        "colab": {
          "base_uri": "https://localhost:8080/",
          "height": 511
        },
        "id": "yl8d8GRYQRwU",
        "outputId": "03e9c6b5-68f4-4e3d-808c-eec31a25c523"
      },
      "execution_count": null,
      "outputs": [
        {
          "output_type": "execute_result",
          "data": {
            "text/html": [
              "\n",
              "  <div id=\"df-a5f83ccc-a17f-4762-a7d3-c8757b047757\">\n",
              "    <div class=\"colab-df-container\">\n",
              "      <div>\n",
              "<style scoped>\n",
              "    .dataframe tbody tr th:only-of-type {\n",
              "        vertical-align: middle;\n",
              "    }\n",
              "\n",
              "    .dataframe tbody tr th {\n",
              "        vertical-align: top;\n",
              "    }\n",
              "\n",
              "    .dataframe thead th {\n",
              "        text-align: right;\n",
              "    }\n",
              "</style>\n",
              "<table border=\"1\" class=\"dataframe\">\n",
              "  <thead>\n",
              "    <tr style=\"text-align: right;\">\n",
              "      <th></th>\n",
              "      <th>prompt</th>\n",
              "    </tr>\n",
              "  </thead>\n",
              "  <tbody>\n",
              "    <tr>\n",
              "      <th>0</th>\n",
              "      <td>&lt;|BOS|&gt;Espresso Wenge Reversible L-Desk 72&amp;quot;W with Brushed Nickel Modesty Panel Legs - At Work Collection&lt;|SEP|&gt;Office Furniture &amp; Lighting,Desks &amp; Workstations,Desks,Office Desks&lt;|SEP|&gt;5&lt;|SEP|&gt;</td>\n",
              "    </tr>\n",
              "    <tr>\n",
              "      <th>1</th>\n",
              "      <td>&lt;|BOS|&gt;STEELMASTER Contemporary Vertical Organizer with 4 Slots, 8.38 x 12 x 7.25 Inches, Granite (2644500A3)&lt;|SEP|&gt;Office Furniture &amp; Lighting,Cabinets, Racks &amp; Shelves,Racks &amp; Displays&lt;|SEP|&gt;5&lt;|SEP|&gt;</td>\n",
              "    </tr>\n",
              "    <tr>\n",
              "      <th>2</th>\n",
              "      <td>&lt;|BOS|&gt;100 5x7 Reclosable Poly Clear Plastic Zip Lock Zipper Bag 4 Mil Jewelry Baggies&lt;|SEP|&gt;Office &amp; School Supplies,Envelopes, Mailers &amp; Shipping Supplies,Mail Bags &amp; Transit Sacks,Mail Bags&lt;|SEP|&gt;5&lt;|SEP|&gt;</td>\n",
              "    </tr>\n",
              "    <tr>\n",
              "      <th>3</th>\n",
              "      <td>&lt;|BOS|&gt;GLOBE-WEIS Colored Classification Folder (PU5615LBL)&lt;|SEP|&gt;Office &amp; School Supplies&lt;|SEP|&gt;5&lt;|SEP|&gt;</td>\n",
              "    </tr>\n",
              "    <tr>\n",
              "      <th>4</th>\n",
              "      <td>&lt;|BOS|&gt;3&amp;quot; X 4&amp;quot; - 2 Mil Clear White Block Reclosable Poly Zip Lock Bags Pack of 100&lt;|SEP|&gt;Office &amp; School Supplies,Envelopes, Mailers &amp; Shipping Supplies,Mail Bags &amp; Transit Sacks,Mail Bags&lt;|SEP|&gt;5&lt;|SEP|&gt;</td>\n",
              "    </tr>\n",
              "    <tr>\n",
              "      <th>5</th>\n",
              "      <td>&lt;|BOS|&gt;Assorted Hand made Voodoo String Doll Key Chain (12 pieces)&lt;|SEP|&gt;Office &amp; School Supplies,Forms, Recordkeeping &amp; Money Handling,Key Tags &amp; Chains&lt;|SEP|&gt;5&lt;|SEP|&gt;</td>\n",
              "    </tr>\n",
              "    <tr>\n",
              "      <th>6</th>\n",
              "      <td>&lt;|BOS|&gt;Vonage Phone Solution Adapter + Cordless Phone System, New for 2011 Vonage Digital Phone System Adapter and Dect 6.0 Motorola Cordless System L603 (not the previous L403) in One Box&lt;|SEP|&gt;Office Electronics,Telephones &amp; Accessories,Landline Phones,Cordless Telephones&lt;|SEP|&gt;5&lt;|SEP|&gt;</td>\n",
              "    </tr>\n",
              "    <tr>\n",
              "      <th>7</th>\n",
              "      <td>&lt;|BOS|&gt;NEW 100 Feet Flexible Magnet Magnetic Strip 1&amp;quot; wide Adhesive Back 30 Mil&lt;|SEP|&gt;Office &amp; School Supplies,Tape, Adhesives &amp; Fasteners,Interlocking Tape &amp; Mounting Products,Magnetic Tape&lt;|SEP|&gt;5&lt;|SEP|&gt;</td>\n",
              "    </tr>\n",
              "    <tr>\n",
              "      <th>8</th>\n",
              "      <td>&lt;|BOS|&gt;Palmetto 2-Drawer Oak File Cabinet Warm Honey&lt;|SEP|&gt;Office &amp; School Supplies,Forms, Recordkeeping &amp; Money Handling,Key Cabinets, Racks &amp; Holders,Cabinets&lt;|SEP|&gt;5&lt;|SEP|&gt;</td>\n",
              "    </tr>\n",
              "    <tr>\n",
              "      <th>9</th>\n",
              "      <td>&lt;|BOS|&gt;Pelikan Pelikano Blue Fountain Pen Medium&lt;|SEP|&gt;Office &amp; School Supplies,Writing &amp; Correction Supplies,Pens &amp; Refills,Fountain Pens&lt;|SEP|&gt;5&lt;|SEP|&gt;</td>\n",
              "    </tr>\n",
              "  </tbody>\n",
              "</table>\n",
              "</div>\n",
              "      <button class=\"colab-df-convert\" onclick=\"convertToInteractive('df-a5f83ccc-a17f-4762-a7d3-c8757b047757')\"\n",
              "              title=\"Convert this dataframe to an interactive table.\"\n",
              "              style=\"display:none;\">\n",
              "        \n",
              "  <svg xmlns=\"http://www.w3.org/2000/svg\" height=\"24px\"viewBox=\"0 0 24 24\"\n",
              "       width=\"24px\">\n",
              "    <path d=\"M0 0h24v24H0V0z\" fill=\"none\"/>\n",
              "    <path d=\"M18.56 5.44l.94 2.06.94-2.06 2.06-.94-2.06-.94-.94-2.06-.94 2.06-2.06.94zm-11 1L8.5 8.5l.94-2.06 2.06-.94-2.06-.94L8.5 2.5l-.94 2.06-2.06.94zm10 10l.94 2.06.94-2.06 2.06-.94-2.06-.94-.94-2.06-.94 2.06-2.06.94z\"/><path d=\"M17.41 7.96l-1.37-1.37c-.4-.4-.92-.59-1.43-.59-.52 0-1.04.2-1.43.59L10.3 9.45l-7.72 7.72c-.78.78-.78 2.05 0 2.83L4 21.41c.39.39.9.59 1.41.59.51 0 1.02-.2 1.41-.59l7.78-7.78 2.81-2.81c.8-.78.8-2.07 0-2.86zM5.41 20L4 18.59l7.72-7.72 1.47 1.35L5.41 20z\"/>\n",
              "  </svg>\n",
              "      </button>\n",
              "      \n",
              "  <style>\n",
              "    .colab-df-container {\n",
              "      display:flex;\n",
              "      flex-wrap:wrap;\n",
              "      gap: 12px;\n",
              "    }\n",
              "\n",
              "    .colab-df-convert {\n",
              "      background-color: #E8F0FE;\n",
              "      border: none;\n",
              "      border-radius: 50%;\n",
              "      cursor: pointer;\n",
              "      display: none;\n",
              "      fill: #1967D2;\n",
              "      height: 32px;\n",
              "      padding: 0 0 0 0;\n",
              "      width: 32px;\n",
              "    }\n",
              "\n",
              "    .colab-df-convert:hover {\n",
              "      background-color: #E2EBFA;\n",
              "      box-shadow: 0px 1px 2px rgba(60, 64, 67, 0.3), 0px 1px 3px 1px rgba(60, 64, 67, 0.15);\n",
              "      fill: #174EA6;\n",
              "    }\n",
              "\n",
              "    [theme=dark] .colab-df-convert {\n",
              "      background-color: #3B4455;\n",
              "      fill: #D2E3FC;\n",
              "    }\n",
              "\n",
              "    [theme=dark] .colab-df-convert:hover {\n",
              "      background-color: #434B5C;\n",
              "      box-shadow: 0px 1px 3px 1px rgba(0, 0, 0, 0.15);\n",
              "      filter: drop-shadow(0px 1px 2px rgba(0, 0, 0, 0.3));\n",
              "      fill: #FFFFFF;\n",
              "    }\n",
              "  </style>\n",
              "\n",
              "      <script>\n",
              "        const buttonEl =\n",
              "          document.querySelector('#df-a5f83ccc-a17f-4762-a7d3-c8757b047757 button.colab-df-convert');\n",
              "        buttonEl.style.display =\n",
              "          google.colab.kernel.accessAllowed ? 'block' : 'none';\n",
              "\n",
              "        async function convertToInteractive(key) {\n",
              "          const element = document.querySelector('#df-a5f83ccc-a17f-4762-a7d3-c8757b047757');\n",
              "          const dataTable =\n",
              "            await google.colab.kernel.invokeFunction('convertToInteractive',\n",
              "                                                     [key], {});\n",
              "          if (!dataTable) return;\n",
              "\n",
              "          const docLinkHtml = 'Like what you see? Visit the ' +\n",
              "            '<a target=\"_blank\" href=https://colab.research.google.com/notebooks/data_table.ipynb>data table notebook</a>'\n",
              "            + ' to learn more about interactive tables.';\n",
              "          element.innerHTML = '';\n",
              "          dataTable['output_type'] = 'display_data';\n",
              "          await google.colab.output.renderOutput(dataTable, element);\n",
              "          const docLink = document.createElement('div');\n",
              "          docLink.innerHTML = docLinkHtml;\n",
              "          element.appendChild(docLink);\n",
              "        }\n",
              "      </script>\n",
              "    </div>\n",
              "  </div>\n",
              "  "
            ],
            "text/plain": [
              "                                                                                                                                                                                                                                                                                              prompt\n",
              "0                                                                                             <|BOS|>Espresso Wenge Reversible L-Desk 72&quot;W with Brushed Nickel Modesty Panel Legs - At Work Collection<|SEP|>Office Furniture & Lighting,Desks & Workstations,Desks,Office Desks<|SEP|>5<|SEP|>\n",
              "1                                                                                          <|BOS|>STEELMASTER Contemporary Vertical Organizer with 4 Slots, 8.38 x 12 x 7.25 Inches, Granite (2644500A3)<|SEP|>Office Furniture & Lighting,Cabinets, Racks & Shelves,Racks & Displays<|SEP|>5<|SEP|>\n",
              "2                                                                                    <|BOS|>100 5x7 Reclosable Poly Clear Plastic Zip Lock Zipper Bag 4 Mil Jewelry Baggies<|SEP|>Office & School Supplies,Envelopes, Mailers & Shipping Supplies,Mail Bags & Transit Sacks,Mail Bags<|SEP|>5<|SEP|>\n",
              "3                                                                                                                                                                                          <|BOS|>GLOBE-WEIS Colored Classification Folder (PU5615LBL)<|SEP|>Office & School Supplies<|SEP|>5<|SEP|>\n",
              "4                                                                              <|BOS|>3&quot; X 4&quot; - 2 Mil Clear White Block Reclosable Poly Zip Lock Bags Pack of 100<|SEP|>Office & School Supplies,Envelopes, Mailers & Shipping Supplies,Mail Bags & Transit Sacks,Mail Bags<|SEP|>5<|SEP|>\n",
              "5                                                                                                                           <|BOS|>Assorted Hand made Voodoo String Doll Key Chain (12 pieces)<|SEP|>Office & School Supplies,Forms, Recordkeeping & Money Handling,Key Tags & Chains<|SEP|>5<|SEP|>\n",
              "6  <|BOS|>Vonage Phone Solution Adapter + Cordless Phone System, New for 2011 Vonage Digital Phone System Adapter and Dect 6.0 Motorola Cordless System L603 (not the previous L403) in One Box<|SEP|>Office Electronics,Telephones & Accessories,Landline Phones,Cordless Telephones<|SEP|>5<|SEP|>\n",
              "7                                                                                 <|BOS|>NEW 100 Feet Flexible Magnet Magnetic Strip 1&quot; wide Adhesive Back 30 Mil<|SEP|>Office & School Supplies,Tape, Adhesives & Fasteners,Interlocking Tape & Mounting Products,Magnetic Tape<|SEP|>5<|SEP|>\n",
              "8                                                                                                                    <|BOS|>Palmetto 2-Drawer Oak File Cabinet Warm Honey<|SEP|>Office & School Supplies,Forms, Recordkeeping & Money Handling,Key Cabinets, Racks & Holders,Cabinets<|SEP|>5<|SEP|>\n",
              "9                                                                                                                                          <|BOS|>Pelikan Pelikano Blue Fountain Pen Medium<|SEP|>Office & School Supplies,Writing & Correction Supplies,Pens & Refills,Fountain Pens<|SEP|>5<|SEP|>"
            ]
          },
          "metadata": {},
          "execution_count": 27
        }
      ]
    },
    {
      "cell_type": "code",
      "source": [
        "prompt = \"<|BOS|>Espresso Wenge Reversible L-Desk 72&quot;W with Brushed Nickel Modesty Panel Legs - At Work Collection<|SEP|>Office Furniture & Lighting,Desks & Workstations,Desks,Office Desks<|SEP|>1<|SEP|>\"\n",
        "prompt_len = len(re.sub(r'<\\|[A-Z]{3}\\|>', '', prompt))\n",
        "\n",
        "prompt_ids = tokenizer.encode(prompt)\n",
        "inp = tensor(prompt_ids)[None].cuda()\n",
        "\n",
        "preds = learn.model.generate(inp, max_length=1024, do_sample=True, top_k=0, top_p=0.92, num_return_sequences=25, temperature=0.7)\n",
        "for i, pred in enumerate(preds):\n",
        "  print(\"{}: {}\".format(i+1, tokenizer.decode(pred, skip_special_tokens=True)[prompt_len:]))"
      ],
      "metadata": {
        "colab": {
          "base_uri": "https://localhost:8080/"
        },
        "id": "86yuoJPxQfMX",
        "outputId": "f7aa2cd5-8fde-4d3c-89df-b3e65532bd77"
      },
      "execution_count": null,
      "outputs": [
        {
          "output_type": "stream",
          "name": "stdout",
          "text": [
            "1: The legs are a bit too wide for my liking.  I got the drawer on the first floor and they are definitely not a good fit.  I am going to go back to the office supply store.  I will definitely buy again.\n",
            "2: It is a HUGE piece of furniture.  It is a huge piece of junk.  It was just not worth the $30 it was charged for.  It is not worth the money.\n",
            "3: The leg is too short, the hinge too tight, the hinge too loose, and the legs don't stay together.  My desk looks like it was scratched.  I'll never buy another one.\n",
            "4: I had to use a hard to find regular staple tray to put in my desk, but it worked fine.  I didn't expect it to work.  I had to purchase a new one because I don't want to pay the extra $60 for a regular staple tray.  I also had to use a new staple tray because it was too heavy for my desk.  It was a total waste of money.\n",
            "5: I have had this for over a year now and it has completely destroyed my desk.  The carpet is carpet, not even a single rug.  I am very happy with it.  It is nice to have a desk with a carpeted floor that does not slide down.  I will buy another one.\n",
            "6: It is so small!  It is not in the fridge so it doesn't hold anything.  My other one is a little bigger and needs to be moved.\n",
            "7: Great product. Would have liked to have had a more durable case. The cover is pretty, but it doesn't fit my desk well.  The paper is very thick, which is disappointing.\n",
            "8: I have a kitchen and it works great. I tried to use the sides of the desk to get the metal out, but it does not fit on the bottom. So, I called the seller and they said they will replace the desk. I'm looking for a replacement.\n",
            "9: I am so disappointed.  I have been using this for years and have never seen the issues.  The sliding compartment is so small that I have to push it into the desk drawer.  I have had a hard time removing the key, which is pretty frustrating.  If you do it right, it will just slide into the drawer.  I don't know why anyone would want to buy this.\n",
            "10: I purchased this to hold my keyboard. It's not holding up to use. The metal part on the keyboard slides off easily. The metal part on the keyboard is much too thin for my liking. It's not a good quality product.\n",
            "11: I have used these for several years and they are the same thing. They are not very durable.\n",
            "12: The bottom of this item is not plastic, it is a piece of wood. It looks like it is made of a metal detector. I have a friend who has a metal detector and has a small plastic piece that is not plastic, so it is not plastic. If I had to pick one up I would pick it up, but that is not the case. I will not buy this item again.\n",
            "13: The paper feeder is very bad and it is not working. The feeder is a bit cheap, but I am not complaining.\n",
            "\n",
            "I'm giving it 5 stars because it's great and I just wish it was more of a \"nice\" product.\n",
            "\n",
            "You can buy this product on Amazon.com for $1 less than this guy.\n",
            "14: Great product, but I needed to replace the bottom of the desk, not sure how to do that.  I'm not sure how it will hold up with my old desk.  But I don't know how I could buy a better product.\n",
            "15: Bad quality. Does not have a \"closed\" tab.\n",
            "16: I purchased this item after seeing other reviews on Amazon and other sites that said it was not sturdy enough to handle heavy items.  I am very disappointed.  I have to return it for a refund and I will be returning it.\n",
            "17: It does not work at all.  I'm not sure what I am getting it for.  It looks good but I'm not sure how I can get it to work.  I've had mine for about 2 weeks and I've tried to use it on multiple occasions.  It has never worked and it is not working at all.\n",
            "18: Not as described.  Looks like it's going to be a lot thicker than it should be.  This is a cheap, big and cheap, heavy duty product.  I didn't realize it would be so heavy.  Don't buy it.\n",
            "19: This is a great desk for my work. It is a little small, but it is comfortable to use. The lumbar support is very good and makes it easy to sit and rest your neck. The only problem I have is that it does not hold up as well as the lumbar support.  This will probably be a major problem for some time.\n",
            "20: Too big for my desk.\n",
            "21: I had to replace my desk and it was a pain to get it back.  The lead was a little loose, but the metal parts were still holding it together.  I had to replace it.\n",
            "22: Not the same as the ones I had before.\n",
            "23: I had been looking for a new desk for a long time and this was the best.  The only complaint I have was that the wrist rest was a little short.  This thing does not have the wrist rest that I was looking for.  You would have to bend the wrist to have it.  The design of the desk is a bit different than what I would have been using.  I would have preferred a more professional look.\n",
            "24: I was very disappointed with this product, I was expecting a clean product and I was disappointed. I had to return it because I had to use the other side of the desk. The unit came with a 5-position tab to keep the tabs aligned. The tab is not very sturdy and I have to get it adjusted to fit the desk. The tabs are not even 1/2\" long. The only thing I would change would be to make the tabs more tapered.\n",
            "25: This is not a great product. It is a bit too small for my desk. It is not very sturdy, and if you put the table on top of it, it falls off of the desk.\n"
          ]
        }
      ]
    },
    {
      "cell_type": "markdown",
      "source": [
        "### Generate CG/OG survey data"
      ],
      "metadata": {
        "id": "a2ulFwUiLg6-"
      }
    },
    {
      "cell_type": "code",
      "source": [
        "%%time\n",
        "\n",
        "# TODO: move these to top config\n",
        "NUM_OR = 200\n",
        "NUM_CG = 200\n",
        "\n",
        "NUM_RET_SEQS = 1\n",
        "\n",
        "mixed_reviews = [] # [product name, categories, star rating, CG/OG, review text]\n",
        "\n",
        "regex_or = re.compile(r'<\\|BOS\\|>(.*)<\\|SEP\\|>(.*)<\\|SEP\\|>(\\d)<\\|SEP\\|>(.*)<\\|EOS\\|>', re.MULTILINE | re.DOTALL)\n",
        "regex_cg_prompt = re.compile(r'<\\|BOS\\|>(.*)<\\|SEP\\|>(.*)<\\|SEP\\|>\\d<\\|SEP\\|>', re.MULTILINE | re.DOTALL)\n",
        "\n",
        "# Add the OG data (which we trained on)\n",
        "for review in np.random.choice(all_texts, NUM_OR, replace=False):\n",
        "  if not regex_or.match(review):\n",
        "    print(review)\n",
        "  title, category, overall, reviewText = regex_or.match(review).groups()\n",
        "  mixed_reviews.append([title, category, overall, 'OR', reviewText])\n",
        "\n",
        "# Add the CG data\n",
        "for prompt in np.random.choice(prompts['prompt'].values, NUM_CG, replace=False):\n",
        "  title, category = regex_cg_prompt.match(prompt).groups()\n",
        "  # overall = np.random.choice(list('12345'), p=[0.09, 0.05, 0.07, 0.14, 0.65]) # pick according to real distribution\n",
        "  overall = str(random.randint(1, 5)) # pick star rating with equal probability\n",
        "  prompt = SPECIAL_TOKENS['bos_token'] + title + \\\n",
        "                SPECIAL_TOKENS['sep_token'] + category + \\\n",
        "                SPECIAL_TOKENS['sep_token'] + overall + \\\n",
        "                SPECIAL_TOKENS['sep_token']\n",
        "  \n",
        "  # Generate NUM_RET_SEQS possible reviews\n",
        "  prompt_len = len(re.sub(r'<\\|[A-Z]{3}\\|>', '', prompt))\n",
        "  prompt_ids = tokenizer.encode(prompt)\n",
        "  inp = tensor(prompt_ids)[None].cuda()\n",
        "  preds = learn.model.generate(inp, max_length=1024, do_sample=True, top_k=0, top_p=0.92, num_return_sequences=NUM_RET_SEQS, temperature=0.7)\n",
        "\n",
        "  # Pick one and add it to the mixed dataset\n",
        "  idx = random.randrange(NUM_RET_SEQS)\n",
        "  reviewText = tokenizer.decode(preds[idx], skip_special_tokens=True)[prompt_len:]\n",
        "  mixed_reviews.append([title, category, overall, 'CG', reviewText])\n",
        "\n",
        "mixed_reviews = pd.DataFrame(mixed_reviews, columns=[\"product\", \"category\", \"rating\", \"label\", \"review\"])\n",
        "mixed_reviews.to_csv(f'{CATEGORY_NAME_SIMPLE}_mixed_reviews_{CODE_VER}.csv', index=None)\n"
      ],
      "metadata": {
        "id": "pVXH-0ROQmUL",
        "colab": {
          "base_uri": "https://localhost:8080/"
        },
        "outputId": "7cfa7a5d-5eb5-43a2-c115-650d7c955830"
      },
      "execution_count": null,
      "outputs": [
        {
          "output_type": "stream",
          "name": "stdout",
          "text": [
            "CPU times: user 4min 23s, sys: 944 ms, total: 4min 24s\n",
            "Wall time: 4min 28s\n"
          ]
        }
      ]
    },
    {
      "cell_type": "code",
      "source": [
        "mixed_reviews.head(20)"
      ],
      "metadata": {
        "id": "UFeniyfj4Kic"
      },
      "execution_count": null,
      "outputs": []
    },
    {
      "cell_type": "markdown",
      "source": [
        "# Misc"
      ],
      "metadata": {
        "id": "n-3OdJO6U5Ih"
      }
    },
    {
      "cell_type": "markdown",
      "source": [
        "## Find out what GPU is being used"
      ],
      "metadata": {
        "id": "x7mMoPpourLY"
      }
    },
    {
      "cell_type": "markdown",
      "source": [
        "GPU | Time to fine tune\n",
        "-|-\n",
        "T4 | 20  \n",
        "K80 | 85"
      ],
      "metadata": {
        "id": "cu47axCxuuO2"
      }
    },
    {
      "cell_type": "code",
      "source": [
        "!nvidia-smi"
      ],
      "metadata": {
        "colab": {
          "base_uri": "https://localhost:8080/"
        },
        "id": "tnbOnwHxU4Ci",
        "outputId": "1c47b3cb-6750-41fd-9776-8dbaa16dee53"
      },
      "execution_count": 1,
      "outputs": [
        {
          "output_type": "stream",
          "name": "stdout",
          "text": [
            "Wed Mar  2 21:02:15 2022       \n",
            "+-----------------------------------------------------------------------------+\n",
            "| NVIDIA-SMI 460.32.03    Driver Version: 460.32.03    CUDA Version: 11.2     |\n",
            "|-------------------------------+----------------------+----------------------+\n",
            "| GPU  Name        Persistence-M| Bus-Id        Disp.A | Volatile Uncorr. ECC |\n",
            "| Fan  Temp  Perf  Pwr:Usage/Cap|         Memory-Usage | GPU-Util  Compute M. |\n",
            "|                               |                      |               MIG M. |\n",
            "|===============================+======================+======================|\n",
            "|   0  Tesla K80           Off  | 00000000:00:04.0 Off |                    0 |\n",
            "| N/A   32C    P8    28W / 149W |      0MiB / 11441MiB |      0%      Default |\n",
            "|                               |                      |                  N/A |\n",
            "+-------------------------------+----------------------+----------------------+\n",
            "                                                                               \n",
            "+-----------------------------------------------------------------------------+\n",
            "| Processes:                                                                  |\n",
            "|  GPU   GI   CI        PID   Type   Process name                  GPU Memory |\n",
            "|        ID   ID                                                   Usage      |\n",
            "|=============================================================================|\n",
            "|  No running processes found                                                 |\n",
            "+-----------------------------------------------------------------------------+\n"
          ]
        }
      ]
    },
    {
      "cell_type": "code",
      "source": [
        ""
      ],
      "metadata": {
        "id": "70Pun0G0cNlR"
      },
      "execution_count": null,
      "outputs": []
    },
    {
      "cell_type": "markdown",
      "source": [
        "test"
      ],
      "metadata": {
        "id": "lgEEoghwcOhK"
      }
    }
  ]
}